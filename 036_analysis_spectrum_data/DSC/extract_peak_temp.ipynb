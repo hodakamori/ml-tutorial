{
 "cells": [
  {
   "cell_type": "code",
   "execution_count": null,
   "metadata": {},
   "outputs": [],
   "source": [
    "import pandas as pd"
   ]
  },
  {
   "cell_type": "code",
   "execution_count": null,
   "metadata": {},
   "outputs": [],
   "source": [
    "df = pd.read_csv(\n",
    "    \"dsc_demo.csv\", skiprows=2, names=[\"Time\", \"Temp\", \"HeatFlow\", \"HeatFlowDerivative\"]\n",
    ")\n",
    "df"
   ]
  },
  {
   "cell_type": "code",
   "execution_count": null,
   "metadata": {},
   "outputs": [],
   "source": [
    "import matplotlib.pyplot as plt\n",
    "\n",
    "fig, ax = plt.subplots(2, 1)\n",
    "\n",
    "ax[0].plot(df[\"Time\"], df[\"Temp\"])\n",
    "ax[0].set_xlabel(\"Time [min]\")\n",
    "ax[0].set_ylabel(\"Temperature [°C]\")\n",
    "\n",
    "ax[1].plot(df[\"Temp\"], df[\"HeatFlow\"])\n",
    "ax[1].set_xlabel(\"Temperature [°C]\")\n",
    "ax[1].set_ylabel(\"Heat Flow [mW]\")\n",
    "\n",
    "fig.tight_layout()"
   ]
  },
  {
   "cell_type": "code",
   "execution_count": null,
   "metadata": {},
   "outputs": [],
   "source": [
    "df = df.sort_values(\"Time\")\n",
    "df[\"Temp_smooth\"] = df[\"Temp\"].rolling(window=700, center=True).mean()\n",
    "df[\"dT\"] = df[\"Temp_smooth\"].diff()\n",
    "plt.plot(df[\"Time\"], df[\"dT\"])\n",
    "plt.xlabel(\"Time[min]\")\n",
    "plt.ylabel(\"dT/dt [°C/min]\")"
   ]
  },
  {
   "cell_type": "code",
   "execution_count": null,
   "metadata": {},
   "outputs": [],
   "source": [
    "df_heating = df[(df[\"dT\"] > 0.01)]\n",
    "index_diff = df_heating.index.to_series().diff().fillna(1)\n",
    "block_boundaries = index_diff[index_diff != 1].index\n",
    "second_begin_index = df_heating.index.get_loc(block_boundaries[-1])\n",
    "\n",
    "first_heating = df_heating.iloc[:second_begin_index]\n",
    "second_heating = df_heating.iloc[second_begin_index:]\n",
    "\n",
    "\n",
    "fig, ax = plt.subplots()\n",
    "ax.plot(first_heating[\"Temp\"], first_heating[\"HeatFlow\"], label=\"1st\")\n",
    "ax.plot(second_heating[\"Temp\"], second_heating[\"HeatFlow\"], label=\"2nd\")\n",
    "ax.set_xlabel(\"Temperature [°C]\")\n",
    "ax.set_ylabel(\"Heat Flow [mW]\")\n",
    "ax.set_title(\"First Heating\")\n",
    "ax.set_xlim(df[\"Temp\"].min(), df[\"Temp\"].max())\n",
    "ax.legend()"
   ]
  },
  {
   "cell_type": "code",
   "execution_count": null,
   "metadata": {},
   "outputs": [],
   "source": [
    "from scipy.signal import find_peaks, savgol_filter\n",
    "\n",
    "window_length = 50\n",
    "polyorder = 3\n",
    "second_heating.loc[:, \"HeatFlow_smooth\"] = savgol_filter(\n",
    "    second_heating[\"HeatFlow\"], window_length, polyorder\n",
    ")\n",
    "second_heating.loc[:, \"HeatFlow_smooth\"] *= -1\n",
    "peaks, properties = find_peaks(second_heating[\"HeatFlow_smooth\"], prominence=50)\n",
    "peak_temperatures = second_heating[\"Temp\"].iloc[peaks]\n",
    "\n",
    "fig, ax = plt.subplots()\n",
    "ax.plot(second_heating[\"Temp\"], second_heating[\"HeatFlow\"], label=\"2nd\")\n",
    "for temp in peak_temperatures:\n",
    "    ax.axvline(x=temp, color=\"red\", label=f\"{temp:.1f} ℃\")\n",
    "ax.set_xlabel(\"Temperature [°C]\")\n",
    "ax.set_ylabel(\"Heat Flow [mW]\")\n",
    "ax.set_title(\"First Heating\")\n",
    "ax.set_xlim(df[\"Temp\"].min(), df[\"Temp\"].max())\n",
    "ax.legend()"
   ]
  },
  {
   "cell_type": "code",
   "execution_count": null,
   "metadata": {},
   "outputs": [],
   "source": [
    "from typing import List\n",
    "\n",
    "\n",
    "def find_peak_temp(\n",
    "    csv_file: str,\n",
    "    window_length: int = 50,\n",
    "    polyorder: int = 3,\n",
    "    prominence: int = 50,\n",
    "    temp_window: int = 700,\n",
    "    dT_threshold: float = 0.01,\n",
    ") -> List[float]:\n",
    "    df = pd.read_csv(\n",
    "        csv_file, skiprows=2, names=[\"Time\", \"Temp\", \"HeatFlow\", \"HeatFlowDerivative\"]\n",
    "    )\n",
    "    df = df.sort_values(\"Time\")\n",
    "    df[\"Temp_smooth\"] = df[\"Temp\"].rolling(window=temp_window, center=True).mean()\n",
    "    df[\"dT\"] = df[\"Temp_smooth\"].diff()\n",
    "    df_heating = df[(df[\"dT\"] > dT_threshold)]\n",
    "    index_diff = df_heating.index.to_series().diff().fillna(1)\n",
    "    block_boundaries = index_diff[index_diff != 1].index\n",
    "    second_begin_index = df_heating.index.get_loc(block_boundaries[-1])\n",
    "    second_heating = df_heating.iloc[second_begin_index:]\n",
    "\n",
    "    second_heating.loc[:, \"HeatFlow_smooth\"] = savgol_filter(\n",
    "        second_heating[\"HeatFlow\"], window_length, polyorder\n",
    "    )\n",
    "    second_heating.loc[:, \"HeatFlow_smooth\"] *= -1\n",
    "    peaks, _ = find_peaks(second_heating[\"HeatFlow_smooth\"], prominence=prominence)\n",
    "    peak_temperatures = second_heating[\"Temp\"].iloc[peaks].values\n",
    "\n",
    "    return peak_temperatures.tolist()"
   ]
  },
  {
   "cell_type": "code",
   "execution_count": null,
   "metadata": {},
   "outputs": [],
   "source": [
    "find_peak_temp(\"dsc_demo.csv\")"
   ]
  },
  {
   "cell_type": "code",
   "execution_count": null,
   "metadata": {},
   "outputs": [],
   "source": []
  }
 ],
 "metadata": {
  "kernelspec": {
   "display_name": "flowapp",
   "language": "python",
   "name": "python3"
  },
  "language_info": {
   "codemirror_mode": {
    "name": "ipython",
    "version": 3
   },
   "file_extension": ".py",
   "mimetype": "text/x-python",
   "name": "python",
   "nbconvert_exporter": "python",
   "pygments_lexer": "ipython3",
   "version": "3.10.15"
  }
 },
 "nbformat": 4,
 "nbformat_minor": 2
}
