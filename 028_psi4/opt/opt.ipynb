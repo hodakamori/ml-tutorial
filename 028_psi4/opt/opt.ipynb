{
 "cells": [
  {
   "cell_type": "code",
   "execution_count": 1,
   "metadata": {},
   "outputs": [],
   "source": [
    "import psi4"
   ]
  },
  {
   "cell_type": "code",
   "execution_count": null,
   "metadata": {},
   "outputs": [
    {
     "name": "stdout",
     "output_type": "stream",
     "text": [
      "Optimizer: Optimization complete!\n"
     ]
    }
   ],
   "source": [
    "psi4.core.set_output_file(\"output.dat\", False)\n",
    "psi4.set_memory(\"500 MB\")\n",
    "\n",
    "molecule = psi4.geometry(\n",
    "    \"\"\"\n",
    "0 1\n",
    "O\n",
    "H 1 0.96\n",
    "H 1 0.96 2 104.5\n",
    "\"\"\"\n",
    ")\n",
    "\n",
    "psi4.set_options(\n",
    "    {\"basis\": \"6-31g\", \"scf_type\": \"df\", \"e_convergence\": 1e-8, \"d_convergence\": 1e-8}\n",
    ")\n",
    "\n",
    "opt_energy, opt_wfn, history = psi4.optimize(\n",
    "    \"scf\", return_wfn=True, return_history=True\n",
    ")"
   ]
  },
  {
   "cell_type": "code",
   "execution_count": 3,
   "metadata": {},
   "outputs": [
    {
     "data": {
      "text/plain": [
       "[-75.98392514508444, -75.98528799950813, -75.9853433736707, -75.98534376834851]"
      ]
     },
     "execution_count": 3,
     "metadata": {},
     "output_type": "execute_result"
    }
   ],
   "source": [
    "history[\"energy\"]"
   ]
  },
  {
   "cell_type": "code",
   "execution_count": 4,
   "metadata": {},
   "outputs": [],
   "source": [
    "# 最適化された構造の取得\n",
    "opt_molecule = opt_wfn.molecule()\n",
    "geom = opt_molecule.geometry().np"
   ]
  },
  {
   "cell_type": "code",
   "execution_count": 5,
   "metadata": {},
   "outputs": [
    {
     "name": "stdout",
     "output_type": "stream",
     "text": [
      "O [ 0.00000000  0.00000000 -0.11296624]\n",
      "H [ 0.00000000 -1.48376013  0.89642807]\n",
      "H [ 0.00000000  1.48376013  0.89642807]\n"
     ]
    }
   ],
   "source": [
    "for i in range(opt_molecule.natom()):\n",
    "    print(opt_molecule.symbol(i), geom[i])"
   ]
  }
 ],
 "metadata": {
  "kernelspec": {
   "display_name": "ml",
   "language": "python",
   "name": "python3"
  },
  "language_info": {
   "codemirror_mode": {
    "name": "ipython",
    "version": 3
   },
   "file_extension": ".py",
   "mimetype": "text/x-python",
   "name": "python",
   "nbconvert_exporter": "python",
   "pygments_lexer": "ipython3",
   "version": "3.10.14"
  }
 },
 "nbformat": 4,
 "nbformat_minor": 2
}
