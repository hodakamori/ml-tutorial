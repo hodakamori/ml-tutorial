{
 "cells": [
  {
   "cell_type": "code",
   "execution_count": 3,
   "metadata": {},
   "outputs": [],
   "source": [
    "from rdkit import Chem\n",
    "from rdkit.Chem import AllChem\n",
    "import psi4"
   ]
  },
  {
   "cell_type": "code",
   "execution_count": 4,
   "metadata": {},
   "outputs": [
    {
     "data": {
      "text/plain": [
       "500000000"
      ]
     },
     "execution_count": 4,
     "metadata": {},
     "output_type": "execute_result"
    }
   ],
   "source": [
    "psi4.core.set_output_file('output.dat', False)\n",
    "psi4.set_memory('500 MB')"
   ]
  },
  {
   "cell_type": "code",
   "execution_count": 12,
   "metadata": {},
   "outputs": [
    {
     "data": {
      "text/plain": [
       "<rdkit.rdBase._vecti at 0x7f122ca5c9c0>"
      ]
     },
     "execution_count": 12,
     "metadata": {},
     "output_type": "execute_result"
    }
   ],
   "source": [
    "mol = Chem.MolFromSmiles(\"CCCC(=O)O\")\n",
    "mol = AllChem.AddHs(mol)\n",
    "AllChem.EmbedMultipleConfs(mol, numConfs=10)"
   ]
  },
  {
   "cell_type": "code",
   "execution_count": 13,
   "metadata": {},
   "outputs": [],
   "source": [
    "elements = [atom.GetSymbol() for atom in mol.GetAtoms()]\n",
    "positions = mol.GetConformer(0).GetPositions()"
   ]
  },
  {
   "cell_type": "code",
   "execution_count": 14,
   "metadata": {},
   "outputs": [
    {
     "data": {
      "image/png": "[encoded data removed]",
      "text/plain": [
       "<rdkit.Chem.rdchem.Mol at 0x7f122af0b7d0>"
      ]
     },
     "execution_count": 14,
     "metadata": {},
     "output_type": "execute_result"
    }
   ],
   "source": [
    "mol"
   ]
  },
  {
   "cell_type": "code",
   "execution_count": 15,
   "metadata": {},
   "outputs": [
    {
     "data": {
      "text/plain": [
       "['C -1.5506223655117521 -0.021122911150025268 0.6588685043033117',\n",
       " 'C -0.8832005000554682 0.49232332960511377 -0.5728718343861838',\n",
       " 'C 0.4225373434053226 -0.2299113343325302 -0.8890682714118119',\n",
       " 'C 1.3747076943766658 -0.06705956130002746 0.22768011865473337',\n",
       " 'O 1.1729902095648466 0.5744777290766884 1.311833107664958',\n",
       " 'O 2.610160545001999 -0.640943006708751 0.14270567213373353',\n",
       " 'H -0.8695737435126827 -0.5606653744044744 1.3616033506574916',\n",
       " 'H -2.429504102951135 -0.6636852091226628 0.38621124385307243',\n",
       " 'H -1.960897806925431 0.8383770460083901 1.228518554513175',\n",
       " 'H -1.5967536014538624 0.43859955056786226 -1.4017976072638259',\n",
       " 'H -0.6046893993721547 1.5657557695650626 -0.41747286532868105',\n",
       " 'H 0.2837984739679355 -1.2625685600133225 -1.217823086776306',\n",
       " 'H 0.8380502981336222 0.34008833980907516 -1.7689419997248716',\n",
       " 'H 3.1929969553320743 -0.8036658076004021 0.9505551131112241']"
      ]
     },
     "execution_count": 15,
     "metadata": {},
     "output_type": "execute_result"
    }
   ],
   "source": [
    "psi4_geom_input = []\n",
    "for elem, pos in zip(elements, positions):\n",
    "    psi4_geom_input.append(f\"{elem} {pos[0]} {pos[1]} {pos[2]}\")\n",
    "psi4_geom_input"
   ]
  },
  {
   "cell_type": "code",
   "execution_count": 16,
   "metadata": {},
   "outputs": [
    {
     "data": {
      "text/plain": [
       "'C -1.5506223655117521 -0.021122911150025268 0.6588685043033117\\nC -0.8832005000554682 0.49232332960511377 -0.5728718343861838\\nC 0.4225373434053226 -0.2299113343325302 -0.8890682714118119\\nC 1.3747076943766658 -0.06705956130002746 0.22768011865473337\\nO 1.1729902095648466 0.5744777290766884 1.311833107664958\\nO 2.610160545001999 -0.640943006708751 0.14270567213373353\\nH -0.8695737435126827 -0.5606653744044744 1.3616033506574916\\nH -2.429504102951135 -0.6636852091226628 0.38621124385307243\\nH -1.960897806925431 0.8383770460083901 1.228518554513175\\nH -1.5967536014538624 0.43859955056786226 -1.4017976072638259\\nH -0.6046893993721547 1.5657557695650626 -0.41747286532868105\\nH 0.2837984739679355 -1.2625685600133225 -1.217823086776306\\nH 0.8380502981336222 0.34008833980907516 -1.7689419997248716\\nH 3.1929969553320743 -0.8036658076004021 0.9505551131112241'"
      ]
     },
     "execution_count": 16,
     "metadata": {},
     "output_type": "execute_result"
    }
   ],
   "source": [
    "psi4_geom_input_join = \"\\n\".join(psi4_geom_input)\n",
    "psi4_geom_input_join"
   ]
  },
  {
   "cell_type": "code",
   "execution_count": 17,
   "metadata": {},
   "outputs": [],
   "source": [
    "molecule = psi4.geometry(psi4_geom_input_join)"
   ]
  },
  {
   "cell_type": "code",
   "execution_count": 18,
   "metadata": {},
   "outputs": [
    {
     "name": "stderr",
     "output_type": "stream",
     "text": [
      "\tPrevious geometry is closer to target in internal coordinates, so using that one.\n",
      "\n",
      "\tBest geometry has RMS(Delta(q)) = 1.25e-03\n",
      "\n",
      "\tPrevious geometry is closer to target in internal coordinates, so using that one.\n",
      "\n",
      "\tBest geometry has RMS(Delta(q)) = 7.97e-05\n",
      "\n",
      "\tChange in internal coordinate of 5.37e-01 exceeds limit of 5.00e-01.\n",
      "\tSkipping Hessian update for step 2.\n",
      "\tChange in internal coordinate of 6.17e-01 exceeds limit of 5.00e-01.\n",
      "\tSkipping Hessian update for step 1.\n",
      "\tChange in internal coordinate of 5.29e-01 exceeds limit of 5.00e-01.\n",
      "\tSkipping Hessian update for step 4.\n",
      "\tChange in internal coordinate of 6.23e-01 exceeds limit of 5.00e-01.\n",
      "\tSkipping Hessian update for step 3.\n",
      "\tChange in internal coordinate of 6.85e-01 exceeds limit of 5.00e-01.\n",
      "\tSkipping Hessian update for step 2.\n",
      "\tChange in internal coordinate of 7.63e-01 exceeds limit of 5.00e-01.\n",
      "\tSkipping Hessian update for step 1.\n",
      "\tPrevious geometry is closer to target in internal coordinates, so using that one.\n",
      "\n",
      "\tBest geometry has RMS(Delta(q)) = 9.21e-06\n",
      "\n",
      "\tChange in internal coordinate of 5.48e-01 exceeds limit of 5.00e-01.\n",
      "\tSkipping Hessian update for step 4.\n",
      "\tChange in internal coordinate of 6.39e-01 exceeds limit of 5.00e-01.\n",
      "\tSkipping Hessian update for step 3.\n",
      "\tChange in internal coordinate of 7.15e-01 exceeds limit of 5.00e-01.\n",
      "\tSkipping Hessian update for step 2.\n",
      "\tChange in internal coordinate of 7.95e-01 exceeds limit of 5.00e-01.\n",
      "\tSkipping Hessian update for step 1.\n",
      "\tPrevious geometry is closer to target in internal coordinates, so using that one.\n",
      "\n",
      "\tBest geometry has RMS(Delta(q)) = 2.71e-08\n",
      "\n"
     ]
    },
    {
     "name": "stdout",
     "output_type": "stream",
     "text": [
      "Optimizer: Optimization complete!\n"
     ]
    }
   ],
   "source": [
    "opt_energy, opt_wfn, history = psi4.optimize('b3lyp/6-31g', return_wfn=True, return_history=True)"
   ]
  },
  {
   "cell_type": "code",
   "execution_count": 19,
   "metadata": {},
   "outputs": [
    {
     "data": {
      "text/plain": [
       "array([ 0.01065421, -0.31738394, -0.44989484])"
      ]
     },
     "execution_count": 19,
     "metadata": {},
     "output_type": "execute_result"
    }
   ],
   "source": [
    "psi4.oeprop(opt_wfn, \"DIPOLE\")\n",
    "dipole = psi4.variable(\"SCF DIPOLE\")\n",
    "dipole"
   ]
  },
  {
   "cell_type": "code",
   "execution_count": 22,
   "metadata": {},
   "outputs": [
    {
     "name": "stderr",
     "output_type": "stream",
     "text": [
      "\tPrevious geometry is closer to target in internal coordinates, so using that one.\n",
      "\n",
      "\tBest geometry has RMS(Delta(q)) = 8.82e-05\n",
      "\n",
      "\tPrevious geometry is closer to target in internal coordinates, so using that one.\n",
      "\n",
      "\tBest geometry has RMS(Delta(q)) = 4.48e-06\n",
      "\n"
     ]
    },
    {
     "name": "stdout",
     "output_type": "stream",
     "text": [
      "Optimizer: Optimization complete!\n"
     ]
    },
    {
     "name": "stderr",
     "output_type": "stream",
     "text": [
      "\tPrevious geometry is closer to target in internal coordinates, so using that one.\n",
      "\n",
      "\tBest geometry has RMS(Delta(q)) = 8.82e-05\n",
      "\n",
      "\tPrevious geometry is closer to target in internal coordinates, so using that one.\n",
      "\n",
      "\tBest geometry has RMS(Delta(q)) = 4.52e-06\n",
      "\n",
      "\tPrevious geometry is closer to target in internal coordinates, so using that one.\n",
      "\n",
      "\tBest geometry has RMS(Delta(q)) = 5.24e-08\n",
      "\n"
     ]
    },
    {
     "name": "stdout",
     "output_type": "stream",
     "text": [
      "Optimizer: Optimization complete!\n"
     ]
    },
    {
     "name": "stderr",
     "output_type": "stream",
     "text": [
      "\tPrevious geometry is closer to target in internal coordinates, so using that one.\n",
      "\n",
      "\tBest geometry has RMS(Delta(q)) = 8.83e-05\n",
      "\n",
      "\tPrevious geometry is closer to target in internal coordinates, so using that one.\n",
      "\n",
      "\tBest geometry has RMS(Delta(q)) = 4.50e-06\n",
      "\n"
     ]
    },
    {
     "name": "stdout",
     "output_type": "stream",
     "text": [
      "Optimizer: Optimization complete!\n"
     ]
    },
    {
     "name": "stderr",
     "output_type": "stream",
     "text": [
      "\tPrevious geometry is closer to target in internal coordinates, so using that one.\n",
      "\n",
      "\tBest geometry has RMS(Delta(q)) = 8.82e-05\n",
      "\n",
      "\tPrevious geometry is closer to target in internal coordinates, so using that one.\n",
      "\n",
      "\tBest geometry has RMS(Delta(q)) = 4.49e-06\n",
      "\n"
     ]
    },
    {
     "name": "stdout",
     "output_type": "stream",
     "text": [
      "Optimizer: Optimization complete!\n"
     ]
    },
    {
     "name": "stderr",
     "output_type": "stream",
     "text": [
      "\tPrevious geometry is closer to target in internal coordinates, so using that one.\n",
      "\n",
      "\tBest geometry has RMS(Delta(q)) = 8.83e-05\n",
      "\n",
      "\tPrevious geometry is closer to target in internal coordinates, so using that one.\n",
      "\n",
      "\tBest geometry has RMS(Delta(q)) = 4.50e-06\n",
      "\n"
     ]
    },
    {
     "name": "stdout",
     "output_type": "stream",
     "text": [
      "Optimizer: Optimization complete!\n"
     ]
    },
    {
     "name": "stderr",
     "output_type": "stream",
     "text": [
      "\tPrevious geometry is closer to target in internal coordinates, so using that one.\n",
      "\n",
      "\tBest geometry has RMS(Delta(q)) = 8.83e-05\n",
      "\n",
      "\tPrevious geometry is closer to target in internal coordinates, so using that one.\n",
      "\n",
      "\tBest geometry has RMS(Delta(q)) = 4.50e-06\n",
      "\n"
     ]
    },
    {
     "name": "stdout",
     "output_type": "stream",
     "text": [
      "Optimizer: Optimization complete!\n"
     ]
    },
    {
     "name": "stderr",
     "output_type": "stream",
     "text": [
      "\tPrevious geometry is closer to target in internal coordinates, so using that one.\n",
      "\n",
      "\tBest geometry has RMS(Delta(q)) = 8.82e-05\n",
      "\n",
      "\tPrevious geometry is closer to target in internal coordinates, so using that one.\n",
      "\n",
      "\tBest geometry has RMS(Delta(q)) = 4.50e-06\n",
      "\n",
      "\tPrevious geometry is closer to target in internal coordinates, so using that one.\n",
      "\n",
      "\tBest geometry has RMS(Delta(q)) = 4.41e-08\n",
      "\n"
     ]
    },
    {
     "name": "stdout",
     "output_type": "stream",
     "text": [
      "Optimizer: Optimization complete!\n"
     ]
    },
    {
     "name": "stderr",
     "output_type": "stream",
     "text": [
      "\tPrevious geometry is closer to target in internal coordinates, so using that one.\n",
      "\n",
      "\tBest geometry has RMS(Delta(q)) = 8.82e-05\n",
      "\n",
      "\tPrevious geometry is closer to target in internal coordinates, so using that one.\n",
      "\n",
      "\tBest geometry has RMS(Delta(q)) = 4.50e-06\n",
      "\n",
      "\tPrevious geometry is closer to target in internal coordinates, so using that one.\n",
      "\n",
      "\tBest geometry has RMS(Delta(q)) = 5.45e-08\n",
      "\n"
     ]
    },
    {
     "name": "stdout",
     "output_type": "stream",
     "text": [
      "Optimizer: Optimization complete!\n"
     ]
    },
    {
     "name": "stderr",
     "output_type": "stream",
     "text": [
      "\tPrevious geometry is closer to target in internal coordinates, so using that one.\n",
      "\n",
      "\tBest geometry has RMS(Delta(q)) = 8.82e-05\n",
      "\n",
      "\tPrevious geometry is closer to target in internal coordinates, so using that one.\n",
      "\n",
      "\tBest geometry has RMS(Delta(q)) = 4.49e-06\n",
      "\n"
     ]
    },
    {
     "name": "stdout",
     "output_type": "stream",
     "text": [
      "Optimizer: Optimization complete!\n"
     ]
    },
    {
     "name": "stderr",
     "output_type": "stream",
     "text": [
      "\tPrevious geometry is closer to target in internal coordinates, so using that one.\n",
      "\n",
      "\tBest geometry has RMS(Delta(q)) = 8.82e-05\n",
      "\n",
      "\tPrevious geometry is closer to target in internal coordinates, so using that one.\n",
      "\n",
      "\tBest geometry has RMS(Delta(q)) = 4.48e-06\n",
      "\n"
     ]
    },
    {
     "name": "stdout",
     "output_type": "stream",
     "text": [
      "Optimizer: Optimization complete!\n"
     ]
    }
   ],
   "source": [
    "def get_dipole_moment(smiles, n_conf):\n",
    "    results = []\n",
    "    mol = Chem.MolFromSmiles(smiles)\n",
    "    mol = AllChem.AddHs(mol)\n",
    "    elements = [atom.GetSymbol() for atom in mol.GetAtoms()]\n",
    "    conf_ids = AllChem.EmbedMultipleConfs(mol, numConfs=n_conf)\n",
    "    AllChem.MMFFOptimizeMoleculeConfs(mol)\n",
    "    for conf_id in conf_ids:\n",
    "        result = {}\n",
    "        positions = mol.GetConformer(conf_id).GetPositions()\n",
    "        psi4_geom_input = []\n",
    "        for elem, pos in zip(elements, positions):\n",
    "            psi4_geom_input.append(f\"{elem} {pos[0]} {pos[1]} {pos[2]}\")\n",
    "        molecule = psi4.geometry(\"\\n\".join(psi4_geom_input))\n",
    "        opt_energy, opt_wfn, history = psi4.optimize('b3lyp/6-31g', return_wfn=True, return_history=True)\n",
    "        psi4.oeprop(opt_wfn, \"DIPOLE\")\n",
    "        dipole = psi4.variable(\"SCF DIPOLE\")\n",
    "        result[\"dipole\"] = dipole\n",
    "        result[\"energy\"] = opt_energy\n",
    "        result[\"positions\"] = opt_wfn.molecule().geometry().np\n",
    "        results.append(result)\n",
    "    return results\n",
    "\n",
    "results = get_dipole_moment(smiles=\"CC\", n_conf=10)"
   ]
  },
  {
   "cell_type": "code",
   "execution_count": 23,
   "metadata": {},
   "outputs": [
    {
     "data": {
      "text/plain": [
       "[{'dipole': array([ 0.00000000,  0.00000000,  0.00000000]),\n",
       "  'energy': -79.81275714586945,\n",
       "  'positions': array([[ 1.44702977,  0.03498037, -0.09760677],\n",
       "         [-1.44702977, -0.03498037,  0.09760677],\n",
       "         [ 2.33326844, -0.93312496,  1.50594769],\n",
       "         [ 2.15305282,  1.98306663, -0.12057412],\n",
       "         [ 2.10721119, -0.89053698, -1.83012018],\n",
       "         [-2.10721117,  0.89053695,  1.83012020],\n",
       "         [-2.33326844,  0.93312499, -1.50594767],\n",
       "         [-2.15305282, -1.98306663,  0.12057410]])},\n",
       " {'dipole': array([ 0.00000000, -0.00000000,  0.00000001]),\n",
       "  'energy': -79.81275709650174,\n",
       "  'positions': array([[ 1.44999910,  0.04594176,  0.00611179],\n",
       "         [-1.44999910, -0.04594176, -0.00611179],\n",
       "         [ 2.24410123, -1.41221513,  1.24595216],\n",
       "         [ 2.14215804,  1.88107044,  0.67488302],\n",
       "         [ 2.22080526, -0.25950137, -1.89299215],\n",
       "         [-2.14215803, -1.88107031, -0.67488334],\n",
       "         [-2.24410114,  1.41221546, -1.24595186],\n",
       "         [-2.22080529,  0.25950095,  1.89299218]])},\n",
       " {'dipole': array([-0.00000000,  0.00000001, -0.00000001]),\n",
       "  'energy': -79.81275606510104,\n",
       "  'positions': array([[ 1.45057134,  0.01975004, -0.00988366],\n",
       "         [-1.45057134, -0.01975005,  0.00988367],\n",
       "         [ 2.22974717, -1.15508516,  1.50888978],\n",
       "         [ 2.17898642,  1.94228598,  0.24954057],\n",
       "         [ 2.20094814, -0.69719680, -1.80347243],\n",
       "         [-2.20094817,  0.69719681,  1.80347242],\n",
       "         [-2.17898646, -1.94228595, -0.24954070],\n",
       "         [-2.22974709,  1.15508522, -1.50888976]])},\n",
       " {'dipole': array([-0.00000000, -0.00000000, -0.00000002]),\n",
       "  'energy': -79.81275740947852,\n",
       "  'positions': array([[-1.44764239,  0.07480608, -0.05813296],\n",
       "         [ 1.44764239, -0.07480608,  0.05813297],\n",
       "         [-2.12002308,  1.98897901,  0.36361315],\n",
       "         [-2.15289866, -0.43626607, -1.93841374],\n",
       "         [-2.32341451, -1.21186784,  1.30990309],\n",
       "         [ 2.12002301, -1.98897898, -0.36361334],\n",
       "         [ 2.15289870,  0.43626598,  1.93841377],\n",
       "         [ 2.32341447,  1.21186784, -1.30990309]])},\n",
       " {'dipole': array([-0.00000000,  0.00000000,  0.00000001]),\n",
       "  'energy': -79.81275803998919,\n",
       "  'positions': array([[-1.45045998, -0.01428982, -0.02462562],\n",
       "         [ 1.45045998,  0.01428982,  0.02462561],\n",
       "         [-2.16665925, -0.48777412, -1.91060167],\n",
       "         [-2.23038693,  1.83379175,  0.49532395],\n",
       "         [-2.21213031, -1.41112340,  1.30305601],\n",
       "         [ 2.21213033,  1.41112349, -1.30305592],\n",
       "         [ 2.16665915,  0.48777405,  1.91060171],\n",
       "         [ 2.23038699, -1.83379174, -0.49532397]])},\n",
       " {'dipole': array([-0.00000000, -0.00000000,  0.00000001]),\n",
       "  'energy': -79.81275779619885,\n",
       "  'positions': array([[ 1.44436902, -0.09716791,  0.09488871],\n",
       "         [-1.44436902,  0.09716791, -0.09488872],\n",
       "         [ 2.09272419,  0.20154804,  2.04024902],\n",
       "         [ 2.11457686, -1.96276042, -0.50877966],\n",
       "         [ 2.37410453,  1.31845890, -1.09911068],\n",
       "         [-2.09272431, -0.20154812, -2.04024898],\n",
       "         [-2.11457686,  1.96276043,  0.50877964],\n",
       "         [-2.37410444, -1.31845882,  1.09911081]])},\n",
       " {'dipole': array([ 0.00000000,  0.00000000, -0.00000006]),\n",
       "  'energy': -79.8127568087601,\n",
       "  'positions': array([[ 1.42472842, -0.27256699,  0.02243415],\n",
       "         [-1.42472843,  0.27256699, -0.02243410],\n",
       "         [ 1.85938251, -2.08206908, -0.88905774],\n",
       "         [ 2.14371098, -0.36099461,  1.96389514],\n",
       "         [ 2.48880976,  1.20108055, -0.97261444],\n",
       "         [-2.48880995, -1.20108072,  0.97261408],\n",
       "         [-1.85938270,  2.08206912,  0.88905765],\n",
       "         [-2.14371056,  0.36099474, -1.96389522]])},\n",
       " {'dipole': array([-0.00000001, -0.00000002, -0.00000006]),\n",
       "  'energy': -79.81275752274325,\n",
       "  'positions': array([[-1.44164890,  0.06801728,  0.14720004],\n",
       "         [ 1.44164890, -0.06801726, -0.14719997],\n",
       "         [-2.12491373, -1.32698162,  1.51875230],\n",
       "         [-2.04379209,  1.93877424,  0.80425053],\n",
       "         [-2.40031771, -0.30187845, -1.65228778],\n",
       "         [ 2.12491343,  1.32698167, -1.51875238],\n",
       "         [ 2.04379181, -1.93877414, -0.80425104],\n",
       "         [ 2.40031827,  0.30187807,  1.65228763]])},\n",
       " {'dipole': array([ 0.00000000, -0.00000001, -0.00000001]),\n",
       "  'energy': -79.81275748462673,\n",
       "  'positions': array([[-1.44969223,  0.04938462, -0.02452115],\n",
       "         [ 1.44969223, -0.04938461,  0.02452116],\n",
       "         [-2.23285335, -1.43267426, -1.24279286],\n",
       "         [-2.12878858,  1.87168057, -0.74012525],\n",
       "         [-2.24401146, -0.21398404,  1.87119422],\n",
       "         [ 2.23285343,  1.43267424,  1.24279286],\n",
       "         [ 2.24401141,  0.21398399, -1.87119423],\n",
       "         [ 2.12878853, -1.87168062,  0.74012516]])},\n",
       " {'dipole': array([ 0.00000000, -0.00000000, -0.00000000]),\n",
       "  'energy': -79.8127577907302,\n",
       "  'positions': array([[-1.44369726,  0.01285243,  0.14219166],\n",
       "         [ 1.44369727, -0.01285243, -0.14219166],\n",
       "         [-2.38054224,  0.14349034, -1.70152152],\n",
       "         [-2.12414209, -1.71093638,  1.06932717],\n",
       "         [-2.07366722,  1.62601016,  1.28012408],\n",
       "         [ 2.38054225, -0.14349025,  1.70152152],\n",
       "         [ 2.07366721, -1.62601020, -1.28012401],\n",
       "         [ 2.12414207,  1.71093633, -1.06932727]])}]"
      ]
     },
     "execution_count": 23,
     "metadata": {},
     "output_type": "execute_result"
    }
   ],
   "source": [
    "results"
   ]
  },
  {
   "cell_type": "code",
   "execution_count": null,
   "metadata": {},
   "outputs": [],
   "source": []
  }
 ],
 "metadata": {
  "kernelspec": {
   "display_name": "p4env",
   "language": "python",
   "name": "python3"
  },
  "language_info": {
   "codemirror_mode": {
    "name": "ipython",
    "version": 3
   },
   "file_extension": ".py",
   "mimetype": "text/x-python",
   "name": "python",
   "nbconvert_exporter": "python",
   "pygments_lexer": "ipython3",
   "version": "3.12.5"
  }
 },
 "nbformat": 4,
 "nbformat_minor": 2
}
