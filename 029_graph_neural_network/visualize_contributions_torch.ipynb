{
 "cells": [
  {
   "cell_type": "code",
   "execution_count": 1,
   "metadata": {},
   "outputs": [],
   "source": [
    "import copy\n",
    "\n",
    "import matplotlib.pyplot as plt\n",
    "import pandas as pd\n",
    "import torch\n",
    "import torch.nn as nn\n",
    "import torch.nn.functional as F\n",
    "from rdkit import Chem\n",
    "from sklearn.model_selection import train_test_split\n",
    "from torch_geometric.data import Data, DataLoader\n",
    "from torch_geometric.nn import GATConv, GCNConv, global_mean_pool"
   ]
  },
  {
   "cell_type": "code",
   "execution_count": 2,
   "metadata": {},
   "outputs": [],
   "source": [
    "class GCNMoleculeModel(nn.Module):\n",
    "    def __init__(self, num_node_features):\n",
    "        super(GCNMoleculeModel, self).__init__()\n",
    "        self.conv1 = GCNConv(num_node_features, 64)\n",
    "        self.conv2 = GCNConv(64, 128)\n",
    "        self.conv3 = GATConv(128, 128, heads=4, concat=False)\n",
    "        self.bn1 = nn.BatchNorm1d(64)\n",
    "        self.bn2 = nn.BatchNorm1d(128)\n",
    "        self.bn3 = nn.BatchNorm1d(128)\n",
    "        self.fc1 = nn.Linear(128, 64)\n",
    "        self.fc2 = nn.Linear(64, 1)\n",
    "        self.dropout = nn.Dropout(0.2)\n",
    "\n",
    "    def forward(self, x, edge_index, batch=None):\n",
    "        # 単一グラフなどで batch=None の場合、すべてのノードを1つのグラフとみなす\n",
    "        if batch is None:\n",
    "            # 全ノードが graph=0 に属する、という扱い\n",
    "            batch = x.new_zeros(x.size(0), dtype=torch.long)\n",
    "\n",
    "        # 1) グラフ畳み込み\n",
    "        x = F.relu(self.bn1(self.conv1(x, edge_index)))\n",
    "        x = self.dropout(x)\n",
    "        x = F.relu(self.bn2(self.conv2(x, edge_index)))\n",
    "        x = self.dropout(x)\n",
    "        x = F.relu(self.bn3(self.conv3(x, edge_index)))\n",
    "\n",
    "        # 2) グローバルプーリング (バッチ単位)\n",
    "        x = global_mean_pool(x, batch)\n",
    "\n",
    "        # 3) 全結合層で回帰\n",
    "        x = F.relu(self.fc1(x))\n",
    "        x = self.dropout(x)\n",
    "        x = self.fc2(x)\n",
    "\n",
    "        return x.view(-1)"
   ]
  },
  {
   "cell_type": "code",
   "execution_count": 3,
   "metadata": {},
   "outputs": [],
   "source": [
    "class MoleculeDataset(torch.utils.data.Dataset):\n",
    "    def __init__(self, csv_path):\n",
    "        df = pd.read_csv(csv_path)\n",
    "        smiles_list = df[\"smiles\"].values\n",
    "        values = df[\"logS\"].values\n",
    "        data_list = [\n",
    "            (self.smiles_to_graph(smiles), torch.tensor([label], dtype=torch.float))\n",
    "            for smiles, label in zip(smiles_list, values)\n",
    "        ]\n",
    "        self.data_list = data_list\n",
    "\n",
    "    @staticmethod\n",
    "    def smiles_to_graph(smiles):\n",
    "        mol = Chem.MolFromSmiles(smiles)\n",
    "        mol = Chem.AddHs(mol)\n",
    "\n",
    "        node_features = []\n",
    "        for atom in mol.GetAtoms():\n",
    "            feature = [\n",
    "                atom.GetAtomicNum(),\n",
    "                atom.GetTotalDegree(),\n",
    "                atom.GetFormalCharge(),\n",
    "                atom.GetTotalNumHs(),\n",
    "                int(atom.GetIsAromatic()),\n",
    "            ]\n",
    "            node_features.append(feature)\n",
    "\n",
    "        edges = []\n",
    "        for bond in mol.GetBonds():\n",
    "            i = bond.GetBeginAtomIdx()\n",
    "            j = bond.GetEndAtomIdx()\n",
    "            edges.append([i, j])\n",
    "            edges.append([j, i])\n",
    "\n",
    "        x = torch.tensor(node_features, dtype=torch.float)\n",
    "        edge_index = torch.tensor(edges, dtype=torch.long).t().contiguous()\n",
    "\n",
    "        return Data(x=x, edge_index=edge_index)\n",
    "\n",
    "    def __len__(self):\n",
    "        return len(self.data_list)\n",
    "\n",
    "    def __getitem__(self, idx):\n",
    "        return self.data_list[idx]"
   ]
  },
  {
   "cell_type": "code",
   "execution_count": 4,
   "metadata": {},
   "outputs": [],
   "source": [
    "dataset = MoleculeDataset(csv_path=\"../data/delaney-rdkitfp.csv\")"
   ]
  },
  {
   "cell_type": "code",
   "execution_count": 5,
   "metadata": {},
   "outputs": [],
   "source": [
    "test_size = 0.2\n",
    "val_size = 0.2\n",
    "train_val_data, test_data = train_test_split(dataset, test_size=test_size)\n",
    "train_data, val_data = train_test_split(\n",
    "    train_val_data, test_size=val_size / (1 - test_size)\n",
    ")"
   ]
  },
  {
   "cell_type": "code",
   "execution_count": 6,
   "metadata": {},
   "outputs": [
    {
     "name": "stderr",
     "output_type": "stream",
     "text": [
      "/home/mori/miniforge3/envs/torch/lib/python3.10/site-packages/torch_geometric/deprecation.py:26: UserWarning: 'data.DataLoader' is deprecated, use 'loader.DataLoader' instead\n",
      "  warnings.warn(out)\n"
     ]
    }
   ],
   "source": [
    "batch_size = 8\n",
    "train_loader = DataLoader(train_data, batch_size=batch_size, shuffle=True)\n",
    "val_loader = DataLoader(val_data, batch_size=batch_size)\n",
    "test_loader = DataLoader(test_data, batch_size=batch_size)\n",
    "\n",
    "loaders = {\"train\": train_loader, \"val\": val_loader, \"test\": test_loader}"
   ]
  },
  {
   "cell_type": "code",
   "execution_count": 7,
   "metadata": {},
   "outputs": [],
   "source": [
    "def train(model, loader, optimizer, device):\n",
    "    model.train()\n",
    "    total_loss = 0\n",
    "    for data, target in loader:\n",
    "        data = data.to(device)\n",
    "        target = target.to(device)\n",
    "        optimizer.zero_grad()\n",
    "        output = model(data.x, data.edge_index, data.batch)\n",
    "        loss = F.mse_loss(output, target.squeeze())\n",
    "        loss.backward()\n",
    "        optimizer.step()\n",
    "        total_loss += loss.item() * data.num_graphs\n",
    "    return total_loss / len(loader.dataset)"
   ]
  },
  {
   "cell_type": "code",
   "execution_count": 8,
   "metadata": {},
   "outputs": [],
   "source": [
    "def evaluate(model, loader, device):\n",
    "    model.eval()\n",
    "    predictions = []\n",
    "    targets = []\n",
    "    total_loss = 0\n",
    "    with torch.no_grad():\n",
    "        for data, target in loader:\n",
    "            data = data.to(device)\n",
    "            target = target.to(device)\n",
    "            out = model(data.x, data.edge_index, data.batch)\n",
    "            loss = F.mse_loss(out, target.squeeze())\n",
    "            total_loss += loss.item() * data.num_graphs\n",
    "            predictions.append(out.cpu())\n",
    "            targets.append(target.cpu())\n",
    "\n",
    "    predictions = torch.cat(predictions, dim=0).numpy()\n",
    "    targets = torch.cat(targets, dim=0).numpy()\n",
    "    avg_loss = total_loss / len(loader.dataset)\n",
    "    return predictions, targets, avg_loss"
   ]
  },
  {
   "cell_type": "code",
   "execution_count": 9,
   "metadata": {},
   "outputs": [],
   "source": [
    "model = GCNMoleculeModel(num_node_features=5)\n",
    "optimizer = torch.optim.Adam(model.parameters(), lr=0.001)\n",
    "criterion = nn.MSELoss()"
   ]
  },
  {
   "cell_type": "code",
   "execution_count": 10,
   "metadata": {},
   "outputs": [
    {
     "name": "stdout",
     "output_type": "stream",
     "text": [
      "Epoch: 001, Train Loss: 5.7006, Val Loss: 3.0410\n",
      "Epoch: 002, Train Loss: 3.5334, Val Loss: 2.1649\n",
      "Epoch: 003, Train Loss: 3.1230, Val Loss: 2.1304\n",
      "Epoch: 004, Train Loss: 2.8303, Val Loss: 1.8058\n",
      "Epoch: 005, Train Loss: 2.7299, Val Loss: 1.8114\n",
      "Epoch: 006, Train Loss: 2.3575, Val Loss: 1.7484\n",
      "Epoch: 007, Train Loss: 2.4548, Val Loss: 1.7411\n",
      "Epoch: 008, Train Loss: 2.3121, Val Loss: 1.4925\n",
      "Epoch: 009, Train Loss: 2.2961, Val Loss: 1.6830\n",
      "Epoch: 010, Train Loss: 2.3796, Val Loss: 1.4072\n",
      "Epoch: 011, Train Loss: 2.2929, Val Loss: 1.6136\n",
      "Epoch: 012, Train Loss: 2.2589, Val Loss: 1.5208\n",
      "Epoch: 013, Train Loss: 2.1087, Val Loss: 1.4539\n",
      "Epoch: 014, Train Loss: 2.0853, Val Loss: 1.2907\n",
      "Epoch: 015, Train Loss: 2.0081, Val Loss: 1.3279\n",
      "Epoch: 016, Train Loss: 2.1174, Val Loss: 1.6316\n",
      "Epoch: 017, Train Loss: 2.1104, Val Loss: 1.7265\n",
      "Epoch: 018, Train Loss: 2.1418, Val Loss: 1.5640\n",
      "Epoch: 019, Train Loss: 1.9387, Val Loss: 1.2755\n",
      "Epoch: 020, Train Loss: 2.1376, Val Loss: 1.6055\n",
      "Epoch: 021, Train Loss: 2.0149, Val Loss: 1.2874\n",
      "Epoch: 022, Train Loss: 1.9863, Val Loss: 1.2444\n",
      "Epoch: 023, Train Loss: 2.1438, Val Loss: 1.3115\n",
      "Epoch: 024, Train Loss: 1.9509, Val Loss: 1.5279\n",
      "Epoch: 025, Train Loss: 1.9251, Val Loss: 1.5017\n",
      "Epoch: 026, Train Loss: 1.9370, Val Loss: 1.2128\n",
      "Epoch: 027, Train Loss: 1.9263, Val Loss: 1.5082\n",
      "Epoch: 028, Train Loss: 1.7144, Val Loss: 1.4463\n",
      "Epoch: 029, Train Loss: 1.8311, Val Loss: 1.4430\n",
      "Epoch: 030, Train Loss: 1.7748, Val Loss: 2.0552\n",
      "Epoch: 031, Train Loss: 1.9020, Val Loss: 1.3211\n",
      "Epoch: 032, Train Loss: 1.7991, Val Loss: 1.5511\n",
      "Epoch: 033, Train Loss: 1.7031, Val Loss: 1.2621\n",
      "Epoch: 034, Train Loss: 1.8927, Val Loss: 1.4589\n",
      "Epoch: 035, Train Loss: 1.8035, Val Loss: 1.6255\n",
      "Epoch: 036, Train Loss: 1.7974, Val Loss: 1.2640\n",
      "Early stopping\n",
      "Test Loss: 1.4453\n"
     ]
    }
   ],
   "source": [
    "# Early stoppingの設定\n",
    "best_val_loss = float(\"inf\")\n",
    "patience = 10\n",
    "counter = 0\n",
    "num_epochs = 200\n",
    "device = torch.device(\"cuda\" if torch.cuda.is_available() else \"cpu\")\n",
    "\n",
    "train_loss_history = []\n",
    "val_loss_history = []\n",
    "for epoch in range(num_epochs):\n",
    "    train_loss = train(model, train_loader, optimizer, device)\n",
    "    _, _, val_loss = evaluate(model, val_loader, device)\n",
    "    train_loss_history.append(train_loss)\n",
    "    val_loss_history.append(val_loss)\n",
    "    print(\n",
    "        f\"Epoch: {epoch+1:03d}, Train Loss: {train_loss:.4f}, Val Loss: {val_loss:.4f}\"\n",
    "    )\n",
    "\n",
    "    if val_loss < best_val_loss:\n",
    "        best_val_loss = val_loss\n",
    "        counter = 0\n",
    "        torch.save(model.state_dict(), \"best_model.pth\")\n",
    "    else:\n",
    "        counter += 1\n",
    "        if counter >= patience:\n",
    "            print(\"Early stopping\")\n",
    "            break\n",
    "\n",
    "# model.load_state_dict(torch.load('best_model.pth'))\n",
    "_, _, test_loss = evaluate(model, test_loader, device)\n",
    "print(f\"Test Loss: {test_loss:.4f}\")"
   ]
  },
  {
   "cell_type": "code",
   "execution_count": 11,
   "metadata": {},
   "outputs": [
    {
     "data": {
      "text/plain": [
       "<matplotlib.legend.Legend at 0x7f0156ed1570>"
      ]
     },
     "execution_count": 11,
     "metadata": {},
     "output_type": "execute_result"
    },
    {
     "data": {
      "image/png": "[encoded data removed]",
      "text/plain": [
       "<Figure size 640x480 with 1 Axes>"
      ]
     },
     "metadata": {},
     "output_type": "display_data"
    }
   ],
   "source": [
    "fig = plt.figure()\n",
    "ax = fig.add_subplot(111)\n",
    "ax.plot(train_loss_history, label=\"train\")\n",
    "ax.plot(val_loss_history, label=\"val\")\n",
    "ax.set_xlabel(\"Epoch\")\n",
    "ax.set_ylabel(\"Loss\")\n",
    "ax.legend()\n",
    "# ax.set_yscale(\"log\")"
   ]
  },
  {
   "cell_type": "code",
   "execution_count": 12,
   "metadata": {},
   "outputs": [
    {
     "data": {
      "text/plain": [
       "Text(0, 0.5, 'logS (predict)')"
      ]
     },
     "execution_count": 12,
     "metadata": {},
     "output_type": "execute_result"
    },
    {
     "data": {
      "image/png": "[encoded data removed]",
      "text/plain": [
       "<Figure size 640x480 with 1 Axes>"
      ]
     },
     "metadata": {},
     "output_type": "display_data"
    }
   ],
   "source": [
    "train_preds, train_targets, _ = evaluate(model, train_loader, device)\n",
    "test_preds, test_targets, _ = evaluate(model, test_loader, device)\n",
    "\n",
    "fig = plt.figure()\n",
    "ax = fig.add_subplot(111)\n",
    "ax.scatter(train_targets, train_preds, color=\"tab:gray\", alpha=0.5, label=\"train\", s=20)\n",
    "ax.scatter(test_targets, test_preds, color=\"tab:blue\", label=\"test\", s=20)\n",
    "ax.plot([-12, 2], [-12, 2], color=\"gray\", linewidth=1)\n",
    "ax.set_xlim(-12, 2)\n",
    "ax.set_ylim(-12, 2)\n",
    "ax.set_aspect(\"equal\")\n",
    "ax.legend()\n",
    "ax.set_xlabel(\"logS (true)\")\n",
    "ax.set_ylabel(\"logS (predict)\")"
   ]
  },
  {
   "cell_type": "code",
   "execution_count": 13,
   "metadata": {},
   "outputs": [],
   "source": [
    "def remove_edge_by_index(data: Data, edge_idx: int):\n",
    "    data_perturbed = copy.deepcopy(data)\n",
    "    mask = torch.ones(data.edge_index.size(1), dtype=torch.bool)\n",
    "    mask[edge_idx] = False\n",
    "    data_perturbed.edge_index = data.edge_index[:, mask]\n",
    "    if hasattr(data_perturbed, \"edge_attr\") and data_perturbed.edge_attr is not None:\n",
    "        data_perturbed.edge_attr = data_perturbed.edge_attr[mask]\n",
    "\n",
    "    return data_perturbed"
   ]
  },
  {
   "cell_type": "code",
   "execution_count": 14,
   "metadata": {},
   "outputs": [],
   "source": [
    "from typing import Dict\n",
    "\n",
    "from torch_geometric.data import Data\n",
    "\n",
    "\n",
    "def calc_contrib_perturb(\n",
    "    smiles: str, model: torch.nn.Module, device: str = \"cpu\"\n",
    ") -> Dict[str, Dict[int, float]]:\n",
    "    model.eval()\n",
    "\n",
    "    # ======== 1) SMILES から PyG の Data を作成 ========\n",
    "    mol = Chem.MolFromSmiles(smiles)\n",
    "    if mol is None:\n",
    "        raise ValueError(f\"Cannot parse SMILES: {smiles}\")\n",
    "    mol = Chem.AddHs(mol)\n",
    "\n",
    "    data = MoleculeDataset.smiles_to_graph(smiles)\n",
    "    data = data.to(device)\n",
    "\n",
    "    # ======== 2) 基準予測値 (base_pred) を計算 ========\n",
    "    with torch.no_grad():\n",
    "        base_out = model(data.x, data.edge_index, data.batch)\n",
    "        base_pred = base_out.item()\n",
    "\n",
    "    # ======== 3) ノード摂動の寄与度を計算 ========\n",
    "    node_contributions = {}\n",
    "    num_nodes = data.x.size(0)\n",
    "    for node_idx in range(num_nodes):\n",
    "        data_perturbed = copy.deepcopy(data)\n",
    "        # 該当ノードの特徴量を 0 に\n",
    "        data_perturbed.x[node_idx, :] = 0.0\n",
    "\n",
    "        with torch.no_grad():\n",
    "            pert_out = model(\n",
    "                data_perturbed.x, data_perturbed.edge_index, data_perturbed.batch\n",
    "            )\n",
    "            pert_pred = pert_out.item()\n",
    "\n",
    "        delta_pred = base_pred - pert_pred\n",
    "        node_contributions[node_idx] = delta_pred\n",
    "\n",
    "    # ======== 4) エッジ摂動の寄与度を計算 (同一ボンドはまとめる) ========\n",
    "    edge_contributions = {}\n",
    "    num_edges = data.edge_index.size(1)\n",
    "\n",
    "    for edge_idx in range(num_edges):\n",
    "        data_perturbed = remove_edge_by_index(data, edge_idx)\n",
    "\n",
    "        with torch.no_grad():\n",
    "            pert_out = model(\n",
    "                data_perturbed.x, data_perturbed.edge_index, data_perturbed.batch\n",
    "            )\n",
    "            pert_pred = pert_out.item()\n",
    "\n",
    "        delta_pred = base_pred - pert_pred\n",
    "\n",
    "        nodes_for_this_edge = data.edge_index[:, edge_idx].tolist()\n",
    "        nodes_for_this_edge = sorted(set(nodes_for_this_edge))\n",
    "        if len(nodes_for_this_edge) < 2:\n",
    "            continue\n",
    "\n",
    "        a, b = nodes_for_this_edge[0], nodes_for_this_edge[1]\n",
    "        bond = mol.GetBondBetweenAtoms(int(a), int(b))\n",
    "        if bond is None:\n",
    "            continue\n",
    "\n",
    "        bond_id = bond.GetIdx()\n",
    "        if bond_id in edge_contributions:\n",
    "            edge_contributions[bond_id] += delta_pred\n",
    "        else:\n",
    "            edge_contributions[bond_id] = delta_pred\n",
    "\n",
    "    return {\"nodes\": node_contributions, \"edges\": edge_contributions}"
   ]
  },
  {
   "cell_type": "code",
   "execution_count": 15,
   "metadata": {},
   "outputs": [
    {
     "name": "stdout",
     "output_type": "stream",
     "text": [
      "Node Contributions: {0: -0.08411797881126404, 1: -0.07190418243408203, 2: 1.6586908400058746, 3: 0.007530808448791504, 4: 0.0075307488441467285, 5: 0.007530778646469116, 6: -0.05390915274620056, 7: -0.05390918254852295, 8: 0.031625837087631226}\n",
      "Edge Contributions: {0: 0.07038426399230957, 1: 0.544378250837326, 2: 0.12293446063995361, 3: 0.12293446063995361, 4: 0.12293440103530884, 5: 0.3347828909754753, 6: 0.3347828909754753, 7: 3.2428138852119446}\n"
     ]
    }
   ],
   "source": [
    "# 予測値寄与度の計算\n",
    "smiles = \"CCO\"  # エタノールなど\n",
    "contribs = calc_contrib_perturb(smiles, model, device)\n",
    "\n",
    "print(\"Node Contributions:\", contribs[\"nodes\"])\n",
    "print(\"Edge Contributions:\", contribs[\"edges\"])"
   ]
  },
  {
   "cell_type": "code",
   "execution_count": 16,
   "metadata": {},
   "outputs": [],
   "source": [
    "import matplotlib.cm as cm\n",
    "import matplotlib.colors as colors\n",
    "from IPython.display import SVG, display\n",
    "from rdkit.Chem.Draw import rdMolDraw2D\n",
    "\n",
    "\n",
    "def visualize_contributions(\n",
    "    smi, model, cmap=\"bwr_r\", alpha=0.9, vmin=-5, vmax=5, size=(250, 250)\n",
    "):\n",
    "    contribs = calc_contrib_perturb(smi, model, device)\n",
    "    cmap = cm.get_cmap(cmap)\n",
    "    atom_colors = {}\n",
    "\n",
    "    norm = colors.Normalize(vmin=vmin, vmax=vmax)\n",
    "    for i, val in contribs[\"nodes\"].items():\n",
    "        rgba = list(cmap(norm(val)))\n",
    "        rgba[3] = alpha\n",
    "        atom_colors[i] = tuple(rgba)\n",
    "\n",
    "    bond_colors = {}\n",
    "    for i, val in contribs[\"edges\"].items():\n",
    "        rgba = list(cmap(norm(val)))\n",
    "        rgba[3] = alpha\n",
    "        bond_colors[i] = tuple(rgba)\n",
    "\n",
    "    mol = Chem.MolFromSmiles(smi)\n",
    "    mol = Chem.AddHs(mol)\n",
    "\n",
    "    drawer = rdMolDraw2D.MolDraw2DSVG(*size)\n",
    "\n",
    "    rdMolDraw2D.PrepareAndDrawMolecule(\n",
    "        drawer,\n",
    "        mol,\n",
    "        highlightAtoms=list(atom_colors.keys()),\n",
    "        highlightAtomColors=atom_colors,\n",
    "        highlightBonds=list(bond_colors.keys()),\n",
    "        highlightBondColors=bond_colors,\n",
    "    )\n",
    "    drawer.FinishDrawing()\n",
    "    svg = drawer.GetDrawingText().replace(\"svg:\", \"\")\n",
    "    display(SVG(svg))"
   ]
  },
  {
   "cell_type": "code",
   "execution_count": 17,
   "metadata": {},
   "outputs": [
    {
     "name": "stderr",
     "output_type": "stream",
     "text": [
      "/tmp/ipykernel_27836/805251432.py:11: MatplotlibDeprecationWarning: The get_cmap function was deprecated in Matplotlib 3.7 and will be removed in 3.11. Use ``matplotlib.colormaps[name]`` or ``matplotlib.colormaps.get_cmap()`` or ``pyplot.get_cmap()`` instead.\n",
      "  cmap = cm.get_cmap(cmap)\n"
     ]
    },
    {
     "data": {
      "image/svg+xml": [
       "<svg xmlns=\"http://www.w3.org/2000/svg\" xmlns:rdkit=\"http://www.rdkit.org/xml\" xmlns:xlink=\"http://www.w3.org/1999/xlink\" version=\"1.1\" baseProfile=\"full\" xml:space=\"preserve\" width=\"250px\" height=\"250px\" viewBox=\"0 0 250 250\">\n",
       "<!-- END OF HEADER -->\n",
       "<rect style=\"opacity:1.0;fill:#FFFFFF;stroke:none\" width=\"250.0\" height=\"250.0\" x=\"0.0\" y=\"0.0\"> </rect>\n",
       "<path class=\"bond-0 atom-0 atom-1\" d=\"M 85.2,113.1 L 127.7,125.4 L 131.8,132.8 L 124.3,136.9 L 81.8,124.6 L 77.7,117.2 Z\" style=\"fill:#FCFCFFE5;fill-rule:evenodd;fill-opacity:0.9;stroke:#FCFCFFE5;stroke-width:0.0px;stroke-linecap:butt;stroke-linejoin:miter;stroke-opacity:0.9;\"/>\n",
       "<path class=\"bond-2 atom-0 atom-3\" d=\"M 25.4,95.9 L 73.6,109.8 L 77.7,117.2 L 70.3,121.3 L 22.1,107.4 Z\" style=\"fill:#F8F8FFE5;fill-rule:evenodd;fill-opacity:0.9;stroke:#F8F8FFE5;stroke-width:0.0px;stroke-linecap:butt;stroke-linejoin:miter;stroke-opacity:0.9;\"/>\n",
       "<path class=\"bond-3 atom-0 atom-4\" d=\"M 87.6,61.5 L 99.1,64.9 L 85.2,113.1 L 77.7,117.2 L 73.6,109.8 Z\" style=\"fill:#F8F8FFE5;fill-rule:evenodd;fill-opacity:0.9;stroke:#F8F8FFE5;stroke-width:0.0px;stroke-linecap:butt;stroke-linejoin:miter;stroke-opacity:0.9;\"/>\n",
       "<path class=\"bond-4 atom-0 atom-5\" d=\"M 77.7,117.2 L 81.8,124.6 L 67.9,172.9 L 56.4,169.5 L 70.3,121.3 Z\" style=\"fill:#F8F8FFE5;fill-rule:evenodd;fill-opacity:0.9;stroke:#F8F8FFE5;stroke-width:0.0px;stroke-linecap:butt;stroke-linejoin:miter;stroke-opacity:0.9;\"/>\n",
       "<path class=\"bond-1 atom-1 atom-2\" d=\"M 139.2,128.7 L 184.1,141.7 L 187.4,155.1 L 135.8,140.2 L 131.8,132.8 Z\" style=\"fill:#E4E4FFE5;fill-rule:evenodd;fill-opacity:0.9;stroke:#E4E4FFE5;stroke-width:0.0px;stroke-linecap:butt;stroke-linejoin:miter;stroke-opacity:0.9;\"/>\n",
       "<path class=\"bond-5 atom-1 atom-6\" d=\"M 131.8,132.8 L 135.8,140.2 L 121.9,188.5 L 110.4,185.1 L 124.3,136.9 Z\" style=\"fill:#EEEEFFE5;fill-rule:evenodd;fill-opacity:0.9;stroke:#EEEEFFE5;stroke-width:0.0px;stroke-linecap:butt;stroke-linejoin:miter;stroke-opacity:0.9;\"/>\n",
       "<path class=\"bond-6 atom-1 atom-7\" d=\"M 141.6,77.1 L 153.1,80.5 L 139.2,128.7 L 131.8,132.8 L 127.7,125.4 Z\" style=\"fill:#EEEEFFE5;fill-rule:evenodd;fill-opacity:0.9;stroke:#EEEEFFE5;stroke-width:0.0px;stroke-linecap:butt;stroke-linejoin:miter;stroke-opacity:0.9;\"/>\n",
       "<path class=\"bond-7 atom-2 atom-8\" d=\"M 222.1,105.1 L 230.4,113.7 L 187.4,155.1 L 184.1,141.7 Z\" style=\"fill:#5858FFE5;fill-rule:evenodd;fill-opacity:0.9;stroke:#5858FFE5;stroke-width:0.0px;stroke-linecap:butt;stroke-linejoin:miter;stroke-opacity:0.9;\"/>\n",
       "<ellipse cx=\"77.7\" cy=\"117.2\" rx=\"11.2\" ry=\"11.2\" class=\"atom-0\" style=\"fill:#FFFAFAE5;fill-rule:evenodd;stroke:#FFFAFAE5;stroke-width:1.0px;stroke-linecap:butt;stroke-linejoin:miter;stroke-opacity:1\"/>\n",
       "<ellipse cx=\"131.8\" cy=\"132.8\" rx=\"11.2\" ry=\"11.2\" class=\"atom-1\" style=\"fill:#FFFCFCE5;fill-rule:evenodd;stroke:#FFFCFCE5;stroke-width:1.0px;stroke-linecap:butt;stroke-linejoin:miter;stroke-opacity:1\"/>\n",
       "<ellipse cx=\"185.8\" cy=\"148.5\" rx=\"11.2\" ry=\"11.6\" class=\"atom-2\" style=\"fill:#AAAAFFE5;fill-rule:evenodd;stroke:#AAAAFFE5;stroke-width:1.0px;stroke-linecap:butt;stroke-linejoin:miter;stroke-opacity:1\"/>\n",
       "<ellipse cx=\"23.7\" cy=\"101.6\" rx=\"11.2\" ry=\"11.3\" class=\"atom-3\" style=\"fill:#FEFEFFE5;fill-rule:evenodd;stroke:#FEFEFFE5;stroke-width:1.0px;stroke-linecap:butt;stroke-linejoin:miter;stroke-opacity:1\"/>\n",
       "<ellipse cx=\"93.3\" cy=\"63.2\" rx=\"11.2\" ry=\"11.3\" class=\"atom-4\" style=\"fill:#FEFEFFE5;fill-rule:evenodd;stroke:#FEFEFFE5;stroke-width:1.0px;stroke-linecap:butt;stroke-linejoin:miter;stroke-opacity:1\"/>\n",
       "<ellipse cx=\"62.2\" cy=\"171.2\" rx=\"11.2\" ry=\"11.3\" class=\"atom-5\" style=\"fill:#FEFEFFE5;fill-rule:evenodd;stroke:#FEFEFFE5;stroke-width:1.0px;stroke-linecap:butt;stroke-linejoin:miter;stroke-opacity:1\"/>\n",
       "<ellipse cx=\"116.2\" cy=\"186.8\" rx=\"11.2\" ry=\"11.3\" class=\"atom-6\" style=\"fill:#FFFCFCE5;fill-rule:evenodd;stroke:#FFFCFCE5;stroke-width:1.0px;stroke-linecap:butt;stroke-linejoin:miter;stroke-opacity:1\"/>\n",
       "<ellipse cx=\"147.3\" cy=\"78.8\" rx=\"11.2\" ry=\"11.3\" class=\"atom-7\" style=\"fill:#FFFCFCE5;fill-rule:evenodd;stroke:#FFFCFCE5;stroke-width:1.0px;stroke-linecap:butt;stroke-linejoin:miter;stroke-opacity:1\"/>\n",
       "<ellipse cx=\"226.3\" cy=\"109.4\" rx=\"11.2\" ry=\"11.3\" class=\"atom-8\" style=\"fill:#FEFEFFE5;fill-rule:evenodd;stroke:#FEFEFFE5;stroke-width:1.0px;stroke-linecap:butt;stroke-linejoin:miter;stroke-opacity:1\"/>\n",
       "<path class=\"bond-0 atom-0 atom-1\" d=\"M 77.7,117.2 L 131.8,132.8\" style=\"fill:none;fill-rule:evenodd;stroke:#000000;stroke-width:2.0px;stroke-linecap:butt;stroke-linejoin:miter;stroke-opacity:1\"/>\n",
       "<path class=\"bond-1 atom-1 atom-2\" d=\"M 131.8,132.8 L 154.2,139.3\" style=\"fill:none;fill-rule:evenodd;stroke:#000000;stroke-width:2.0px;stroke-linecap:butt;stroke-linejoin:miter;stroke-opacity:1\"/>\n",
       "<path class=\"bond-1 atom-1 atom-2\" d=\"M 154.2,139.3 L 176.6,145.7\" style=\"fill:none;fill-rule:evenodd;stroke:#FF0000;stroke-width:2.0px;stroke-linecap:butt;stroke-linejoin:miter;stroke-opacity:1\"/>\n",
       "<path class=\"bond-2 atom-0 atom-3\" d=\"M 77.7,117.2 L 31.8,103.9\" style=\"fill:none;fill-rule:evenodd;stroke:#000000;stroke-width:2.0px;stroke-linecap:butt;stroke-linejoin:miter;stroke-opacity:1\"/>\n",
       "<path class=\"bond-3 atom-0 atom-4\" d=\"M 77.7,117.2 L 90.5,73.0\" style=\"fill:none;fill-rule:evenodd;stroke:#000000;stroke-width:2.0px;stroke-linecap:butt;stroke-linejoin:miter;stroke-opacity:1\"/>\n",
       "<path class=\"bond-4 atom-0 atom-5\" d=\"M 77.7,117.2 L 65.0,161.4\" style=\"fill:none;fill-rule:evenodd;stroke:#000000;stroke-width:2.0px;stroke-linecap:butt;stroke-linejoin:miter;stroke-opacity:1\"/>\n",
       "<path class=\"bond-5 atom-1 atom-6\" d=\"M 131.8,132.8 L 119.0,177.0\" style=\"fill:none;fill-rule:evenodd;stroke:#000000;stroke-width:2.0px;stroke-linecap:butt;stroke-linejoin:miter;stroke-opacity:1\"/>\n",
       "<path class=\"bond-6 atom-1 atom-7\" d=\"M 131.8,132.8 L 144.5,88.6\" style=\"fill:none;fill-rule:evenodd;stroke:#000000;stroke-width:2.0px;stroke-linecap:butt;stroke-linejoin:miter;stroke-opacity:1\"/>\n",
       "<path class=\"bond-7 atom-2 atom-8\" d=\"M 194.9,139.6 L 206.5,128.4\" style=\"fill:none;fill-rule:evenodd;stroke:#FF0000;stroke-width:2.0px;stroke-linecap:butt;stroke-linejoin:miter;stroke-opacity:1\"/>\n",
       "<path class=\"bond-7 atom-2 atom-8\" d=\"M 206.5,128.4 L 218.2,117.2\" style=\"fill:none;fill-rule:evenodd;stroke:#000000;stroke-width:2.0px;stroke-linecap:butt;stroke-linejoin:miter;stroke-opacity:1\"/>\n",
       "<path class=\"atom-2\" d=\"M 178.4 148.4 Q 178.4 144.6, 180.3 142.5 Q 182.2 140.3, 185.8 140.3 Q 189.3 140.3, 191.2 142.5 Q 193.1 144.6, 193.1 148.4 Q 193.1 152.3, 191.2 154.5 Q 189.2 156.7, 185.8 156.7 Q 182.2 156.7, 180.3 154.5 Q 178.4 152.3, 178.4 148.4 M 185.8 154.9 Q 188.2 154.9, 189.5 153.3 Q 190.8 151.6, 190.8 148.4 Q 190.8 145.3, 189.5 143.7 Q 188.2 142.1, 185.8 142.1 Q 183.3 142.1, 182.0 143.7 Q 180.7 145.3, 180.7 148.4 Q 180.7 151.6, 182.0 153.3 Q 183.3 154.9, 185.8 154.9 \" fill=\"#FF0000\"/>\n",
       "<path class=\"atom-3\" d=\"M 17.5 93.7 L 19.7 93.7 L 19.7 100.4 L 27.8 100.4 L 27.8 93.7 L 30.0 93.7 L 30.0 109.6 L 27.8 109.6 L 27.8 102.2 L 19.7 102.2 L 19.7 109.6 L 17.5 109.6 L 17.5 93.7 \" fill=\"#000000\"/>\n",
       "<path class=\"atom-4\" d=\"M 87.1 55.2 L 89.3 55.2 L 89.3 62.0 L 97.4 62.0 L 97.4 55.2 L 99.6 55.2 L 99.6 71.2 L 97.4 71.2 L 97.4 63.8 L 89.3 63.8 L 89.3 71.2 L 87.1 71.2 L 87.1 55.2 \" fill=\"#000000\"/>\n",
       "<path class=\"atom-5\" d=\"M 55.9 163.3 L 58.1 163.3 L 58.1 170.0 L 66.2 170.0 L 66.2 163.3 L 68.4 163.3 L 68.4 179.2 L 66.2 179.2 L 66.2 171.8 L 58.1 171.8 L 58.1 179.2 L 55.9 179.2 L 55.9 163.3 \" fill=\"#000000\"/>\n",
       "<path class=\"atom-6\" d=\"M 109.9 178.8 L 112.1 178.8 L 112.1 185.6 L 120.2 185.6 L 120.2 178.8 L 122.4 178.8 L 122.4 194.8 L 120.2 194.8 L 120.2 187.4 L 112.1 187.4 L 112.1 194.8 L 109.9 194.8 L 109.9 178.8 \" fill=\"#000000\"/>\n",
       "<path class=\"atom-7\" d=\"M 141.1 70.8 L 143.3 70.8 L 143.3 77.6 L 151.4 77.6 L 151.4 70.8 L 153.6 70.8 L 153.6 86.7 L 151.4 86.7 L 151.4 79.4 L 143.3 79.4 L 143.3 86.7 L 141.1 86.7 L 141.1 70.8 \" fill=\"#000000\"/>\n",
       "<path class=\"atom-8\" d=\"M 220.0 101.5 L 222.2 101.5 L 222.2 108.2 L 230.3 108.2 L 230.3 101.5 L 232.5 101.5 L 232.5 117.4 L 230.3 117.4 L 230.3 110.0 L 222.2 110.0 L 222.2 117.4 L 220.0 117.4 L 220.0 101.5 \" fill=\"#000000\"/>\n",
       "</svg>"
      ],
      "text/plain": [
       "<IPython.core.display.SVG object>"
      ]
     },
     "metadata": {},
     "output_type": "display_data"
    }
   ],
   "source": [
    "visualize_contributions(\"CCO\", model)"
   ]
  },
  {
   "cell_type": "code",
   "execution_count": 18,
   "metadata": {},
   "outputs": [],
   "source": [
    "def calc_contrib_gradient(\n",
    "    smiles: str, model: torch.nn.Module, device: str = \"cpu\"\n",
    ") -> Dict[str, torch.Tensor]:\n",
    "    model.eval()\n",
    "\n",
    "    # (1) SMILES から分子を作り、PyG Data へ\n",
    "    mol = Chem.MolFromSmiles(smiles)\n",
    "    if mol is None:\n",
    "        raise ValueError(f\"Cannot parse SMILES: {smiles}\")\n",
    "    mol = Chem.AddHs(mol)\n",
    "\n",
    "    data = MoleculeDataset.smiles_to_graph(\n",
    "        smiles\n",
    "    )  # 例: ユーザ定義の Dataset クラスのメソッド\n",
    "    data = data.to(device)\n",
    "\n",
    "    # (2) x (ノード特徴量) に対して勾配を計算できるように requires_grad=True\n",
    "    data.x.requires_grad = True\n",
    "\n",
    "    # (3) 順伝搬でスカラー出力 (回帰タスクを想定)\n",
    "    out = model(data.x, data.edge_index, data.batch)\n",
    "    # 複数次元の場合は何らかの形でスカラーに集約\n",
    "    if out.dim() > 0:\n",
    "        out = out.mean()\n",
    "\n",
    "    # (4) 逆伝搬\n",
    "    out.backward()\n",
    "\n",
    "    # (5) ノードの勾配を取得し、ノード単位の重要度を計算\n",
    "    node_grads = data.x.grad.detach().clone()  # shape=(num_nodes, num_node_features)\n",
    "\n",
    "    # node_importance = node_grads.mean(dim=-1)\n",
    "    # node_importance = node_grads.sum(dim=-1)\n",
    "    node_importance = (data.x * node_grads).sum(dim=-1).detach().clone().numpy()\n",
    "    return {\n",
    "        \"nodes\": {i: v for i, v in enumerate(node_importance)},  # (num_nodes,)\n",
    "    }"
   ]
  },
  {
   "cell_type": "code",
   "execution_count": 19,
   "metadata": {},
   "outputs": [
    {
     "name": "stdout",
     "output_type": "stream",
     "text": [
      "Node Contributions: {0: 0.080037564, 1: -0.9250129, 2: -0.20440826, 3: 0.018801652, 4: 0.01880166, 5: 0.01880166, 6: -0.118904054, 7: -0.118904054, 8: -0.14860463}\n"
     ]
    }
   ],
   "source": [
    "smiles = \"CCO\"\n",
    "contribs = calc_contrib_gradient(smiles, model, device)\n",
    "\n",
    "print(\"Node Contributions:\", contribs[\"nodes\"])"
   ]
  },
  {
   "cell_type": "code",
   "execution_count": 20,
   "metadata": {},
   "outputs": [],
   "source": [
    "def visualize_contributions(\n",
    "    smi: str,\n",
    "    model: torch.nn.Module,\n",
    "    device: str = \"cpu\",\n",
    "    cmap: str = \"bwr_r\",\n",
    "    alpha: float = 0.9,\n",
    "    vmin: float = -1,\n",
    "    vmax: float = 1,\n",
    "    size=(250, 250),\n",
    "):\n",
    "    contribs = calc_contrib_gradient(smi, model, device=device)\n",
    "\n",
    "    cmap = cm.get_cmap(cmap)\n",
    "    norm = colors.Normalize(vmin=vmin, vmax=vmax)\n",
    "\n",
    "    atom_colors = {}\n",
    "    for i, val in contribs[\"nodes\"].items():\n",
    "        rgba = list(cmap(norm(val)))\n",
    "        rgba[3] = alpha\n",
    "        atom_colors[i] = tuple(rgba)\n",
    "\n",
    "    mol = Chem.MolFromSmiles(smi)\n",
    "    mol = Chem.AddHs(mol)\n",
    "\n",
    "    drawer = rdMolDraw2D.MolDraw2DSVG(*size)\n",
    "    rdMolDraw2D.PrepareAndDrawMolecule(\n",
    "        drawer,\n",
    "        mol,\n",
    "        highlightAtoms=list(atom_colors.keys()),\n",
    "        highlightAtomColors=atom_colors,\n",
    "    )\n",
    "    drawer.FinishDrawing()\n",
    "\n",
    "    svg = drawer.GetDrawingText().replace(\"svg:\", \"\")\n",
    "    display(SVG(svg))"
   ]
  },
  {
   "cell_type": "code",
   "execution_count": 21,
   "metadata": {},
   "outputs": [
    {
     "name": "stderr",
     "output_type": "stream",
     "text": [
      "/tmp/ipykernel_27836/3066708764.py:13: MatplotlibDeprecationWarning: The get_cmap function was deprecated in Matplotlib 3.7 and will be removed in 3.11. Use ``matplotlib.colormaps[name]`` or ``matplotlib.colormaps.get_cmap()`` or ``pyplot.get_cmap()`` instead.\n",
      "  cmap = cm.get_cmap(cmap)\n"
     ]
    },
    {
     "data": {
      "image/svg+xml": [
       "<svg xmlns=\"http://www.w3.org/2000/svg\" xmlns:rdkit=\"http://www.rdkit.org/xml\" xmlns:xlink=\"http://www.w3.org/1999/xlink\" version=\"1.1\" baseProfile=\"full\" xml:space=\"preserve\" width=\"250px\" height=\"250px\" viewBox=\"0 0 250 250\">\n",
       "<!-- END OF HEADER -->\n",
       "<rect style=\"opacity:1.0;fill:#FFFFFF;stroke:none\" width=\"250.0\" height=\"250.0\" x=\"0.0\" y=\"0.0\"> </rect>\n",
       "<ellipse cx=\"77.7\" cy=\"117.2\" rx=\"11.2\" ry=\"11.2\" class=\"atom-0\" style=\"fill:#EAEAFFE5;fill-rule:evenodd;stroke:#EAEAFFE5;stroke-width:1.0px;stroke-linecap:butt;stroke-linejoin:miter;stroke-opacity:1\"/>\n",
       "<ellipse cx=\"131.8\" cy=\"132.8\" rx=\"11.2\" ry=\"11.2\" class=\"atom-1\" style=\"fill:#FF1212E5;fill-rule:evenodd;stroke:#FF1212E5;stroke-width:1.0px;stroke-linecap:butt;stroke-linejoin:miter;stroke-opacity:1\"/>\n",
       "<ellipse cx=\"185.8\" cy=\"148.5\" rx=\"11.2\" ry=\"11.6\" class=\"atom-2\" style=\"fill:#FFCACAE5;fill-rule:evenodd;stroke:#FFCACAE5;stroke-width:1.0px;stroke-linecap:butt;stroke-linejoin:miter;stroke-opacity:1\"/>\n",
       "<ellipse cx=\"23.7\" cy=\"101.6\" rx=\"11.2\" ry=\"11.3\" class=\"atom-3\" style=\"fill:#FAFAFFE5;fill-rule:evenodd;stroke:#FAFAFFE5;stroke-width:1.0px;stroke-linecap:butt;stroke-linejoin:miter;stroke-opacity:1\"/>\n",
       "<ellipse cx=\"93.3\" cy=\"63.2\" rx=\"11.2\" ry=\"11.3\" class=\"atom-4\" style=\"fill:#FAFAFFE5;fill-rule:evenodd;stroke:#FAFAFFE5;stroke-width:1.0px;stroke-linecap:butt;stroke-linejoin:miter;stroke-opacity:1\"/>\n",
       "<ellipse cx=\"62.2\" cy=\"171.2\" rx=\"11.2\" ry=\"11.3\" class=\"atom-5\" style=\"fill:#FAFAFFE5;fill-rule:evenodd;stroke:#FAFAFFE5;stroke-width:1.0px;stroke-linecap:butt;stroke-linejoin:miter;stroke-opacity:1\"/>\n",
       "<ellipse cx=\"116.2\" cy=\"186.8\" rx=\"11.2\" ry=\"11.3\" class=\"atom-6\" style=\"fill:#FFE0E0E5;fill-rule:evenodd;stroke:#FFE0E0E5;stroke-width:1.0px;stroke-linecap:butt;stroke-linejoin:miter;stroke-opacity:1\"/>\n",
       "<ellipse cx=\"147.3\" cy=\"78.8\" rx=\"11.2\" ry=\"11.3\" class=\"atom-7\" style=\"fill:#FFE0E0E5;fill-rule:evenodd;stroke:#FFE0E0E5;stroke-width:1.0px;stroke-linecap:butt;stroke-linejoin:miter;stroke-opacity:1\"/>\n",
       "<ellipse cx=\"226.3\" cy=\"109.4\" rx=\"11.2\" ry=\"11.3\" class=\"atom-8\" style=\"fill:#FFD8D8E5;fill-rule:evenodd;stroke:#FFD8D8E5;stroke-width:1.0px;stroke-linecap:butt;stroke-linejoin:miter;stroke-opacity:1\"/>\n",
       "<path class=\"bond-0 atom-0 atom-1\" d=\"M 77.7,117.2 L 131.8,132.8\" style=\"fill:none;fill-rule:evenodd;stroke:#000000;stroke-width:2.0px;stroke-linecap:butt;stroke-linejoin:miter;stroke-opacity:1\"/>\n",
       "<path class=\"bond-1 atom-1 atom-2\" d=\"M 131.8,132.8 L 154.2,139.3\" style=\"fill:none;fill-rule:evenodd;stroke:#000000;stroke-width:2.0px;stroke-linecap:butt;stroke-linejoin:miter;stroke-opacity:1\"/>\n",
       "<path class=\"bond-1 atom-1 atom-2\" d=\"M 154.2,139.3 L 176.6,145.7\" style=\"fill:none;fill-rule:evenodd;stroke:#FF0000;stroke-width:2.0px;stroke-linecap:butt;stroke-linejoin:miter;stroke-opacity:1\"/>\n",
       "<path class=\"bond-2 atom-0 atom-3\" d=\"M 77.7,117.2 L 31.8,103.9\" style=\"fill:none;fill-rule:evenodd;stroke:#000000;stroke-width:2.0px;stroke-linecap:butt;stroke-linejoin:miter;stroke-opacity:1\"/>\n",
       "<path class=\"bond-3 atom-0 atom-4\" d=\"M 77.7,117.2 L 90.5,73.0\" style=\"fill:none;fill-rule:evenodd;stroke:#000000;stroke-width:2.0px;stroke-linecap:butt;stroke-linejoin:miter;stroke-opacity:1\"/>\n",
       "<path class=\"bond-4 atom-0 atom-5\" d=\"M 77.7,117.2 L 65.0,161.4\" style=\"fill:none;fill-rule:evenodd;stroke:#000000;stroke-width:2.0px;stroke-linecap:butt;stroke-linejoin:miter;stroke-opacity:1\"/>\n",
       "<path class=\"bond-5 atom-1 atom-6\" d=\"M 131.8,132.8 L 119.0,177.0\" style=\"fill:none;fill-rule:evenodd;stroke:#000000;stroke-width:2.0px;stroke-linecap:butt;stroke-linejoin:miter;stroke-opacity:1\"/>\n",
       "<path class=\"bond-6 atom-1 atom-7\" d=\"M 131.8,132.8 L 144.5,88.6\" style=\"fill:none;fill-rule:evenodd;stroke:#000000;stroke-width:2.0px;stroke-linecap:butt;stroke-linejoin:miter;stroke-opacity:1\"/>\n",
       "<path class=\"bond-7 atom-2 atom-8\" d=\"M 194.9,139.6 L 206.5,128.4\" style=\"fill:none;fill-rule:evenodd;stroke:#FF0000;stroke-width:2.0px;stroke-linecap:butt;stroke-linejoin:miter;stroke-opacity:1\"/>\n",
       "<path class=\"bond-7 atom-2 atom-8\" d=\"M 206.5,128.4 L 218.2,117.2\" style=\"fill:none;fill-rule:evenodd;stroke:#000000;stroke-width:2.0px;stroke-linecap:butt;stroke-linejoin:miter;stroke-opacity:1\"/>\n",
       "<path class=\"atom-2\" d=\"M 178.4 148.4 Q 178.4 144.6, 180.3 142.5 Q 182.2 140.3, 185.8 140.3 Q 189.3 140.3, 191.2 142.5 Q 193.1 144.6, 193.1 148.4 Q 193.1 152.3, 191.2 154.5 Q 189.2 156.7, 185.8 156.7 Q 182.2 156.7, 180.3 154.5 Q 178.4 152.3, 178.4 148.4 M 185.8 154.9 Q 188.2 154.9, 189.5 153.3 Q 190.8 151.6, 190.8 148.4 Q 190.8 145.3, 189.5 143.7 Q 188.2 142.1, 185.8 142.1 Q 183.3 142.1, 182.0 143.7 Q 180.7 145.3, 180.7 148.4 Q 180.7 151.6, 182.0 153.3 Q 183.3 154.9, 185.8 154.9 \" fill=\"#FF0000\"/>\n",
       "<path class=\"atom-3\" d=\"M 17.5 93.7 L 19.7 93.7 L 19.7 100.4 L 27.8 100.4 L 27.8 93.7 L 30.0 93.7 L 30.0 109.6 L 27.8 109.6 L 27.8 102.2 L 19.7 102.2 L 19.7 109.6 L 17.5 109.6 L 17.5 93.7 \" fill=\"#000000\"/>\n",
       "<path class=\"atom-4\" d=\"M 87.1 55.2 L 89.3 55.2 L 89.3 62.0 L 97.4 62.0 L 97.4 55.2 L 99.6 55.2 L 99.6 71.2 L 97.4 71.2 L 97.4 63.8 L 89.3 63.8 L 89.3 71.2 L 87.1 71.2 L 87.1 55.2 \" fill=\"#000000\"/>\n",
       "<path class=\"atom-5\" d=\"M 55.9 163.3 L 58.1 163.3 L 58.1 170.0 L 66.2 170.0 L 66.2 163.3 L 68.4 163.3 L 68.4 179.2 L 66.2 179.2 L 66.2 171.8 L 58.1 171.8 L 58.1 179.2 L 55.9 179.2 L 55.9 163.3 \" fill=\"#000000\"/>\n",
       "<path class=\"atom-6\" d=\"M 109.9 178.8 L 112.1 178.8 L 112.1 185.6 L 120.2 185.6 L 120.2 178.8 L 122.4 178.8 L 122.4 194.8 L 120.2 194.8 L 120.2 187.4 L 112.1 187.4 L 112.1 194.8 L 109.9 194.8 L 109.9 178.8 \" fill=\"#000000\"/>\n",
       "<path class=\"atom-7\" d=\"M 141.1 70.8 L 143.3 70.8 L 143.3 77.6 L 151.4 77.6 L 151.4 70.8 L 153.6 70.8 L 153.6 86.7 L 151.4 86.7 L 151.4 79.4 L 143.3 79.4 L 143.3 86.7 L 141.1 86.7 L 141.1 70.8 \" fill=\"#000000\"/>\n",
       "<path class=\"atom-8\" d=\"M 220.0 101.5 L 222.2 101.5 L 222.2 108.2 L 230.3 108.2 L 230.3 101.5 L 232.5 101.5 L 232.5 117.4 L 230.3 117.4 L 230.3 110.0 L 222.2 110.0 L 222.2 117.4 L 220.0 117.4 L 220.0 101.5 \" fill=\"#000000\"/>\n",
       "</svg>"
      ],
      "text/plain": [
       "<IPython.core.display.SVG object>"
      ]
     },
     "metadata": {},
     "output_type": "display_data"
    }
   ],
   "source": [
    "visualize_contributions(\"CCO\", model)"
   ]
  },
  {
   "cell_type": "code",
   "execution_count": 22,
   "metadata": {},
   "outputs": [],
   "source": [
    "from typing import Dict\n",
    "\n",
    "import torch\n",
    "from torch_geometric.data import Data\n",
    "from torch_geometric.explain import Explainer, GNNExplainer\n",
    "\n",
    "\n",
    "def calc_contrib_explainer(\n",
    "    smiles: str,\n",
    "    model: torch.nn.Module,\n",
    "    device: str = \"cpu\",\n",
    "    explainer_epochs: int = 200,\n",
    ") -> Dict[str, Dict[int, float]]:\n",
    "    model.eval()\n",
    "\n",
    "    # 1) SMILES → RDKit Mol\n",
    "    mol = Chem.MolFromSmiles(smiles)\n",
    "    if mol is None:\n",
    "        raise ValueError(f\"Cannot parse SMILES: {smiles}\")\n",
    "    mol = Chem.AddHs(mol)\n",
    "\n",
    "    # 2) PyG Data を作成 (例: ユーザ定義 MoleculeDataset)\n",
    "    data = MoleculeDataset.smiles_to_graph(smiles)\n",
    "    data = data.to(device)\n",
    "\n",
    "    # 3) Explainer を作成\n",
    "    #    - algorithm=GNNExplainer(...) を指定\n",
    "    #    - regression タスクの場合: mode='regression', task_level='graph', return_type='raw' (など)\n",
    "    explainer = Explainer(\n",
    "        model=model,\n",
    "        algorithm=GNNExplainer(epochs=explainer_epochs),\n",
    "        explanation_type=\"model\",  # モデル自身を説明\n",
    "        node_mask_type=\"attributes\",  # ノードの特徴をマスク対象に\n",
    "        edge_mask_type=\"object\",  # エッジ(オブジェクト)をマスク対象に\n",
    "        model_config=dict(\n",
    "            mode=\"regression\",  # 回帰タスク\n",
    "            task_level=\"graph\",  # グラフ単位の説明\n",
    "            return_type=\"raw\",  # モデルの出力がそのままスカラー (生値) なら 'raw'\n",
    "        ),\n",
    "    )\n",
    "\n",
    "    # 4) 実際に説明を実行\n",
    "    #    単一グラフの場合、batchが無い・あるいはすべて0でもOK\n",
    "    #    explainer(...) の結果は Explanation オブジェクト\n",
    "    explanation = explainer(\n",
    "        x=data.x,\n",
    "        edge_index=data.edge_index,\n",
    "        # data.edge_attr があれば edge_attr=...\n",
    "    )\n",
    "\n",
    "    # 5) ノードマスク, エッジマスクを取得\n",
    "    #    shape: node_mask=[num_nodes, num_node_features], edge_mask=[num_edges]\n",
    "    node_feat_mask = explanation.node_mask\n",
    "    edge_mask = explanation.edge_mask\n",
    "\n",
    "    # ----------------------------\n",
    "    # (A) ノード寄与をまとめる\n",
    "    # ----------------------------\n",
    "    # 例: 各ノードの特徴次元を平均してスカラー化\n",
    "    node_importance_values = node_feat_mask.mean(dim=1)\n",
    "    node_importance_dict = {\n",
    "        int(node_idx): float(val.item())\n",
    "        for node_idx, val in enumerate(node_importance_values)\n",
    "    }\n",
    "\n",
    "    # ----------------------------\n",
    "    # (B) エッジ寄与を bond_id 単位でまとめる\n",
    "    # ----------------------------\n",
    "    # PyG は無向グラフなので (i->j, j->i) が2エッジある場合あり\n",
    "    edge_contributions = {}\n",
    "    num_edges = data.edge_index.size(1)\n",
    "    for e_idx in range(num_edges):\n",
    "        i, j = data.edge_index[:, e_idx].tolist()\n",
    "        if i > j:\n",
    "            i, j = j, i\n",
    "        bond = mol.GetBondBetweenAtoms(int(i), int(j))\n",
    "        if bond is None:\n",
    "            continue\n",
    "        bond_id = bond.GetIdx()\n",
    "        contrib_val = float(edge_mask[e_idx].item())\n",
    "        # 同じ bond_id を持つ (i->j, j->i) 2つのエッジがあり得るのでまとめる\n",
    "        if bond_id in edge_contributions:\n",
    "            # 例: 最大値を取る (他に加算して平均する等も可)\n",
    "            edge_contributions[bond_id] = max(edge_contributions[bond_id], contrib_val)\n",
    "        else:\n",
    "            edge_contributions[bond_id] = contrib_val\n",
    "\n",
    "    return {\n",
    "        \"nodes\": node_importance_dict,\n",
    "        \"edges\": edge_contributions,\n",
    "    }"
   ]
  },
  {
   "cell_type": "code",
   "execution_count": 23,
   "metadata": {},
   "outputs": [
    {
     "name": "stdout",
     "output_type": "stream",
     "text": [
      "Node contributions: {0: 0.07833484560251236, 1: 0.10893753916025162, 2: 0.15800204873085022, 3: 0.050874341279268265, 4: 0.05830933526158333, 5: 0.05735676363110542, 6: 0.06720437854528427, 7: 0.055724501609802246, 8: 0.08380898088216782}\n",
      "Edge contributions: {0: 0.9144509434700012, 1: 0.9079253077507019, 2: 0.9002521634101868, 3: 0.9094732999801636, 4: 0.8915521502494812, 5: 0.8932487368583679, 6: 0.9175107479095459, 7: 0.8084258437156677}\n"
     ]
    }
   ],
   "source": [
    "smi = \"CCO\"  # 例: エタノール\n",
    "\n",
    "res = calc_contrib_explainer(smi, model, device=device, explainer_epochs=200)\n",
    "print(\"Node contributions:\", res[\"nodes\"])\n",
    "print(\"Edge contributions:\", res[\"edges\"])"
   ]
  },
  {
   "cell_type": "code",
   "execution_count": 24,
   "metadata": {},
   "outputs": [],
   "source": [
    "def visualize_contributions(\n",
    "    smi, model, cmap=\"Blues\", alpha=0.9, vmin=0, vmax=2, size=(250, 250)\n",
    "):\n",
    "    contribs = calc_contrib_explainer(smi, model, device=device, explainer_epochs=200)\n",
    "    cmap = cm.get_cmap(cmap)\n",
    "    atom_colors = {}\n",
    "\n",
    "    norm = colors.Normalize(vmin=vmin, vmax=vmax)\n",
    "    for i, val in contribs[\"nodes\"].items():\n",
    "        rgba = list(cmap(norm(val)))\n",
    "        rgba[3] = alpha\n",
    "        atom_colors[i] = tuple(rgba)\n",
    "\n",
    "    bond_colors = {}\n",
    "    for i, val in contribs[\"edges\"].items():\n",
    "        rgba = list(cmap(norm(val)))\n",
    "        rgba[3] = alpha\n",
    "        bond_colors[i] = tuple(rgba)\n",
    "\n",
    "    mol = Chem.MolFromSmiles(smi)\n",
    "    mol = Chem.AddHs(mol)\n",
    "\n",
    "    drawer = rdMolDraw2D.MolDraw2DSVG(*size)\n",
    "\n",
    "    rdMolDraw2D.PrepareAndDrawMolecule(\n",
    "        drawer,\n",
    "        mol,\n",
    "        highlightAtoms=list(atom_colors.keys()),\n",
    "        highlightAtomColors=atom_colors,\n",
    "        highlightBonds=list(bond_colors.keys()),\n",
    "        highlightBondColors=bond_colors,\n",
    "    )\n",
    "    drawer.FinishDrawing()\n",
    "    svg = drawer.GetDrawingText().replace(\"svg:\", \"\")\n",
    "    display(SVG(svg))"
   ]
  },
  {
   "cell_type": "code",
   "execution_count": 25,
   "metadata": {},
   "outputs": [
    {
     "name": "stderr",
     "output_type": "stream",
     "text": [
      "/tmp/ipykernel_27836/2481181956.py:5: MatplotlibDeprecationWarning: The get_cmap function was deprecated in Matplotlib 3.7 and will be removed in 3.11. Use ``matplotlib.colormaps[name]`` or ``matplotlib.colormaps.get_cmap()`` or ``pyplot.get_cmap()`` instead.\n",
      "  cmap = cm.get_cmap(cmap)\n"
     ]
    },
    {
     "data": {
      "image/svg+xml": [
       "<svg xmlns=\"http://www.w3.org/2000/svg\" xmlns:rdkit=\"http://www.rdkit.org/xml\" xmlns:xlink=\"http://www.w3.org/1999/xlink\" version=\"1.1\" baseProfile=\"full\" xml:space=\"preserve\" width=\"250px\" height=\"250px\" viewBox=\"0 0 250 250\">\n",
       "<!-- END OF HEADER -->\n",
       "<rect style=\"opacity:1.0;fill:#FFFFFF;stroke:none\" width=\"250.0\" height=\"250.0\" x=\"0.0\" y=\"0.0\"> </rect>\n",
       "<path class=\"bond-0 atom-0 atom-1\" d=\"M 85.2,113.1 L 127.7,125.4 L 131.8,132.8 L 124.3,136.9 L 81.8,124.6 L 77.7,117.2 Z\" style=\"fill:#7FB8DAE5;fill-rule:evenodd;fill-opacity:0.9;stroke:#7FB8DAE5;stroke-width:0.0px;stroke-linecap:butt;stroke-linejoin:miter;stroke-opacity:0.9;\"/>\n",
       "<path class=\"bond-2 atom-0 atom-3\" d=\"M 25.4,95.9 L 73.6,109.8 L 77.7,117.2 L 70.3,121.3 L 22.1,107.4 Z\" style=\"fill:#7DB8D9E5;fill-rule:evenodd;fill-opacity:0.9;stroke:#7DB8D9E5;stroke-width:0.0px;stroke-linecap:butt;stroke-linejoin:miter;stroke-opacity:0.9;\"/>\n",
       "<path class=\"bond-3 atom-0 atom-4\" d=\"M 87.6,61.5 L 99.1,64.9 L 85.2,113.1 L 77.7,117.2 L 73.6,109.8 Z\" style=\"fill:#77B4D8E5;fill-rule:evenodd;fill-opacity:0.9;stroke:#77B4D8E5;stroke-width:0.0px;stroke-linecap:butt;stroke-linejoin:miter;stroke-opacity:0.9;\"/>\n",
       "<path class=\"bond-4 atom-0 atom-5\" d=\"M 77.7,117.2 L 81.8,124.6 L 67.9,172.9 L 56.4,169.5 L 70.3,121.3 Z\" style=\"fill:#7AB6D9E5;fill-rule:evenodd;fill-opacity:0.9;stroke:#7AB6D9E5;stroke-width:0.0px;stroke-linecap:butt;stroke-linejoin:miter;stroke-opacity:0.9;\"/>\n",
       "<path class=\"bond-1 atom-1 atom-2\" d=\"M 139.2,128.7 L 184.1,141.7 L 187.4,155.1 L 135.8,140.2 L 131.8,132.8 Z\" style=\"fill:#80B9DAE5;fill-rule:evenodd;fill-opacity:0.9;stroke:#80B9DAE5;stroke-width:0.0px;stroke-linecap:butt;stroke-linejoin:miter;stroke-opacity:0.9;\"/>\n",
       "<path class=\"bond-5 atom-1 atom-6\" d=\"M 131.8,132.8 L 135.8,140.2 L 121.9,188.5 L 110.4,185.1 L 124.3,136.9 Z\" style=\"fill:#93C4DEE5;fill-rule:evenodd;fill-opacity:0.9;stroke:#93C4DEE5;stroke-width:0.0px;stroke-linecap:butt;stroke-linejoin:miter;stroke-opacity:0.9;\"/>\n",
       "<path class=\"bond-6 atom-1 atom-7\" d=\"M 141.6,77.1 L 153.1,80.5 L 139.2,128.7 L 131.8,132.8 L 127.7,125.4 Z\" style=\"fill:#85BCDBE5;fill-rule:evenodd;fill-opacity:0.9;stroke:#85BCDBE5;stroke-width:0.0px;stroke-linecap:butt;stroke-linejoin:miter;stroke-opacity:0.9;\"/>\n",
       "<path class=\"bond-7 atom-2 atom-8\" d=\"M 222.1,105.1 L 230.4,113.7 L 187.4,155.1 L 184.1,141.7 Z\" style=\"fill:#83BBDBE5;fill-rule:evenodd;fill-opacity:0.9;stroke:#83BBDBE5;stroke-width:0.0px;stroke-linecap:butt;stroke-linejoin:miter;stroke-opacity:0.9;\"/>\n",
       "<ellipse cx=\"77.7\" cy=\"117.2\" rx=\"11.2\" ry=\"11.2\" class=\"atom-0\" style=\"fill:#EAF2FAE5;fill-rule:evenodd;stroke:#EAF2FAE5;stroke-width:1.0px;stroke-linecap:butt;stroke-linejoin:miter;stroke-opacity:1\"/>\n",
       "<ellipse cx=\"131.8\" cy=\"132.8\" rx=\"11.2\" ry=\"11.2\" class=\"atom-1\" style=\"fill:#EBF3FBE5;fill-rule:evenodd;stroke:#EBF3FBE5;stroke-width:1.0px;stroke-linecap:butt;stroke-linejoin:miter;stroke-opacity:1\"/>\n",
       "<ellipse cx=\"185.8\" cy=\"148.5\" rx=\"11.2\" ry=\"11.6\" class=\"atom-2\" style=\"fill:#E9F2FAE5;fill-rule:evenodd;stroke:#E9F2FAE5;stroke-width:1.0px;stroke-linecap:butt;stroke-linejoin:miter;stroke-opacity:1\"/>\n",
       "<ellipse cx=\"23.7\" cy=\"101.6\" rx=\"11.2\" ry=\"11.3\" class=\"atom-3\" style=\"fill:#F1F7FDE5;fill-rule:evenodd;stroke:#F1F7FDE5;stroke-width:1.0px;stroke-linecap:butt;stroke-linejoin:miter;stroke-opacity:1\"/>\n",
       "<ellipse cx=\"93.3\" cy=\"63.2\" rx=\"11.2\" ry=\"11.3\" class=\"atom-4\" style=\"fill:#F0F6FCE5;fill-rule:evenodd;stroke:#F0F6FCE5;stroke-width:1.0px;stroke-linecap:butt;stroke-linejoin:miter;stroke-opacity:1\"/>\n",
       "<ellipse cx=\"62.2\" cy=\"171.2\" rx=\"11.2\" ry=\"11.3\" class=\"atom-5\" style=\"fill:#F1F7FDE5;fill-rule:evenodd;stroke:#F1F7FDE5;stroke-width:1.0px;stroke-linecap:butt;stroke-linejoin:miter;stroke-opacity:1\"/>\n",
       "<ellipse cx=\"116.2\" cy=\"186.8\" rx=\"11.2\" ry=\"11.3\" class=\"atom-6\" style=\"fill:#F0F6FCE5;fill-rule:evenodd;stroke:#F0F6FCE5;stroke-width:1.0px;stroke-linecap:butt;stroke-linejoin:miter;stroke-opacity:1\"/>\n",
       "<ellipse cx=\"147.3\" cy=\"78.8\" rx=\"11.2\" ry=\"11.3\" class=\"atom-7\" style=\"fill:#F1F7FDE5;fill-rule:evenodd;stroke:#F1F7FDE5;stroke-width:1.0px;stroke-linecap:butt;stroke-linejoin:miter;stroke-opacity:1\"/>\n",
       "<ellipse cx=\"226.3\" cy=\"109.4\" rx=\"11.2\" ry=\"11.3\" class=\"atom-8\" style=\"fill:#EFF6FCE5;fill-rule:evenodd;stroke:#EFF6FCE5;stroke-width:1.0px;stroke-linecap:butt;stroke-linejoin:miter;stroke-opacity:1\"/>\n",
       "<path class=\"bond-0 atom-0 atom-1\" d=\"M 77.7,117.2 L 131.8,132.8\" style=\"fill:none;fill-rule:evenodd;stroke:#000000;stroke-width:2.0px;stroke-linecap:butt;stroke-linejoin:miter;stroke-opacity:1\"/>\n",
       "<path class=\"bond-1 atom-1 atom-2\" d=\"M 131.8,132.8 L 154.2,139.3\" style=\"fill:none;fill-rule:evenodd;stroke:#000000;stroke-width:2.0px;stroke-linecap:butt;stroke-linejoin:miter;stroke-opacity:1\"/>\n",
       "<path class=\"bond-1 atom-1 atom-2\" d=\"M 154.2,139.3 L 176.6,145.7\" style=\"fill:none;fill-rule:evenodd;stroke:#FF0000;stroke-width:2.0px;stroke-linecap:butt;stroke-linejoin:miter;stroke-opacity:1\"/>\n",
       "<path class=\"bond-2 atom-0 atom-3\" d=\"M 77.7,117.2 L 31.8,103.9\" style=\"fill:none;fill-rule:evenodd;stroke:#000000;stroke-width:2.0px;stroke-linecap:butt;stroke-linejoin:miter;stroke-opacity:1\"/>\n",
       "<path class=\"bond-3 atom-0 atom-4\" d=\"M 77.7,117.2 L 90.5,73.0\" style=\"fill:none;fill-rule:evenodd;stroke:#000000;stroke-width:2.0px;stroke-linecap:butt;stroke-linejoin:miter;stroke-opacity:1\"/>\n",
       "<path class=\"bond-4 atom-0 atom-5\" d=\"M 77.7,117.2 L 65.0,161.4\" style=\"fill:none;fill-rule:evenodd;stroke:#000000;stroke-width:2.0px;stroke-linecap:butt;stroke-linejoin:miter;stroke-opacity:1\"/>\n",
       "<path class=\"bond-5 atom-1 atom-6\" d=\"M 131.8,132.8 L 119.0,177.0\" style=\"fill:none;fill-rule:evenodd;stroke:#000000;stroke-width:2.0px;stroke-linecap:butt;stroke-linejoin:miter;stroke-opacity:1\"/>\n",
       "<path class=\"bond-6 atom-1 atom-7\" d=\"M 131.8,132.8 L 144.5,88.6\" style=\"fill:none;fill-rule:evenodd;stroke:#000000;stroke-width:2.0px;stroke-linecap:butt;stroke-linejoin:miter;stroke-opacity:1\"/>\n",
       "<path class=\"bond-7 atom-2 atom-8\" d=\"M 194.9,139.6 L 206.5,128.4\" style=\"fill:none;fill-rule:evenodd;stroke:#FF0000;stroke-width:2.0px;stroke-linecap:butt;stroke-linejoin:miter;stroke-opacity:1\"/>\n",
       "<path class=\"bond-7 atom-2 atom-8\" d=\"M 206.5,128.4 L 218.2,117.2\" style=\"fill:none;fill-rule:evenodd;stroke:#000000;stroke-width:2.0px;stroke-linecap:butt;stroke-linejoin:miter;stroke-opacity:1\"/>\n",
       "<path class=\"atom-2\" d=\"M 178.4 148.4 Q 178.4 144.6, 180.3 142.5 Q 182.2 140.3, 185.8 140.3 Q 189.3 140.3, 191.2 142.5 Q 193.1 144.6, 193.1 148.4 Q 193.1 152.3, 191.2 154.5 Q 189.2 156.7, 185.8 156.7 Q 182.2 156.7, 180.3 154.5 Q 178.4 152.3, 178.4 148.4 M 185.8 154.9 Q 188.2 154.9, 189.5 153.3 Q 190.8 151.6, 190.8 148.4 Q 190.8 145.3, 189.5 143.7 Q 188.2 142.1, 185.8 142.1 Q 183.3 142.1, 182.0 143.7 Q 180.7 145.3, 180.7 148.4 Q 180.7 151.6, 182.0 153.3 Q 183.3 154.9, 185.8 154.9 \" fill=\"#FF0000\"/>\n",
       "<path class=\"atom-3\" d=\"M 17.5 93.7 L 19.7 93.7 L 19.7 100.4 L 27.8 100.4 L 27.8 93.7 L 30.0 93.7 L 30.0 109.6 L 27.8 109.6 L 27.8 102.2 L 19.7 102.2 L 19.7 109.6 L 17.5 109.6 L 17.5 93.7 \" fill=\"#000000\"/>\n",
       "<path class=\"atom-4\" d=\"M 87.1 55.2 L 89.3 55.2 L 89.3 62.0 L 97.4 62.0 L 97.4 55.2 L 99.6 55.2 L 99.6 71.2 L 97.4 71.2 L 97.4 63.8 L 89.3 63.8 L 89.3 71.2 L 87.1 71.2 L 87.1 55.2 \" fill=\"#000000\"/>\n",
       "<path class=\"atom-5\" d=\"M 55.9 163.3 L 58.1 163.3 L 58.1 170.0 L 66.2 170.0 L 66.2 163.3 L 68.4 163.3 L 68.4 179.2 L 66.2 179.2 L 66.2 171.8 L 58.1 171.8 L 58.1 179.2 L 55.9 179.2 L 55.9 163.3 \" fill=\"#000000\"/>\n",
       "<path class=\"atom-6\" d=\"M 109.9 178.8 L 112.1 178.8 L 112.1 185.6 L 120.2 185.6 L 120.2 178.8 L 122.4 178.8 L 122.4 194.8 L 120.2 194.8 L 120.2 187.4 L 112.1 187.4 L 112.1 194.8 L 109.9 194.8 L 109.9 178.8 \" fill=\"#000000\"/>\n",
       "<path class=\"atom-7\" d=\"M 141.1 70.8 L 143.3 70.8 L 143.3 77.6 L 151.4 77.6 L 151.4 70.8 L 153.6 70.8 L 153.6 86.7 L 151.4 86.7 L 151.4 79.4 L 143.3 79.4 L 143.3 86.7 L 141.1 86.7 L 141.1 70.8 \" fill=\"#000000\"/>\n",
       "<path class=\"atom-8\" d=\"M 220.0 101.5 L 222.2 101.5 L 222.2 108.2 L 230.3 108.2 L 230.3 101.5 L 232.5 101.5 L 232.5 117.4 L 230.3 117.4 L 230.3 110.0 L 222.2 110.0 L 222.2 117.4 L 220.0 117.4 L 220.0 101.5 \" fill=\"#000000\"/>\n",
       "</svg>"
      ],
      "text/plain": [
       "<IPython.core.display.SVG object>"
      ]
     },
     "metadata": {},
     "output_type": "display_data"
    }
   ],
   "source": [
    "visualize_contributions(\"CCO\", model)"
   ]
  },
  {
   "cell_type": "code",
   "execution_count": 26,
   "metadata": {},
   "outputs": [],
   "source": [
    "from typing import Optional\n",
    "\n",
    "\n",
    "def visualize_contributions(\n",
    "    smi,\n",
    "    contribs,\n",
    "    cmap=\"bwr_r\",\n",
    "    alpha=0.7,\n",
    "    size=(250, 250),\n",
    "    legend: Optional[str] = None,\n",
    "):\n",
    "    contrib_values = [v for sub_dict in contribs.values() for v in sub_dict.values()]\n",
    "    cmap = cm.get_cmap(cmap)\n",
    "    norm = colors.Normalize(vmin=min(contrib_values), vmax=max(contrib_values))\n",
    "\n",
    "    if \"nodes\" in contribs:\n",
    "        atom_colors = {}\n",
    "        for i, val in contribs[\"nodes\"].items():\n",
    "            rgba = list(cmap(norm(val)))\n",
    "            rgba[3] = alpha\n",
    "            atom_colors[i] = tuple(rgba)\n",
    "\n",
    "    if \"edges\" in contribs:\n",
    "        bond_colors = {}\n",
    "        for i, val in contribs[\"edges\"].items():\n",
    "            rgba = list(cmap(norm(val)))\n",
    "            rgba[3] = alpha\n",
    "            bond_colors[i] = tuple(rgba)\n",
    "\n",
    "    mol = Chem.MolFromSmiles(smi)\n",
    "    mol = Chem.AddHs(mol)\n",
    "\n",
    "    drawer = rdMolDraw2D.MolDraw2DSVG(*size)\n",
    "\n",
    "    if \"nodes\" in contribs and \"edges\" in contribs:\n",
    "        rdMolDraw2D.PrepareAndDrawMolecule(\n",
    "            drawer,\n",
    "            mol,\n",
    "            highlightAtoms=list(atom_colors.keys()),\n",
    "            highlightAtomColors=atom_colors,\n",
    "            highlightBonds=list(bond_colors.keys()),\n",
    "            highlightBondColors=bond_colors,\n",
    "            legend=legend,\n",
    "        )\n",
    "    elif \"nodes\" in contribs and \"edges\" not in contribs:\n",
    "        rdMolDraw2D.PrepareAndDrawMolecule(\n",
    "            drawer,\n",
    "            mol,\n",
    "            highlightAtoms=list(atom_colors.keys()),\n",
    "            highlightAtomColors=atom_colors,\n",
    "            legend=legend,\n",
    "        )\n",
    "    drawer.FinishDrawing()\n",
    "    svg = drawer.GetDrawingText().replace(\"svg:\", \"\")\n",
    "    return svg"
   ]
  },
  {
   "cell_type": "code",
   "execution_count": 27,
   "metadata": {},
   "outputs": [
    {
     "name": "stderr",
     "output_type": "stream",
     "text": [
      "/tmp/ipykernel_27836/1799110379.py:13: MatplotlibDeprecationWarning: The get_cmap function was deprecated in Matplotlib 3.7 and will be removed in 3.11. Use ``matplotlib.colormaps[name]`` or ``matplotlib.colormaps.get_cmap()`` or ``pyplot.get_cmap()`` instead.\n",
      "  cmap = cm.get_cmap(cmap)\n"
     ]
    },
    {
     "data": {
      "image/svg+xml": [
       "<svg xmlns=\"http://www.w3.org/2000/svg\" xmlns:rdkit=\"http://www.rdkit.org/xml\" xmlns:xlink=\"http://www.w3.org/1999/xlink\" version=\"1.1\" baseProfile=\"full\" xml:space=\"preserve\" width=\"250px\" height=\"250px\" viewBox=\"0 0 250 250\">\n",
       "<!-- END OF HEADER -->\n",
       "<rect style=\"opacity:1.0;fill:#FFFFFF;stroke:none\" width=\"250.0\" height=\"250.0\" x=\"0.0\" y=\"0.0\"> </rect>\n",
       "<path class=\"bond-0 atom-0 atom-1\" d=\"M 85.2,102.1 L 127.7,114.4 L 131.8,121.8 L 124.3,125.9 L 81.8,113.6 L 77.7,106.2 Z\" style=\"fill:#FF1616B2;fill-rule:evenodd;fill-opacity:0.7;stroke:#FF1616B2;stroke-width:0.0px;stroke-linecap:butt;stroke-linejoin:miter;stroke-opacity:0.7;\"/>\n",
       "<path class=\"bond-2 atom-0 atom-3\" d=\"M 25.4,84.9 L 73.6,98.8 L 77.7,106.2 L 70.3,110.3 L 22.1,96.4 Z\" style=\"fill:#FF1E1EB2;fill-rule:evenodd;fill-opacity:0.7;stroke:#FF1E1EB2;stroke-width:0.0px;stroke-linecap:butt;stroke-linejoin:miter;stroke-opacity:0.7;\"/>\n",
       "<path class=\"bond-3 atom-0 atom-4\" d=\"M 87.6,50.5 L 99.1,53.9 L 85.2,102.1 L 77.7,106.2 L 73.6,98.8 Z\" style=\"fill:#FF1E1EB2;fill-rule:evenodd;fill-opacity:0.7;stroke:#FF1E1EB2;stroke-width:0.0px;stroke-linecap:butt;stroke-linejoin:miter;stroke-opacity:0.7;\"/>\n",
       "<path class=\"bond-4 atom-0 atom-5\" d=\"M 77.7,106.2 L 81.8,113.6 L 67.9,161.9 L 56.4,158.5 L 70.3,110.3 Z\" style=\"fill:#FF1E1EB2;fill-rule:evenodd;fill-opacity:0.7;stroke:#FF1E1EB2;stroke-width:0.0px;stroke-linecap:butt;stroke-linejoin:miter;stroke-opacity:0.7;\"/>\n",
       "<path class=\"bond-1 atom-1 atom-2\" d=\"M 139.2,117.7 L 184.1,130.7 L 187.4,144.1 L 135.8,129.2 L 131.8,121.8 Z\" style=\"fill:#FF6060B2;fill-rule:evenodd;fill-opacity:0.7;stroke:#FF6060B2;stroke-width:0.0px;stroke-linecap:butt;stroke-linejoin:miter;stroke-opacity:0.7;\"/>\n",
       "<path class=\"bond-5 atom-1 atom-6\" d=\"M 131.8,121.8 L 135.8,129.2 L 121.9,177.5 L 110.4,174.1 L 124.3,125.9 Z\" style=\"fill:#FF4040B2;fill-rule:evenodd;fill-opacity:0.7;stroke:#FF4040B2;stroke-width:0.0px;stroke-linecap:butt;stroke-linejoin:miter;stroke-opacity:0.7;\"/>\n",
       "<path class=\"bond-6 atom-1 atom-7\" d=\"M 141.6,66.1 L 153.1,69.5 L 139.2,117.7 L 131.8,121.8 L 127.7,114.4 Z\" style=\"fill:#FF4040B2;fill-rule:evenodd;fill-opacity:0.7;stroke:#FF4040B2;stroke-width:0.0px;stroke-linecap:butt;stroke-linejoin:miter;stroke-opacity:0.7;\"/>\n",
       "<path class=\"bond-7 atom-2 atom-8\" d=\"M 222.1,94.1 L 230.4,102.7 L 187.4,144.1 L 184.1,130.7 Z\" style=\"fill:#0000FFB2;fill-rule:evenodd;fill-opacity:0.7;stroke:#0000FFB2;stroke-width:0.0px;stroke-linecap:butt;stroke-linejoin:miter;stroke-opacity:0.7;\"/>\n",
       "<ellipse cx=\"77.7\" cy=\"106.2\" rx=\"11.2\" ry=\"11.2\" class=\"atom-0\" style=\"fill:#FF0000B2;fill-rule:evenodd;stroke:#FF0000B2;stroke-width:1.0px;stroke-linecap:butt;stroke-linejoin:miter;stroke-opacity:1\"/>\n",
       "<ellipse cx=\"131.8\" cy=\"121.8\" rx=\"11.2\" ry=\"11.2\" class=\"atom-1\" style=\"fill:#FF0000B2;fill-rule:evenodd;stroke:#FF0000B2;stroke-width:1.0px;stroke-linecap:butt;stroke-linejoin:miter;stroke-opacity:1\"/>\n",
       "<ellipse cx=\"185.8\" cy=\"137.5\" rx=\"11.2\" ry=\"11.6\" class=\"atom-2\" style=\"fill:#F2F2FFB2;fill-rule:evenodd;stroke:#F2F2FFB2;stroke-width:1.0px;stroke-linecap:butt;stroke-linejoin:miter;stroke-opacity:1\"/>\n",
       "<ellipse cx=\"23.7\" cy=\"90.6\" rx=\"11.2\" ry=\"11.3\" class=\"atom-3\" style=\"fill:#FF0E0EB2;fill-rule:evenodd;stroke:#FF0E0EB2;stroke-width:1.0px;stroke-linecap:butt;stroke-linejoin:miter;stroke-opacity:1\"/>\n",
       "<ellipse cx=\"93.3\" cy=\"52.2\" rx=\"11.2\" ry=\"11.3\" class=\"atom-4\" style=\"fill:#FF0E0EB2;fill-rule:evenodd;stroke:#FF0E0EB2;stroke-width:1.0px;stroke-linecap:butt;stroke-linejoin:miter;stroke-opacity:1\"/>\n",
       "<ellipse cx=\"62.2\" cy=\"160.2\" rx=\"11.2\" ry=\"11.3\" class=\"atom-5\" style=\"fill:#FF0E0EB2;fill-rule:evenodd;stroke:#FF0E0EB2;stroke-width:1.0px;stroke-linecap:butt;stroke-linejoin:miter;stroke-opacity:1\"/>\n",
       "<ellipse cx=\"116.2\" cy=\"175.8\" rx=\"11.2\" ry=\"11.3\" class=\"atom-6\" style=\"fill:#FF0404B2;fill-rule:evenodd;stroke:#FF0404B2;stroke-width:1.0px;stroke-linecap:butt;stroke-linejoin:miter;stroke-opacity:1\"/>\n",
       "<ellipse cx=\"147.3\" cy=\"67.8\" rx=\"11.2\" ry=\"11.3\" class=\"atom-7\" style=\"fill:#FF0404B2;fill-rule:evenodd;stroke:#FF0404B2;stroke-width:1.0px;stroke-linecap:butt;stroke-linejoin:miter;stroke-opacity:1\"/>\n",
       "<ellipse cx=\"226.3\" cy=\"98.4\" rx=\"11.2\" ry=\"11.3\" class=\"atom-8\" style=\"fill:#FF1010B2;fill-rule:evenodd;stroke:#FF1010B2;stroke-width:1.0px;stroke-linecap:butt;stroke-linejoin:miter;stroke-opacity:1\"/>\n",
       "<path class=\"bond-0 atom-0 atom-1\" d=\"M 77.7,106.2 L 131.8,121.8\" style=\"fill:none;fill-rule:evenodd;stroke:#000000;stroke-width:2.0px;stroke-linecap:butt;stroke-linejoin:miter;stroke-opacity:1\"/>\n",
       "<path class=\"bond-1 atom-1 atom-2\" d=\"M 131.8,121.8 L 154.2,128.3\" style=\"fill:none;fill-rule:evenodd;stroke:#000000;stroke-width:2.0px;stroke-linecap:butt;stroke-linejoin:miter;stroke-opacity:1\"/>\n",
       "<path class=\"bond-1 atom-1 atom-2\" d=\"M 154.2,128.3 L 176.6,134.7\" style=\"fill:none;fill-rule:evenodd;stroke:#FF0000;stroke-width:2.0px;stroke-linecap:butt;stroke-linejoin:miter;stroke-opacity:1\"/>\n",
       "<path class=\"bond-2 atom-0 atom-3\" d=\"M 77.7,106.2 L 31.8,92.9\" style=\"fill:none;fill-rule:evenodd;stroke:#000000;stroke-width:2.0px;stroke-linecap:butt;stroke-linejoin:miter;stroke-opacity:1\"/>\n",
       "<path class=\"bond-3 atom-0 atom-4\" d=\"M 77.7,106.2 L 90.5,62.0\" style=\"fill:none;fill-rule:evenodd;stroke:#000000;stroke-width:2.0px;stroke-linecap:butt;stroke-linejoin:miter;stroke-opacity:1\"/>\n",
       "<path class=\"bond-4 atom-0 atom-5\" d=\"M 77.7,106.2 L 65.0,150.4\" style=\"fill:none;fill-rule:evenodd;stroke:#000000;stroke-width:2.0px;stroke-linecap:butt;stroke-linejoin:miter;stroke-opacity:1\"/>\n",
       "<path class=\"bond-5 atom-1 atom-6\" d=\"M 131.8,121.8 L 119.0,166.0\" style=\"fill:none;fill-rule:evenodd;stroke:#000000;stroke-width:2.0px;stroke-linecap:butt;stroke-linejoin:miter;stroke-opacity:1\"/>\n",
       "<path class=\"bond-6 atom-1 atom-7\" d=\"M 131.8,121.8 L 144.5,77.6\" style=\"fill:none;fill-rule:evenodd;stroke:#000000;stroke-width:2.0px;stroke-linecap:butt;stroke-linejoin:miter;stroke-opacity:1\"/>\n",
       "<path class=\"bond-7 atom-2 atom-8\" d=\"M 194.9,128.6 L 206.5,117.4\" style=\"fill:none;fill-rule:evenodd;stroke:#FF0000;stroke-width:2.0px;stroke-linecap:butt;stroke-linejoin:miter;stroke-opacity:1\"/>\n",
       "<path class=\"bond-7 atom-2 atom-8\" d=\"M 206.5,117.4 L 218.2,106.2\" style=\"fill:none;fill-rule:evenodd;stroke:#000000;stroke-width:2.0px;stroke-linecap:butt;stroke-linejoin:miter;stroke-opacity:1\"/>\n",
       "<path class=\"atom-2\" d=\"M 178.4 137.4 Q 178.4 133.6, 180.3 131.5 Q 182.2 129.3, 185.8 129.3 Q 189.3 129.3, 191.2 131.5 Q 193.1 133.6, 193.1 137.4 Q 193.1 141.3, 191.2 143.5 Q 189.2 145.7, 185.8 145.7 Q 182.2 145.7, 180.3 143.5 Q 178.4 141.3, 178.4 137.4 M 185.8 143.9 Q 188.2 143.9, 189.5 142.3 Q 190.8 140.6, 190.8 137.4 Q 190.8 134.3, 189.5 132.7 Q 188.2 131.1, 185.8 131.1 Q 183.3 131.1, 182.0 132.7 Q 180.7 134.3, 180.7 137.4 Q 180.7 140.6, 182.0 142.3 Q 183.3 143.9, 185.8 143.9 \" fill=\"#FF0000\"/>\n",
       "<path class=\"atom-3\" d=\"M 17.5 82.7 L 19.7 82.7 L 19.7 89.4 L 27.8 89.4 L 27.8 82.7 L 30.0 82.7 L 30.0 98.6 L 27.8 98.6 L 27.8 91.2 L 19.7 91.2 L 19.7 98.6 L 17.5 98.6 L 17.5 82.7 \" fill=\"#000000\"/>\n",
       "<path class=\"atom-4\" d=\"M 87.1 44.2 L 89.3 44.2 L 89.3 51.0 L 97.4 51.0 L 97.4 44.2 L 99.6 44.2 L 99.6 60.2 L 97.4 60.2 L 97.4 52.8 L 89.3 52.8 L 89.3 60.2 L 87.1 60.2 L 87.1 44.2 \" fill=\"#000000\"/>\n",
       "<path class=\"atom-5\" d=\"M 55.9 152.3 L 58.1 152.3 L 58.1 159.0 L 66.2 159.0 L 66.2 152.3 L 68.4 152.3 L 68.4 168.2 L 66.2 168.2 L 66.2 160.8 L 58.1 160.8 L 58.1 168.2 L 55.9 168.2 L 55.9 152.3 \" fill=\"#000000\"/>\n",
       "<path class=\"atom-6\" d=\"M 109.9 167.8 L 112.1 167.8 L 112.1 174.6 L 120.2 174.6 L 120.2 167.8 L 122.4 167.8 L 122.4 183.8 L 120.2 183.8 L 120.2 176.4 L 112.1 176.4 L 112.1 183.8 L 109.9 183.8 L 109.9 167.8 \" fill=\"#000000\"/>\n",
       "<path class=\"atom-7\" d=\"M 141.1 59.8 L 143.3 59.8 L 143.3 66.6 L 151.4 66.6 L 151.4 59.8 L 153.6 59.8 L 153.6 75.7 L 151.4 75.7 L 151.4 68.4 L 143.3 68.4 L 143.3 75.7 L 141.1 75.7 L 141.1 59.8 \" fill=\"#000000\"/>\n",
       "<path class=\"atom-8\" d=\"M 220.0 90.5 L 222.2 90.5 L 222.2 97.2 L 230.3 97.2 L 230.3 90.5 L 232.5 90.5 L 232.5 106.4 L 230.3 106.4 L 230.3 99.0 L 222.2 99.0 L 222.2 106.4 L 220.0 106.4 L 220.0 90.5 \" fill=\"#000000\"/>\n",
       "<path class=\"legend\" d=\"M 102.2 226.0 Q 104.1 226.0, 105.1 226.9 Q 106.1 227.8, 106.1 229.4 Q 106.1 230.9, 105.1 231.8 Q 104.1 232.7, 102.2 232.7 L 100.4 232.7 L 100.4 237.4 L 98.8 237.4 L 98.8 226.0 L 102.2 226.0 M 102.2 231.4 Q 103.3 231.4, 103.9 230.9 Q 104.5 230.4, 104.5 229.4 Q 104.5 228.3, 103.9 227.8 Q 103.3 227.3, 102.2 227.3 L 100.4 227.3 L 100.4 231.4 L 102.2 231.4 \" fill=\"#000000\"/>\n",
       "<path class=\"legend\" d=\"M 107.5 233.2 Q 107.5 231.2, 108.5 230.1 Q 109.5 229.0, 111.3 229.0 Q 113.1 229.0, 113.9 230.1 Q 114.7 231.1, 114.7 233.2 L 114.7 233.4 L 109.0 233.4 Q 109.0 234.8, 109.7 235.6 Q 110.3 236.3, 111.4 236.3 Q 112.1 236.3, 112.7 236.2 Q 113.3 236.0, 114.0 235.7 L 114.4 236.7 Q 113.6 237.1, 112.9 237.3 Q 112.1 237.5, 111.4 237.5 Q 109.5 237.5, 108.5 236.4 Q 107.5 235.2, 107.5 233.2 M 111.3 230.2 Q 110.4 230.2, 109.8 230.7 Q 109.2 231.3, 109.1 232.3 L 113.2 232.3 Q 113.0 231.2, 112.6 230.7 Q 112.1 230.2, 111.3 230.2 \" fill=\"#000000\"/>\n",
       "<path class=\"legend\" d=\"M 117.2 229.1 L 117.4 230.3 Q 118.2 229.0, 119.6 229.0 Q 120.1 229.0, 120.7 229.1 L 120.5 230.5 Q 119.8 230.3, 119.4 230.3 Q 118.7 230.3, 118.3 230.6 Q 117.8 230.9, 117.5 231.5 L 117.5 237.4 L 116.0 237.4 L 116.0 229.1 L 117.2 229.1 \" fill=\"#000000\"/>\n",
       "<path class=\"legend\" d=\"M 121.6 230.3 L 121.6 229.1 L 123.1 229.1 L 123.4 226.7 L 124.5 226.7 L 124.5 229.1 L 127.0 229.1 L 127.0 230.3 L 124.5 230.3 L 124.5 234.8 Q 124.5 236.3, 125.7 236.3 Q 126.2 236.3, 126.9 236.0 L 127.1 237.1 Q 126.3 237.5, 125.4 237.5 Q 124.4 237.5, 123.7 236.8 Q 123.0 236.2, 123.0 234.9 L 123.0 230.3 L 121.6 230.3 \" fill=\"#000000\"/>\n",
       "<path class=\"legend\" d=\"M 135.2 229.1 L 135.2 237.4 L 133.9 237.4 L 133.8 236.2 Q 132.7 237.5, 131.0 237.5 Q 129.6 237.5, 128.9 236.8 Q 128.2 236.0, 128.2 234.6 L 128.2 229.1 L 129.7 229.1 L 129.7 234.5 Q 129.7 235.4, 130.0 235.9 Q 130.4 236.3, 131.3 236.3 Q 132.0 236.3, 132.6 236.0 Q 133.3 235.6, 133.7 235.0 L 133.7 229.1 L 135.2 229.1 \" fill=\"#000000\"/>\n",
       "<path class=\"legend\" d=\"M 138.3 229.1 L 138.5 230.3 Q 139.4 229.0, 140.8 229.0 Q 141.2 229.0, 141.8 229.1 L 141.6 230.5 Q 140.9 230.3, 140.5 230.3 Q 139.8 230.3, 139.4 230.6 Q 139.0 230.9, 138.6 231.5 L 138.6 237.4 L 137.1 237.4 L 137.1 229.1 L 138.3 229.1 \" fill=\"#000000\"/>\n",
       "<path class=\"legend\" d=\"M 146.5 229.0 Q 148.2 229.0, 149.2 230.1 Q 150.2 231.1, 150.2 233.1 Q 150.2 235.2, 149.0 236.3 Q 147.9 237.5, 145.9 237.5 Q 144.6 237.5, 143.4 237.0 L 142.7 236.8 L 142.7 225.2 L 144.2 225.2 L 144.2 230.0 Q 145.1 229.0, 146.5 229.0 M 145.9 236.3 Q 147.2 236.3, 147.9 235.5 Q 148.6 234.6, 148.6 233.1 Q 148.6 231.7, 148.0 230.9 Q 147.5 230.2, 146.4 230.2 Q 145.6 230.2, 145.0 230.6 Q 144.4 231.1, 144.2 231.9 L 144.2 236.1 Q 145.0 236.3, 145.9 236.3 \" fill=\"#000000\"/>\n",
       "</svg>"
      ],
      "text/plain": [
       "<IPython.core.display.SVG object>"
      ]
     },
     "execution_count": 27,
     "metadata": {},
     "output_type": "execute_result"
    }
   ],
   "source": [
    "smi = \"CCO\"\n",
    "\n",
    "contribs_perturb = calc_contrib_perturb(smi, model, device=device)\n",
    "svg = visualize_contributions(smi, contribs_perturb, legend=\"Perturb\")\n",
    "SVG(svg)"
   ]
  },
  {
   "cell_type": "code",
   "execution_count": 28,
   "metadata": {},
   "outputs": [
    {
     "name": "stderr",
     "output_type": "stream",
     "text": [
      "/tmp/ipykernel_27836/1799110379.py:13: MatplotlibDeprecationWarning: The get_cmap function was deprecated in Matplotlib 3.7 and will be removed in 3.11. Use ``matplotlib.colormaps[name]`` or ``matplotlib.colormaps.get_cmap()`` or ``pyplot.get_cmap()`` instead.\n",
      "  cmap = cm.get_cmap(cmap)\n"
     ]
    },
    {
     "data": {
      "image/svg+xml": [
       "<svg xmlns=\"http://www.w3.org/2000/svg\" xmlns:rdkit=\"http://www.rdkit.org/xml\" xmlns:xlink=\"http://www.w3.org/1999/xlink\" version=\"1.1\" baseProfile=\"full\" xml:space=\"preserve\" width=\"250px\" height=\"250px\" viewBox=\"0 0 250 250\">\n",
       "<!-- END OF HEADER -->\n",
       "<rect style=\"opacity:1.0;fill:#FFFFFF;stroke:none\" width=\"250.0\" height=\"250.0\" x=\"0.0\" y=\"0.0\"> </rect>\n",
       "<ellipse cx=\"77.7\" cy=\"106.2\" rx=\"11.2\" ry=\"11.2\" class=\"atom-0\" style=\"fill:#0000FFB2;fill-rule:evenodd;stroke:#0000FFB2;stroke-width:1.0px;stroke-linecap:butt;stroke-linejoin:miter;stroke-opacity:1\"/>\n",
       "<ellipse cx=\"131.8\" cy=\"121.8\" rx=\"11.2\" ry=\"11.2\" class=\"atom-1\" style=\"fill:#FF0000B2;fill-rule:evenodd;stroke:#FF0000B2;stroke-width:1.0px;stroke-linecap:butt;stroke-linejoin:miter;stroke-opacity:1\"/>\n",
       "<ellipse cx=\"185.8\" cy=\"137.5\" rx=\"11.2\" ry=\"11.6\" class=\"atom-2\" style=\"fill:#9090FFB2;fill-rule:evenodd;stroke:#9090FFB2;stroke-width:1.0px;stroke-linecap:butt;stroke-linejoin:miter;stroke-opacity:1\"/>\n",
       "<ellipse cx=\"23.7\" cy=\"90.6\" rx=\"11.2\" ry=\"11.3\" class=\"atom-3\" style=\"fill:#1E1EFFB2;fill-rule:evenodd;stroke:#1E1EFFB2;stroke-width:1.0px;stroke-linecap:butt;stroke-linejoin:miter;stroke-opacity:1\"/>\n",
       "<ellipse cx=\"93.3\" cy=\"52.2\" rx=\"11.2\" ry=\"11.3\" class=\"atom-4\" style=\"fill:#1E1EFFB2;fill-rule:evenodd;stroke:#1E1EFFB2;stroke-width:1.0px;stroke-linecap:butt;stroke-linejoin:miter;stroke-opacity:1\"/>\n",
       "<ellipse cx=\"62.2\" cy=\"160.2\" rx=\"11.2\" ry=\"11.3\" class=\"atom-5\" style=\"fill:#1E1EFFB2;fill-rule:evenodd;stroke:#1E1EFFB2;stroke-width:1.0px;stroke-linecap:butt;stroke-linejoin:miter;stroke-opacity:1\"/>\n",
       "<ellipse cx=\"116.2\" cy=\"175.8\" rx=\"11.2\" ry=\"11.3\" class=\"atom-6\" style=\"fill:#6464FFB2;fill-rule:evenodd;stroke:#6464FFB2;stroke-width:1.0px;stroke-linecap:butt;stroke-linejoin:miter;stroke-opacity:1\"/>\n",
       "<ellipse cx=\"147.3\" cy=\"67.8\" rx=\"11.2\" ry=\"11.3\" class=\"atom-7\" style=\"fill:#6464FFB2;fill-rule:evenodd;stroke:#6464FFB2;stroke-width:1.0px;stroke-linecap:butt;stroke-linejoin:miter;stroke-opacity:1\"/>\n",
       "<ellipse cx=\"226.3\" cy=\"98.4\" rx=\"11.2\" ry=\"11.3\" class=\"atom-8\" style=\"fill:#7474FFB2;fill-rule:evenodd;stroke:#7474FFB2;stroke-width:1.0px;stroke-linecap:butt;stroke-linejoin:miter;stroke-opacity:1\"/>\n",
       "<path class=\"bond-0 atom-0 atom-1\" d=\"M 77.7,106.2 L 131.8,121.8\" style=\"fill:none;fill-rule:evenodd;stroke:#000000;stroke-width:2.0px;stroke-linecap:butt;stroke-linejoin:miter;stroke-opacity:1\"/>\n",
       "<path class=\"bond-1 atom-1 atom-2\" d=\"M 131.8,121.8 L 154.2,128.3\" style=\"fill:none;fill-rule:evenodd;stroke:#000000;stroke-width:2.0px;stroke-linecap:butt;stroke-linejoin:miter;stroke-opacity:1\"/>\n",
       "<path class=\"bond-1 atom-1 atom-2\" d=\"M 154.2,128.3 L 176.6,134.7\" style=\"fill:none;fill-rule:evenodd;stroke:#FF0000;stroke-width:2.0px;stroke-linecap:butt;stroke-linejoin:miter;stroke-opacity:1\"/>\n",
       "<path class=\"bond-2 atom-0 atom-3\" d=\"M 77.7,106.2 L 31.8,92.9\" style=\"fill:none;fill-rule:evenodd;stroke:#000000;stroke-width:2.0px;stroke-linecap:butt;stroke-linejoin:miter;stroke-opacity:1\"/>\n",
       "<path class=\"bond-3 atom-0 atom-4\" d=\"M 77.7,106.2 L 90.5,62.0\" style=\"fill:none;fill-rule:evenodd;stroke:#000000;stroke-width:2.0px;stroke-linecap:butt;stroke-linejoin:miter;stroke-opacity:1\"/>\n",
       "<path class=\"bond-4 atom-0 atom-5\" d=\"M 77.7,106.2 L 65.0,150.4\" style=\"fill:none;fill-rule:evenodd;stroke:#000000;stroke-width:2.0px;stroke-linecap:butt;stroke-linejoin:miter;stroke-opacity:1\"/>\n",
       "<path class=\"bond-5 atom-1 atom-6\" d=\"M 131.8,121.8 L 119.0,166.0\" style=\"fill:none;fill-rule:evenodd;stroke:#000000;stroke-width:2.0px;stroke-linecap:butt;stroke-linejoin:miter;stroke-opacity:1\"/>\n",
       "<path class=\"bond-6 atom-1 atom-7\" d=\"M 131.8,121.8 L 144.5,77.6\" style=\"fill:none;fill-rule:evenodd;stroke:#000000;stroke-width:2.0px;stroke-linecap:butt;stroke-linejoin:miter;stroke-opacity:1\"/>\n",
       "<path class=\"bond-7 atom-2 atom-8\" d=\"M 194.9,128.6 L 206.5,117.4\" style=\"fill:none;fill-rule:evenodd;stroke:#FF0000;stroke-width:2.0px;stroke-linecap:butt;stroke-linejoin:miter;stroke-opacity:1\"/>\n",
       "<path class=\"bond-7 atom-2 atom-8\" d=\"M 206.5,117.4 L 218.2,106.2\" style=\"fill:none;fill-rule:evenodd;stroke:#000000;stroke-width:2.0px;stroke-linecap:butt;stroke-linejoin:miter;stroke-opacity:1\"/>\n",
       "<path class=\"atom-2\" d=\"M 178.4 137.4 Q 178.4 133.6, 180.3 131.5 Q 182.2 129.3, 185.8 129.3 Q 189.3 129.3, 191.2 131.5 Q 193.1 133.6, 193.1 137.4 Q 193.1 141.3, 191.2 143.5 Q 189.2 145.7, 185.8 145.7 Q 182.2 145.7, 180.3 143.5 Q 178.4 141.3, 178.4 137.4 M 185.8 143.9 Q 188.2 143.9, 189.5 142.3 Q 190.8 140.6, 190.8 137.4 Q 190.8 134.3, 189.5 132.7 Q 188.2 131.1, 185.8 131.1 Q 183.3 131.1, 182.0 132.7 Q 180.7 134.3, 180.7 137.4 Q 180.7 140.6, 182.0 142.3 Q 183.3 143.9, 185.8 143.9 \" fill=\"#FF0000\"/>\n",
       "<path class=\"atom-3\" d=\"M 17.5 82.7 L 19.7 82.7 L 19.7 89.4 L 27.8 89.4 L 27.8 82.7 L 30.0 82.7 L 30.0 98.6 L 27.8 98.6 L 27.8 91.2 L 19.7 91.2 L 19.7 98.6 L 17.5 98.6 L 17.5 82.7 \" fill=\"#000000\"/>\n",
       "<path class=\"atom-4\" d=\"M 87.1 44.2 L 89.3 44.2 L 89.3 51.0 L 97.4 51.0 L 97.4 44.2 L 99.6 44.2 L 99.6 60.2 L 97.4 60.2 L 97.4 52.8 L 89.3 52.8 L 89.3 60.2 L 87.1 60.2 L 87.1 44.2 \" fill=\"#000000\"/>\n",
       "<path class=\"atom-5\" d=\"M 55.9 152.3 L 58.1 152.3 L 58.1 159.0 L 66.2 159.0 L 66.2 152.3 L 68.4 152.3 L 68.4 168.2 L 66.2 168.2 L 66.2 160.8 L 58.1 160.8 L 58.1 168.2 L 55.9 168.2 L 55.9 152.3 \" fill=\"#000000\"/>\n",
       "<path class=\"atom-6\" d=\"M 109.9 167.8 L 112.1 167.8 L 112.1 174.6 L 120.2 174.6 L 120.2 167.8 L 122.4 167.8 L 122.4 183.8 L 120.2 183.8 L 120.2 176.4 L 112.1 176.4 L 112.1 183.8 L 109.9 183.8 L 109.9 167.8 \" fill=\"#000000\"/>\n",
       "<path class=\"atom-7\" d=\"M 141.1 59.8 L 143.3 59.8 L 143.3 66.6 L 151.4 66.6 L 151.4 59.8 L 153.6 59.8 L 153.6 75.7 L 151.4 75.7 L 151.4 68.4 L 143.3 68.4 L 143.3 75.7 L 141.1 75.7 L 141.1 59.8 \" fill=\"#000000\"/>\n",
       "<path class=\"atom-8\" d=\"M 220.0 90.5 L 222.2 90.5 L 222.2 97.2 L 230.3 97.2 L 230.3 90.5 L 232.5 90.5 L 232.5 106.4 L 230.3 106.4 L 230.3 99.0 L 222.2 99.0 L 222.2 106.4 L 220.0 106.4 L 220.0 90.5 \" fill=\"#000000\"/>\n",
       "<path class=\"legend\" d=\"M 103.2 231.8 L 103.2 236.5 Q 101.5 237.5, 99.2 237.5 Q 96.7 237.5, 95.4 235.9 Q 94.1 234.4, 94.1 231.6 Q 94.1 228.8, 95.4 227.3 Q 96.7 225.9, 99.2 225.9 Q 100.5 225.9, 101.5 226.3 Q 102.4 226.7, 103.1 227.5 L 102.1 228.4 Q 101.0 227.1, 99.2 227.1 Q 97.5 227.1, 96.6 228.3 Q 95.7 229.4, 95.7 231.6 Q 95.7 233.9, 96.6 235.0 Q 97.6 236.2, 99.4 236.2 Q 100.6 236.2, 101.6 235.8 L 101.6 231.8 L 103.2 231.8 \" fill=\"#000000\"/>\n",
       "<path class=\"legend\" d=\"M 106.2 229.1 L 106.4 230.2 Q 107.2 228.9, 108.6 228.9 Q 109.1 228.9, 109.7 229.1 L 109.5 230.4 Q 108.8 230.3, 108.4 230.3 Q 107.7 230.3, 107.3 230.6 Q 106.8 230.8, 106.5 231.4 L 106.5 237.3 L 105.0 237.3 L 105.0 229.1 L 106.2 229.1 \" fill=\"#000000\"/>\n",
       "<path class=\"legend\" d=\"M 110.6 235.1 Q 110.6 233.8, 111.6 233.1 Q 112.7 232.3, 114.6 232.3 L 115.8 232.3 L 115.8 232.0 Q 115.8 231.0, 115.4 230.6 Q 115.0 230.1, 113.9 230.1 Q 113.3 230.1, 112.8 230.3 Q 112.3 230.4, 111.5 230.7 L 111.0 229.7 Q 112.5 228.9, 114.0 228.9 Q 115.7 228.9, 116.5 229.7 Q 117.3 230.4, 117.3 232.0 L 117.3 237.3 L 116.2 237.3 Q 116.1 237.2, 116.1 237.0 Q 116.0 236.7, 115.9 236.3 Q 114.8 237.5, 113.3 237.5 Q 112.0 237.5, 111.3 236.8 Q 110.6 236.2, 110.6 235.1 M 112.1 235.1 Q 112.1 235.7, 112.4 236.0 Q 112.8 236.3, 113.5 236.3 Q 114.2 236.3, 114.8 236.0 Q 115.4 235.7, 115.8 235.2 L 115.8 233.5 L 114.7 233.5 Q 113.4 233.5, 112.7 233.9 Q 112.1 234.3, 112.1 235.1 \" fill=\"#000000\"/>\n",
       "<path class=\"legend\" d=\"M 126.6 225.2 L 126.6 237.3 L 125.4 237.3 L 125.2 236.3 Q 124.3 237.4, 122.8 237.4 Q 121.1 237.4, 120.1 236.4 Q 119.2 235.3, 119.2 233.3 Q 119.2 231.3, 120.3 230.1 Q 121.4 228.9, 123.4 228.9 Q 124.2 228.9, 125.1 229.2 L 125.1 225.2 L 126.6 225.2 M 122.9 236.3 Q 123.7 236.3, 124.3 235.8 Q 124.9 235.3, 125.1 234.5 L 125.1 230.4 Q 124.3 230.1, 123.4 230.1 Q 122.2 230.1, 121.4 231.0 Q 120.7 231.8, 120.7 233.3 Q 120.7 234.7, 121.3 235.5 Q 121.8 236.3, 122.9 236.3 \" fill=\"#000000\"/>\n",
       "<path class=\"legend\" d=\"M 128.5 226.0 L 130.0 226.0 L 130.0 227.4 L 128.5 227.4 L 128.5 226.0 M 128.5 229.1 L 130.0 229.1 L 130.0 237.3 L 128.5 237.3 L 128.5 229.1 \" fill=\"#000000\"/>\n",
       "<path class=\"legend\" d=\"M 132.0 233.2 Q 132.0 231.2, 133.0 230.1 Q 134.0 228.9, 135.9 228.9 Q 137.7 228.9, 138.5 230.0 Q 139.3 231.1, 139.3 233.1 L 139.3 233.4 L 133.5 233.4 Q 133.6 234.8, 134.2 235.5 Q 134.8 236.3, 136.0 236.3 Q 136.6 236.3, 137.2 236.1 Q 137.8 235.9, 138.5 235.6 L 139.0 236.7 Q 138.2 237.1, 137.4 237.3 Q 136.7 237.4, 135.9 237.4 Q 134.1 237.4, 133.0 236.3 Q 132.0 235.2, 132.0 233.2 M 135.9 230.1 Q 134.9 230.1, 134.3 230.7 Q 133.8 231.2, 133.6 232.3 L 137.7 232.3 Q 137.6 231.2, 137.1 230.7 Q 136.7 230.1, 135.9 230.1 \" fill=\"#000000\"/>\n",
       "<path class=\"legend\" d=\"M 144.8 228.9 Q 146.1 228.9, 146.8 229.7 Q 147.5 230.4, 147.5 231.9 L 147.5 237.3 L 146.0 237.3 L 146.0 232.0 Q 146.0 231.0, 145.6 230.6 Q 145.3 230.1, 144.4 230.1 Q 143.7 230.1, 143.0 230.5 Q 142.4 230.8, 142.0 231.4 L 142.0 237.3 L 140.5 237.3 L 140.5 229.1 L 141.7 229.1 L 141.9 230.2 Q 143.0 228.9, 144.8 228.9 \" fill=\"#000000\"/>\n",
       "<path class=\"legend\" d=\"M 149.4 230.2 L 149.4 229.1 L 150.9 229.1 L 151.2 226.7 L 152.3 226.7 L 152.3 229.1 L 154.8 229.1 L 154.8 230.2 L 152.3 230.2 L 152.3 234.8 Q 152.3 236.2, 153.5 236.2 Q 154.0 236.2, 154.7 236.0 L 154.9 237.0 Q 154.1 237.4, 153.2 237.4 Q 152.2 237.4, 151.5 236.8 Q 150.8 236.1, 150.8 234.9 L 150.8 230.2 L 149.4 230.2 \" fill=\"#000000\"/>\n",
       "</svg>"
      ],
      "text/plain": [
       "<IPython.core.display.SVG object>"
      ]
     },
     "execution_count": 28,
     "metadata": {},
     "output_type": "execute_result"
    }
   ],
   "source": [
    "contribs_gradient = calc_contrib_gradient(smi, model, device=device)\n",
    "svg = visualize_contributions(smi, contribs_gradient, legend=\"Gradient\")\n",
    "SVG(svg)"
   ]
  },
  {
   "cell_type": "code",
   "execution_count": 29,
   "metadata": {},
   "outputs": [
    {
     "name": "stderr",
     "output_type": "stream",
     "text": [
      "/tmp/ipykernel_27836/1799110379.py:13: MatplotlibDeprecationWarning: The get_cmap function was deprecated in Matplotlib 3.7 and will be removed in 3.11. Use ``matplotlib.colormaps[name]`` or ``matplotlib.colormaps.get_cmap()`` or ``pyplot.get_cmap()`` instead.\n",
      "  cmap = cm.get_cmap(cmap)\n"
     ]
    },
    {
     "data": {
      "image/svg+xml": [
       "<svg xmlns=\"http://www.w3.org/2000/svg\" xmlns:rdkit=\"http://www.rdkit.org/xml\" xmlns:xlink=\"http://www.w3.org/1999/xlink\" version=\"1.1\" baseProfile=\"full\" xml:space=\"preserve\" width=\"250px\" height=\"250px\" viewBox=\"0 0 250 250\">\n",
       "<!-- END OF HEADER -->\n",
       "<rect style=\"opacity:1.0;fill:#FFFFFF;stroke:none\" width=\"250.0\" height=\"250.0\" x=\"0.0\" y=\"0.0\"> </rect>\n",
       "<path class=\"bond-0 atom-0 atom-1\" d=\"M 85.2,102.1 L 127.7,114.4 L 131.8,121.8 L 124.3,125.9 L 81.8,113.6 L 77.7,106.2 Z\" style=\"fill:#083B7BB2;fill-rule:evenodd;fill-opacity:0.7;stroke:#083B7BB2;stroke-width:0.0px;stroke-linecap:butt;stroke-linejoin:miter;stroke-opacity:0.7;\"/>\n",
       "<path class=\"bond-2 atom-0 atom-3\" d=\"M 25.4,84.9 L 73.6,98.8 L 77.7,106.2 L 70.3,110.3 L 22.1,96.4 Z\" style=\"fill:#08316CB2;fill-rule:evenodd;fill-opacity:0.7;stroke:#08316CB2;stroke-width:0.0px;stroke-linecap:butt;stroke-linejoin:miter;stroke-opacity:0.7;\"/>\n",
       "<path class=\"bond-3 atom-0 atom-4\" d=\"M 87.6,50.5 L 99.1,53.9 L 85.2,102.1 L 77.7,106.2 L 73.6,98.8 Z\" style=\"fill:#08326EB2;fill-rule:evenodd;fill-opacity:0.7;stroke:#08326EB2;stroke-width:0.0px;stroke-linecap:butt;stroke-linejoin:miter;stroke-opacity:0.7;\"/>\n",
       "<path class=\"bond-4 atom-0 atom-5\" d=\"M 77.7,106.2 L 81.8,113.6 L 67.9,161.9 L 56.4,158.5 L 70.3,110.3 Z\" style=\"fill:#08306BB2;fill-rule:evenodd;fill-opacity:0.7;stroke:#08306BB2;stroke-width:0.0px;stroke-linecap:butt;stroke-linejoin:miter;stroke-opacity:0.7;\"/>\n",
       "<path class=\"bond-1 atom-1 atom-2\" d=\"M 139.2,117.7 L 184.1,130.7 L 187.4,144.1 L 135.8,129.2 L 131.8,121.8 Z\" style=\"fill:#08336FB2;fill-rule:evenodd;fill-opacity:0.7;stroke:#08336FB2;stroke-width:0.0px;stroke-linecap:butt;stroke-linejoin:miter;stroke-opacity:0.7;\"/>\n",
       "<path class=\"bond-5 atom-1 atom-6\" d=\"M 131.8,121.8 L 135.8,129.2 L 121.9,177.5 L 110.4,174.1 L 124.3,125.9 Z\" style=\"fill:#083D7EB2;fill-rule:evenodd;fill-opacity:0.7;stroke:#083D7EB2;stroke-width:0.0px;stroke-linecap:butt;stroke-linejoin:miter;stroke-opacity:0.7;\"/>\n",
       "<path class=\"bond-6 atom-1 atom-7\" d=\"M 141.6,66.1 L 153.1,69.5 L 139.2,117.7 L 131.8,121.8 L 127.7,114.4 Z\" style=\"fill:#08306BB2;fill-rule:evenodd;fill-opacity:0.7;stroke:#08306BB2;stroke-width:0.0px;stroke-linecap:butt;stroke-linejoin:miter;stroke-opacity:0.7;\"/>\n",
       "<path class=\"bond-7 atom-2 atom-8\" d=\"M 222.1,94.1 L 230.4,102.7 L 187.4,144.1 L 184.1,130.7 Z\" style=\"fill:#084C96B2;fill-rule:evenodd;fill-opacity:0.7;stroke:#084C96B2;stroke-width:0.0px;stroke-linecap:butt;stroke-linejoin:miter;stroke-opacity:0.7;\"/>\n",
       "<ellipse cx=\"77.7\" cy=\"106.2\" rx=\"11.2\" ry=\"11.2\" class=\"atom-0\" style=\"fill:#EEF5FCB2;fill-rule:evenodd;stroke:#EEF5FCB2;stroke-width:1.0px;stroke-linecap:butt;stroke-linejoin:miter;stroke-opacity:1\"/>\n",
       "<ellipse cx=\"131.8\" cy=\"121.8\" rx=\"11.2\" ry=\"11.2\" class=\"atom-1\" style=\"fill:#E6F0F9B2;fill-rule:evenodd;stroke:#E6F0F9B2;stroke-width:1.0px;stroke-linecap:butt;stroke-linejoin:miter;stroke-opacity:1\"/>\n",
       "<ellipse cx=\"185.8\" cy=\"137.5\" rx=\"11.2\" ry=\"11.6\" class=\"atom-2\" style=\"fill:#E2EDF8B2;fill-rule:evenodd;stroke:#E2EDF8B2;stroke-width:1.0px;stroke-linecap:butt;stroke-linejoin:miter;stroke-opacity:1\"/>\n",
       "<ellipse cx=\"23.7\" cy=\"90.6\" rx=\"11.2\" ry=\"11.3\" class=\"atom-3\" style=\"fill:#F7FBFFB2;fill-rule:evenodd;stroke:#F7FBFFB2;stroke-width:1.0px;stroke-linecap:butt;stroke-linejoin:miter;stroke-opacity:1\"/>\n",
       "<ellipse cx=\"93.3\" cy=\"52.2\" rx=\"11.2\" ry=\"11.3\" class=\"atom-4\" style=\"fill:#F7FBFFB2;fill-rule:evenodd;stroke:#F7FBFFB2;stroke-width:1.0px;stroke-linecap:butt;stroke-linejoin:miter;stroke-opacity:1\"/>\n",
       "<ellipse cx=\"62.2\" cy=\"160.2\" rx=\"11.2\" ry=\"11.3\" class=\"atom-5\" style=\"fill:#F7FBFFB2;fill-rule:evenodd;stroke:#F7FBFFB2;stroke-width:1.0px;stroke-linecap:butt;stroke-linejoin:miter;stroke-opacity:1\"/>\n",
       "<ellipse cx=\"116.2\" cy=\"175.8\" rx=\"11.2\" ry=\"11.3\" class=\"atom-6\" style=\"fill:#F7FBFFB2;fill-rule:evenodd;stroke:#F7FBFFB2;stroke-width:1.0px;stroke-linecap:butt;stroke-linejoin:miter;stroke-opacity:1\"/>\n",
       "<ellipse cx=\"147.3\" cy=\"67.8\" rx=\"11.2\" ry=\"11.3\" class=\"atom-7\" style=\"fill:#F5F9FEB2;fill-rule:evenodd;stroke:#F5F9FEB2;stroke-width:1.0px;stroke-linecap:butt;stroke-linejoin:miter;stroke-opacity:1\"/>\n",
       "<ellipse cx=\"226.3\" cy=\"98.4\" rx=\"11.2\" ry=\"11.3\" class=\"atom-8\" style=\"fill:#F1F7FDB2;fill-rule:evenodd;stroke:#F1F7FDB2;stroke-width:1.0px;stroke-linecap:butt;stroke-linejoin:miter;stroke-opacity:1\"/>\n",
       "<path class=\"bond-0 atom-0 atom-1\" d=\"M 77.7,106.2 L 131.8,121.8\" style=\"fill:none;fill-rule:evenodd;stroke:#000000;stroke-width:2.0px;stroke-linecap:butt;stroke-linejoin:miter;stroke-opacity:1\"/>\n",
       "<path class=\"bond-1 atom-1 atom-2\" d=\"M 131.8,121.8 L 154.2,128.3\" style=\"fill:none;fill-rule:evenodd;stroke:#000000;stroke-width:2.0px;stroke-linecap:butt;stroke-linejoin:miter;stroke-opacity:1\"/>\n",
       "<path class=\"bond-1 atom-1 atom-2\" d=\"M 154.2,128.3 L 176.6,134.7\" style=\"fill:none;fill-rule:evenodd;stroke:#FF0000;stroke-width:2.0px;stroke-linecap:butt;stroke-linejoin:miter;stroke-opacity:1\"/>\n",
       "<path class=\"bond-2 atom-0 atom-3\" d=\"M 77.7,106.2 L 31.8,92.9\" style=\"fill:none;fill-rule:evenodd;stroke:#000000;stroke-width:2.0px;stroke-linecap:butt;stroke-linejoin:miter;stroke-opacity:1\"/>\n",
       "<path class=\"bond-3 atom-0 atom-4\" d=\"M 77.7,106.2 L 90.5,62.0\" style=\"fill:none;fill-rule:evenodd;stroke:#000000;stroke-width:2.0px;stroke-linecap:butt;stroke-linejoin:miter;stroke-opacity:1\"/>\n",
       "<path class=\"bond-4 atom-0 atom-5\" d=\"M 77.7,106.2 L 65.0,150.4\" style=\"fill:none;fill-rule:evenodd;stroke:#000000;stroke-width:2.0px;stroke-linecap:butt;stroke-linejoin:miter;stroke-opacity:1\"/>\n",
       "<path class=\"bond-5 atom-1 atom-6\" d=\"M 131.8,121.8 L 119.0,166.0\" style=\"fill:none;fill-rule:evenodd;stroke:#000000;stroke-width:2.0px;stroke-linecap:butt;stroke-linejoin:miter;stroke-opacity:1\"/>\n",
       "<path class=\"bond-6 atom-1 atom-7\" d=\"M 131.8,121.8 L 144.5,77.6\" style=\"fill:none;fill-rule:evenodd;stroke:#000000;stroke-width:2.0px;stroke-linecap:butt;stroke-linejoin:miter;stroke-opacity:1\"/>\n",
       "<path class=\"bond-7 atom-2 atom-8\" d=\"M 194.9,128.6 L 206.5,117.4\" style=\"fill:none;fill-rule:evenodd;stroke:#FF0000;stroke-width:2.0px;stroke-linecap:butt;stroke-linejoin:miter;stroke-opacity:1\"/>\n",
       "<path class=\"bond-7 atom-2 atom-8\" d=\"M 206.5,117.4 L 218.2,106.2\" style=\"fill:none;fill-rule:evenodd;stroke:#000000;stroke-width:2.0px;stroke-linecap:butt;stroke-linejoin:miter;stroke-opacity:1\"/>\n",
       "<path class=\"atom-2\" d=\"M 178.4 137.4 Q 178.4 133.6, 180.3 131.5 Q 182.2 129.3, 185.8 129.3 Q 189.3 129.3, 191.2 131.5 Q 193.1 133.6, 193.1 137.4 Q 193.1 141.3, 191.2 143.5 Q 189.2 145.7, 185.8 145.7 Q 182.2 145.7, 180.3 143.5 Q 178.4 141.3, 178.4 137.4 M 185.8 143.9 Q 188.2 143.9, 189.5 142.3 Q 190.8 140.6, 190.8 137.4 Q 190.8 134.3, 189.5 132.7 Q 188.2 131.1, 185.8 131.1 Q 183.3 131.1, 182.0 132.7 Q 180.7 134.3, 180.7 137.4 Q 180.7 140.6, 182.0 142.3 Q 183.3 143.9, 185.8 143.9 \" fill=\"#FF0000\"/>\n",
       "<path class=\"atom-3\" d=\"M 17.5 82.7 L 19.7 82.7 L 19.7 89.4 L 27.8 89.4 L 27.8 82.7 L 30.0 82.7 L 30.0 98.6 L 27.8 98.6 L 27.8 91.2 L 19.7 91.2 L 19.7 98.6 L 17.5 98.6 L 17.5 82.7 \" fill=\"#000000\"/>\n",
       "<path class=\"atom-4\" d=\"M 87.1 44.2 L 89.3 44.2 L 89.3 51.0 L 97.4 51.0 L 97.4 44.2 L 99.6 44.2 L 99.6 60.2 L 97.4 60.2 L 97.4 52.8 L 89.3 52.8 L 89.3 60.2 L 87.1 60.2 L 87.1 44.2 \" fill=\"#000000\"/>\n",
       "<path class=\"atom-5\" d=\"M 55.9 152.3 L 58.1 152.3 L 58.1 159.0 L 66.2 159.0 L 66.2 152.3 L 68.4 152.3 L 68.4 168.2 L 66.2 168.2 L 66.2 160.8 L 58.1 160.8 L 58.1 168.2 L 55.9 168.2 L 55.9 152.3 \" fill=\"#000000\"/>\n",
       "<path class=\"atom-6\" d=\"M 109.9 167.8 L 112.1 167.8 L 112.1 174.6 L 120.2 174.6 L 120.2 167.8 L 122.4 167.8 L 122.4 183.8 L 120.2 183.8 L 120.2 176.4 L 112.1 176.4 L 112.1 183.8 L 109.9 183.8 L 109.9 167.8 \" fill=\"#000000\"/>\n",
       "<path class=\"atom-7\" d=\"M 141.1 59.8 L 143.3 59.8 L 143.3 66.6 L 151.4 66.6 L 151.4 59.8 L 153.6 59.8 L 153.6 75.7 L 151.4 75.7 L 151.4 68.4 L 143.3 68.4 L 143.3 75.7 L 141.1 75.7 L 141.1 59.8 \" fill=\"#000000\"/>\n",
       "<path class=\"atom-8\" d=\"M 220.0 90.5 L 222.2 90.5 L 222.2 97.2 L 230.3 97.2 L 230.3 90.5 L 232.5 90.5 L 232.5 106.4 L 230.3 106.4 L 230.3 99.0 L 222.2 99.0 L 222.2 106.4 L 220.0 106.4 L 220.0 90.5 \" fill=\"#000000\"/>\n",
       "<path class=\"legend\" d=\"M 85.9 228.0 L 85.9 232.8 Q 84.2 233.7, 81.9 233.7 Q 79.4 233.7, 78.1 232.2 Q 76.8 230.7, 76.8 227.9 Q 76.8 225.1, 78.1 223.6 Q 79.4 222.1, 81.9 222.1 Q 83.2 222.1, 84.2 222.5 Q 85.1 222.9, 85.8 223.8 L 84.8 224.6 Q 83.7 223.4, 81.9 223.4 Q 80.2 223.4, 79.3 224.6 Q 78.4 225.7, 78.4 227.9 Q 78.4 230.1, 79.3 231.3 Q 80.3 232.4, 82.1 232.4 Q 83.3 232.4, 84.3 232.1 L 84.3 228.0 L 85.9 228.0 \" fill=\"#000000\"/>\n",
       "<path class=\"legend\" d=\"M 89.5 222.3 L 93.2 228.3 Q 93.6 228.8, 94.2 229.9 Q 94.8 231.0, 94.8 231.1 L 94.8 222.3 L 96.3 222.3 L 96.3 233.6 L 94.7 233.6 L 90.8 227.0 Q 90.3 226.3, 89.8 225.4 Q 89.3 224.5, 89.2 224.2 L 89.2 233.6 L 87.7 233.6 L 87.7 222.3 L 89.5 222.3 \" fill=\"#000000\"/>\n",
       "<path class=\"legend\" d=\"M 100.1 222.3 L 103.8 228.3 Q 104.1 228.8, 104.7 229.9 Q 105.3 231.0, 105.3 231.1 L 105.3 222.3 L 106.9 222.3 L 106.9 233.6 L 105.3 233.6 L 101.3 227.0 Q 100.9 226.3, 100.4 225.4 Q 99.9 224.5, 99.7 224.2 L 99.7 233.6 L 98.3 233.6 L 98.3 222.3 L 100.1 222.3 \" fill=\"#000000\"/>\n",
       "<path class=\"legend\" d=\"M 108.8 222.3 L 115.6 222.3 L 115.6 223.5 L 110.3 223.5 L 110.3 227.0 L 115.0 227.0 L 115.0 228.3 L 110.3 228.3 L 110.3 232.3 L 115.7 232.3 L 115.7 233.6 L 108.8 233.6 L 108.8 222.3 \" fill=\"#000000\"/>\n",
       "<path class=\"legend\" d=\"M 120.2 229.3 L 117.4 225.4 L 119.1 225.4 L 121.1 228.2 L 123.1 225.4 L 124.7 225.4 L 121.9 229.3 L 124.9 233.6 L 123.2 233.6 L 121.0 230.5 L 118.8 233.6 L 117.2 233.6 L 120.2 229.3 \" fill=\"#000000\"/>\n",
       "<path class=\"legend\" d=\"M 129.5 225.2 Q 131.2 225.2, 132.2 226.3 Q 133.1 227.3, 133.1 229.3 Q 133.1 231.4, 132.0 232.6 Q 130.9 233.7, 128.9 233.7 Q 128.0 233.7, 127.2 233.5 L 127.2 237.5 L 125.7 237.5 L 125.7 225.4 L 126.9 225.4 L 127.1 226.3 Q 127.5 225.8, 128.2 225.5 Q 128.8 225.2, 129.5 225.2 M 128.9 232.5 Q 130.2 232.5, 130.9 231.7 Q 131.6 230.8, 131.6 229.3 Q 131.6 227.9, 131.0 227.2 Q 130.5 226.4, 129.4 226.4 Q 128.6 226.4, 128.0 226.8 Q 127.5 227.3, 127.2 228.0 L 127.2 232.3 Q 128.0 232.5, 128.9 232.5 \" fill=\"#000000\"/>\n",
       "<path class=\"legend\" d=\"M 134.5 221.4 L 136.0 221.4 L 136.0 233.6 L 134.5 233.6 L 134.5 221.4 \" fill=\"#000000\"/>\n",
       "<path class=\"legend\" d=\"M 138.0 231.4 Q 138.0 230.0, 139.1 229.3 Q 140.1 228.6, 142.0 228.6 L 143.3 228.6 L 143.3 228.3 Q 143.3 227.3, 142.8 226.8 Q 142.4 226.4, 141.4 226.4 Q 140.7 226.4, 140.2 226.5 Q 139.7 226.6, 138.9 227.0 L 138.5 225.9 Q 140.0 225.2, 141.4 225.2 Q 143.2 225.2, 144.0 226.0 Q 144.8 226.7, 144.8 228.3 L 144.8 233.6 L 143.6 233.6 Q 143.6 233.5, 143.5 233.3 Q 143.5 233.0, 143.4 232.6 Q 142.2 233.8, 140.7 233.8 Q 139.5 233.8, 138.7 233.1 Q 138.0 232.5, 138.0 231.4 M 139.5 231.3 Q 139.5 231.9, 139.9 232.3 Q 140.3 232.6, 141.0 232.6 Q 141.6 232.6, 142.2 232.3 Q 142.8 232.0, 143.3 231.5 L 143.3 229.7 L 142.1 229.7 Q 140.8 229.7, 140.2 230.1 Q 139.5 230.5, 139.5 231.3 \" fill=\"#000000\"/>\n",
       "<path class=\"legend\" d=\"M 146.6 222.3 L 148.1 222.3 L 148.1 223.6 L 146.6 223.6 L 146.6 222.3 M 146.6 225.4 L 148.1 225.4 L 148.1 233.6 L 146.6 233.6 L 146.6 225.4 \" fill=\"#000000\"/>\n",
       "<path class=\"legend\" d=\"M 154.4 225.2 Q 155.7 225.2, 156.4 226.0 Q 157.1 226.7, 157.1 228.1 L 157.1 233.6 L 155.6 233.6 L 155.6 228.3 Q 155.6 227.3, 155.2 226.8 Q 154.9 226.4, 154.0 226.4 Q 153.3 226.4, 152.7 226.7 Q 152.0 227.1, 151.6 227.7 L 151.6 233.6 L 150.1 233.6 L 150.1 225.4 L 151.4 225.4 L 151.5 226.5 Q 152.6 225.2, 154.4 225.2 \" fill=\"#000000\"/>\n",
       "<path class=\"legend\" d=\"M 159.0 229.5 Q 159.0 227.4, 160.0 226.3 Q 161.0 225.2, 162.9 225.2 Q 164.7 225.2, 165.5 226.3 Q 166.3 227.4, 166.3 229.4 L 166.3 229.7 L 160.5 229.7 Q 160.6 231.1, 161.2 231.8 Q 161.8 232.5, 163.0 232.5 Q 163.6 232.5, 164.2 232.4 Q 164.8 232.2, 165.5 231.9 L 166.0 232.9 Q 165.1 233.3, 164.4 233.5 Q 163.7 233.7, 162.9 233.7 Q 161.0 233.7, 160.0 232.6 Q 159.0 231.5, 159.0 229.5 M 162.9 226.4 Q 161.9 226.4, 161.3 226.9 Q 160.8 227.5, 160.6 228.5 L 164.7 228.5 Q 164.6 227.4, 164.1 226.9 Q 163.7 226.4, 162.9 226.4 \" fill=\"#000000\"/>\n",
       "<path class=\"legend\" d=\"M 168.7 225.4 L 168.9 226.5 Q 169.8 225.2, 171.2 225.2 Q 171.6 225.2, 172.2 225.4 L 172.0 226.7 Q 171.3 226.6, 170.9 226.6 Q 170.3 226.6, 169.8 226.8 Q 169.4 227.1, 169.0 227.7 L 169.0 233.6 L 167.5 233.6 L 167.5 225.4 L 168.7 225.4 \" fill=\"#000000\"/>\n",
       "</svg>"
      ],
      "text/plain": [
       "<IPython.core.display.SVG object>"
      ]
     },
     "execution_count": 29,
     "metadata": {},
     "output_type": "execute_result"
    }
   ],
   "source": [
    "contribs_explainer = calc_contrib_explainer(\n",
    "    smi, model, device=device, explainer_epochs=200\n",
    ")\n",
    "svg = visualize_contributions(\n",
    "    smi, contribs_explainer, cmap=\"Blues\", legend=\"GNNExplainer\"\n",
    ")\n",
    "SVG(svg)"
   ]
  },
  {
   "cell_type": "code",
   "execution_count": null,
   "metadata": {},
   "outputs": [],
   "source": []
  }
 ],
 "metadata": {
  "kernelspec": {
   "display_name": "torch",
   "language": "python",
   "name": "python3"
  },
  "language_info": {
   "codemirror_mode": {
    "name": "ipython",
    "version": 3
   },
   "file_extension": ".py",
   "mimetype": "text/x-python",
   "name": "python",
   "nbconvert_exporter": "python",
   "pygments_lexer": "ipython3",
   "version": "3.10.16"
  }
 },
 "nbformat": 4,
 "nbformat_minor": 2
}
