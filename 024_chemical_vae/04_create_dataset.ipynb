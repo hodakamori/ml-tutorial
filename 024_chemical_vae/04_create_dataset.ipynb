{
 "nbformat": 4,
 "nbformat_minor": 0,
 "metadata": {
  "colab": {
   "provenance": []
  },
  "kernelspec": {
   "name": "python3",
   "display_name": "Python 3"
  },
  "language_info": {
   "name": "python"
  }
 },
 "cells": [
  {
   "cell_type": "code",
   "source": [
    "import pandas as pd\n",
    "import torch\n",
    "from torch.utils.data import Dataset, DataLoader, random_split\n",
    "import numpy as np"
   ],
   "metadata": {
    "id": "54hcS7b8sKCa"
   },
   "execution_count": 7,
   "outputs": []
  },
  {
   "cell_type": "code",
   "execution_count": 21,
   "metadata": {
    "id": "KrKFpPfIprpX"
   },
   "outputs": [],
   "source": [
    "def one_hot_encode_smiles(smiles, charset, max_length=120):\n",
    "    char_to_int = dict((c, i) for i, c in enumerate(charset))\n",
    "    integer_encoded = [char_to_int[char] for char in smiles]\n",
    "    if len(integer_encoded) > max_length:\n",
    "        integer_encoded = integer_encoded[:max_length]\n",
    "    else:\n",
    "        integer_encoded = integer_encoded + [0] * (max_length - len(integer_encoded))\n",
    "    onehot_encoded = np.zeros((max_length, len(charset)), dtype=np.float32)\n",
    "    for i, val in enumerate(integer_encoded):\n",
    "        onehot_encoded[i, val] = 1.0\n",
    "\n",
    "    return onehot_encoded\n",
    "\n",
    "\n",
    "class SMILESDataset(Dataset):\n",
    "    def __init__(self, smiles_list, charset):\n",
    "        self.smiles_list = smiles_list\n",
    "        self.charset = charset\n",
    "\n",
    "    def __len__(self):\n",
    "        return len(self.smiles_list)\n",
    "\n",
    "    def __getitem__(self, idx):\n",
    "        smiles = self.smiles_list[idx]\n",
    "        encoded_smiles = one_hot_encode_smiles(smiles, self.charset)\n",
    "        return torch.FloatTensor(encoded_smiles), smiles"
   ]
  },
  {
   "cell_type": "markdown",
   "source": [
    "- __init__: インスタンス生成時に実行されるメソッド\n",
    "- __len__: データセットの長さを返す。len()を呼び出した際の挙動に対応。\n",
    "- __getitem__: 指定されたインデックスのデータを返します。[0]などでアクセスした際の挙動に対応。"
   ],
   "metadata": {
    "id": "sX4uv5JEvhvb"
   }
  },
  {
   "cell_type": "code",
   "source": [
    "df = pd.read_csv(\"250k_rndm_zinc_drugs_clean_3.csv\")\n",
    "df[\"smiles\"] = df[\"smiles\"].str.rstrip(\"\\n\")\n",
    "charset = set(\"\".join(df[\"smiles\"].values.tolist()))\n",
    "\n",
    "dataset = SMILESDataset(df[\"smiles\"].values.tolist(), charset)"
   ],
   "metadata": {
    "id": "00QxAIbmtMH9"
   },
   "execution_count": 22,
   "outputs": []
  },
  {
   "cell_type": "code",
   "source": [
    "dataset[0]"
   ],
   "metadata": {
    "colab": {
     "base_uri": "https://localhost:8080/"
    },
    "id": "pAZ6hkPVvzXP",
    "outputId": "6e8321fe-fed0-475d-aa18-4ce46b6d6b00"
   },
   "execution_count": 35,
   "outputs": [
    {
     "output_type": "execute_result",
     "data": {
      "text/plain": [
       "(tensor([[0., 0., 0.,  ..., 0., 0., 0.],\n",
       "         [0., 0., 0.,  ..., 0., 0., 0.],\n",
       "         [0., 0., 0.,  ..., 0., 0., 0.],\n",
       "         ...,\n",
       "         [1., 0., 0.,  ..., 0., 0., 0.],\n",
       "         [1., 0., 0.,  ..., 0., 0., 0.],\n",
       "         [1., 0., 0.,  ..., 0., 0., 0.]]),\n",
       " 'CC(C)(C)c1ccc2occ(CC(=O)Nc3ccccc3F)c2c1')"
      ]
     },
     "metadata": {},
     "execution_count": 35
    }
   ]
  },
  {
   "cell_type": "code",
   "source": [
    "len(dataset), len(df)"
   ],
   "metadata": {
    "colab": {
     "base_uri": "https://localhost:8080/"
    },
    "id": "Au-rEejmv4mt",
    "outputId": "a796586f-b729-42e6-9a0e-fae714fc24da"
   },
   "execution_count": 37,
   "outputs": [
    {
     "output_type": "execute_result",
     "data": {
      "text/plain": [
       "(249455, 249455)"
      ]
     },
     "metadata": {},
     "execution_count": 37
    }
   ]
  },
  {
   "cell_type": "code",
   "source": [
    "test_ratio = 0.2\n",
    "\n",
    "test_size = int(test_ratio * len(dataset))\n",
    "train_size = len(dataset) - test_size\n",
    "train_dataset, test_dataset = random_split(dataset, [train_size, test_size])"
   ],
   "metadata": {
    "id": "B59tc388sgqL"
   },
   "execution_count": 24,
   "outputs": []
  },
  {
   "cell_type": "code",
   "source": [
    "len(train_dataset), len(test_dataset)"
   ],
   "metadata": {
    "colab": {
     "base_uri": "https://localhost:8080/"
    },
    "id": "yTJgq5gzs9Dz",
    "outputId": "4604b82a-9056-4331-c777-84e6f20d25a1"
   },
   "execution_count": 25,
   "outputs": [
    {
     "output_type": "execute_result",
     "data": {
      "text/plain": [
       "(199564, 49891)"
      ]
     },
     "metadata": {},
     "execution_count": 25
    }
   ]
  },
  {
   "cell_type": "code",
   "source": [
    "train_loader = torch.utils.data.DataLoader(train_dataset, batch_size=250, shuffle=True)"
   ],
   "metadata": {
    "id": "Zia-xN7zs-p5"
   },
   "execution_count": 26,
   "outputs": []
  },
  {
   "cell_type": "code",
   "source": [
    "for batch_idx, (data, smiles_list) in enumerate(train_loader):\n",
    "    print(f\"Batch {batch_idx}: data shape {data.shape}\")\n",
    "    if batch_idx == 0:\n",
    "        print(smiles_list)\n",
    "        break"
   ],
   "metadata": {
    "colab": {
     "base_uri": "https://localhost:8080/"
    },
    "id": "4dFszue9tT6U",
    "outputId": "50e31ebd-6749-4f1f-d87a-f0c82f5342e8"
   },
   "execution_count": 34,
   "outputs": [
    {
     "output_type": "stream",
     "name": "stdout",
     "text": [
      "Batch 0: data shape torch.Size([250, 120, 34])\n",
      "('C[C@@H]1CCCCN1C(=O)c1cc(C(F)(F)F)nn1C', 'Cc1nc(-c2cc(S(=O)(=O)Nc3ccc(Cl)cc3)c(C)s2)sc1C', 'Cc1ccncc1NC(=O)N[C@H]1CCC[C@H]1CNC(=O)OC(C)(C)C', 'CC[C@H](C)NC(=O)N1CCc2ccc([N+](=O)[O-])cc2C1', 'C[C@@H](C(=O)[O-])N1C(=O)/C(=C/c2ccc(N(C)C)cc2)SC1=S', 'Cc1nc(CNC(=O)c2cc(NC(=O)C(C)(C)C)ccc2F)oc1C', 'O=S(=O)(c1ccccc1C(F)(F)F)N1CCN(c2cccc(Cl)c2)CC1', 'CC(C)CN1C[C@H](C(=O)N2CCn3c(C(N)=O)cnc3C2)CC1=O', 'Cc1ccc(C)c(NC(=O)CCCOc2ccc(Cl)cc2)c1', 'Cc1ccc(CNC(=O)NC2CC[NH+](C)CC2)c(OC[C@@H]2CCOC2)c1', 'O=C(CCS(=O)(=O)c1ccc(Cl)cc1)Nc1cc(Cl)cc(Cl)c1', 'C[C@H](N[C@H](C)C(=O)N(C)C)c1cc(F)ccc1O', 'CCCCn1c(N)c(N(Cc2ccccc2)C(=O)c2ccc(Cl)c(Cl)c2)c(=O)[nH]c1=O', 'CCc1nnc(NS(=O)(=O)c2ccc3ccccc3c2)s1', 'CC(=O)N1CCC[C@@H]2[C@H]1[C@@H](c1ccc(F)cc1)CN2C(=O)c1cc(C(C)C)n[nH]1', 'O=C(NCC(F)(F)F)C(=O)NCC1(O)CCCC1', 'CC[C@H]1CC[C@H](c2noc([C@](C)(N)C(F)(F)F)n2)C1', 'CCOC(=O)c1csc(NC(=O)/C=C(/C)c2ccccc2OC)n1', 'C[C@@H]1COC[C@@H](C)N1C(=O)c1cc(-c2ccc(Cl)s2)on1', 'COC(=O)[C@@H](C)NC(=O)NCc1cccn1Cc1cccc(C)c1', 'CCCn1nc(C(=O)NC2CCCCCC2)c2ccccc2c1=O', 'CC(=O)c1ccc(OC(=O)c2cc([N+](=O)[O-])ccc2C)cc1', 'CN1C(=O)C[C@@H](CNC(=O)[C@@H]2C=c3ccccc3=[NH+]2)N(C)C1=O', 'C[NH2+]Cc1ccc(-c2cc(Cl)ccc2Cl)s1', 'O=C(Nc1nc2c(s1)CN(C(=O)COc1ccccc1F)CC2)c1ccco1', 'CC1(C)CN(Cc2c[nH]nc2-c2cccc(Cl)c2)CC[S@]1=O', 'Cc1ccc(CC[C@H]2NC(=O)c3ccccc3O2)o1', 'CC[C@H](C)NC(=O)C[C@@H]1Sc2ncccc2N(C)C1=O', 'C/[NH+]=C(/NCC1(c2ccc(F)cc2)CCOCC1)N[C@H]1C[C@@H]1C', 'COc1ccc(-c2nc(C(=O)Oc3ccc(C)cc3OC)cs2)cc1', 'CCCNc1nc([C@@H]2CN3CCN2CC3)[nH+]c(C)c1C', 'O[C@@H]1C[C@H](CNCc2cnn(-c3ccccc3)c2)[NH+](Cc2ccccc2)C1', 'Cn1cnnc1S[C@@H]1CCC[C@]([NH3+])(C(=O)[O-])C1', 'Cc1ccc([C@@H](C)Nc2nn(C)c(=O)n(C)c2=O)cc1F', 'CC(=O)N1Cc2ccccc2C[C@@H]1C(=O)Nc1ccc(Cn2ccnc2C)cc1', 'C#CCOc1ccc(/C=N/NC2=NC(=O)CS2)cc1OC', 'Cc1cc(C)cc(NC(=O)[C@H](Cc2ccccc2)NS(=O)(=O)c2ccc3c(c2)oc(=O)n3C)c1', 'COc1ccccc1[C@H](C)NC(=O)CN1CCc2c(F)ccc(F)c2C1', 'CC(C)(C)OC(=O)NC1(CNS(C)(=O)=O)CCCCC1', 'CCCC(=O)Nc1cccc(NC(=O)c2ccc(Cn3ccnc3)cc2)c1', 'Cc1nn2cc(C(=O)NCCNC(=O)CC(C)C)nc2s1', 'CCCn1cc(NC(=O)[C@H](NC(C)=O)C(C)C)cn1', 'CC[NH2+][C@@]1(C(=O)[O-])CC[C@@H](N(C)Cc2[nH+]ccn2C)C1', 'Cc1cc(OCC(N)=O)cc2c1C(=O)/C(=C/c1cccc([N+](=O)[O-])c1)O2', 'COC(=O)[C@]1(F)CCN(C(=O)[C@H](C)Oc2cccc(C(C)C)c2)C1', 'Cc1cc(=O)c2ccccc2n1CC(=O)N1CCOC[C@H](CO)C1', 'Cc1ncnc(OCCC(=O)[O-])c1C', 'N#Cc1cccnc1N1CCN(c2cccc[nH+]2)CC1', 'Cc1nc2cc(C(=O)NCCN3CCOCC3)ccc2n1-c1ccc(F)cc1F', 'N[C@H](Cc1nc2ccccc2s1)[C@H]1C[NH+]2CCN1CC2', 'O=C(NNc1cccc(F)c1)c1cccnc1OCC(F)F', 'CCc1ccsc1CNC(=O)N1CCN(C[C@H]2CCCC[NH+]2C)CC1', 'COc1ccccc1[C@H](NC(=O)N[C@@H](C)Cn1cc[nH+]c1)c1nccn1C', 'C[C@@H]1C[C@H](N(C)Cc2cnc(C3CCCC3)s2)CC[NH+]1C', 'CCS(=O)(=O)/N=c1/[nH]c(C)c(C(=O)[O-])s1', 'CC(C)c1cc(C(=O)NC[C@](C)(O)c2ccco2)c2ccccc2n1', 'COC[C@H](NC(=O)C1(c2ccc(C)c(OC)c2)CCCC1)C(N)=O', 'CCc1ccccc1NC(=O)C(=O)NCCCc1n[nH]c(N)c1C#N', 'Cc1ccc(C(=O)N2CCC(OC[C@@H]3CCCO3)CC2)c(O)c1', 'CCCN[C@H](c1cccc(Cl)c1)[C@H]1C[NH+](C)CCN1C', 'O=C(NCc1csc(C2CC2)n1)N1CCC[C@H]1c1ccccc1Cl', 'Cc1ccc(-c2ncco2)cc1NC(=O)Cc1ccccc1C(F)(F)F', 'CS(=O)(=O)N1CC[C@@H](C[NH2+]Cc2cc(F)ccc2Br)C1', 'COc1cc2c(Cc3ccccc3)cncc2cc1O', 'C[C@@H](CCCO)[NH2+]Cc1cccc(Cl)c1', 'CCCOc1ccc(/C=N/c2c(C)n[nH]c2C)cc1OCC', 'COc1cc(CN2CCc3c(nc(N4CCCCC4)[nH]c3=O)C2)ccc1O', 'Cc1ccc(NC(=O)CCSc2nc3ccccc3n2S(=O)(=O)c2ccccc2)cc1', 'CCOc1ncccc1C(=O)NC[C@H]1Cc2ccccc2O1', 'CC(=O)Oc1ccc([C@H]2C(C(=O)OC(C)C)=C(C)NC3=C2C(=O)C[C@H](c2cccs2)C3)cc1', 'Cc1csc(Nc2cccc([C@@H]3CCCN3C(=O)c3cc4c([nH]c3=O)CCCCC4)n2)n1', 'C[C@@H](c1ccco1)[NH+](C)CC(=O)NCC1(c2ccccc2)CC1', 'CC(C)NC(=O)c1ccc(-c2ccsc2)nc1', 'O=C(C[NH+]1CCC[C@H]1C(=O)NC1CC1)NCc1cccc(Cl)c1', 'CCN(CC)C(=O)COc1ccc(NC(=O)Nc2cc(C)nn2C)cc1Cl', 'COc1ccc2c(c1OC)C(=O)N(c1ccccc1Cl)C2', 'Cc1cccc(N2CCN(S(=O)(=O)c3cc(-c4nc(C)c(C)s4)sc3C)CC2)c1C', 'O=[N+]([O-])c1cc(-c2nc(-c3ccc(-n4cccc4)cc3)no2)ccc1Cl', 'Nc1nc(-c2ccc3[nH]c(=O)[nH]c3c2)cs1', 'CC(C)(C)C[C@H](CO)NC(=O)C(=O)Nc1nn(C(C)(C)C)cc1C#N', 'COc1cc(/C=N/NC(=O)[C@@H](OC)c2ccccc2)cc(Br)c1OC', 'C/C(NCCCCN/C(C)=C1/C(=O)C[C@@H]2[C@H]1C2(C)C)=C1\\\\C(=O)C[C@@H]2[C@H]1C2(C)C', '[NH3+][C@@H](c1ccc(F)cc1F)c1c(F)cc(Br)cc1F', 'C[C@@H]1CCN(C(=O)C2CC=CC2)C[C@@H]1O', 'C[NH+]1[C@H]2CC[C@@H]1CN(Cc1csc(CC(=O)Nc3ccccc3)n1)CC2', 'C[C@H](CCc1ccccc1)NC(=O)/C=C/c1ccc([N+](=O)[O-])cc1', 'C(=[NH+]\\\\C1=NN(c2ccccc2)CC1)\\\\N1CCCCC1', 'CCCc1ccc(NS(=O)(=O)c2ccc(Br)cc2)cc1', 'Cc1cnn(CCNC(=O)[C@@H]2CCC(=O)N(C3CC3)C2)c1', 'C[C@@H]([C@H]1[C@H]([C@@H](C)[S@@](C)(=O)=S)C(C)(C)N(O)C1(C)C)[S@@](C)(=O)=S', 'Cc1ccc(O)c(S(=O)(=O)Nc2ccc(C(N)=O)cc2)c1', 'Cc1ccc(CC(=O)NNC(=O)c2ccc(C#N)cc2)s1', 'CCC[C@@H](C)NC(=O)[C@@H](C)[NH+]1CCCN(C(=O)CC)CC1', 'CCOC(=O)c1cnn([C@@H]2CCCN(C(=O)[C@@H]3CCCc4[nH]ncc43)C2)c1', 'Cc1nn(-c2ccc([O-])nn2)c2c1[C@H](c1ccc(-c3ccccc3F)o1)CC(O)=N2', 'CC1(C)CCC[C@H]1NC(=O)C(=O)Nc1nnc(C(F)(F)F)s1', 'CC(C)C(=O)N(Cc1cccc(C(F)(F)F)c1)C[C@H]1CC(c2ccc(Cl)o2)=NO1', 'Cc1occc1C(=O)NCC(=O)N[C@@H](c1ccccc1)C(C)(C)C', 'C[C@H](Oc1ccc2c(c1)OCO2)C(=O)Nc1cc(Cl)cc(Cl)c1', 'Cc1[nH]ncc1C(=O)N[C@H](c1ccc(F)cc1)C(C)(C)C', 'C[C@@H](Sc1nc2ncccn2n1)C(=O)NC(=O)NCc1ccccc1', 'COc1ccc([C@H](O)[C@H](C)NC(=O)[C@@H]2CCC[NH+]2C2CCOCC2)cc1', 'CCOCCN(C)C(=O)CCNC(=O)N1CCc2ccccc2C1', 'Cc1cc(NC(=O)C[NH+]2CCN(C(=O)c3ccccc3F)CC2)n([C@@H]2CCS(=O)(=O)C2)n1', 'C[C@@H](NC(=O)Nc1cc(C(F)(F)F)ccc1F)c1ccc(C#N)cc1', '[NH3+][C@H]1CC[C@H](Nc2ccccc2-n2ccnc2)C1', 'COc1ccc(-c2noc(-c3nnn(-c4cccc(OC)c4)c3C)n2)cc1', 'Cc1cnn(CCC(=O)N2CCC[C@@H](n3cc(C)cn3)C2)c1', 'Cn1cc(CCC(=O)N2CCC[C@H](n3cncn3)C2)cn1', 'Cc1n[nH]c2ncc(NC(=O)NCc3ccnc(OCC4CC4)c3)cc12', 'CCCCOc1ccc([C@@H]2C(C#N)=C(N)Oc3[nH]nc(C)c32)cc1', 'CCCNc1ccc(Cl)cc1C(=O)N[C@H]1CCCC1(C)C', 'CCC(=O)N1CCC[C@H]1c1ccc(C(=O)N=c2[nH]c3ccccc3[nH]2)s1', 'Cc1cccc2c(CCNC(=O)/C=C/C3CC3)c[nH]c12', 'Cn1cc([C@H]2SCC(O)=Nc3ncn(-c4ccc(F)cc4)c32)cn1', 'O=C(CN1CCN(C(=O)C2CC2)CC1)Nc1ccccc1C(=O)Nc1ccc(F)cc1', 'CCC(=O)Nc1ccc(C(=O)CSc2nc3nc(C)cc(C)n3n2)cc1', 'CC(C)CN(C(=O)CN1CCO[C@@H](c2ccc(F)cc2)C1)C1CC1', 'O=C(NCc1ccccc1)C1CCN(S(=O)(=O)c2ccc3ccccc3c2)CC1', 'COc1ccc2c(c1)C=C[C@@H]1N2[C@H](C(C)=O)[C@H](C(=O)c2ccc(Cl)cc2)[C@]12C(=O)Nc1ccccc12', 'O=C(NCc1ccco1)C(=O)Nc1nc(-c2ccccc2)cs1', 'C[NH2+][C@@H](Cc1ccc(C)c(C)c1)c1ncc(Cl)cc1Cl', 'C[C@@H](CO)NC(=O)N[C@H](c1ccccc1)c1ccco1', 'O=C(Cn1nc(-c2ccco2)ccc1=O)Nc1cccc2ccccc12', 'COC(OC)[C@@](C)(C[NH3+])N(C)Cc1cccc(C)n1', 'CC(C)(C)N1C(=O)/C(=C/c2ccc(C(=O)[O-])cc2)SC1=S', 'CCOC(=O)c1cccc(NC(=O)N2C[C@H](O)C[C@H]2C2CCCCC2)c1', 'CC(C)(C)c1ccc(NC(=O)NC[C@@](C)(O)C2CC2)cc1', 'CC[C@@H](CSC)N(C)C(=O)c1ccc(-c2ccccc2)[nH]c1=O', 'CC(C)CN(C)CN1C(=O)C(=O)N(C23CC4CC(CC(C4)C2)C3)C1=O', 'CCOC(=O)[C@](C)(CCN1C[C@@H]2CCC[NH+]2C[C@@H]1C)[NH2+]C', 'COC(=O)C[C@H](NC(=O)N[C@@H]1CCCCC1(C)C)C(=O)[O-]', 'CCn1cc[nH+]c1C[C@@](C)(N)c1ccccc1Br', 'CC(=O)N(C)c1ccc(NCC(=O)Nc2cc(C)cc(C)c2)cc1', 'C[C@H](OC(=O)c1cccnc1)C(=O)NC[C@H](C)c1ccccc1', 'CCc1nn(C)cc1C(=O)Nc1cc(CCOC)nn1C', 'CN(CCOCC[NH3+])[C@H]1CCS(=O)(=O)C1', 'CCc1noc(C)c1C(=O)N(C)Cc1cc(Cl)cc(Cl)c1', 'CC(C)[S@](=O)c1ccc(C(=O)N2CC[C@H](C)[C@H]3CCCC[C@@H]32)cc1', 'CC(C)NS(=O)(=O)c1cc(C(=O)N(C)[C@@H]2CCC[C@H](C)C2)ccc1F', 'COc1ccsc1C(=O)NC[C@H](O)c1ccc(Cl)s1', 'Nc1cc[nH+]c(CN2C(=O)CCc3ccc(F)cc32)c1', 'CCn1cc[nH+]c1CC(=O)CCCCl', 'CCOCC(=O)NNC(=O)[C@@H]1C[C@@H]1c1cccc(F)c1F', 'CC[C@H]1CCCCN1C(=O)[C@@H](C)OC(=O)c1cncc(C)c1', 'Cc1cc(C)cc(-n2ccnc2SC/C([O-])=N/S(=O)(=O)c2cccc3ncccc23)c1', 'CC1(C)CN(c2nc3ccccc3s2)CC[S@]1=O', 'COC(=O)c1cnc(Cl)cc1N', 'CC[C@@H](NC(=O)N[C@H](C)c1cccc(-n2cccn2)c1)c1nccs1', 'CC[C@@H]1COCCN1c1ccc([N+](=O)[O-])c(C)c1', 'O=C(Nc1ccc2c(c1)COC2)N[C@H](c1ccccc1)c1ccco1', 'COCc1ccc(CNC(=O)c2ccc(CS(C)(=O)=O)cc2)cc1', 'C[C@@H]1CN(C[C@@H]2CCC[NH+]2Cc2cccc(O)c2)C[C@@H](C)O1', 'CN(C(=O)c1csnn1)C1CCC([NH3+])CC1', 'CS[C@@H](C)C(=O)NC(C)(C)c1ccc(F)cc1Cl', 'CCn1cc(C(=O)NCc2ccc(C)cc2)c(S(=O)(=O)N2CCC(C)CC2)n1', 'COc1ccc(/C=C2\\\\N=C(c3ccc(OC(F)F)cc3)OC2=O)cc1', 'CCCN(Cc1ccccc1O)C(=O)c1nc(C2CC2)n2ccccc12', 'CC[C@@H](CNC(C)=C1C(=O)NC(=S)NC1=O)c1ccccc1', 'CCCC[C@@H](CC)[C@H]1OC[C@@H](C[NH+]2CCCCC2)O1', 'COC(=O)c1ccc(CS[C@@H]2N=[NH+][C@H](c3ccccc3OC)N2)o1', 'CC(C)Oc1ccc(C(=O)Nc2c3c(nn2-c2cccc(Cl)c2)CS(=O)(=O)C3)cc1', 'Cc1cc(F)cc(N[C@@H]2CCC[C@@H]2S(C)(=O)=O)c1', 'CCCn1nccc1CNc1ccc(C)cc1', 'Nc1ccc2c(c1)CC[C@H]2[NH2+]CCC1CCCC1', 'Cc1ccc(C(=O)Nc2cccc(OC[C@@H]3CCCO3)c2)s1', 'C/C=C/C[S@@](=O)CCC(=O)N[C@@H](C)c1ccccc1', 'Cc1ccc(NC(=O)C[NH+](C[C@H]2CCCO2)C[C@H]2CCCO2)c(Cl)c1', 'CCS(=O)(=O)C[C@@H](C)[NH2+][C@H](C)c1c(C)nn(C)c1C', 'COC(=O)[C@H]1C[C@H]2CCCC[C@H]2N1S(=O)(=O)c1cn(C)c(=O)n(C)c1=O', 'CC(=O)Nc1cccc(NC(=O)N[C@H](C(=O)[O-])C(C)C)c1', 'CSCC[C@@H](C)[NH2+][C@H](C(N)=O)c1ccccc1', 'Nc1c(C(=O)NC(=O)c2ccccc2)cnn1-c1ccccc1', 'CCc1nn(C)cc1NC(=O)C(=O)N[C@H]1CCCC[C@H]1CO', 'Cc1cc(N[C@@H](C)C(=O)NCc2ccccc2)nc(-c2ccncc2)n1', 'CC(C)(CO)NC(=O)Nc1cccc(-c2nnco2)c1', 'C[C@H](CC(F)(F)F)N[C@H](C)c1nc(-c2ccccc2)cs1', 'Cc1[nH]c2ccc(F)cc2c1CC(=O)N(C)c1ccc(S(C)(=O)=O)cc1', 'C[C@H](CNC(=O)/C=C/C1CC1)Oc1ccc(Cl)cc1', 'COc1nn(C)cc1C(=O)NCc1cc(-c2ccc(F)cc2)on1', 'Cc1cc(NC(=O)N[C@H]2C[C@H]3CCCc4cccc2c43)c[nH]c1=O', 'COc1cc(OC)cc(C(=O)N2CCc3nc(NC(=O)c4ccccn4)sc3C2)c1', 'Cc1ncc(Cl)c(C(=O)N[C@H]2CC[C@H]([NH+](C)C)C2)n1', 'Cc1ccc(-n2cnnc2S(=O)(=O)Cc2ccccc2C)cc1Cl', 'CC(=O)C1=C(Sc2ccc(C)cc2)CS(=O)(=O)/C1=C/N(C)C', 'O=C(c1ccc([N+](=O)[O-])o1)N1CCC(Cc2ccccc2)CC1', 'COc1ccc([C@@H](C)NC(=O)N(C)[C@H](C)c2ccccc2)cc1OC', 'COc1ccc2c(c1)C=C(C(=O)NC[C@@H]1CCO[C@@H]1c1ccccc1)CO2', 'c1ccc(-n2ncc3c2ncn2c(Cc4cccc5ccccc45)nnc32)cc1', 'Cc1csc(-c2cccc(CN/C([O-])=N/S(=O)(=O)c3ccccc3)c2)n1', 'CC[C@@H](CC(=O)N1CCN(C(=O)c2cccnc2)CC1)c1ccc(C)cc1', 'Cc1cc(C)c(-c2cc(NC(=O)CSc3nc(C4CC4)n[nH]3)n(-c3ccccc3)n2)cc1C', 'Nc1nnc(CCNC(=O)Cc2ccc(Cl)cc2)s1', 'Cc1ccc(N2C[C@@H](C(=O)NC[C@@H](c3ccccc3Cl)N3CCOCC3)CC2=O)cc1', 'CC(C)c1nnc(NC(=O)CCC(=O)N2CCN(Cc3ccccc3)CC2)s1', 'CS[C@@H](C)C(=O)N1C[C@H](O)C[C@@H]1c1cc(F)ccc1F', 'CCC[C@H]1C[C@@]2(CC[NH2+]C[C@@H]2CCC)CCO1', 'Clc1cccc([C@@H]2C[NH2+]CC[C@]23CCCOCC3)c1', 'C[C@H](N(C)C(=O)N[C@@H](c1ccc(Cl)cc1)c1ncon1)C1(C)CC1', '[NH3+]CC1CCN(C(=O)Cc2ccc(F)c(F)c2)CC1', 'CC1(C)[C@@H]2CC[C@@]1(C)/C(=N/OC(=O)COc1ccccc1)C2', 'O=C(Cc1cc(-c2ccccc2)no1)Nc1sc2c(c1C(=O)NCc1ccccc1)CCCC2', 'CCOc1ccc(F)c(C(=O)Nc2ccc(CC#N)cc2)c1F', 'Cc1cnc(C)c(-c2cc(F)cc3c2O[C@@H](CNC(=O)Cn2nc(C)cc2C)C3)n1', 'O=C(N/N=C/c1ccccc1Br)C(=O)N/N=C/c1ccccc1Br', 'C[C@H]([NH3+])Cc1ccc(OC[C@@H]2COc3ccccc32)cn1', 'C[C@@H]1CCC[C@@H](CSCCCCS(C)(=O)=O)C1', 'C[C@@H]([NH2+]C1CCC(Oc2ccc(C#N)cn2)CC1)c1ccccc1[N+](=O)[O-]', 'C/C(=C/CN1C[C@H]2CCC[NH+]2C[C@@H]1C)C(=O)[O-]', 'COCC[C@H](C)C(=O)NC[C@H]1CCO[C@@H]1C(C)(C)C', 'Cc1ccc(-c2cc(CNC(=O)NCCN3CCOCC3)on2)cc1', 'CS(=O)(=O)N(CC(=O)Nc1cccc(C(F)(F)F)c1)Cc1ccccc1', 'Cc1ccc(C(C)C)cc1OCC(=O)Oc1cccc(C(=O)N(C)C)c1', 'C[C@H]1CN(C(=O)c2ccncc2C#CCO)[C@H](C)CO1', '[NH3+]C1CCN(CCN2CCn3cc[nH+]c3C2)CC1', 'CCC[C@H]1CN(C(=O)c2scnc2CC)CCO1', 'Cn1ncc(N2CCC[C@H](C(=O)Nc3ccccc3)C2)c(Cl)c1=O', 'CC(C)COC(=O)c1ccc(NC(=O)[C@H]2[C@@H](C(=O)[O-])[C@@H]3C=C[C@H]2C3)cc1', 'CC1(C)Cc2cccc(OCC(=O)Nc3nnc(C4CC4)s3)c2O1', 'CCC[NH2+][C@H](CC(C)C)C1(N2CCOCC2)CCCC1', 'COc1ccc(C[NH+]2CCc3nnc([C@@H](C)NC(=O)C(C)C)n3CC2)cc1OC', 'C/[NH+]=C(/NCCc1csc2ccccc12)NCc1ncc(C)s1', 'Cc1cccc(-n2nnc(C(=O)Nc3cccc([C@H](C)O)c3)c2C)c1', 'C[C@@H]1CCC[C@H](CCNC(=O)C(=O)Nc2cccc([S@](C)=O)c2)C1', 'CCCCS(=O)(=O)NCC(=O)N1CCC[C@H](O)C1', 'C[C@@](O)(CNC(=O)C1CCN(CC(F)(F)F)CC1)c1ccc(F)cc1', 'CC(C)[NH2+]Cc1ccc(OCc2ccccc2)c(Cl)c1', 'Cc1nn(-c2ccccc2)c(Cl)c1C(=O)NCC(C1CC1)C1CC1', 'Cc1csc(S(=O)(=O)[C@H](C)C(=O)Nc2ccccc2Cl)n1', 'CCCC[C@@H]1C(=O)N(C)CCN1C(=O)[C@@H](C)n1cccn1', 'Cc1ccc(C)c(N2C(=O)C[C@@H](SCC(=O)[O-])C2=O)c1', 'CC(=O)N(C[C@@H]1OC(c2cccc(Oc3ccccc3)c2)=NN1C(C)=O)c1ccc(Cl)cc1C', 'Cc1c(N)cccc1NC(=O)CN1C(=O)[C@H](C)[C@@H](C)C1=O', 'CN(Cc1ncnn1C)Cc1nnnn1-c1ccccc1', 'CCSc1nc(=O)c2c(n1C)NC(=O)C[C@@H]2c1cccc(Cl)c1', 'O=C(Cc1ccc(F)cc1)[C@@H]1CSCCS1', 'COc1cccc2cc(C(=O)NCc3cc(=O)oc4c(C)c(C)ccc34)oc12', 'COc1cccc([C@@H](CNC(=O)c2ccc(=O)n(C)n2)[NH+](C)C)c1', 'CN(C(=O)NCCCOCc1ccco1)C1CCCCC1', 'N#Cc1ccc(CN2CCC(C(=O)c3ccc4c(c3)OCCO4)CC2)c(F)c1', 'Cc1cnc([C@H](C)NC(=O)NC[C@@H](C)c2ccc(F)cc2F)s1', 'COc1ccc(C[NH+]2CCC[C@@H]2C(N)=O)cc1[N+](=O)[O-]', 'Oc1ccccc1/C=[NH+]/CCC/[NH+]=C/c1ccccc1O', 'CC(C)NC(=O)NC(=O)[C@@H](C)N1CC[NH+](CCc2ccccc2)CC1', 'Cc1nc(NC(=O)CCCc2cccs2)sc1-c1nnc([S-])n1C', 'C[C@@H](CC#N)N(C)c1c(F)c(F)nc(F)c1F', 'COC(=O)c1cccc(/N=N/N(C)C)c1', 'C[C@H](CS(C)(=O)=O)NC(=O)N[C@H](CO)c1ccc(Cl)cc1', '[NH3+]CC1CCC(C(=O)Nc2ccc(C(=O)[O-])cc2Br)CC1', 'O=C1c2ccc(Oc3ccc([N+](=O)[O-])cc3)cc2C(=O)N1CC1CC[NH2+]CC1')\n"
     ]
    }
   ]
  },
  {
   "cell_type": "code",
   "source": [],
   "metadata": {
    "id": "Oe-ZRY2ZtZBa"
   },
   "execution_count": null,
   "outputs": []
  }
 ]
}