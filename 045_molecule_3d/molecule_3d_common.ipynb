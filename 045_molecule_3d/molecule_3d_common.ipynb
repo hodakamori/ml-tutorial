{
 "cells": [
  {
   "cell_type": "code",
   "execution_count": 23,
   "id": "0888a6cf",
   "metadata": {},
   "outputs": [],
   "source": [
    "from rdkit import Chem\n",
    "from rdkit.Chem import AllChem\n",
    "from rdkit.Chem import Draw"
   ]
  },
  {
   "cell_type": "code",
   "execution_count": null,
   "id": "7aa23f20",
   "metadata": {},
   "outputs": [
    {
     "data": {
      "image/jpeg": "[encoded data removed]",
      "image/png": "[encoded data removed]",
      "text/plain": [
       "<PIL.PngImagePlugin.PngImageFile image mode=RGB size=300x300>"
      ]
     },
     "execution_count": 24,
     "metadata": {},
     "output_type": "execute_result"
    }
   ],
   "source": [
    "mol = Chem.MolFromSmiles(\"CC(=O)C1=CC=CC=C1C(=O)O\")\n",
    "mol = Chem.AddHs(mol)\n",
    "Draw.MolToImage(\n",
    "    mol, size=(300, 300), kekulize=True, wedgeBonds=True, includeAtomNumbers=True\n",
    ")"
   ]
  },
  {
   "cell_type": "code",
   "execution_count": 25,
   "id": "fe11f6b0",
   "metadata": {},
   "outputs": [
    {
     "data": {
      "text/plain": [
       "0"
      ]
     },
     "execution_count": 25,
     "metadata": {},
     "output_type": "execute_result"
    }
   ],
   "source": [
    "AllChem.EmbedMolecule(mol, randomSeed=42)"
   ]
  },
  {
   "cell_type": "code",
   "execution_count": 26,
   "id": "a639338f",
   "metadata": {},
   "outputs": [
    {
     "name": "stdout",
     "output_type": "stream",
     "text": [
      "Atom 0: C 1.52, 2.02, 0.81\n",
      "Atom 1: C 0.63, 0.95, 1.29\n",
      "Atom 2: O 0.46, 0.98, 2.56\n",
      "Atom 3: C -0.06, -0.09, 0.60\n",
      "Atom 4: C -0.49, -1.18, 1.39\n",
      "Atom 5: C -1.03, -2.33, 0.90\n",
      "Atom 6: C -1.17, -2.48, -0.45\n",
      "Atom 7: C -0.77, -1.45, -1.25\n",
      "Atom 8: C -0.22, -0.25, -0.75\n",
      "Atom 9: C -0.02, 0.79, -1.72\n",
      "Atom 10: O -0.06, 0.45, -2.95\n",
      "Atom 11: O 0.21, 2.13, -1.53\n",
      "Atom 12: H 2.31, 2.11, 1.65\n",
      "Atom 13: H 1.05, 3.00, 0.70\n",
      "Atom 14: H 2.17, 1.74, -0.04\n",
      "Atom 15: H -0.41, -1.13, 2.49\n",
      "Atom 16: H -1.34, -3.13, 1.55\n",
      "Atom 17: H -1.59, -3.39, -0.87\n",
      "Atom 18: H -0.90, -1.60, -2.32\n",
      "Atom 19: H -0.28, 2.87, -2.05\n"
     ]
    }
   ],
   "source": [
    "conf = mol.GetConformer()\n",
    "for atom in mol.GetAtoms():\n",
    "    idx = atom.GetIdx()\n",
    "    elem = atom.GetSymbol()\n",
    "    pos = conf.GetAtomPosition(idx)\n",
    "    print(f\"Atom {idx}: {elem} {pos.x:.2f}, {pos.y:.2f}, {pos.z:.2f}\")"
   ]
  },
  {
   "cell_type": "code",
   "execution_count": null,
   "id": "59042413",
   "metadata": {},
   "outputs": [
    {
     "data": {
      "application/vnd.jupyter.widget-view+json": {
       "model_id": "ec068876871f4188b7b9861c49850ca0",
       "version_major": 2,
       "version_minor": 0
      },
      "text/plain": [
       "NGLWidget()"
      ]
     },
     "metadata": {},
     "output_type": "display_data"
    }
   ],
   "source": [
    "import nglview as nv\n",
    "\n",
    "view = nv.show_rdkit(mol)\n",
    "view"
   ]
  },
  {
   "cell_type": "code",
   "execution_count": null,
   "id": "04289414",
   "metadata": {},
   "outputs": [
    {
     "data": {
      "text/plain": [
       "0"
      ]
     },
     "execution_count": 28,
     "metadata": {},
     "output_type": "execute_result"
    }
   ],
   "source": [
    "import copy\n",
    "\n",
    "opt_mol = copy.deepcopy(mol)\n",
    "AllChem.UFFOptimizeMolecule(opt_mol)"
   ]
  },
  {
   "cell_type": "code",
   "execution_count": 29,
   "id": "bc0c974f",
   "metadata": {},
   "outputs": [
    {
     "name": "stdout",
     "output_type": "stream",
     "text": [
      "Atom 0: C 1.81, 1.66, 0.74\n",
      "Atom 1: C 0.53, 1.08, 1.26\n",
      "Atom 2: O 0.02, 1.58, 2.31\n",
      "Atom 3: C -0.10, -0.10, 0.63\n",
      "Atom 4: C -0.35, -1.22, 1.45\n",
      "Atom 5: C -0.86, -2.40, 0.90\n",
      "Atom 6: C -1.12, -2.48, -0.46\n",
      "Atom 7: C -0.90, -1.37, -1.29\n",
      "Atom 8: C -0.41, -0.16, -0.75\n",
      "Atom 9: C -0.30, 1.01, -1.65\n",
      "Atom 10: O -0.09, 0.85, -2.88\n",
      "Atom 11: O -0.46, 2.30, -1.15\n",
      "Atom 12: H 2.60, 1.56, 1.51\n",
      "Atom 13: H 1.67, 2.73, 0.50\n",
      "Atom 14: H 2.15, 1.12, -0.17\n",
      "Atom 15: H -0.13, -1.18, 2.51\n",
      "Atom 16: H -1.03, -3.25, 1.54\n",
      "Atom 17: H -1.50, -3.40, -0.89\n",
      "Atom 18: H -1.14, -1.45, -2.34\n",
      "Atom 19: H -0.40, 3.11, -1.76\n"
     ]
    }
   ],
   "source": [
    "conf = opt_mol.GetConformer()\n",
    "for atom in opt_mol.GetAtoms():\n",
    "    idx = atom.GetIdx()\n",
    "    elem = atom.GetSymbol()\n",
    "    pos = conf.GetAtomPosition(idx)\n",
    "    print(f\"Atom {idx}: {elem} {pos.x:.2f}, {pos.y:.2f}, {pos.z:.2f}\")"
   ]
  },
  {
   "cell_type": "code",
   "execution_count": null,
   "id": "1c750935",
   "metadata": {},
   "outputs": [
    {
     "data": {
      "application/vnd.jupyter.widget-view+json": {
       "model_id": "5cf030291524457aa38454c3978cef2d",
       "version_major": 2,
       "version_minor": 0
      },
      "text/plain": [
       "NGLWidget()"
      ]
     },
     "metadata": {},
     "output_type": "display_data"
    }
   ],
   "source": [
    "import nglview as nv\n",
    "\n",
    "view = nv.show_rdkit(opt_mol)\n",
    "view"
   ]
  },
  {
   "cell_type": "code",
   "execution_count": 31,
   "id": "b0734e1d",
   "metadata": {},
   "outputs": [
    {
     "name": "stdout",
     "output_type": "stream",
     "text": [
      "RMSD: 0.39 Å\n"
     ]
    }
   ],
   "source": [
    "AllChem.AlignMol(mol, opt_mol)\n",
    "\n",
    "rmsd = AllChem.GetBestRMS(mol, opt_mol)\n",
    "print(f\"RMSD: {rmsd:.2f} Å\")"
   ]
  },
  {
   "cell_type": "code",
   "execution_count": 32,
   "id": "41521401",
   "metadata": {},
   "outputs": [
    {
     "data": {
      "application/vnd.jupyter.widget-view+json": {
       "model_id": "1e2ad0801f54477dbf54186faf5b792c",
       "version_major": 2,
       "version_minor": 0
      },
      "text/plain": [
       "NGLWidget()"
      ]
     },
     "metadata": {},
     "output_type": "display_data"
    }
   ],
   "source": [
    "comb_mol = Chem.CombineMols(mol, opt_mol)\n",
    "nv.show_rdkit(comb_mol)"
   ]
  },
  {
   "cell_type": "code",
   "execution_count": 33,
   "id": "ee746642",
   "metadata": {},
   "outputs": [
    {
     "data": {
      "text/plain": [
       "<rdkit.rdBase._vecti at 0x7f532e051a40>"
      ]
     },
     "execution_count": 33,
     "metadata": {},
     "output_type": "execute_result"
    }
   ],
   "source": [
    "AllChem.EmbedMultipleConfs(mol, numConfs=20, randomSeed=42)"
   ]
  },
  {
   "cell_type": "code",
   "execution_count": null,
   "id": "88143595",
   "metadata": {},
   "outputs": [],
   "source": [
    "from rdkit.Chem import rdMolAlign\n",
    "\n",
    "for cid in range(mol.GetNumConformers()):\n",
    "    AllChem.UFFOptimizeMolecule(mol, confId=cid)\n",
    "\n",
    "heavy_ids = [a.GetIdx() for a in mol.GetAtoms() if a.GetAtomicNum() != 1]\n",
    "rmsd_list = rdMolAlign.AlignMolConformers(mol)"
   ]
  },
  {
   "cell_type": "code",
   "execution_count": null,
   "id": "5b808f17",
   "metadata": {},
   "outputs": [
    {
     "data": {
      "application/vnd.jupyter.widget-view+json": {
       "model_id": "0e2c9323cf0e4bff9327b486bb0ff810",
       "version_major": 2,
       "version_minor": 0
      },
      "text/plain": [
       "NGLWidget()"
      ]
     },
     "metadata": {},
     "output_type": "display_data"
    }
   ],
   "source": [
    "view = nv.NGLWidget()\n",
    "for cid in range(mol.GetNumConformers()):\n",
    "    comp = view.add_component(nv.RdkitStructure(mol, conf_id=cid))\n",
    "view.center()\n",
    "view"
   ]
  },
  {
   "cell_type": "code",
   "execution_count": null,
   "id": "188bb7bb",
   "metadata": {},
   "outputs": [],
   "source": [
    "Chem.MolToPDBFile(mol, \"molecule.pdb\", confId=0)"
   ]
  },
  {
   "cell_type": "code",
   "execution_count": 64,
   "id": "9f8fe674",
   "metadata": {},
   "outputs": [
    {
     "data": {
      "text/plain": [
       "{'PMI1': 462.7073462324673,\n",
       " 'PMI2': 495.03405842037256,\n",
       " 'PMI3': 871.925066460825,\n",
       " 'NPR1': 0.5306732929592367,\n",
       " 'NPR2': 0.5677483965792307,\n",
       " 'RadiusOfGyration': 2.360680949235626,\n",
       " 'InertialShapeFactor': 0.001227014010479942,\n",
       " 'Eccentricity': 0.8475764603502152,\n",
       " 'Asphericity': 0.1855320979824671,\n",
       " 'SpherocityIndex': 0.14011475066646442,\n",
       " 'PBF': 0.4122658171294401}"
      ]
     },
     "execution_count": 64,
     "metadata": {},
     "output_type": "execute_result"
    }
   ],
   "source": [
    "from rdkit import Chem\n",
    "from rdkit.Chem import AllChem, Descriptors3D, Descriptors, rdMolDescriptors\n",
    "from rdkit.ML.Descriptors import MoleculeDescriptors\n",
    "\n",
    "AllChem.EmbedMolecule(mol, AllChem.ETKDGv3())\n",
    "AllChem.UFFOptimizeMolecule(mol)\n",
    "\n",
    "descs = Descriptors3D.CalcMolDescriptors3D(mol)\n",
    "descs"
   ]
  },
  {
   "cell_type": "code",
   "execution_count": null,
   "id": "4d2f1272",
   "metadata": {},
   "outputs": [
    {
     "data": {
      "text/plain": [
       "[0.134, 0.37, 0.617, 0.776, 0.89, 0.679, 0.219, 0.0, 0.0, 0.0]"
      ]
     },
     "execution_count": 66,
     "metadata": {},
     "output_type": "execute_result"
    }
   ],
   "source": [
    "from rdkit.Chem import rdMolDescriptors\n",
    "\n",
    "descs = rdMolDescriptors.CalcAUTOCORR3D(mol)\n",
    "descs[:10]"
   ]
  },
  {
   "cell_type": "code",
   "execution_count": null,
   "id": "7157deb2",
   "metadata": {},
   "outputs": [],
   "source": []
  }
 ],
 "metadata": {
  "kernelspec": {
   "display_name": ".venv",
   "language": "python",
   "name": "python3"
  },
  "language_info": {
   "codemirror_mode": {
    "name": "ipython",
    "version": 3
   },
   "file_extension": ".py",
   "mimetype": "text/x-python",
   "name": "python",
   "nbconvert_exporter": "python",
   "pygments_lexer": "ipython3",
   "version": "3.9.18"
  }
 },
 "nbformat": 4,
 "nbformat_minor": 5
}
