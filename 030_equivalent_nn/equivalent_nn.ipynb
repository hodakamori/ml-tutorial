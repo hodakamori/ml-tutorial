{
 "cells": [
  {
   "cell_type": "code",
   "execution_count": 1,
   "metadata": {},
   "outputs": [],
   "source": [
    "import torch\n",
    "from torch_geometric.data import Data\n",
    "from e3nn import o3\n",
    "from e3nn.nn import Gate, FullyConnectedNet, BatchNorm\n",
    "from e3nn.o3 import FullyConnectedTensorProduct\n",
    "from torch_scatter import scatter_sum\n",
    "from e3nn.util.test import assert_equivariant"
   ]
  },
  {
   "cell_type": "code",
   "execution_count": 2,
   "metadata": {},
   "outputs": [],
   "source": [
    "def create_random_molecule(num_atoms=5):\n",
    "    pos = torch.randn(num_atoms, 3)\n",
    "    edge_index = torch.combinations(torch.arange(num_atoms), r=2).T\n",
    "    edge_index = torch.cat([edge_index, edge_index.flip(0)], dim=1)\n",
    "    return Data(pos=pos, edge_index=edge_index)\n"
   ]
  },
  {
   "cell_type": "code",
   "execution_count": 3,
   "metadata": {},
   "outputs": [
    {
     "data": {
      "text/plain": [
       "tensor([[0, 0, 0, 0, 1, 1, 1, 2, 2, 3, 1, 2, 3, 4, 2, 3, 4, 3, 4, 4],\n",
       "        [1, 2, 3, 4, 2, 3, 4, 3, 4, 4, 0, 0, 0, 0, 1, 1, 1, 2, 2, 3]])"
      ]
     },
     "execution_count": 3,
     "metadata": {},
     "output_type": "execute_result"
    }
   ],
   "source": [
    "data = create_random_molecule()\n",
    "x = data.pos\n",
    "edge_index = data.edge_index\n",
    "edge_index"
   ]
  },
  {
   "cell_type": "code",
   "execution_count": 4,
   "metadata": {},
   "outputs": [],
   "source": [
    "edge_src, edge_dst = edge_index\n",
    "edge_vec = x[edge_dst] - x[edge_src]\n",
    "edge_attr = o3.spherical_harmonics(l=1, x=edge_vec, normalize=True, normalization='component')\n",
    "node_attr = o3.spherical_harmonics(l=1, x=x, normalize=True, normalization='component')"
   ]
  },
  {
   "cell_type": "code",
   "execution_count": 5,
   "metadata": {},
   "outputs": [
    {
     "name": "stdout",
     "output_type": "stream",
     "text": [
      "Shape of x: torch.Size([5, 3])\n",
      "Shape of edge_vec: torch.Size([20, 3])\n",
      "Shape of edge_attr: torch.Size([20, 3])\n",
      "Shape of node_attr: torch.Size([5, 3])\n"
     ]
    }
   ],
   "source": [
    "print(\"Shape of x:\", x.shape)\n",
    "print(\"Shape of edge_vec:\", edge_vec.shape)\n",
    "print(\"Shape of edge_attr:\", edge_attr.shape)\n",
    "print(\"Shape of node_attr:\", node_attr.shape)"
   ]
  },
  {
   "cell_type": "code",
   "execution_count": 6,
   "metadata": {},
   "outputs": [
    {
     "name": "stderr",
     "output_type": "stream",
     "text": [
      "/home/hodaka/miniforge3/envs/ml/lib/python3.9/site-packages/torch/overrides.py:110: UserWarning: 'has_cuda' is deprecated, please use 'torch.backends.cuda.is_built()'\n",
      "  torch.has_cuda,\n",
      "/home/hodaka/miniforge3/envs/ml/lib/python3.9/site-packages/torch/overrides.py:111: UserWarning: 'has_cudnn' is deprecated, please use 'torch.backends.cudnn.is_available()'\n",
      "  torch.has_cudnn,\n",
      "/home/hodaka/miniforge3/envs/ml/lib/python3.9/site-packages/torch/overrides.py:117: UserWarning: 'has_mps' is deprecated, please use 'torch.backends.mps.is_built()'\n",
      "  torch.has_mps,\n",
      "/home/hodaka/miniforge3/envs/ml/lib/python3.9/site-packages/torch/overrides.py:118: UserWarning: 'has_mkldnn' is deprecated, please use 'torch.backends.mkldnn.is_available()'\n",
      "  torch.has_mkldnn,\n",
      "/home/hodaka/miniforge3/envs/ml/lib/python3.9/site-packages/torch/jit/_check.py:178: UserWarning: The TorchScript type system doesn't support instance-level annotations on empty non-base types in `__init__`. Instead, either 1) use a type annotation in the class body, or 2) wrap the type in `torch.jit.Attribute`.\n",
      "  warnings.warn(\n"
     ]
    },
    {
     "data": {
      "text/plain": [
       "{(0, False): tensor([5.2154e-08]), (1, False): tensor([5.9605e-08])}"
      ]
     },
     "execution_count": 6,
     "metadata": {},
     "output_type": "execute_result"
    }
   ],
   "source": [
    "tp = FullyConnectedTensorProduct(\n",
    "    irreps_in1=o3.Irreps(\"1o\"),\n",
    "    irreps_in2=o3.Irreps(\"1o\"),\n",
    "    irreps_out=o3.Irreps(\"16x0e + 8x1o\")\n",
    "    )\n",
    "assert_equivariant(tp)"
   ]
  },
  {
   "cell_type": "code",
   "execution_count": 7,
   "metadata": {},
   "outputs": [
    {
     "name": "stdout",
     "output_type": "stream",
     "text": [
      "\n",
      "Input irreps:\n",
      "irreps_in1: 1x1o\n",
      "irreps_in2: 1x1o\n",
      "\n",
      "Output irreps:\n",
      "irreps_out: 16x0e+8x1o\n",
      "\n",
      "Expected dimensions:\n",
      "Input 1 dimension: 3\n",
      "Input 2 dimension: 3\n",
      "Output dimension: 40\n"
     ]
    }
   ],
   "source": [
    "print(\"\\nInput irreps:\")\n",
    "print(\"irreps_in1:\", tp.irreps_in1)\n",
    "print(\"irreps_in2:\", tp.irreps_in2)\n",
    "\n",
    "print(\"\\nOutput irreps:\")\n",
    "print(\"irreps_out:\", tp.irreps_out)\n",
    "\n",
    "# 期待される入力と出力の次元を確認\n",
    "print(\"\\nExpected dimensions:\")\n",
    "print(\"Input 1 dimension:\", tp.irreps_in1.dim)\n",
    "print(\"Input 2 dimension:\", tp.irreps_in2.dim)\n",
    "print(\"Output dimension:\", tp.irreps_out.dim)"
   ]
  },
  {
   "cell_type": "code",
   "execution_count": 8,
   "metadata": {},
   "outputs": [],
   "source": [
    "x = tp(node_attr, node_attr)"
   ]
  },
  {
   "cell_type": "code",
   "execution_count": 9,
   "metadata": {},
   "outputs": [
    {
     "name": "stdout",
     "output_type": "stream",
     "text": [
      "16x0e+8x1o\n",
      "torch.Size([5, 40])\n"
     ]
    }
   ],
   "source": [
    "print(tp.irreps_out)\n",
    "print(x.shape)"
   ]
  },
  {
   "cell_type": "code",
   "execution_count": 10,
   "metadata": {},
   "outputs": [],
   "source": [
    "gate = Gate(\n",
    "    irreps_scalars=o3.Irreps(\"8x0e\"),\n",
    "    act_scalars=[torch.tanh],\n",
    "    irreps_gates=o3.Irreps(\"8x0e\"),  \n",
    "    act_gates=[torch.tanh],\n",
    "    irreps_gated=o3.Irreps(\"8x1o\")\n",
    ")"
   ]
  },
  {
   "cell_type": "code",
   "execution_count": 11,
   "metadata": {},
   "outputs": [
    {
     "name": "stdout",
     "output_type": "stream",
     "text": [
      "Gate input: 16x0e+8x1o\n",
      "Gate scalars: 8x0e\n",
      "Gate gates: 8x0e\n",
      "Gate gated: 8x1o\n",
      "Gate output: 8x0e+8x1o\n"
     ]
    }
   ],
   "source": [
    "print(\"Gate input:\", gate.irreps_in)\n",
    "print(\"Gate scalars:\", gate.irreps_scalars)\n",
    "print(\"Gate gates:\", gate.irreps_gates)\n",
    "print(\"Gate gated:\", gate.irreps_gated)\n",
    "print(\"Gate output:\", gate.irreps_out)"
   ]
  },
  {
   "cell_type": "code",
   "execution_count": 12,
   "metadata": {},
   "outputs": [],
   "source": [
    "x = gate(x)"
   ]
  },
  {
   "cell_type": "code",
   "execution_count": 13,
   "metadata": {},
   "outputs": [],
   "source": [
    "class EquivariantNN(torch.nn.Module):\n",
    "    def __init__(self):\n",
    "        super().__init__()\n",
    "        self.tp_node = FullyConnectedTensorProduct(\n",
    "            irreps_in1=o3.Irreps(\"1o\"),\n",
    "            irreps_in2=o3.Irreps(\"1o\"),\n",
    "            irreps_out=o3.Irreps(\"16x0e + 8x1o\")\n",
    "        )\n",
    "        assert assert_equivariant(self.tp_node)\n",
    "\n",
    "        self.tp_edge = FullyConnectedTensorProduct(\n",
    "            irreps_in1=o3.Irreps(\"1o\"),\n",
    "            irreps_in2=o3.Irreps(\"1x0e\"),\n",
    "            irreps_out=o3.Irreps(\"16x0e + 8x1o\")\n",
    "        )\n",
    "        assert assert_equivariant(self.tp_edge)\n",
    "\n",
    "        self.gate = Gate(\n",
    "            irreps_scalars=o3.Irreps(\"8x0e\"),\n",
    "            act_scalars=[torch.tanh],\n",
    "            irreps_gates=o3.Irreps(\"8x0e\"),  \n",
    "            act_gates=[torch.tanh],\n",
    "            irreps_gated=o3.Irreps(\"8x1o\")\n",
    "        )\n",
    "        assert assert_equivariant(self.gate)\n",
    "\n",
    "        self.linear = o3.Linear(\n",
    "            self.gate.irreps_out,\n",
    "            o3.Irreps(\"1o\") \n",
    "        )\n",
    "        assert assert_equivariant(self.linear)\n",
    "\n",
    "    def forward(self, x, edge_index):\n",
    "        node_attr = o3.spherical_harmonics(l=1, x=x, normalize=True, normalization='component')\n",
    "        node_features = self.tp_node(node_attr, node_attr)\n",
    "\n",
    "        edge_vec = x[edge_index[1]] - x[edge_index[0]]\n",
    "        edge_length = torch.norm(edge_vec, dim=-1, keepdim=True)\n",
    "        edge_sh = o3.spherical_harmonics(l=1, x=edge_vec, normalize=True, normalization='component')\n",
    "        edge_features = self.tp_edge(edge_sh, edge_length)\n",
    "        sigma = edge_length.mean()\n",
    "\n",
    "        edge_weight = torch.exp(-edge_length**2 / (2 * sigma**2))\n",
    "        weighted_edge_features = edge_features * edge_weight\n",
    "        aggregated_edge_features = scatter_sum(weighted_edge_features, edge_index[0], dim=0, dim_size=x.shape[0])\n",
    "\n",
    "        updated_node_features = node_features + aggregated_edge_features\n",
    "        x = self.gate(updated_node_features)\n",
    "        x = self.linear(x)\n",
    "        return x\n"
   ]
  },
  {
   "cell_type": "code",
   "execution_count": 14,
   "metadata": {},
   "outputs": [
    {
     "data": {
      "text/plain": [
       "tensor([[-1.7553, -1.3203, -1.4879],\n",
       "        [ 0.8066,  1.1842, -2.9375],\n",
       "        [-0.7808, -1.4421,  0.5798],\n",
       "        [-1.0811,  3.6294,  1.6966],\n",
       "        [ 2.8106, -2.0512,  2.1490]], grad_fn=<ViewBackward0>)"
      ]
     },
     "execution_count": 14,
     "metadata": {},
     "output_type": "execute_result"
    }
   ],
   "source": [
    "data = create_random_molecule()\n",
    "model = EquivariantNN()\n",
    "x = data.pos\n",
    "y = model(x, data.edge_index)\n",
    "y"
   ]
  },
  {
   "cell_type": "code",
   "execution_count": 15,
   "metadata": {},
   "outputs": [
    {
     "name": "stderr",
     "output_type": "stream",
     "text": [
      "/home/hodaka/miniforge3/envs/ml/lib/python3.9/site-packages/torch/jit/_check.py:178: UserWarning: The TorchScript type system doesn't support instance-level annotations on empty non-base types in `__init__`. Instead, either 1) use a type annotation in the class body, or 2) wrap the type in `torch.jit.Attribute`.\n",
      "  warnings.warn(\n"
     ]
    },
    {
     "data": {
      "image/png": "[encoded data removed]",
      "text/plain": [
       "<Figure size 800x200 with 4 Axes>"
      ]
     },
     "metadata": {},
     "output_type": "display_data"
    }
   ],
   "source": [
    "import matplotlib.pyplot as plt\n",
    "\n",
    "model = EquivariantNN()\n",
    "data = create_random_molecule()\n",
    "x = data.pos\n",
    "\n",
    "R = o3.rand_matrix()\n",
    "\n",
    "out1 = model(x, edge_index)\n",
    "x_rotated = torch.einsum('ij,nj->ni', R, x)\n",
    "out2 = model(x_rotated, edge_index)\n",
    "out1_rotated = torch.einsum('ij,nj->ni', R, out1)\n",
    "diff = (out1_rotated - out2).abs().max().item()\n",
    "\n",
    "fig, axs = plt.subplots(1, 4, figsize=(8,2))\n",
    "axs[0].imshow(out1.detach().numpy(), cmap='RdYlBu', aspect='equal', vmin=-5, vmax=5)\n",
    "axs[0].set_title(r\"$y_1=f(x)$\")\n",
    "axs[0].set_xlabel(r\"$y_i$\")\n",
    "axs[0].label_outer()\n",
    "\n",
    "axs[1].imshow(out2.detach().numpy(), cmap='RdYlBu', aspect='equal', vmin=-5, vmax=5)\n",
    "axs[1].set_title(r\"$y_2=f(\\mathrm{rot}(x))$\")\n",
    "axs[1].set_xlabel(r\"$y_i$\")\n",
    "axs[1].label_outer()\n",
    "\n",
    "axs[2].imshow(out1_rotated.detach().numpy(), cmap='RdYlBu', aspect='equal', vmin=-5, vmax=5)\n",
    "axs[2].set_title(r\"$y_3=\\mathrm{rot}(f(x))$\")\n",
    "axs[2].set_xlabel(r\"$y_i$\")\n",
    "axs[2].label_outer()\n",
    "\n",
    "axs[3].imshow((out2 - out1_rotated).detach().numpy(), cmap='RdYlBu', aspect='equal', vmin=-1, vmax=1)\n",
    "axs[3].set_title(rf\"$\\Delta y_i,$ max={diff:.1e}\")\n",
    "axs[3].set_xlabel(r\"$y_2-y_3$\")\n",
    "axs[3].label_outer()"
   ]
  }
 ],
 "metadata": {
  "kernelspec": {
   "display_name": "base",
   "language": "python",
   "name": "python3"
  },
  "language_info": {
   "codemirror_mode": {
    "name": "ipython",
    "version": 3
   },
   "file_extension": ".py",
   "mimetype": "text/x-python",
   "name": "python",
   "nbconvert_exporter": "python",
   "pygments_lexer": "ipython3",
   "version": "3.9.19"
  }
 },
 "nbformat": 4,
 "nbformat_minor": 2
}
