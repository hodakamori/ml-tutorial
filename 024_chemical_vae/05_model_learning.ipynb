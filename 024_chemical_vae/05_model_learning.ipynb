{
  "nbformat": 4,
  "nbformat_minor": 0,
  "metadata": {
    "colab": {
      "provenance": [],
      "gpuType": "T4"
    },
    "kernelspec": {
      "name": "python3",
      "display_name": "Python 3"
    },
    "language_info": {
      "name": "python"
    },
    "accelerator": "GPU"
  },
  "cells": [
    {
      "cell_type": "code",
      "execution_count": 7,
      "metadata": {
        "id": "bcEet5fDacaD"
      },
      "outputs": [],
      "source": [
        "import pandas as pd\n",
        "import torch\n",
        "from torch.utils.data import Dataset, DataLoader, random_split\n",
        "import numpy as np"
      ]
    },
    {
      "cell_type": "code",
      "source": [
        "def one_hot_encode_smiles(smiles, charset, max_length=120):\n",
        "    char_to_int = dict((c, i) for i, c in enumerate(charset))\n",
        "    integer_encoded = [char_to_int[char] for char in smiles]\n",
        "    if len(integer_encoded) > max_length:\n",
        "        integer_encoded = integer_encoded[:max_length]\n",
        "    else:\n",
        "        integer_encoded = integer_encoded + [0] * (max_length - len(integer_encoded))\n",
        "    onehot_encoded = np.zeros((max_length, len(charset)), dtype=np.float32)\n",
        "    for i, val in enumerate(integer_encoded):\n",
        "        onehot_encoded[i, val] = 1.0\n",
        "\n",
        "    return onehot_encoded"
      ],
      "metadata": {
        "id": "k78xwjcwaiNl"
      },
      "execution_count": 8,
      "outputs": []
    },
    {
      "cell_type": "code",
      "source": [
        "def decode_smiles_from_one_hot(one_hot_encoded, charset):\n",
        "\n",
        "    int_to_char = {i: c for i, c in enumerate(charset)}\n",
        "    integer_decoded = np.argmax(one_hot_encoded, axis=1)\n",
        "    chars = [int_to_char[idx] for idx in integer_decoded]\n",
        "    smiles = ''.join(chars).rstrip()\n",
        "\n",
        "    return smiles"
      ],
      "metadata": {
        "id": "pClnJngRakGr"
      },
      "execution_count": 9,
      "outputs": []
    },
    {
      "cell_type": "code",
      "source": [
        "class SMILESDataset(Dataset):\n",
        "    def __init__(self, smiles_list, charset):\n",
        "        self.smiles_list = smiles_list\n",
        "        self.charset = charset\n",
        "\n",
        "    def __len__(self):\n",
        "        return len(self.smiles_list)\n",
        "\n",
        "    def __getitem__(self, idx):\n",
        "        smiles = self.smiles_list[idx]\n",
        "        encoded_smiles = one_hot_encode_smiles(smiles, self.charset)\n",
        "        return torch.FloatTensor(encoded_smiles), smiles"
      ],
      "metadata": {
        "id": "lU315JEZasTE"
      },
      "execution_count": 10,
      "outputs": []
    },
    {
      "cell_type": "code",
      "source": [
        "import torch\n",
        "import torch.nn as nn\n",
        "import torch.nn.functional as F\n",
        "import torch.utils.data\n",
        "\n",
        "class MolecularVAE(nn.Module):\n",
        "    def __init__(self):\n",
        "        super(MolecularVAE, self).__init__()\n",
        "\n",
        "        self.conv_1 = nn.Conv1d(120, 9, kernel_size=9)\n",
        "        self.conv_2 = nn.Conv1d(9, 9, kernel_size=9)\n",
        "        self.conv_3 = nn.Conv1d(9, 10, kernel_size=11)\n",
        "        self.linear_0 = nn.Linear(80, 435)\n",
        "        self.linear_1 = nn.Linear(435, 292)\n",
        "        self.linear_2 = nn.Linear(435, 292)\n",
        "\n",
        "        self.linear_3 = nn.Linear(292, 292)\n",
        "        self.gru = nn.GRU(292, 501, 3, batch_first=True)\n",
        "        self.linear_4 = nn.Linear(501, 34)\n",
        "\n",
        "        self.relu = nn.ReLU()\n",
        "        self.softmax = nn.Softmax()\n",
        "\n",
        "    def encode(self, x):\n",
        "        x = self.relu(self.conv_1(x))\n",
        "        x = self.relu(self.conv_2(x))\n",
        "        x = self.relu(self.conv_3(x))\n",
        "        x = x.view(x.size(0), -1)\n",
        "        x = F.selu(self.linear_0(x))\n",
        "        return self.linear_1(x), self.linear_2(x)\n",
        "\n",
        "    def sampling(self, z_mean, z_logvar):\n",
        "        epsilon = 1e-2 * torch.randn_like(z_logvar)\n",
        "        return torch.exp(0.5 * z_logvar) * epsilon + z_mean\n",
        "\n",
        "    def decode(self, z):\n",
        "        z = F.selu(self.linear_3(z))\n",
        "        z = z.view(z.size(0), 1, z.size(-1)).repeat(1, 120, 1)\n",
        "        output, hn = self.gru(z)\n",
        "        out_reshape = output.contiguous().view(-1, output.size(-1))\n",
        "        y0 = F.softmax(self.linear_4(out_reshape), dim=1)\n",
        "        y = y0.contiguous().view(output.size(0), -1, y0.size(-1))\n",
        "        return y\n",
        "\n",
        "    def forward(self, x):\n",
        "        z_mean, z_logvar = self.encode(x)\n",
        "        z = self.sampling(z_mean, z_logvar)\n",
        "        return self.decode(z), z_mean, z_logvar"
      ],
      "metadata": {
        "id": "ARhnxyYRauUp"
      },
      "execution_count": 11,
      "outputs": []
    },
    {
      "cell_type": "code",
      "source": [
        "df = pd.read_csv(\"250k_rndm_zinc_drugs_clean_3.csv\")\n",
        "df[\"smiles\"] = df[\"smiles\"].str.rstrip(\"\\n\")\n",
        "charset = set(\"\".join(df[\"smiles\"].values.tolist()))\n",
        "\n",
        "dataset = SMILESDataset(df[\"smiles\"].values.tolist(), charset)"
      ],
      "metadata": {
        "id": "0fP4Kp4Gaztt"
      },
      "execution_count": 12,
      "outputs": []
    },
    {
      "cell_type": "code",
      "source": [
        "test_ratio = 0.9\n",
        "\n",
        "test_size = int(test_ratio * len(dataset))\n",
        "train_size = len(dataset) - test_size\n",
        "train_dataset, test_dataset = random_split(dataset, [train_size, test_size])"
      ],
      "metadata": {
        "id": "q-ZRn-DkbKoM"
      },
      "execution_count": null,
      "outputs": []
    },
    {
      "cell_type": "code",
      "source": [
        "def vae_loss(x_decoded_mean, x, z_mean, z_logvar):\n",
        "    xent_loss = F.binary_cross_entropy(x_decoded_mean, x, size_average=False)\n",
        "    kl_loss = -0.5 * torch.sum(1 + z_logvar - z_mean.pow(2) - z_logvar.exp())\n",
        "    return xent_loss + kl_loss"
      ],
      "metadata": {
        "id": "cUCAsPs0bEcA"
      },
      "execution_count": null,
      "outputs": []
    },
    {
      "cell_type": "code",
      "source": [
        "import torch.optim as optim\n",
        "\n",
        "train_loader = torch.utils.data.DataLoader(train_dataset, batch_size=250, shuffle=True)\n",
        "torch.manual_seed(42)\n",
        "epochs = 30\n",
        "device = 'cuda' if torch.cuda.is_available() else 'cpu'\n",
        "\n",
        "model = MolecularVAE().to(device)\n",
        "optimizer = optim.Adam(model.parameters())\n",
        "\n",
        "def train(epoch):\n",
        "    model.train()\n",
        "    train_loss = 0\n",
        "    for batch_idx, (data, input_smiles) in enumerate(train_loader):\n",
        "        data = data.to(device)\n",
        "        optimizer.zero_grad()\n",
        "        output, mean, logvar = model(data)\n",
        "        if batch_idx==0:\n",
        "              output_smiles = decode_smiles_from_one_hot(output.cpu().detach().numpy()[0], charset)\n",
        "              print(f\"Input:{input_smiles[0]}\")\n",
        "              print(f\"Ouptput: {output_smiles}\")\n",
        "\n",
        "        loss = vae_loss(output, data, mean, logvar)\n",
        "        loss.backward()\n",
        "        train_loss += loss\n",
        "        optimizer.step()\n",
        "#         if batch_idx % 100 == 0:\n",
        "#             print(f'{epoch} / {batch_idx}\\t{loss:.4f}')\n",
        "    print('train', train_loss / len(train_loader.dataset))\n",
        "    return train_loss / len(train_loader.dataset)\n",
        "\n",
        "for epoch in range(1, epochs + 1):\n",
        "    train_loss = train(epoch)"
      ],
      "metadata": {
        "colab": {
          "base_uri": "https://localhost:8080/"
        },
        "id": "cRhO2_dra7n6",
        "outputId": "3fa678b9-6140-4e13-e50f-2fc93ae67f2d"
      },
      "execution_count": null,
      "outputs": [
        {
          "output_type": "stream",
          "name": "stdout",
          "text": [
            "Input:COc1ccc(OC)c([C@H](C)NC(=O)[C@@H]2CCCN(c3ccc(Cl)nn3)C2)c1\n",
            "Ouptput: ]]SSSSSSSSSSSSSSSSSSSSSSSSSSSSSSSSSSSSSSSSSSSSSSSSSSSSSSSSSSSSSSSSSSSSSSSSSSSSSSSSSSSSSSSSSSSSSSSSSSSSSSSSSSSSSSSSSSSSSS\n"
          ]
        },
        {
          "output_type": "stream",
          "name": "stderr",
          "text": [
            "/usr/local/lib/python3.10/dist-packages/torch/nn/_reduction.py:42: UserWarning: size_average and reduce args will be deprecated, please use reduction='sum' instead.\n",
            "  warnings.warn(warning.format(ret))\n"
          ]
        },
        {
          "output_type": "stream",
          "name": "stdout",
          "text": [
            "train tensor(164.9562, device='cuda:0', grad_fn=<DivBackward0>)\n",
            "Input:Cc1ccc(C)c(-n2nc(C)c(/C=C(/C#N)C(=O)[O-])c2Cl)c1\n",
            "Ouptput: CCCccccccccccCCCCCCccccccccccccccccccccccccc1HHHHHHHHHHHHHHHHHHHHHHHHHHHHHHHHHHHHHHHHHHHHHHHHHHHHHHHHHHHHHHHHHHHHHHHHHHH\n",
            "train tensor(152.6090, device='cuda:0', grad_fn=<DivBackward0>)\n",
            "Input:CCC1CC[NH+]([C@@]2(C[NH3+])CCCS[C@@H]2C)CC1\n",
            "Ouptput: CCCCccCCCCCCCCCCCCCCCCCCCCCCCCCCCCCCCCCCCCHHHHHHHHHHHHHHHHHHHHHHHHHHHHHHHHHHHHHHHHHHHHHHHHHHHHHHHHHHHHHHHHHHHHHHHHHHHHHH\n",
            "train tensor(148.5872, device='cuda:0', grad_fn=<DivBackward0>)\n",
            "Input:COCCN1CCCc2ccc(N)cc21\n",
            "Ouptput: CCCCcccccccccccccccc1HHHHHHHHHHHHHHHHHHHHHHHHHHHHHHHHHHHHHHHHHHHHHHHHHHHHHHHHHHHHHHHHHHHHHHHHHHHHHHHHHHHHHHHHHHHHHHHHHHH\n",
            "train tensor(150.8870, device='cuda:0', grad_fn=<DivBackward0>)\n",
            "Input:COC(=O)c1ccc(N2CC[NH+](C)CC2)c(NC(=O)c2ccc(N3CCC(C)CC3)c([N+](=O)[O-])c2)c1\n",
            "Ouptput: CccccccHHHHHHHHHHHHHHHHHHHHHHHHHHHHHHHHHHHHHHHHHHHHHHHHHHHHHHHHHHHHHHHHHHHHHHHHHHHHHHHHHHHHHHHHHHHHHHHHHHHHHHHHHHHHHHHHH\n"
          ]
        }
      ]
    },
    {
      "cell_type": "code",
      "source": [],
      "metadata": {
        "id": "YUZPqGvub1Ww"
      },
      "execution_count": null,
      "outputs": []
    }
  ]
}