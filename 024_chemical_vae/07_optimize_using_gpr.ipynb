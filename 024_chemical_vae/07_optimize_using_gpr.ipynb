{
 "nbformat": 4,
 "nbformat_minor": 0,
 "metadata": {
  "colab": {
   "provenance": []
  },
  "kernelspec": {
   "name": "python3",
   "display_name": "Python 3"
  },
  "language_info": {
   "name": "python"
  }
 },
 "cells": [
  {
   "cell_type": "code",
   "execution_count": 1,
   "metadata": {
    "id": "8bKoZXZuKyC_"
   },
   "outputs": [],
   "source": [
    "import pandas as pd\n",
    "import torch\n",
    "from torch.utils.data import Dataset, DataLoader, random_split\n",
    "import numpy as np"
   ]
  },
  {
   "cell_type": "code",
   "source": [
    "def one_hot_encode_smiles(smiles, charset, max_length=120):\n",
    "    char_to_int = dict((c, i) for i, c in enumerate(charset))\n",
    "    integer_encoded = [char_to_int[char] for char in smiles]\n",
    "    if len(integer_encoded) > max_length:\n",
    "        integer_encoded = integer_encoded[:max_length]\n",
    "    else:\n",
    "        integer_encoded = integer_encoded + [0] * (max_length - len(integer_encoded))\n",
    "    onehot_encoded = np.zeros((max_length, len(charset)), dtype=np.float32)\n",
    "    for i, val in enumerate(integer_encoded):\n",
    "        onehot_encoded[i, val] = 1.0\n",
    "\n",
    "    return onehot_encoded"
   ],
   "metadata": {
    "id": "uIGGbP4-LQcm"
   },
   "execution_count": 2,
   "outputs": []
  },
  {
   "cell_type": "code",
   "source": [
    "def decode_smiles_from_one_hot(one_hot_encoded, charset):\n",
    "    int_to_char = {i: c for i, c in enumerate(charset)}\n",
    "    integer_decoded = np.argmax(one_hot_encoded, axis=1)\n",
    "    chars = [int_to_char[idx] for idx in integer_decoded]\n",
    "    smiles = \"\".join(chars).rstrip()\n",
    "\n",
    "    return smiles"
   ],
   "metadata": {
    "id": "7cbha25dLR2r"
   },
   "execution_count": 3,
   "outputs": []
  },
  {
   "cell_type": "code",
   "source": [
    "import torch\n",
    "import torch.nn as nn\n",
    "import torch.nn.functional as F\n",
    "import torch.utils.data\n",
    "\n",
    "\n",
    "class MolecularVAE(nn.Module):\n",
    "    def __init__(self):\n",
    "        super(MolecularVAE, self).__init__()\n",
    "\n",
    "        self.conv_1 = nn.Conv1d(120, 9, kernel_size=9)\n",
    "        self.conv_2 = nn.Conv1d(9, 9, kernel_size=9)\n",
    "        self.conv_3 = nn.Conv1d(9, 10, kernel_size=11)\n",
    "        self.linear_0 = nn.Linear(90, 435)\n",
    "        self.linear_1 = nn.Linear(435, 292)\n",
    "        self.linear_2 = nn.Linear(435, 292)\n",
    "\n",
    "        self.linear_3 = nn.Linear(292, 292)\n",
    "        self.gru = nn.GRU(292, 501, 3, batch_first=True)\n",
    "        self.linear_4 = nn.Linear(501, 35)\n",
    "\n",
    "        self.relu = nn.ReLU()\n",
    "        self.softmax = nn.Softmax()\n",
    "\n",
    "    def encode(self, x):\n",
    "        x = self.relu(self.conv_1(x))\n",
    "        x = self.relu(self.conv_2(x))\n",
    "        x = self.relu(self.conv_3(x))\n",
    "        x = x.view(x.size(0), -1)\n",
    "        x = F.selu(self.linear_0(x))\n",
    "        return self.linear_1(x), self.linear_2(x)\n",
    "\n",
    "    def sampling(self, z_mean, z_logvar):\n",
    "        epsilon = 1e-2 * torch.randn_like(z_logvar)\n",
    "        return torch.exp(0.5 * z_logvar) * epsilon + z_mean\n",
    "\n",
    "    def decode(self, z):\n",
    "        z = F.selu(self.linear_3(z))\n",
    "        z = z.view(z.size(0), 1, z.size(-1)).repeat(1, 120, 1)\n",
    "        output, hn = self.gru(z)\n",
    "        out_reshape = output.contiguous().view(-1, output.size(-1))\n",
    "        y0 = F.softmax(self.linear_4(out_reshape), dim=1)\n",
    "        y = y0.contiguous().view(output.size(0), -1, y0.size(-1))\n",
    "        return y\n",
    "\n",
    "    def forward(self, x):\n",
    "        z_mean, z_logvar = self.encode(x)\n",
    "        z = self.sampling(z_mean, z_logvar)\n",
    "        return self.decode(z), z_mean, z_logvar"
   ],
   "metadata": {
    "id": "5_rP7vhaLT7u"
   },
   "execution_count": 4,
   "outputs": []
  },
  {
   "cell_type": "code",
   "source": [
    "model = MolecularVAE()\n",
    "checkpoint = torch.load(\"/content/drive/MyDrive/checkpoints/checkpoint_epoch_60.pt\")\n",
    "model.load_state_dict(checkpoint[\"model_state_dict\"])\n",
    "model.eval()\n",
    "device = torch.device(\"cuda\" if torch.cuda.is_available() else \"cpu\")\n",
    "model = model.to(device)"
   ],
   "metadata": {
    "id": "D7uJv61_LVy7"
   },
   "execution_count": 21,
   "outputs": []
  },
  {
   "cell_type": "code",
   "source": [
    "df = pd.read_csv(\"250k_rndm_zinc_drugs_clean_3.csv\")\n",
    "df[\"smiles\"] = df[\"smiles\"].str.rstrip(\"\\n\")"
   ],
   "metadata": {
    "id": "YJ-AxIAmLYqO"
   },
   "execution_count": 22,
   "outputs": []
  },
  {
   "cell_type": "code",
   "source": [
    "charset = set(\"\".join(df[\"smiles\"].values.tolist()))\n",
    "charset = sorted(list(charset))\n",
    "charset.insert(0, \" \")"
   ],
   "metadata": {
    "id": "NG_xnnfDLf7i"
   },
   "execution_count": 23,
   "outputs": []
  },
  {
   "cell_type": "code",
   "source": [
    "len(charset)"
   ],
   "metadata": {
    "colab": {
     "base_uri": "https://localhost:8080/"
    },
    "id": "7cR5CdS2UeI_",
    "outputId": "896d97d4-a627-459e-e2f1-ac95ec6db407"
   },
   "execution_count": 24,
   "outputs": [
    {
     "output_type": "execute_result",
     "data": {
      "text/plain": [
       "35"
      ]
     },
     "metadata": {},
     "execution_count": 24
    }
   ]
  },
  {
   "cell_type": "code",
   "source": [
    "sampled = df.sample(2000)\n",
    "batch_size = 128\n",
    "results = []\n",
    "\n",
    "for i in range(0, len(sampled), batch_size):\n",
    "    batch = sampled.iloc[i : i + batch_size]\n",
    "\n",
    "    encoded_batch = [\n",
    "        one_hot_encode_smiles(smiles, charset) for smiles in batch[\"smiles\"]\n",
    "    ]\n",
    "    encoded_tensor = torch.tensor(encoded_batch).to(device)\n",
    "\n",
    "    with torch.no_grad():\n",
    "        output, mean, logvar = model(encoded_tensor)\n",
    "\n",
    "    output_smiles = [\n",
    "        decode_smiles_from_one_hot(out.cpu().numpy(), charset) for out in output\n",
    "    ]\n",
    "\n",
    "    batch_results = pd.DataFrame(\n",
    "        {\n",
    "            \"generated_smiles\": output_smiles,\n",
    "            **{f\"mean_{i}\": mean.cpu().numpy()[:, i] for i in range(mean.shape[1])},\n",
    "            **{\n",
    "                f\"logvar_{i}\": logvar.cpu().numpy()[:, i]\n",
    "                for i in range(logvar.shape[1])\n",
    "            },\n",
    "        },\n",
    "        index=batch.index,\n",
    "    )\n",
    "\n",
    "    results.append(batch_results)\n",
    "\n",
    "result = pd.concat(results)\n",
    "sampled = pd.concat([sampled, result], axis=1)"
   ],
   "metadata": {
    "id": "vdh7xe2MLqOa"
   },
   "execution_count": 25,
   "outputs": []
  },
  {
   "cell_type": "code",
   "source": [
    "from sklearn.decomposition import PCA\n",
    "\n",
    "X = sampled.loc[:, sampled.columns.str.startswith(\"mean\")]\n",
    "n_components = 10\n",
    "pca = PCA(n_components=n_components)\n",
    "X_pca = pca.fit_transform(X)"
   ],
   "metadata": {
    "id": "SPD-Uls_LzDV"
   },
   "execution_count": 26,
   "outputs": []
  },
  {
   "cell_type": "code",
   "source": [
    "y = sampled[\"logP\"]"
   ],
   "metadata": {
    "id": "na0LyJBEMeQw"
   },
   "execution_count": 27,
   "outputs": []
  },
  {
   "cell_type": "code",
   "source": [
    "from sklearn.preprocessing import StandardScaler\n",
    "\n",
    "sc = StandardScaler()\n",
    "y_std = sc.fit_transform(y.values.reshape(-1, 1))"
   ],
   "metadata": {
    "id": "8__PEmUJMpq_"
   },
   "execution_count": 28,
   "outputs": []
  },
  {
   "cell_type": "code",
   "source": [
    "from sklearn.gaussian_process import GaussianProcessRegressor\n",
    "from sklearn.gaussian_process.kernels import RBF, WhiteKernel\n",
    "\n",
    "kernel = 1.0 * RBF() + WhiteKernel()\n",
    "gpr = GaussianProcessRegressor(kernel=kernel, alpha=0)"
   ],
   "metadata": {
    "id": "B4xhZoeiMwjN"
   },
   "execution_count": 29,
   "outputs": []
  },
  {
   "cell_type": "code",
   "source": [
    "from sklearn.model_selection import train_test_split\n",
    "\n",
    "X_train, X_test, y_train, y_test = train_test_split(\n",
    "    X_pca, y_std, random_state=42, train_size=0.8\n",
    ")"
   ],
   "metadata": {
    "id": "I7_54m9SM08g"
   },
   "execution_count": 30,
   "outputs": []
  },
  {
   "cell_type": "code",
   "source": [
    "gpr.fit(X_train, y_train)"
   ],
   "metadata": {
    "colab": {
     "base_uri": "https://localhost:8080/",
     "height": 91
    },
    "id": "dC0V5apyM7US",
    "outputId": "658cbe9c-176f-4eb7-a636-6093744fd66b"
   },
   "execution_count": 31,
   "outputs": [
    {
     "output_type": "execute_result",
     "data": {
      "text/plain": [
       "GaussianProcessRegressor(alpha=0,\n",
       "                         kernel=1**2 * RBF(length_scale=1) + WhiteKernel(noise_level=1))"
      ],
      "text/html": [
       "<style>#sk-container-id-1 {color: black;}#sk-container-id-1 pre{padding: 0;}#sk-container-id-1 div.sk-toggleable {background-color: white;}#sk-container-id-1 label.sk-toggleable__label {cursor: pointer;display: block;width: 100%;margin-bottom: 0;padding: 0.3em;box-sizing: border-box;text-align: center;}#sk-container-id-1 label.sk-toggleable__label-arrow:before {content: \"▸\";float: left;margin-right: 0.25em;color: #696969;}#sk-container-id-1 label.sk-toggleable__label-arrow:hover:before {color: black;}#sk-container-id-1 div.sk-estimator:hover label.sk-toggleable__label-arrow:before {color: black;}#sk-container-id-1 div.sk-toggleable__content {max-height: 0;max-width: 0;overflow: hidden;text-align: left;background-color: #f0f8ff;}#sk-container-id-1 div.sk-toggleable__content pre {margin: 0.2em;color: black;border-radius: 0.25em;background-color: #f0f8ff;}#sk-container-id-1 input.sk-toggleable__control:checked~div.sk-toggleable__content {max-height: 200px;max-width: 100%;overflow: auto;}#sk-container-id-1 input.sk-toggleable__control:checked~label.sk-toggleable__label-arrow:before {content: \"▾\";}#sk-container-id-1 div.sk-estimator input.sk-toggleable__control:checked~label.sk-toggleable__label {background-color: #d4ebff;}#sk-container-id-1 div.sk-label input.sk-toggleable__control:checked~label.sk-toggleable__label {background-color: #d4ebff;}#sk-container-id-1 input.sk-hidden--visually {border: 0;clip: rect(1px 1px 1px 1px);clip: rect(1px, 1px, 1px, 1px);height: 1px;margin: -1px;overflow: hidden;padding: 0;position: absolute;width: 1px;}#sk-container-id-1 div.sk-estimator {font-family: monospace;background-color: #f0f8ff;border: 1px dotted black;border-radius: 0.25em;box-sizing: border-box;margin-bottom: 0.5em;}#sk-container-id-1 div.sk-estimator:hover {background-color: #d4ebff;}#sk-container-id-1 div.sk-parallel-item::after {content: \"\";width: 100%;border-bottom: 1px solid gray;flex-grow: 1;}#sk-container-id-1 div.sk-label:hover label.sk-toggleable__label {background-color: #d4ebff;}#sk-container-id-1 div.sk-serial::before {content: \"\";position: absolute;border-left: 1px solid gray;box-sizing: border-box;top: 0;bottom: 0;left: 50%;z-index: 0;}#sk-container-id-1 div.sk-serial {display: flex;flex-direction: column;align-items: center;background-color: white;padding-right: 0.2em;padding-left: 0.2em;position: relative;}#sk-container-id-1 div.sk-item {position: relative;z-index: 1;}#sk-container-id-1 div.sk-parallel {display: flex;align-items: stretch;justify-content: center;background-color: white;position: relative;}#sk-container-id-1 div.sk-item::before, #sk-container-id-1 div.sk-parallel-item::before {content: \"\";position: absolute;border-left: 1px solid gray;box-sizing: border-box;top: 0;bottom: 0;left: 50%;z-index: -1;}#sk-container-id-1 div.sk-parallel-item {display: flex;flex-direction: column;z-index: 1;position: relative;background-color: white;}#sk-container-id-1 div.sk-parallel-item:first-child::after {align-self: flex-end;width: 50%;}#sk-container-id-1 div.sk-parallel-item:last-child::after {align-self: flex-start;width: 50%;}#sk-container-id-1 div.sk-parallel-item:only-child::after {width: 0;}#sk-container-id-1 div.sk-dashed-wrapped {border: 1px dashed gray;margin: 0 0.4em 0.5em 0.4em;box-sizing: border-box;padding-bottom: 0.4em;background-color: white;}#sk-container-id-1 div.sk-label label {font-family: monospace;font-weight: bold;display: inline-block;line-height: 1.2em;}#sk-container-id-1 div.sk-label-container {text-align: center;}#sk-container-id-1 div.sk-container {/* jupyter's `normalize.less` sets `[hidden] { display: none; }` but bootstrap.min.css set `[hidden] { display: none !important; }` so we also need the `!important` here to be able to override the default hidden behavior on the sphinx rendered scikit-learn.org. See: https://github.com/scikit-learn/scikit-learn/issues/21755 */display: inline-block !important;position: relative;}#sk-container-id-1 div.sk-text-repr-fallback {display: none;}</style><div id=\"sk-container-id-1\" class=\"sk-top-container\"><div class=\"sk-text-repr-fallback\"><pre>GaussianProcessRegressor(alpha=0,\n",
       "                         kernel=1**2 * RBF(length_scale=1) + WhiteKernel(noise_level=1))</pre><b>In a Jupyter environment, please rerun this cell to show the HTML representation or trust the notebook. <br />On GitHub, the HTML representation is unable to render, please try loading this page with nbviewer.org.</b></div><div class=\"sk-container\" hidden><div class=\"sk-item\"><div class=\"sk-estimator sk-toggleable\"><input class=\"sk-toggleable__control sk-hidden--visually\" id=\"sk-estimator-id-1\" type=\"checkbox\" checked><label for=\"sk-estimator-id-1\" class=\"sk-toggleable__label sk-toggleable__label-arrow\">GaussianProcessRegressor</label><div class=\"sk-toggleable__content\"><pre>GaussianProcessRegressor(alpha=0,\n",
       "                         kernel=1**2 * RBF(length_scale=1) + WhiteKernel(noise_level=1))</pre></div></div></div></div></div>"
      ]
     },
     "metadata": {},
     "execution_count": 31
    }
   ]
  },
  {
   "cell_type": "code",
   "source": [
    "y_pred_train_mean, y_pred_train_std = gpr.predict(X_train, return_std=True)\n",
    "y_pred_test_mean, y_pred_test_std = gpr.predict(X_test, return_std=True)"
   ],
   "metadata": {
    "id": "IEFrM19KNAt6"
   },
   "execution_count": 32,
   "outputs": []
  },
  {
   "cell_type": "code",
   "source": [
    "import matplotlib.pyplot as plt\n",
    "\n",
    "fig = plt.figure()\n",
    "ax = fig.add_subplot(111)\n",
    "ax.errorbar(\n",
    "    y_train,\n",
    "    y_pred_train_mean,\n",
    "    yerr=y_pred_train_std,\n",
    "    linestyle=\"None\",\n",
    "    capsize=3,\n",
    "    marker=\"o\",\n",
    "    color=\"gray\",\n",
    "    alpha=0.3,\n",
    "    label=\"train\",\n",
    ")\n",
    "ax.errorbar(\n",
    "    y_test,\n",
    "    y_pred_test_mean,\n",
    "    yerr=y_pred_test_std,\n",
    "    linestyle=\"None\",\n",
    "    capsize=3,\n",
    "    marker=\"o\",\n",
    "    color=\"blue\",\n",
    "    alpha=0.3,\n",
    "    label=\"test\",\n",
    ")\n",
    "ax.plot([-6, 3], [-6, 3], color=\"black\", linewidth=1.0)\n",
    "ax.legend()\n",
    "ax.set_xlim(-6, 3)\n",
    "ax.set_ylim(-6, 3)\n",
    "ax.set_xlabel(\"True\")\n",
    "ax.set_ylabel(\"Predict\")\n",
    "ax.set_aspect(\"equal\")"
   ],
   "metadata": {
    "colab": {
     "base_uri": "https://localhost:8080/",
     "height": 455
    },
    "id": "jVRHNrF-NEdR",
    "outputId": "23456282-253c-4e70-b7ae-f798b08cd0a5"
   },
   "execution_count": 33,
   "outputs": [
    {
     "output_type": "display_data",
     "data": {
      "text/plain": [
       "<Figure size 640x480 with 1 Axes>"
      ],
      "image/png": "[encoded data removed]"
     },
     "metadata": {}
    }
   ]
  },
  {
   "cell_type": "code",
   "source": [
    "n_iter = 10\n",
    "n_sample_batch = 10\n",
    "for i in range(n_iter):\n",
    "    X_pca_cand = np.zeros((n_components, n_sample_batch))\n",
    "    for j in range(n_components):\n",
    "        X_pca_cand[:, j] = np.random.uniform(\n",
    "            X_train[:, j].min(), X_train[:, j].max(), n_sample_batch\n",
    "        )\n",
    "    y_cand_pred_mean, y_cand_pred_std = gpr.predict(X_pca_cand, return_std=True)"
   ],
   "metadata": {
    "id": "2hFrePjYNH_U"
   },
   "execution_count": 34,
   "outputs": []
  },
  {
   "cell_type": "code",
   "source": [
    "from scipy.stats import norm\n",
    "\n",
    "\n",
    "def expected_improvement(y_mean, y_std, y_best, direction, xi=0.01):\n",
    "    with np.errstate(divide=\"warn\"):\n",
    "        if direction == \"maximize\":\n",
    "            imp = y_mean - y_best - xi\n",
    "        elif direction == \"minimize\":\n",
    "            imp = y_best - y_mean - xi\n",
    "\n",
    "        Z = imp / y_std\n",
    "        ei = imp * norm.cdf(Z) + y_std * norm.pdf(Z)\n",
    "        ei[y_std == 0.0] = 0.0\n",
    "\n",
    "    return ei"
   ],
   "metadata": {
    "id": "1OgyvDoy-QVS"
   },
   "execution_count": 35,
   "outputs": []
  },
  {
   "cell_type": "code",
   "source": [
    "y_cand_ei = expected_improvement(\n",
    "    y_cand_pred_mean, y_cand_pred_std, y_train.min(), direction=\"minimize\"\n",
    ")"
   ],
   "metadata": {
    "id": "9apDOeuq_GEW"
   },
   "execution_count": 36,
   "outputs": []
  },
  {
   "cell_type": "code",
   "source": [
    "y_cand_ei"
   ],
   "metadata": {
    "colab": {
     "base_uri": "https://localhost:8080/"
    },
    "id": "_PuvoEfS_O2z",
    "outputId": "3a07a3d1-7b6e-43b7-d287-24fe4dd2f25e"
   },
   "execution_count": 37,
   "outputs": [
    {
     "output_type": "execute_result",
     "data": {
      "text/plain": [
       "array([9.81080372e-10, 6.14758934e-08, 1.68689765e-10, 2.09628552e-08,\n",
       "       6.46091670e-10, 1.99028030e-07, 3.51454109e-13, 3.04897106e-10,\n",
       "       7.12441421e-10, 4.26412859e-12])"
      ]
     },
     "metadata": {},
     "execution_count": 37
    }
   ]
  },
  {
   "cell_type": "code",
   "source": [
    "y_cand_pred_mean"
   ],
   "metadata": {
    "colab": {
     "base_uri": "https://localhost:8080/"
    },
    "id": "OKrxEHCi_VdO",
    "outputId": "caa30e97-fa5f-4c23-9191-0c14d6ae0eec"
   },
   "execution_count": 38,
   "outputs": [
    {
     "output_type": "execute_result",
     "data": {
      "text/plain": [
       "array([ 0.1459613 , -0.30227379,  0.49834702, -0.36574886,  0.44405018,\n",
       "       -0.81451307,  1.21371814,  0.63144782,  0.12398622,  1.19019311])"
      ]
     },
     "metadata": {},
     "execution_count": 38
    }
   ]
  },
  {
   "cell_type": "code",
   "source": [
    "X_exp = X_pca[:50].copy()\n",
    "y_exp = y_std[:50].copy()\n",
    "result = {}\n",
    "n_iter = 50\n",
    "n_sample_batch = 20\n",
    "\n",
    "for i in range(1, n_iter + 1):\n",
    "    gpr.fit(X_exp, y_exp)\n",
    "    X_pca_cand = np.zeros((n_sample_batch, n_components))\n",
    "    for j in range(n_components):\n",
    "        X_pca_cand[:, j] = np.random.uniform(\n",
    "            X_pca[:, j].min(), X_pca[:, j].max(), n_sample_batch\n",
    "        )\n",
    "    y_cand_pred_mean, y_cand_pred_std = gpr.predict(X_pca_cand, return_std=True)\n",
    "    y_cand_ei = expected_improvement(\n",
    "        y_cand_pred_mean, y_cand_pred_std, y.min(), direction=\"minimize\"\n",
    "    )\n",
    "    top_3_indices = np.argsort(y_cand_ei)[-3:][::-1]\n",
    "    X_top_3 = X_pca_cand[top_3_indices]\n",
    "    y_top_3 = y_cand_pred_mean[top_3_indices]\n",
    "\n",
    "    X_exp = np.vstack((X_exp, X_top_3))\n",
    "    y_exp = np.append(y_exp, y_top_3)\n",
    "\n",
    "    result[i] = {\n",
    "        \"mean\": y_cand_pred_mean,\n",
    "        \"std\": y_cand_pred_std,\n",
    "        \"ei\": y_cand_ei,\n",
    "        \"X_exp\": X_exp.copy(),\n",
    "        \"y_exp\": y_exp.copy(),\n",
    "        \"y_top_3\": y_top_3.copy(),\n",
    "        \"X_top_3\": X_top_3.copy(),\n",
    "    }\n",
    "    if i % 10 == 0:\n",
    "        print(f\"Batch {i}: {y_exp.min()},{y_exp.mean()}, {y_exp.max()}\")"
   ],
   "metadata": {
    "colab": {
     "base_uri": "https://localhost:8080/"
    },
    "id": "2Ee96sUj_YO9",
    "outputId": "e36b81ed-f33b-4f45-8d3b-432e1a500c25"
   },
   "execution_count": 56,
   "outputs": [
    {
     "output_type": "stream",
     "name": "stderr",
     "text": [
      "/usr/local/lib/python3.10/dist-packages/sklearn/gaussian_process/kernels.py:419: ConvergenceWarning: The optimal value found for dimension 0 of parameter k2__noise_level is close to the specified lower bound 1e-05. Decreasing the bound and calling fit again may find a better value.\n",
      "  warnings.warn(\n",
      "/usr/local/lib/python3.10/dist-packages/sklearn/gaussian_process/kernels.py:419: ConvergenceWarning: The optimal value found for dimension 0 of parameter k2__noise_level is close to the specified lower bound 1e-05. Decreasing the bound and calling fit again may find a better value.\n",
      "  warnings.warn(\n",
      "/usr/local/lib/python3.10/dist-packages/sklearn/gaussian_process/kernels.py:419: ConvergenceWarning: The optimal value found for dimension 0 of parameter k1__k1__constant_value is close to the specified lower bound 1e-05. Decreasing the bound and calling fit again may find a better value.\n",
      "  warnings.warn(\n"
     ]
    },
    {
     "output_type": "stream",
     "name": "stdout",
     "text": [
      "Batch 10: -1.2691083085844632,0.06987351307593193, 1.7615743589336215\n",
      "Batch 20: -1.2691083085844632,0.03391386815056023, 1.7615743589336215\n"
     ]
    },
    {
     "output_type": "stream",
     "name": "stderr",
     "text": [
      "/usr/local/lib/python3.10/dist-packages/sklearn/gaussian_process/kernels.py:419: ConvergenceWarning: The optimal value found for dimension 0 of parameter k1__k1__constant_value is close to the specified lower bound 1e-05. Decreasing the bound and calling fit again may find a better value.\n",
      "  warnings.warn(\n"
     ]
    },
    {
     "output_type": "stream",
     "name": "stdout",
     "text": [
      "Batch 30: -1.2691083085844632,0.016330431540280153, 1.7615743589336215\n",
      "Batch 40: -1.2691083085844632,0.007530739643300285, 1.7615743589336215\n",
      "Batch 50: -1.2691083085844632,0.0019706808149720857, 1.7615743589336215\n"
     ]
    }
   ]
  },
  {
   "cell_type": "code",
   "source": [
    "fig = plt.figure()\n",
    "ax = fig.add_subplot(111)\n",
    "ax.scatter([0 for _ in range(50)], y_std[:50], alpha=0.3, color=\"orange\")\n",
    "\n",
    "for key, item in result.items():\n",
    "    ax.scatter(\n",
    "        [key for _ in range(n_sample_batch)], item[\"mean\"], color=\"gray\", alpha=0.3\n",
    "    )\n",
    "    ax.scatter([key for _ in range(3)], item[\"y_top_3\"], color=\"blue\")\n",
    "ax.set_ylim(-2, 1)\n",
    "ax.set_xlim(-10, 60)\n",
    "ax.set_xlabel(\"Trials\")\n",
    "ax.set_ylabel(\"LogP\")"
   ],
   "metadata": {
    "colab": {
     "base_uri": "https://localhost:8080/",
     "height": 473
    },
    "id": "MNgX4tXvAv43",
    "outputId": "a9664e4a-a437-4c51-ae07-005d4796fea9"
   },
   "execution_count": 57,
   "outputs": [
    {
     "output_type": "execute_result",
     "data": {
      "text/plain": [
       "Text(0, 0.5, 'LogP')"
      ]
     },
     "metadata": {},
     "execution_count": 57
    },
    {
     "output_type": "display_data",
     "data": {
      "text/plain": [
       "<Figure size 640x480 with 1 Axes>"
      ],
      "image/png": "[encoded data removed]"
     },
     "metadata": {}
    }
   ]
  },
  {
   "cell_type": "code",
   "source": [
    "z_opt = pca.inverse_transform(result[50][\"X_top_3\"])"
   ],
   "metadata": {
    "id": "1Fx1vm3BV2NH"
   },
   "execution_count": 76,
   "outputs": []
  },
  {
   "cell_type": "code",
   "source": [
    "ohe_opt = model.decode(torch.FloatTensor(z_opt))"
   ],
   "metadata": {
    "id": "ONbfBgcdXcFH"
   },
   "execution_count": 86,
   "outputs": []
  },
  {
   "cell_type": "code",
   "source": [
    "ohe_opt"
   ],
   "metadata": {
    "colab": {
     "base_uri": "https://localhost:8080/"
    },
    "id": "8V6kge7uWdw9",
    "outputId": "f4fc7bab-049a-433b-c5ef-ce40a01253e2"
   },
   "execution_count": 87,
   "outputs": [
    {
     "output_type": "execute_result",
     "data": {
      "text/plain": [
       "tensor([[[2.2370e-06, 2.0842e-07, 2.8335e-06,  ..., 6.1389e-07,\n",
       "          1.2396e-07, 1.4457e-07],\n",
       "         [3.1350e-09, 1.7453e-07, 1.1116e-07,  ..., 7.6251e-12,\n",
       "          3.0640e-09, 5.8778e-12],\n",
       "         [2.0535e-07, 7.0426e-07, 9.8771e-01,  ..., 3.2927e-09,\n",
       "          1.2669e-08, 1.6320e-08],\n",
       "         ...,\n",
       "         [1.0000e+00, 1.1750e-11, 4.4661e-11,  ..., 1.8705e-11,\n",
       "          7.4436e-10, 8.4557e-10],\n",
       "         [1.0000e+00, 1.1683e-11, 4.4509e-11,  ..., 1.8694e-11,\n",
       "          7.5151e-10, 8.4647e-10],\n",
       "         [1.0000e+00, 1.1617e-11, 4.4362e-11,  ..., 1.8681e-11,\n",
       "          7.5852e-10, 8.4725e-10]],\n",
       "\n",
       "        [[1.6726e-06, 5.4744e-08, 5.5069e-07,  ..., 1.1518e-08,\n",
       "          1.3268e-05, 7.9596e-09],\n",
       "         [6.9746e-08, 8.0775e-07, 2.4687e-06,  ..., 1.7565e-09,\n",
       "          1.2777e-05, 4.1685e-09],\n",
       "         [3.6529e-09, 9.4282e-09, 1.9373e-07,  ..., 1.0085e-10,\n",
       "          4.1167e-07, 5.5923e-12],\n",
       "         ...,\n",
       "         [1.0000e+00, 1.0608e-12, 2.2279e-11,  ..., 3.0887e-12,\n",
       "          1.0578e-09, 4.4003e-11],\n",
       "         [1.0000e+00, 1.0678e-12, 2.2312e-11,  ..., 3.1102e-12,\n",
       "          1.0708e-09, 4.4053e-11],\n",
       "         [1.0000e+00, 1.0750e-12, 2.2347e-11,  ..., 3.1320e-12,\n",
       "          1.0833e-09, 4.4105e-11]],\n",
       "\n",
       "        [[2.1602e-06, 1.0996e-07, 1.4636e-05,  ..., 1.0950e-06,\n",
       "          1.3387e-07, 4.5456e-08],\n",
       "         [6.8937e-06, 1.6955e-02, 1.1512e-02,  ..., 9.9113e-08,\n",
       "          1.3025e-07, 6.0551e-08],\n",
       "         [1.2704e-07, 2.0801e-06, 5.4773e-03,  ..., 1.6044e-09,\n",
       "          8.4616e-09, 3.2340e-10],\n",
       "         ...,\n",
       "         [1.0000e+00, 2.4641e-11, 2.6195e-11,  ..., 1.9914e-12,\n",
       "          1.7572e-11, 5.0258e-11],\n",
       "         [1.0000e+00, 2.5243e-11, 2.6349e-11,  ..., 1.9046e-12,\n",
       "          1.7766e-11, 4.6885e-11],\n",
       "         [1.0000e+00, 2.5040e-11, 2.4949e-11,  ..., 1.9942e-12,\n",
       "          1.7622e-11, 4.9758e-11]]], grad_fn=<ViewBackward0>)"
      ]
     },
     "metadata": {},
     "execution_count": 87
    }
   ]
  },
  {
   "cell_type": "code",
   "source": [
    "generated_smiles = [\n",
    "    decode_smiles_from_one_hot(ohe.detach().cpu().numpy(), charset) for ohe in ohe_opt\n",
    "]"
   ],
   "metadata": {
    "id": "fPxgy6fyWvtw"
   },
   "execution_count": 89,
   "outputs": []
  },
  {
   "cell_type": "code",
   "source": [
    "generated_smiles"
   ],
   "metadata": {
    "colab": {
     "base_uri": "https://localhost:8080/"
    },
    "id": "MJfcK8T4XKLq",
    "outputId": "a6acd151-3cf2-4406-9a57-61e3dc05b662"
   },
   "execution_count": 94,
   "outputs": [
    {
     "output_type": "execute_result",
     "data": {
      "text/plain": [
       "['CC(C)=11CCC[C@@@]]cc2c(C)[N)]2)CCN=C',\n",
       " 'O[C@H](Ocnccccccc2ccnnnn1)NCCS[C@H]c2ccccc2))c1cccccccc1',\n",
       " 'COCCOc1cccc((=O)c2(c3cc(C(=O)c4cccc4CC))))12']"
      ]
     },
     "metadata": {},
     "execution_count": 94
    }
   ]
  },
  {
   "cell_type": "code",
   "source": [
    "!pip install rdkit"
   ],
   "metadata": {
    "colab": {
     "base_uri": "https://localhost:8080/"
    },
    "id": "SymEhYdNZHn0",
    "outputId": "e63fcb6b-329f-43e7-a33e-e2171927d977"
   },
   "execution_count": 95,
   "outputs": [
    {
     "output_type": "stream",
     "name": "stdout",
     "text": [
      "Requirement already satisfied: rdkit in /usr/local/lib/python3.10/dist-packages (2024.3.5)\n",
      "Requirement already satisfied: numpy in /usr/local/lib/python3.10/dist-packages (from rdkit) (1.26.4)\n",
      "Requirement already satisfied: Pillow in /usr/local/lib/python3.10/dist-packages (from rdkit) (9.4.0)\n"
     ]
    }
   ]
  },
  {
   "cell_type": "code",
   "source": [
    "from rdkit import Chem\n",
    "from rdkit.Chem import Draw\n",
    "\n",
    "Draw.MolsToGridImage(\n",
    "    [Chem.MolFromSmiles(smiles) for smiles in generated_smiles], molsPerRow=10\n",
    ")"
   ],
   "metadata": {
    "colab": {
     "base_uri": "https://localhost:8080/",
     "height": 253
    },
    "id": "7h6LwkL9Y73Z",
    "outputId": "4990584b-515f-4921-d866-309377d1fd70"
   },
   "execution_count": 96,
   "outputs": [
    {
     "output_type": "stream",
     "name": "stderr",
     "text": [
      "[10:18:18] SMILES Parse Error: syntax error while parsing: CC(C)=11CCC[C@@@]]cc2c(C)[N)]2)CCN=C\n",
      "[10:18:18] SMILES Parse Error: Failed parsing SMILES 'CC(C)=11CCC[C@@@]]cc2c(C)[N)]2)CCN=C' for input: 'CC(C)=11CCC[C@@@]]cc2c(C)[N)]2)CCN=C'\n",
      "[10:18:18] SMILES Parse Error: extra close parentheses while parsing: O[C@H](Ocnccccccc2ccnnnn1)NCCS[C@H]c2ccccc2))c1cccccccc1\n",
      "[10:18:18] SMILES Parse Error: Failed parsing SMILES 'O[C@H](Ocnccccccc2ccnnnn1)NCCS[C@H]c2ccccc2))c1cccccccc1' for input: 'O[C@H](Ocnccccccc2ccnnnn1)NCCS[C@H]c2ccccc2))c1cccccccc1'\n",
      "[10:18:18] SMILES Parse Error: syntax error while parsing: COCCOc1cccc((=O)c2(c3cc(C(=O)c4cccc4CC))))12\n",
      "[10:18:18] SMILES Parse Error: Failed parsing SMILES 'COCCOc1cccc((=O)c2(c3cc(C(=O)c4cccc4CC))))12' for input: 'COCCOc1cccc((=O)c2(c3cc(C(=O)c4cccc4CC))))12'\n"
     ]
    },
    {
     "output_type": "execute_result",
     "data": {
      "image/png": "[encoded data removed]",
      "text/plain": [
       "<IPython.core.display.Image object>"
      ]
     },
     "metadata": {},
     "execution_count": 96
    }
   ]
  },
  {
   "cell_type": "code",
   "source": [
    "all_generated_smiles = []\n",
    "for trial, res in result.items():\n",
    "    z_opt = pca.inverse_transform(res[\"X_top_3\"])\n",
    "    ohe_opt = model.decode(torch.FloatTensor(z_opt))\n",
    "    all_generated_smiles += [\n",
    "        decode_smiles_from_one_hot(ohe.detach().cpu().numpy(), charset)\n",
    "        for ohe in ohe_opt\n",
    "    ]"
   ],
   "metadata": {
    "id": "INTkeLTYZbUo"
   },
   "execution_count": 102,
   "outputs": []
  },
  {
   "cell_type": "code",
   "source": [
    "valid_smiles = []\n",
    "for smi in all_generated_smiles:\n",
    "    if Chem.MolFromSmiles(smi) is not None:\n",
    "        valid_smiles.append(smi)\n",
    "    else:\n",
    "        print(f\"{smi} is invalid\")"
   ],
   "metadata": {
    "colab": {
     "base_uri": "https://localhost:8080/"
    },
    "id": "nxuATFI8gNUh",
    "outputId": "bafc5528-624b-41cc-be80-13e8189f8f7b"
   },
   "execution_count": 107,
   "outputs": [
    {
     "output_type": "stream",
     "name": "stdout",
     "text": [
      "CC(CN(C)c1ccc(())([C@H]2C[CH+](CCCCCC=CCO1 is invalid\n",
      "CC1=H](CCc2cc(CC[NH+](CCC[C@@](CCCCC()))CCC@H]C]CC1 is invalid\n",
      "CCCC(=C)c1C[C@@]c(NCc2nnnn)))ccccc11 is invalid\n",
      "CC[C@@H]1CCC[C@@H](c1cncc1 is invalid\n",
      "C/CCHH+]c1ccc(CC=O))CC1CCC[C@]11 is invalid\n",
      "COc1ccccc(NCC[C@H](C(CCCCC@]4(cc(CC(=O))CCCCCCCCCCcCCCCCC))c2)c1 is invalid\n",
      "cc1cnccccccccccccccccc1 is invalid\n",
      "Ccccccc2C(=S)SCCl)o1 is invalid\n",
      "COc1cccc(N[C@@H]2c2[C@H](C))2)CCC)c1 is invalid\n",
      "CCCC@@+]1CC[C@H](C)CC(=)))c1C(F)c1 is invalid\n",
      "C=C(O))c1ccccc)n1)[C@@H](C(==(CCCCCCCCC((CCCCCCCCCCCcccccccccccc)CCC1 is invalid\n",
      "CCc1ccccc1N1CC[C@H](NCCCC=O)c2ccccc2)C1 is invalid\n",
      "Cc1ccccc2c2cccc(C)[C@H](CO)c3ccc(CCC())))C3)cc12 is invalid\n",
      "CCc(n(C(n2ccc(C())ccnn2)))cccc2CCC((=C)2 is invalid\n",
      "CC(CC)C)CCCC[C@H](S(N(N(CC((=CC(=O)C22(())cccccccccc22)C1 is invalid\n",
      "Cc1ncc(C((=O)c2c(C)nnnH]c2C2CCCC[C@H]1 is invalid\n",
      "CC(CO(c1ccc(C(=O)c2ccccc332)cc1C is invalid\n",
      "C[NH+]1CCC@@H](Cc2ccn(C)cc22)CC1==O is invalid\n",
      "O[CN+]1c(cc2cccccCl)c22ccccc1C1 is invalid\n",
      "Cc1cccc(-n2c((C[nH)ccc(C(=O)C[NH]((C)cc()cnn22)c1 is invalid\n",
      "CC[C@H]1CC[CHH](C)C)CCC)#N is invalid\n",
      "CC(C)N1CC([C@@H](CC[C@H](O)cccccc(Clcc3CC22OC)C1 is invalid\n",
      "CC(C)O1cccc(CC=C(=O)N2cccc(2))11C is invalid\n",
      "CCCC(Fn1c(C[C@H](CCSc2ccccc21N is invalid\n",
      "CC(C)nc1cc(C(N+])CCC(=O)Nc2ccc(F)c1 is invalid\n",
      "Cccnnn(CN[C@@H]2CC[C@@](Oc3ccccc3Cl))C2C22))n[HH])c111 is invalid\n",
      "CCCCCOO11(CC[[@H](CNC(=C(N((c3ccccc(C()CC))22cccccccccccccccccccccccc(CC)11 is invalid\n",
      "Cccccccc2ccc1CCCC==)C is invalid\n",
      "Clc1cccc(Ir)cc())c1 is invalid\n",
      "CC(=C(CC))[C@]]1CCCC(=O)NCN()[C@H]11 is invalid\n",
      "C[C@+](CC)cccc(CC(NON/)CCC[C@H](c2ccc(C))cC)ccccc1 is invalid\n",
      "CCNH+](CC[CH]c1CCC[C@H]1CC is invalid\n",
      "COCCOc1ccc(C[C@H]2Cc3cccc32)s2NNCC is invalid\n",
      "CS[C@H](C)[C@H]c1C(C)[n+])[n22c1CC1OC is invalid\n",
      "C[C@@H](O([nH2cc1CCC(=O)n1CN1N(=OOCc2ccCl)ccn1 is invalid\n",
      "CCC[C@]1(NCCC[C@H](C(=O3n(CC(CC(CC[CC+]3CCCC))ccccccccccccccccccccc))2))1 is invalid\n",
      "CC(C)c1ccccc2C[C@H]cc(CC))22)ccC is invalid\n",
      "Cc1nnccccccc2CC=O)c3ccc(ccc())ccccccccccccccccCCcccccccCCccc1 is invalid\n",
      "C[NH+]1C[C@@H](C)C[NH+]CCCO)NCCC[C@H](C)O1 is invalid\n",
      "C[C@H]1O(=O)cc1CCC(=O)c11((=O)]c2cccccc(C))c11O1 is invalid\n",
      "CC(=O)c1ccC)O)ccc2CC)nn]2CCN2C[C@22C))11 is invalid\n",
      "COc1nc(CC=C)O)[C@H](C)NCC[NH]](C2CC))n2CCccn1 is invalid\n",
      "CC[C@H](CCO)NCCOCCC)))))11OO is invalid\n",
      "C=C[C@]((c1nncn1)C)[C@](C)=O)cc1 is invalid\n",
      "CCc1cc(CCCCCS[C@](C))N(CC(=OC[C@H]22)c1 is invalid\n",
      "CC1=[C@](=CCC([C@](=CNNNN(NN)[C@@H]Cc2ccc(O)cccccc2)1= is invalid\n",
      "CC[C@H](C(OO)CC(=O)cc(CCCN is invalid\n",
      "CSCCCCl)CC[C@H](CCCO is invalid\n",
      "Nc1nnn()c(-ccccc2))cnn2)CC=O)CCCCCCO1 is invalid\n",
      "C[C@H]1(c2cc(C[C@]]c(CC)C)NCCCC[C@@](CC1ccccccccccccccccccccc)CC11 is invalid\n",
      "Cc1cnc(Cl)cc1CCC(=O)c1 is invalid\n",
      "C=C[CH]ccccccc1))c[C@H](C[NH]]CCCC is invalid\n",
      "CC(=S(C)c(())nn(C2)[C@]2CC)C2C)21 is invalid\n",
      "COCCC@]]cccCCC[=O)2C==C(CC(=ONNcc((CCCCCCCC@H]CCcccccccCCCC1 is invalid\n",
      "CC[@@H]1CCCC[C@H]ccccccc1 is invalid\n",
      "CS[C@@H](O)CCC[NH+](C)C)C11cccc1 is invalid\n",
      "N=C@N((=O)[CH2cc2CC22cc2)O))[C@]1)CCCc1C(C))cccc11 is invalid\n",
      "N#C[C@](c1cc(n)cc(Cl)nnnn1)C1ccccc1 is invalid\n",
      "COc1ccccccc((==))n))(CCC[C@H](c3CCCCC3C)C2 is invalid\n",
      "CC(C)Sc1ccc(C(=O)nc2CC)1 is invalid\n",
      "CC[NH+]CCC(=O)OCC()CCC(CCC(=))CCC1 is invalid\n",
      "CC(C)=C)N1CCC[C@H]((C(CCC[C@H](C)CC==C[C@@]1C is invalid\n",
      "CCOc1ccccccSCC((=O)NC(C)33ccccc3CCCC(C)))22 is invalid\n",
      "CSCC(O)Ccc(C=O)nc(C)cccc2nC is invalid\n",
      "C[C@@H]1c1cc(CCC(=O)C1)CCc1cncc1C1 is invalid\n",
      "Cc1nc2c2ccccc2ccn2[C@H](CC(=)(CCCCCC(((((())H+]CCCC))c21 is invalid\n",
      "C[C@@H]1C[C@@]cc(CNC(=O)n1)n1ccccccc1C is invalid\n",
      "CCOc1nnc(NCC[C@H](C)C)ccc1 is invalid\n",
      "ClC[CH2]CCC[C@@]]CCc1 is invalid\n",
      "CC[C@H]1CCCS[C@](C)CC)C))ccc(C)ns1O1 is invalid\n",
      "CC(11cccc1C(=O))NCCCC((CCC(=))CC)cccCC is invalid\n",
      "CCNH2+]C[C@H]cccCC(F)1 is invalid\n",
      "CCc1nc2ccccc1n1=OO[C@@H](C)1C(CCC is invalid\n",
      "Cl[C@@H]cc22CC[C@H]22)ccc1 is invalid\n",
      "Nc1cccc(Cl)2ccc2[nH22[C]1CC is invalid\n",
      "COc1nn(CC[C@@H](CCC()C()C[C@H](C)CCC))CCCC22O)n1 is invalid\n",
      "C/C(C+(Cc1nccc1CCCNCC=O)CCNN=))CC is invalid\n",
      "CC(1cccccc(NC[C@H]2CC(NO)Nc3cc(FFcc(C))C3)CCccccccccccccccc22)c1 is invalid\n",
      "CSCC@H](CO)NCc1nnnnncc1CC(O)O1 is invalid\n",
      "cc[n+](c2ccccc2C()nc2cc(C)CCCC[CH]cc1 is invalid\n",
      "c1ccc2c((r)ccccccnnnn-]]3cc1 is invalid\n",
      "CC(=O)Cncn(CC(=O)n((C)nncc2CCC(=O)O1 is invalid\n",
      "CC(C)(C)CCCC(O[CH]((C(C)CC)CCC(=O)=1 is invalid\n",
      "CC1=C)CC(C)[C@H]cccc[C+](C())))])c2ccccc21 is invalid\n",
      "CCc1cccccc1CN[C@@H](C(CCCC)O)CC33cc1 is invalid\n",
      "Cc1=(F)c((ccccc1CC)nn1NCCC[C@H]1C is invalid\n",
      "CCS[C@]]cc1CCC[=H](=C)N2C(=))C[C@H2(C)CC2ccc()ccc)C11 is invalid\n",
      "CC(C)c1cccC[C@H]22C[C@H](C(=)NC((==)CCCC3)[NH+))CC)cc1 is invalid\n",
      "CC[C@+]CCC()OO))O)ccnn-c2cccccc2FS1 is invalid\n",
      "C[C@@H]1c1cccn1CCCCC(=O)CC[C@]1(c1c(C(())))CcccccccccccCCC1= is invalid\n",
      "CC11nc2ccccc2C(=O)[C@H](Oc3ccccc33cc33nn2ncccccccccccccCCCCC1 is invalid\n",
      "CC[C@@1])c1CCC[NH+](C)c2c((CCCC)[C@@H](C)cccc))ccc21 is invalid\n",
      "Cc11cccccccc1SCCNC(=O)N1C)F)n)O2 is invalid\n",
      "CC(C(=c1cc(CCC[@@H](C)CCC[NH+]1CC is invalid\n",
      "COCC[C@])c1CCC[C@@H](C(CC([O@@](C)ccc((C)cc()CcccCC)CC1 is invalid\n",
      "CCn1O)c2ccccc1CC(=O[C@]]cc1 is invalid\n",
      "CC(=O)c1ccccc1F)n1[C@@]2CC(=((NN(Cc3c(c3)nn2)11 is invalid\n",
      "Cc1nnccc2ccccc(c3cccccccc()c33ccccc(C)cc3cccccccC)nc21 is invalid\n",
      "CC[@H+]CC[C@@](rC1ccc is invalid\n",
      "CCc1cccccc(O)N(C)CC(=O)Nc1C)N2 is invalid\n",
      "CC(=O)C(c1ncc1CCCCCCC==ONN is invalid\n",
      "CC[CH]1c2ccc(CCC(=O)NC=CCC(=O)CC(=(((CCCCCC@@](C(ccccccccccccccccCCCCC is invalid\n",
      "COc1ccc(N2[C@@H]((CCn3n-3)cc(C)n(=C)C3)CCCCCCCccccccccccccccccccc22)c1 is invalid\n",
      "CC(=)(C)cccc(NC(=O)NCCCCCC)=O)o11 is invalid\n",
      "Cc1nn(-c2ccccc3F2)c[nH+]([C@]2)CCCC(NNNNCCCCCCCCCCCCCccccC1 is invalid\n",
      "CS1nncc1(C(=OH])cc([C@H]2CS)22)1CC is invalid\n",
      "CC[C@H]1CC[C@@H](CCC(=O)C(Oc2ccc(NCN))O)CO1 is invalid\n",
      "C[NH+]]CC[C@H]((1CCc2nncc2)NCCCCC[@@@]1CO is invalid\n",
      "CNc1nc2ccccc2C=O)n3cc(())cc(CCC(OO)(((Ccccc((()ccccccccccCC)))c11 is invalid\n",
      "CCC[C@]1(c1C[NH+](C)CC@22(C21(CCC=CCC1 is invalid\n",
      "CCO1nnc(CCC[C@@]]OCCc3ccc(=O)C(=O)Nc4c(C))ccccccccccccccccccccccccccccc)c1 is invalid\n",
      "CC1c(CC((((N))[C@]cc(CCl)CCCC is invalid\n",
      "CS[C@H](Cc1nnc1CCCNC(=O)NNC([C@@]((c1cc((C))cc1 is invalid\n",
      "Cn1nccc(CC[NH])))cc([@H](C)C1 is invalid\n",
      "CCOc1ccc(C[C@@H]2CCC(=O)Ncc3(C))n(CC)3)))nncCC2)cc1 is invalid\n",
      "CC(C))CCC[=@])N(CC(=c2ccc(O))c(rr)c2C))c1C1 is invalid\n",
      "C[C@@H]1CC[C@H]c(C[C@@H](O)cc(Cl)nccccCccnnnc11 is invalid\n",
      "CC(=Oc1ccccCl)cc)CCc1CS is invalid\n",
      "c1c1n2n(C(=O)ncSCCl2)cc21 is invalid\n",
      "CC1=C)CC)[C@]]1CCCC=C==NN is invalid\n",
      "COc1ccc2ccccc2CC=nn(nnnn(cccc((C((C(=)))CCCCCCCCcccC))cc11 is invalid\n",
      "CC(C)=()CCC[C@@H](C)C1)CC2)c1 is invalid\n",
      "CC[@H]1CCCC@@((=))Occc(NC(=O)[C@H](C)ccc(C))ccccccccccccc))11 is invalid\n",
      "CC(CNCC1ccc(C(=O)[n@@H]1CCNNNCCCCC)C1 is invalid\n",
      "CC(C)(C)c1c(CCC(=O]))NCCCO[[C@](CO)CCC is invalid\n",
      "CC[C@H]1CC[C@@H](CCC(=O)N(ccccc(c)((C(())C)nn22)CC1 is invalid\n",
      "CC[C@H](C)((CCCC==O)Cccccss)c1CC is invalid\n",
      "C[CC@@H](CSc1(O)2cccc22)))cc1 is invalid\n",
      "COCCOc1ccc((=O)c11C(=O)CC(=O)c2ccccc11 is invalid\n",
      "CCc1cc2c((NCCC[C@H](C==)(C))c(CC(=O)CCC)ccc2cc1= is invalid\n",
      "COc1cccc(C2=O([O@](cc3(CC[C@]](c3CCN(=C)CCCCC)CC2)c1 is invalid\n",
      "CSC[CC]1(CC[C@H](C)On1cccn1 is invalid\n",
      "CC(C))c1c(C[C@@H]c(C)[n2]2CO))=1 is invalid\n",
      "Cc1CO)C(nn2cc(Cl)Oc3cccc(([NH]](C3CCC(CCCCC3))c22 is invalid\n",
      "CC1cS(n)C(O))c(CCC)O)2ccc(COO)n11 is invalid\n",
      "C#[C@C@](C)CC(C(=O)CCCccc((r)ccc2C11 is invalid\n",
      "CC(C)C@]1((CCC[C@@H](((Cnnnn(C3CCC[C@H]2C2))2=O)CC1 is invalid\n",
      "CC(=O)Cn1c[C@@H](CCC[CH+](CC=O)[O)NCCC33cc(C)ccccccccccccccccccccccc11 is invalid\n",
      "Clc1cccccccc1NC(=O)N1CC(CC1)CCC2 is invalid\n",
      "C=CC=OOc1ccc(-)c(SCc2ccccc3)cc1 is invalid\n",
      "C[C@H]1CCOn2c(CC))c2CC] is invalid\n",
      "Cc1nc(CC[CC@H](CCC)N)NNCCCN[CC@@](O)c1c(C))cc1 is invalid\n",
      "CCC[C@H](CC[C@H](CC(c2ccccc(c3ccc(NCCCC)=O2)C1 is invalid\n",
      "Nc1c(n[[H]]cccC)[nH]1[CCC))O1 is invalid\n",
      "CC(C)c1ccc(CNC([C@](C(=))C2(CC1 is invalid\n",
      "CC(C)c1n(C[C@+]2CCCC(=O)NC(c3cc((3CCC)C)[C@@]]CCCc2)cc1 is invalid\n",
      "CC(C)(C)C1CCCCC(=O)NNNC2c((=O)CC(CNO)CC)C1 is invalid\n",
      "CC(C)=11CCC[C@@@]]cc2c(C)[N)]2)CCN=C is invalid\n",
      "O[C@H](Ocnccccccc2ccnnnn1)NCCS[C@H]c2ccccc2))c1cccccccc1 is invalid\n",
      "COCCOc1cccc((=O)c2(c3cc(C(=O)c4cccc4CC))))12 is invalid\n"
     ]
    },
    {
     "output_type": "stream",
     "name": "stderr",
     "text": [
      "[10:52:20] SMILES Parse Error: syntax error while parsing: CC(CN(C)c1ccc(())([C@H]2C[CH+](CCCCCC=CCO1\n",
      "[10:52:20] SMILES Parse Error: Failed parsing SMILES 'CC(CN(C)c1ccc(())([C@H]2C[CH+](CCCCCC=CCO1' for input: 'CC(CN(C)c1ccc(())([C@H]2C[CH+](CCCCCC=CCO1'\n",
      "[10:52:20] SMILES Parse Error: syntax error while parsing: CC1=H](CCc2cc(CC[NH+](CCC[C@@](CCCCC()))CCC@H]C]CC1\n",
      "[10:52:20] SMILES Parse Error: Failed parsing SMILES 'CC1=H](CCc2cc(CC[NH+](CCC[C@@](CCCCC()))CCC@H]C]CC1' for input: 'CC1=H](CCc2cc(CC[NH+](CCC[C@@](CCCCC()))CCC@H]C]CC1'\n",
      "[10:52:20] SMILES Parse Error: extra close parentheses while parsing: CCCC(=C)c1C[C@@]c(NCc2nnnn)))ccccc11\n",
      "[10:52:20] SMILES Parse Error: Failed parsing SMILES 'CCCC(=C)c1C[C@@]c(NCc2nnnn)))ccccc11' for input: 'CCCC(=C)c1C[C@@]c(NCc2nnnn)))ccccc11'\n",
      "[10:52:20] SMILES Parse Error: extra open parentheses for input: 'CC[C@@H]1CCC[C@@H](c1cncc1'\n",
      "[10:52:20] SMILES Parse Error: syntax error while parsing: C/CCHH+]c1ccc(CC=O))CC1CCC[C@]11\n",
      "[10:52:20] SMILES Parse Error: Failed parsing SMILES 'C/CCHH+]c1ccc(CC=O))CC1CCC[C@]11' for input: 'C/CCHH+]c1ccc(CC=O))CC1CCC[C@]11'\n",
      "[10:52:20] SMILES Parse Error: syntax error while parsing: COc1ccccc(NCC[C@H](C(CCCCC@]4(cc(CC(=O))CCCCCCCCCCcCCCCCC))c2)c1\n",
      "[10:52:20] SMILES Parse Error: Failed parsing SMILES 'COc1ccccc(NCC[C@H](C(CCCCC@]4(cc(CC(=O))CCCCCCCCCCcCCCCCC))c2)c1' for input: 'COc1ccccc(NCC[C@H](C(CCCCC@]4(cc(CC(=O))CCCCCCCCCCcCCCCCC))c2)c1'\n",
      "[10:52:20] non-ring atom 0 marked aromatic\n",
      "[10:52:20] SMILES Parse Error: extra close parentheses while parsing: Ccccccc2C(=S)SCCl)o1\n",
      "[10:52:20] SMILES Parse Error: Failed parsing SMILES 'Ccccccc2C(=S)SCCl)o1' for input: 'Ccccccc2C(=S)SCCl)o1'\n",
      "[10:52:20] SMILES Parse Error: extra close parentheses while parsing: COc1cccc(N[C@@H]2c2[C@H](C))2)CCC)c1\n",
      "[10:52:20] SMILES Parse Error: Failed parsing SMILES 'COc1cccc(N[C@@H]2c2[C@H](C))2)CCC)c1' for input: 'COc1cccc(N[C@@H]2c2[C@H](C))2)CCC)c1'\n",
      "[10:52:20] SMILES Parse Error: syntax error while parsing: CCCC@@+]1CC[C@H](C)CC(=)))c1C(F)c1\n",
      "[10:52:20] SMILES Parse Error: Failed parsing SMILES 'CCCC@@+]1CC[C@H](C)CC(=)))c1C(F)c1' for input: 'CCCC@@+]1CC[C@H](C)CC(=)))c1C(F)c1'\n",
      "[10:52:20] SMILES Parse Error: extra close parentheses while parsing: C=C(O))c1ccccc)n1)[C@@H](C(==(CCCCCCCCC((CCCCCCCCCCCcccccccccccc)CCC1\n",
      "[10:52:20] SMILES Parse Error: Failed parsing SMILES 'C=C(O))c1ccccc)n1)[C@@H](C(==(CCCCCCCCC((CCCCCCCCCCCcccccccccccc)CCC1' for input: 'C=C(O))c1ccccc)n1)[C@@H](C(==(CCCCCCCCC((CCCCCCCCCCCcccccccccccc)CCC1'\n",
      "[10:52:20] SMILES Parse Error: extra close parentheses while parsing: CCc1ccccc1N1CC[C@H](NCCCC=O)c2ccccc2)C1\n",
      "[10:52:20] SMILES Parse Error: Failed parsing SMILES 'CCc1ccccc1N1CC[C@H](NCCCC=O)c2ccccc2)C1' for input: 'CCc1ccccc1N1CC[C@H](NCCCC=O)c2ccccc2)C1'\n",
      "[10:52:20] SMILES Parse Error: syntax error while parsing: Cc1ccccc2c2cccc(C)[C@H](CO)c3ccc(CCC())))C3)cc12\n",
      "[10:52:20] SMILES Parse Error: Failed parsing SMILES 'Cc1ccccc2c2cccc(C)[C@H](CO)c3ccc(CCC())))C3)cc12' for input: 'Cc1ccccc2c2cccc(C)[C@H](CO)c3ccc(CCC())))C3)cc12'\n",
      "[10:52:20] SMILES Parse Error: syntax error while parsing: CCc(n(C(n2ccc(C())ccnn2)))cccc2CCC((=C)2\n",
      "[10:52:20] SMILES Parse Error: Failed parsing SMILES 'CCc(n(C(n2ccc(C())ccnn2)))cccc2CCC((=C)2' for input: 'CCc(n(C(n2ccc(C())ccnn2)))cccc2CCC((=C)2'\n",
      "[10:52:20] SMILES Parse Error: extra close parentheses while parsing: CC(CC)C)CCCC[C@H](S(N(N(CC((=CC(=O)C22(())cccccccccc22)C1\n",
      "[10:52:20] SMILES Parse Error: Failed parsing SMILES 'CC(CC)C)CCCC[C@H](S(N(N(CC((=CC(=O)C22(())cccccccccc22)C1' for input: 'CC(CC)C)CCCC[C@H](S(N(N(CC((=CC(=O)C22(())cccccccccc22)C1'\n",
      "[10:52:20] SMILES Parse Error: syntax error while parsing: Cc1ncc(C((=O)c2c(C)nnnH]c2C2CCCC[C@H]1\n",
      "[10:52:20] SMILES Parse Error: Failed parsing SMILES 'Cc1ncc(C((=O)c2c(C)nnnH]c2C2CCCC[C@H]1' for input: 'Cc1ncc(C((=O)c2c(C)nnnH]c2C2CCCC[C@H]1'\n",
      "[10:52:20] SMILES Parse Error: extra open parentheses for input: 'CC(CO(c1ccc(C(=O)c2ccccc332)cc1C'\n",
      "[10:52:20] SMILES Parse Error: syntax error while parsing: C[NH+]1CCC@@H](Cc2ccn(C)cc22)CC1==O\n",
      "[10:52:20] SMILES Parse Error: Failed parsing SMILES 'C[NH+]1CCC@@H](Cc2ccn(C)cc22)CC1==O' for input: 'C[NH+]1CCC@@H](Cc2ccn(C)cc22)CC1==O'\n",
      "[10:52:20] SMILES Parse Error: syntax error while parsing: O[CN+]1c(cc2cccccCl)c22ccccc1C1\n",
      "[10:52:20] SMILES Parse Error: Failed parsing SMILES 'O[CN+]1c(cc2cccccCl)c22ccccc1C1' for input: 'O[CN+]1c(cc2cccccCl)c22ccccc1C1'\n",
      "[10:52:20] SMILES Parse Error: syntax error while parsing: Cc1cccc(-n2c((C[nH)ccc(C(=O)C[NH]((C)cc()cnn22)c1\n",
      "[10:52:20] SMILES Parse Error: Failed parsing SMILES 'Cc1cccc(-n2c((C[nH)ccc(C(=O)C[NH]((C)cc()cnn22)c1' for input: 'Cc1cccc(-n2c((C[nH)ccc(C(=O)C[NH]((C)cc()cnn22)c1'\n",
      "[10:52:20] SMILES Parse Error: syntax error while parsing: CC[C@H]1CC[CHH](C)C)CCC)#N\n",
      "[10:52:20] SMILES Parse Error: Failed parsing SMILES 'CC[C@H]1CC[CHH](C)C)CCC)#N' for input: 'CC[C@H]1CC[CHH](C)C)CCC)#N'\n",
      "[10:52:20] SMILES Parse Error: extra open parentheses for input: 'CC(C)N1CC([C@@H](CC[C@H](O)cccccc(Clcc3CC22OC)C1'\n",
      "[10:52:20] SMILES Parse Error: syntax error while parsing: CC(C)O1cccc(CC=C(=O)N2cccc(2))11C\n",
      "[10:52:20] SMILES Parse Error: Failed parsing SMILES 'CC(C)O1cccc(CC=C(=O)N2cccc(2))11C' for input: 'CC(C)O1cccc(CC=C(=O)N2cccc(2))11C'\n",
      "[10:52:20] SMILES Parse Error: extra open parentheses for input: 'CCCC(Fn1c(C[C@H](CCSc2ccccc21N'\n",
      "[10:52:20] SMILES Parse Error: syntax error while parsing: CC(C)nc1cc(C(N+])CCC(=O)Nc2ccc(F)c1\n",
      "[10:52:20] SMILES Parse Error: Failed parsing SMILES 'CC(C)nc1cc(C(N+])CCC(=O)Nc2ccc(F)c1' for input: 'CC(C)nc1cc(C(N+])CCC(=O)Nc2ccc(F)c1'\n",
      "[10:52:20] SMILES Parse Error: extra close parentheses while parsing: Cccnnn(CN[C@@H]2CC[C@@](Oc3ccccc3Cl))C2C22))n[HH])c111\n",
      "[10:52:20] SMILES Parse Error: Failed parsing SMILES 'Cccnnn(CN[C@@H]2CC[C@@](Oc3ccccc3Cl))C2C22))n[HH])c111' for input: 'Cccnnn(CN[C@@H]2CC[C@@](Oc3ccccc3Cl))C2C22))n[HH])c111'\n",
      "[10:52:20] SMILES Parse Error: syntax error while parsing: CCCCCOO11(CC[[@H](CNC(=C(N((c3ccccc(C()CC))22cccccccccccccccccccccccc(CC)11\n",
      "[10:52:20] SMILES Parse Error: Failed parsing SMILES 'CCCCCOO11(CC[[@H](CNC(=C(N((c3ccccc(C()CC))22cccccccccccccccccccccccc(CC)11' for input: 'CCCCCOO11(CC[[@H](CNC(=C(N((c3ccccc(C()CC))22cccccccccccccccccccccccc(CC)11'\n",
      "[10:52:20] SMILES Parse Error: syntax error while parsing: Cccccccc2ccc1CCCC==)C\n",
      "[10:52:20] SMILES Parse Error: Failed parsing SMILES 'Cccccccc2ccc1CCCC==)C' for input: 'Cccccccc2ccc1CCCC==)C'\n",
      "[10:52:20] SMILES Parse Error: syntax error while parsing: Clc1cccc(Ir)cc())c1\n",
      "[10:52:20] SMILES Parse Error: Failed parsing SMILES 'Clc1cccc(Ir)cc())c1' for input: 'Clc1cccc(Ir)cc())c1'\n",
      "[10:52:20] SMILES Parse Error: syntax error while parsing: CC(=C(CC))[C@]]1CCCC(=O)NCN()[C@H]11\n",
      "[10:52:20] SMILES Parse Error: Failed parsing SMILES 'CC(=C(CC))[C@]]1CCCC(=O)NCN()[C@H]11' for input: 'CC(=C(CC))[C@]]1CCCC(=O)NCN()[C@H]11'\n",
      "[10:52:20] SMILES Parse Error: syntax error while parsing: C[C@+](CC)cccc(CC(NON/)CCC[C@H](c2ccc(C))cC)ccccc1\n",
      "[10:52:20] SMILES Parse Error: Failed parsing SMILES 'C[C@+](CC)cccc(CC(NON/)CCC[C@H](c2ccc(C))cC)ccccc1' for input: 'C[C@+](CC)cccc(CC(NON/)CCC[C@H](c2ccc(C))cC)ccccc1'\n",
      "[10:52:20] SMILES Parse Error: syntax error while parsing: CCNH+](CC[CH]c1CCC[C@H]1CC\n",
      "[10:52:20] SMILES Parse Error: Failed parsing SMILES 'CCNH+](CC[CH]c1CCC[C@H]1CC' for input: 'CCNH+](CC[CH]c1CCC[C@H]1CC'\n",
      "[10:52:20] SMILES Parse Error: unclosed ring for input: 'COCCOc1ccc(C[C@H]2Cc3cccc32)s2NNCC'\n",
      "[10:52:20] SMILES Parse Error: extra close parentheses while parsing: CS[C@H](C)[C@H]c1C(C)[n+])[n22c1CC1OC\n",
      "[10:52:20] SMILES Parse Error: Failed parsing SMILES 'CS[C@H](C)[C@H]c1C(C)[n+])[n22c1CC1OC' for input: 'CS[C@H](C)[C@H]c1C(C)[n+])[n22c1CC1OC'\n",
      "[10:52:20] SMILES Parse Error: syntax error while parsing: C[C@@H](O([nH2cc1CCC(=O)n1CN1N(=OOCc2ccCl)ccn1\n",
      "[10:52:20] SMILES Parse Error: Failed parsing SMILES 'C[C@@H](O([nH2cc1CCC(=O)n1CN1N(=OOCc2ccCl)ccn1' for input: 'C[C@@H](O([nH2cc1CCC(=O)n1CN1N(=OOCc2ccCl)ccn1'\n",
      "[10:52:20] SMILES Parse Error: syntax error while parsing: CCC[C@]1(NCCC[C@H](C(=O3n(CC(CC(CC[CC+]3CCCC))ccccccccccccccccccccc))2))1\n",
      "[10:52:20] SMILES Parse Error: Failed parsing SMILES 'CCC[C@]1(NCCC[C@H](C(=O3n(CC(CC(CC[CC+]3CCCC))ccccccccccccccccccccc))2))1' for input: 'CCC[C@]1(NCCC[C@H](C(=O3n(CC(CC(CC[CC+]3CCCC))ccccccccccccccccccccc))2))1'\n",
      "[10:52:20] SMILES Parse Error: extra close parentheses while parsing: CC(C)c1ccccc2C[C@H]cc(CC))22)ccC\n",
      "[10:52:20] SMILES Parse Error: Failed parsing SMILES 'CC(C)c1ccccc2C[C@H]cc(CC))22)ccC' for input: 'CC(C)c1ccccc2C[C@H]cc(CC))22)ccC'\n",
      "[10:52:20] SMILES Parse Error: extra close parentheses while parsing: Cc1nnccccccc2CC=O)c3ccc(ccc())ccccccccccccccccCCcccccccCCccc1\n",
      "[10:52:20] SMILES Parse Error: Failed parsing SMILES 'Cc1nnccccccc2CC=O)c3ccc(ccc())ccccccccccccccccCCcccccccCCccc1' for input: 'Cc1nnccccccc2CC=O)c3ccc(ccc())ccccccccccccccccCCcccccccCCccc1'\n",
      "[10:52:20] SMILES Parse Error: extra close parentheses while parsing: C[NH+]1C[C@@H](C)C[NH+]CCCO)NCCC[C@H](C)O1\n",
      "[10:52:20] SMILES Parse Error: Failed parsing SMILES 'C[NH+]1C[C@@H](C)C[NH+]CCCO)NCCC[C@H](C)O1' for input: 'C[NH+]1C[C@@H](C)C[NH+]CCCO)NCCC[C@H](C)O1'\n",
      "[10:52:20] SMILES Parse Error: syntax error while parsing: C[C@H]1O(=O)cc1CCC(=O)c11((=O)]c2cccccc(C))c11O1\n",
      "[10:52:20] SMILES Parse Error: Failed parsing SMILES 'C[C@H]1O(=O)cc1CCC(=O)c11((=O)]c2cccccc(C))c11O1' for input: 'C[C@H]1O(=O)cc1CCC(=O)c11((=O)]c2cccccc(C))c11O1'\n",
      "[10:52:20] SMILES Parse Error: extra close parentheses while parsing: CC(=O)c1ccC)O)ccc2CC)nn]2CCN2C[C@22C))11\n",
      "[10:52:20] SMILES Parse Error: Failed parsing SMILES 'CC(=O)c1ccC)O)ccc2CC)nn]2CCN2C[C@22C))11' for input: 'CC(=O)c1ccC)O)ccc2CC)nn]2CCN2C[C@22C))11'\n",
      "[10:52:20] SMILES Parse Error: extra close parentheses while parsing: COc1nc(CC=C)O)[C@H](C)NCC[NH]](C2CC))n2CCccn1\n",
      "[10:52:20] SMILES Parse Error: Failed parsing SMILES 'COc1nc(CC=C)O)[C@H](C)NCC[NH]](C2CC))n2CCccn1' for input: 'COc1nc(CC=C)O)[C@H](C)NCC[NH]](C2CC))n2CCccn1'\n",
      "[10:52:20] SMILES Parse Error: extra close parentheses while parsing: CC[C@H](CCO)NCCOCCC)))))11OO\n",
      "[10:52:20] SMILES Parse Error: Failed parsing SMILES 'CC[C@H](CCO)NCCOCCC)))))11OO' for input: 'CC[C@H](CCO)NCCOCCC)))))11OO'\n",
      "[10:52:20] SMILES Parse Error: syntax error while parsing: C=C[C@]((c1nncn1)C)[C@](C)=O)cc1\n",
      "[10:52:20] SMILES Parse Error: Failed parsing SMILES 'C=C[C@]((c1nncn1)C)[C@](C)=O)cc1' for input: 'C=C[C@]((c1nncn1)C)[C@](C)=O)cc1'\n",
      "[10:52:20] SMILES Parse Error: extra open parentheses for input: 'CCc1cc(CCCCCS[C@](C))N(CC(=OC[C@H]22)c1'\n",
      "[10:52:20] SMILES Parse Error: syntax error while parsing: CC1=[C@](=CCC([C@](=CNNNN(NN)[C@@H]Cc2ccc(O)cccccc2)1=\n",
      "[10:52:20] SMILES Parse Error: Failed parsing SMILES 'CC1=[C@](=CCC([C@](=CNNNN(NN)[C@@H]Cc2ccc(O)cccccc2)1=' for input: 'CC1=[C@](=CCC([C@](=CNNNN(NN)[C@@H]Cc2ccc(O)cccccc2)1='\n",
      "[10:52:20] SMILES Parse Error: extra open parentheses for input: 'CC[C@H](C(OO)CC(=O)cc(CCCN'\n",
      "[10:52:20] SMILES Parse Error: extra close parentheses while parsing: CSCCCCl)CC[C@H](CCCO\n",
      "[10:52:20] SMILES Parse Error: Failed parsing SMILES 'CSCCCCl)CC[C@H](CCCO' for input: 'CSCCCCl)CC[C@H](CCCO'\n",
      "[10:52:20] SMILES Parse Error: syntax error while parsing: Nc1nnn()c(-ccccc2))cnn2)CC=O)CCCCCCO1\n",
      "[10:52:20] SMILES Parse Error: Failed parsing SMILES 'Nc1nnn()c(-ccccc2))cnn2)CC=O)CCCCCCO1' for input: 'Nc1nnn()c(-ccccc2))cnn2)CC=O)CCCCCCO1'\n",
      "[10:52:20] SMILES Parse Error: syntax error while parsing: C[C@H]1(c2cc(C[C@]]c(CC)C)NCCCC[C@@](CC1ccccccccccccccccccccc)CC11\n",
      "[10:52:20] SMILES Parse Error: Failed parsing SMILES 'C[C@H]1(c2cc(C[C@]]c(CC)C)NCCCC[C@@](CC1ccccccccccccccccccccc)CC11' for input: 'C[C@H]1(c2cc(C[C@]]c(CC)C)NCCCC[C@@](CC1ccccccccccccccccccccc)CC11'\n",
      "[10:52:20] SMILES Parse Error: unclosed ring for input: 'Cc1cnc(Cl)cc1CCC(=O)c1'\n",
      "[10:52:20] SMILES Parse Error: extra close parentheses while parsing: C=C[CH]ccccccc1))c[C@H](C[NH]]CCCC\n",
      "[10:52:20] SMILES Parse Error: Failed parsing SMILES 'C=C[CH]ccccccc1))c[C@H](C[NH]]CCCC' for input: 'C=C[CH]ccccccc1))c[C@H](C[NH]]CCCC'\n",
      "[10:52:20] SMILES Parse Error: syntax error while parsing: CC(=S(C)c(())nn(C2)[C@]2CC)C2C)21\n",
      "[10:52:20] SMILES Parse Error: Failed parsing SMILES 'CC(=S(C)c(())nn(C2)[C@]2CC)C2C)21' for input: 'CC(=S(C)c(())nn(C2)[C@]2CC)C2C)21'\n",
      "[10:52:20] SMILES Parse Error: syntax error while parsing: COCCC@]]cccCCC[=O)2C==C(CC(=ONNcc((CCCCCCCC@H]CCcccccccCCCC1\n",
      "[10:52:20] SMILES Parse Error: Failed parsing SMILES 'COCCC@]]cccCCC[=O)2C==C(CC(=ONNcc((CCCCCCCC@H]CCcccccccCCCC1' for input: 'COCCC@]]cccCCC[=O)2C==C(CC(=ONNcc((CCCCCCCC@H]CCcccccccCCCC1'\n",
      "[10:52:20] SMILES Parse Error: syntax error while parsing: CC[@@H]1CCCC[C@H]ccccccc1\n",
      "[10:52:20] SMILES Parse Error: Failed parsing SMILES 'CC[@@H]1CCCC[C@H]ccccccc1' for input: 'CC[@@H]1CCCC[C@H]ccccccc1'\n",
      "[10:52:20] SMILES Parse Error: extra close parentheses while parsing: CS[C@@H](O)CCC[NH+](C)C)C11cccc1\n",
      "[10:52:20] SMILES Parse Error: Failed parsing SMILES 'CS[C@@H](O)CCC[NH+](C)C)C11cccc1' for input: 'CS[C@@H](O)CCC[NH+](C)C)C11cccc1'\n",
      "[10:52:20] SMILES Parse Error: syntax error while parsing: N=C@N((=O)[CH2cc2CC22cc2)O))[C@]1)CCCc1C(C))cccc11\n",
      "[10:52:20] SMILES Parse Error: Failed parsing SMILES 'N=C@N((=O)[CH2cc2CC22cc2)O))[C@]1)CCCc1C(C))cccc11' for input: 'N=C@N((=O)[CH2cc2CC22cc2)O))[C@]1)CCCc1C(C))cccc11'\n",
      "[10:52:20] Can't kekulize mol.  Unkekulized atoms: 3 4 5 7 8 10 11 12 13\n",
      "[10:52:20] SMILES Parse Error: syntax error while parsing: COc1ccccccc((==))n))(CCC[C@H](c3CCCCC3C)C2\n",
      "[10:52:20] SMILES Parse Error: Failed parsing SMILES 'COc1ccccccc((==))n))(CCC[C@H](c3CCCCC3C)C2' for input: 'COc1ccccccc((==))n))(CCC[C@H](c3CCCCC3C)C2'\n",
      "[10:52:20] SMILES Parse Error: unclosed ring for input: 'CC(C)Sc1ccc(C(=O)nc2CC)1'\n",
      "[10:52:20] SMILES Parse Error: syntax error while parsing: CC[NH+]CCC(=O)OCC()CCC(CCC(=))CCC1\n",
      "[10:52:20] SMILES Parse Error: Failed parsing SMILES 'CC[NH+]CCC(=O)OCC()CCC(CCC(=))CCC1' for input: 'CC[NH+]CCC(=O)OCC()CCC(CCC(=))CCC1'\n",
      "[10:52:20] SMILES Parse Error: extra close parentheses while parsing: CC(C)=C)N1CCC[C@H]((C(CCC[C@H](C)CC==C[C@@]1C\n",
      "[10:52:20] SMILES Parse Error: Failed parsing SMILES 'CC(C)=C)N1CCC[C@H]((C(CCC[C@H](C)CC==C[C@@]1C' for input: 'CC(C)=C)N1CCC[C@H]((C(CCC[C@H](C)CC==C[C@@]1C'\n",
      "[10:52:20] SMILES Parse Error: syntax error while parsing: CCOc1ccccccSCC((=O)NC(C)33ccccc3CCCC(C)))22\n",
      "[10:52:20] SMILES Parse Error: Failed parsing SMILES 'CCOc1ccccccSCC((=O)NC(C)33ccccc3CCCC(C)))22' for input: 'CCOc1ccccccSCC((=O)NC(C)33ccccc3CCCC(C)))22'\n",
      "[10:52:20] SMILES Parse Error: unclosed ring for input: 'CSCC(O)Ccc(C=O)nc(C)cccc2nC'\n",
      "[10:52:20] SMILES Parse Error: ring closure 1 duplicates bond between atom 1 and atom 2 for input: 'C[C@@H]1c1cc(CCC(=O)C1)CCc1cncc1C1'\n",
      "[10:52:20] SMILES Parse Error: syntax error while parsing: Cc1nc2c2ccccc2ccn2[C@H](CC(=)(CCCCCC(((((())H+]CCCC))c21\n",
      "[10:52:20] SMILES Parse Error: Failed parsing SMILES 'Cc1nc2c2ccccc2ccn2[C@H](CC(=)(CCCCCC(((((())H+]CCCC))c21' for input: 'Cc1nc2c2ccccc2ccn2[C@H](CC(=)(CCCCCC(((((())H+]CCCC))c21'\n",
      "[10:52:20] Can't kekulize mol.  Unkekulized atoms: 12 13 14 15 16 17 18\n",
      "[10:52:20] Can't kekulize mol.  Unkekulized atoms: 3 4 5 6 13 14 15\n",
      "[10:52:20] SMILES Parse Error: syntax error while parsing: ClC[CH2]CCC[C@@]]CCc1\n",
      "[10:52:20] SMILES Parse Error: Failed parsing SMILES 'ClC[CH2]CCC[C@@]]CCc1' for input: 'ClC[CH2]CCC[C@@]]CCc1'\n",
      "[10:52:20] SMILES Parse Error: extra close parentheses while parsing: CC[C@H]1CCCS[C@](C)CC)C))ccc(C)ns1O1\n",
      "[10:52:20] SMILES Parse Error: Failed parsing SMILES 'CC[C@H]1CCCS[C@](C)CC)C))ccc(C)ns1O1' for input: 'CC[C@H]1CCCS[C@](C)CC)C))ccc(C)ns1O1'\n",
      "[10:52:20] SMILES Parse Error: syntax error while parsing: CC(11cccc1C(=O))NCCCC((CCC(=))CC)cccCC\n",
      "[10:52:20] SMILES Parse Error: Failed parsing SMILES 'CC(11cccc1C(=O))NCCCC((CCC(=))CC)cccCC' for input: 'CC(11cccc1C(=O))NCCCC((CCC(=))CC)cccCC'\n",
      "[10:52:20] SMILES Parse Error: syntax error while parsing: CCNH2+]C[C@H]cccCC(F)1\n",
      "[10:52:20] SMILES Parse Error: Failed parsing SMILES 'CCNH2+]C[C@H]cccCC(F)1' for input: 'CCNH2+]C[C@H]cccCC(F)1'\n",
      "[10:52:20] SMILES Parse Error: extra open parentheses for input: 'CCc1nc2ccccc1n1=OO[C@@H](C)1C(CCC'\n",
      "[10:52:20] SMILES Parse Error: extra close parentheses while parsing: Cl[C@@H]cc22CC[C@H]22)ccc1\n",
      "[10:52:20] SMILES Parse Error: Failed parsing SMILES 'Cl[C@@H]cc22CC[C@H]22)ccc1' for input: 'Cl[C@@H]cc22CC[C@H]22)ccc1'\n",
      "[10:52:20] SMILES Parse Error: syntax error while parsing: Nc1cccc(Cl)2ccc2[nH22[C]1CC\n",
      "[10:52:20] SMILES Parse Error: Failed parsing SMILES 'Nc1cccc(Cl)2ccc2[nH22[C]1CC' for input: 'Nc1cccc(Cl)2ccc2[nH22[C]1CC'\n",
      "[10:52:20] SMILES Parse Error: syntax error while parsing: COc1nn(CC[C@@H](CCC()C()C[C@H](C)CCC))CCCC22O)n1\n",
      "[10:52:20] SMILES Parse Error: Failed parsing SMILES 'COc1nn(CC[C@@H](CCC()C()C[C@H](C)CCC))CCCC22O)n1' for input: 'COc1nn(CC[C@@H](CCC()C()C[C@H](C)CCC))CCCC22O)n1'\n",
      "[10:52:20] SMILES Parse Error: syntax error while parsing: C/C(C+(Cc1nccc1CCCNCC=O)CCNN=))CC\n",
      "[10:52:20] SMILES Parse Error: Failed parsing SMILES 'C/C(C+(Cc1nccc1CCCNCC=O)CCNN=))CC' for input: 'C/C(C+(Cc1nccc1CCCNCC=O)CCNN=))CC'\n",
      "[10:52:20] SMILES Parse Error: syntax error while parsing: CC(1cccccc(NC[C@H]2CC(NO)Nc3cc(FFcc(C))C3)CCccccccccccccccc22)c1\n",
      "[10:52:20] SMILES Parse Error: Failed parsing SMILES 'CC(1cccccc(NC[C@H]2CC(NO)Nc3cc(FFcc(C))C3)CCccccccccccccccc22)c1' for input: 'CC(1cccccc(NC[C@H]2CC(NO)Nc3cc(FFcc(C))C3)CCccccccccccccccc22)c1'\n",
      "[10:52:20] SMILES Parse Error: syntax error while parsing: CSCC@H](CO)NCc1nnnnncc1CC(O)O1\n",
      "[10:52:20] SMILES Parse Error: Failed parsing SMILES 'CSCC@H](CO)NCc1nnnnncc1CC(O)O1' for input: 'CSCC@H](CO)NCc1nnnnncc1CC(O)O1'\n",
      "[10:52:20] SMILES Parse Error: syntax error while parsing: cc[n+](c2ccccc2C()nc2cc(C)CCCC[CH]cc1\n",
      "[10:52:20] SMILES Parse Error: Failed parsing SMILES 'cc[n+](c2ccccc2C()nc2cc(C)CCCC[CH]cc1' for input: 'cc[n+](c2ccccc2C()nc2cc(C)CCCC[CH]cc1'\n",
      "[10:52:20] SMILES Parse Error: syntax error while parsing: c1ccc2c((r)ccccccnnnn-]]3cc1\n",
      "[10:52:20] SMILES Parse Error: Failed parsing SMILES 'c1ccc2c((r)ccccccnnnn-]]3cc1' for input: 'c1ccc2c((r)ccccccnnnn-]]3cc1'\n",
      "[10:52:20] SMILES Parse Error: syntax error while parsing: CC(=O)Cncn(CC(=O)n((C)nncc2CCC(=O)O1\n",
      "[10:52:20] SMILES Parse Error: Failed parsing SMILES 'CC(=O)Cncn(CC(=O)n((C)nncc2CCC(=O)O1' for input: 'CC(=O)Cncn(CC(=O)n((C)nncc2CCC(=O)O1'\n",
      "[10:52:20] SMILES Parse Error: syntax error while parsing: CC(C)(C)CCCC(O[CH]((C(C)CC)CCC(=O)=1\n",
      "[10:52:20] SMILES Parse Error: Failed parsing SMILES 'CC(C)(C)CCCC(O[CH]((C(C)CC)CCC(=O)=1' for input: 'CC(C)(C)CCCC(O[CH]((C(C)CC)CCC(=O)=1'\n",
      "[10:52:20] SMILES Parse Error: extra close parentheses while parsing: CC1=C)CC(C)[C@H]cccc[C+](C())))])c2ccccc21\n",
      "[10:52:20] SMILES Parse Error: Failed parsing SMILES 'CC1=C)CC(C)[C@H]cccc[C+](C())))])c2ccccc21' for input: 'CC1=C)CC(C)[C@H]cccc[C+](C())))])c2ccccc21'\n",
      "[10:52:20] SMILES Parse Error: unclosed ring for input: 'CCc1cccccc1CN[C@@H](C(CCCC)O)CC33cc1'\n",
      "[10:52:20] SMILES Parse Error: syntax error while parsing: Cc1=(F)c((ccccc1CC)nn1NCCC[C@H]1C\n",
      "[10:52:20] SMILES Parse Error: Failed parsing SMILES 'Cc1=(F)c((ccccc1CC)nn1NCCC[C@H]1C' for input: 'Cc1=(F)c((ccccc1CC)nn1NCCC[C@H]1C'\n",
      "[10:52:20] SMILES Parse Error: syntax error while parsing: CCS[C@]]cc1CCC[=H](=C)N2C(=))C[C@H2(C)CC2ccc()ccc)C11\n",
      "[10:52:20] SMILES Parse Error: Failed parsing SMILES 'CCS[C@]]cc1CCC[=H](=C)N2C(=))C[C@H2(C)CC2ccc()ccc)C11' for input: 'CCS[C@]]cc1CCC[=H](=C)N2C(=))C[C@H2(C)CC2ccc()ccc)C11'\n",
      "[10:52:20] SMILES Parse Error: syntax error while parsing: CC(C)c1cccC[C@H]22C[C@H](C(=)NC((==)CCCC3)[NH+))CC)cc1\n",
      "[10:52:20] SMILES Parse Error: Failed parsing SMILES 'CC(C)c1cccC[C@H]22C[C@H](C(=)NC((==)CCCC3)[NH+))CC)cc1' for input: 'CC(C)c1cccC[C@H]22C[C@H](C(=)NC((==)CCCC3)[NH+))CC)cc1'\n",
      "[10:52:20] SMILES Parse Error: syntax error while parsing: CC[C@+]CCC()OO))O)ccnn-c2cccccc2FS1\n",
      "[10:52:20] SMILES Parse Error: Failed parsing SMILES 'CC[C@+]CCC()OO))O)ccnn-c2cccccc2FS1' for input: 'CC[C@+]CCC()OO))O)ccnn-c2cccccc2FS1'\n",
      "[10:52:20] SMILES Parse Error: syntax error while parsing: C[C@@H]1c1cccn1CCCCC(=O)CC[C@]1(c1c(C(())))CcccccccccccCCC1=\n",
      "[10:52:20] SMILES Parse Error: Failed parsing SMILES 'C[C@@H]1c1cccn1CCCCC(=O)CC[C@]1(c1c(C(())))CcccccccccccCCC1=' for input: 'C[C@@H]1c1cccn1CCCCC(=O)CC[C@]1(c1c(C(())))CcccccccccccCCC1='\n",
      "[10:52:20] SMILES Parse Error: extra open parentheses for input: 'CC11nc2ccccc2C(=O)[C@H](Oc3ccccc33cc33nn2ncccccccccccccCCCCC1'\n",
      "[10:52:20] SMILES Parse Error: syntax error while parsing: CC[C@@1])c1CCC[NH+](C)c2c((CCCC)[C@@H](C)cccc))ccc21\n",
      "[10:52:20] SMILES Parse Error: Failed parsing SMILES 'CC[C@@1])c1CCC[NH+](C)c2c((CCCC)[C@@H](C)cccc))ccc21' for input: 'CC[C@@1])c1CCC[NH+](C)c2c((CCCC)[C@@H](C)cccc))ccc21'\n",
      "[10:52:20] SMILES Parse Error: extra close parentheses while parsing: Cc11cccccccc1SCCNC(=O)N1C)F)n)O2\n",
      "[10:52:20] SMILES Parse Error: Failed parsing SMILES 'Cc11cccccccc1SCCNC(=O)N1C)F)n)O2' for input: 'Cc11cccccccc1SCCNC(=O)N1C)F)n)O2'\n",
      "[10:52:20] SMILES Parse Error: syntax error while parsing: CC(C(=c1cc(CCC[@@H](C)CCC[NH+]1CC\n",
      "[10:52:20] SMILES Parse Error: Failed parsing SMILES 'CC(C(=c1cc(CCC[@@H](C)CCC[NH+]1CC' for input: 'CC(C(=c1cc(CCC[@@H](C)CCC[NH+]1CC'\n",
      "[10:52:20] SMILES Parse Error: extra close parentheses while parsing: COCC[C@])c1CCC[C@@H](C(CC([O@@](C)ccc((C)cc()CcccCC)CC1\n",
      "[10:52:20] SMILES Parse Error: Failed parsing SMILES 'COCC[C@])c1CCC[C@@H](C(CC([O@@](C)ccc((C)cc()CcccCC)CC1' for input: 'COCC[C@])c1CCC[C@@H](C(CC([O@@](C)ccc((C)cc()CcccCC)CC1'\n",
      "[10:52:20] SMILES Parse Error: extra close parentheses while parsing: CCn1O)c2ccccc1CC(=O[C@]]cc1\n",
      "[10:52:20] SMILES Parse Error: Failed parsing SMILES 'CCn1O)c2ccccc1CC(=O[C@]]cc1' for input: 'CCn1O)c2ccccc1CC(=O[C@]]cc1'\n",
      "[10:52:20] SMILES Parse Error: extra close parentheses while parsing: CC(=O)c1ccccc1F)n1[C@@]2CC(=((NN(Cc3c(c3)nn2)11\n",
      "[10:52:20] SMILES Parse Error: Failed parsing SMILES 'CC(=O)c1ccccc1F)n1[C@@]2CC(=((NN(Cc3c(c3)nn2)11' for input: 'CC(=O)c1ccccc1F)n1[C@@]2CC(=((NN(Cc3c(c3)nn2)11'\n",
      "[10:52:20] SMILES Parse Error: syntax error while parsing: Cc1nnccc2ccccc(c3cccccccc()c33ccccc(C)cc3cccccccC)nc21\n",
      "[10:52:20] SMILES Parse Error: Failed parsing SMILES 'Cc1nnccc2ccccc(c3cccccccc()c33ccccc(C)cc3cccccccC)nc21' for input: 'Cc1nnccc2ccccc(c3cccccccc()c33ccccc(C)cc3cccccccC)nc21'\n",
      "[10:52:20] SMILES Parse Error: syntax error while parsing: CC[@H+]CC[C@@](rC1ccc\n",
      "[10:52:20] SMILES Parse Error: Failed parsing SMILES 'CC[@H+]CC[C@@](rC1ccc' for input: 'CC[@H+]CC[C@@](rC1ccc'\n",
      "[10:52:20] SMILES Parse Error: extra close parentheses while parsing: CCc1cccccc(O)N(C)CC(=O)Nc1C)N2\n",
      "[10:52:20] SMILES Parse Error: Failed parsing SMILES 'CCc1cccccc(O)N(C)CC(=O)Nc1C)N2' for input: 'CCc1cccccc(O)N(C)CC(=O)Nc1C)N2'\n",
      "[10:52:20] SMILES Parse Error: syntax error while parsing: CC(=O)C(c1ncc1CCCCCCC==ONN\n",
      "[10:52:20] SMILES Parse Error: Failed parsing SMILES 'CC(=O)C(c1ncc1CCCCCCC==ONN' for input: 'CC(=O)C(c1ncc1CCCCCCC==ONN'\n",
      "[10:52:20] SMILES Parse Error: syntax error while parsing: CC[CH]1c2ccc(CCC(=O)NC=CCC(=O)CC(=(((CCCCCC@@](C(ccccccccccccccccCCCCC\n",
      "[10:52:20] SMILES Parse Error: Failed parsing SMILES 'CC[CH]1c2ccc(CCC(=O)NC=CCC(=O)CC(=(((CCCCCC@@](C(ccccccccccccccccCCCCC' for input: 'CC[CH]1c2ccc(CCC(=O)NC=CCC(=O)CC(=(((CCCCCC@@](C(ccccccccccccccccCCCCC'\n",
      "[10:52:20] SMILES Parse Error: syntax error while parsing: COc1ccc(N2[C@@H]((CCn3n-3)cc(C)n(=C)C3)CCCCCCCccccccccccccccccccc22)c1\n",
      "[10:52:20] SMILES Parse Error: Failed parsing SMILES 'COc1ccc(N2[C@@H]((CCn3n-3)cc(C)n(=C)C3)CCCCCCCccccccccccccccccccc22)c1' for input: 'COc1ccc(N2[C@@H]((CCn3n-3)cc(C)n(=C)C3)CCCCCCCccccccccccccccccccc22)c1'\n",
      "[10:52:20] SMILES Parse Error: syntax error while parsing: CC(=)(C)cccc(NC(=O)NCCCCCC)=O)o11\n",
      "[10:52:20] SMILES Parse Error: Failed parsing SMILES 'CC(=)(C)cccc(NC(=O)NCCCCCC)=O)o11' for input: 'CC(=)(C)cccc(NC(=O)NCCCCCC)=O)o11'\n",
      "[10:52:20] SMILES Parse Error: extra open parentheses for input: 'Cc1nn(-c2ccccc3F2)c[nH+]([C@]2)CCCC(NNNNCCCCCCCCCCCCCccccC1'\n",
      "[10:52:20] SMILES Parse Error: syntax error while parsing: CS1nncc1(C(=OH])cc([C@H]2CS)22)1CC\n",
      "[10:52:20] SMILES Parse Error: Failed parsing SMILES 'CS1nncc1(C(=OH])cc([C@H]2CS)22)1CC' for input: 'CS1nncc1(C(=OH])cc([C@H]2CS)22)1CC'\n",
      "[10:52:20] SMILES Parse Error: unclosed ring for input: 'CC[C@H]1CC[C@@H](CCC(=O)C(Oc2ccc(NCN))O)CO1'\n",
      "[10:52:20] SMILES Parse Error: syntax error while parsing: C[NH+]]CC[C@H]((1CCc2nncc2)NCCCCC[@@@]1CO\n",
      "[10:52:20] SMILES Parse Error: Failed parsing SMILES 'C[NH+]]CC[C@H]((1CCc2nncc2)NCCCCC[@@@]1CO' for input: 'C[NH+]]CC[C@H]((1CCc2nncc2)NCCCCC[@@@]1CO'\n",
      "[10:52:20] SMILES Parse Error: extra close parentheses while parsing: CNc1nc2ccccc2C=O)n3cc(())cc(CCC(OO)(((Ccccc((()ccccccccccCC)))c11\n",
      "[10:52:20] SMILES Parse Error: Failed parsing SMILES 'CNc1nc2ccccc2C=O)n3cc(())cc(CCC(OO)(((Ccccc((()ccccccccccCC)))c11' for input: 'CNc1nc2ccccc2C=O)n3cc(())cc(CCC(OO)(((Ccccc((()ccccccccccCC)))c11'\n",
      "[10:52:20] SMILES Parse Error: syntax error while parsing: CCC[C@]1(c1C[NH+](C)CC@22(C21(CCC=CCC1\n",
      "[10:52:20] SMILES Parse Error: Failed parsing SMILES 'CCC[C@]1(c1C[NH+](C)CC@22(C21(CCC=CCC1' for input: 'CCC[C@]1(c1C[NH+](C)CC@22(C21(CCC=CCC1'\n",
      "[10:52:20] SMILES Parse Error: syntax error while parsing: CCO1nnc(CCC[C@@]]OCCc3ccc(=O)C(=O)Nc4c(C))ccccccccccccccccccccccccccccc)c1\n",
      "[10:52:20] SMILES Parse Error: Failed parsing SMILES 'CCO1nnc(CCC[C@@]]OCCc3ccc(=O)C(=O)Nc4c(C))ccccccccccccccccccccccccccccc)c1' for input: 'CCO1nnc(CCC[C@@]]OCCc3ccc(=O)C(=O)Nc4c(C))ccccccccccccccccccccccccccccc)c1'\n",
      "[10:52:20] SMILES Parse Error: syntax error while parsing: CC1c(CC((((N))[C@]cc(CCl)CCCC\n",
      "[10:52:20] SMILES Parse Error: Failed parsing SMILES 'CC1c(CC((((N))[C@]cc(CCl)CCCC' for input: 'CC1c(CC((((N))[C@]cc(CCl)CCCC'\n",
      "[10:52:20] SMILES Parse Error: syntax error while parsing: CS[C@H](Cc1nnc1CCCNC(=O)NNC([C@@]((c1cc((C))cc1\n",
      "[10:52:20] SMILES Parse Error: Failed parsing SMILES 'CS[C@H](Cc1nnc1CCCNC(=O)NNC([C@@]((c1cc((C))cc1' for input: 'CS[C@H](Cc1nnc1CCCNC(=O)NNC([C@@]((c1cc((C))cc1'\n",
      "[10:52:20] SMILES Parse Error: extra close parentheses while parsing: Cn1nccc(CC[NH])))cc([@H](C)C1\n",
      "[10:52:20] SMILES Parse Error: Failed parsing SMILES 'Cn1nccc(CC[NH])))cc([@H](C)C1' for input: 'Cn1nccc(CC[NH])))cc([@H](C)C1'\n",
      "[10:52:20] SMILES Parse Error: extra close parentheses while parsing: CCOc1ccc(C[C@@H]2CCC(=O)Ncc3(C))n(CC)3)))nncCC2)cc1\n",
      "[10:52:20] SMILES Parse Error: Failed parsing SMILES 'CCOc1ccc(C[C@@H]2CCC(=O)Ncc3(C))n(CC)3)))nncCC2)cc1' for input: 'CCOc1ccc(C[C@@H]2CCC(=O)Ncc3(C))n(CC)3)))nncCC2)cc1'\n",
      "[10:52:20] SMILES Parse Error: extra close parentheses while parsing: CC(C))CCC[=@])N(CC(=c2ccc(O))c(rr)c2C))c1C1\n",
      "[10:52:20] SMILES Parse Error: Failed parsing SMILES 'CC(C))CCC[=@])N(CC(=c2ccc(O))c(rr)c2C))c1C1' for input: 'CC(C))CCC[=@])N(CC(=c2ccc(O))c(rr)c2C))c1C1'\n",
      "[10:52:20] SMILES Parse Error: extra open parentheses for input: 'C[C@@H]1CC[C@H]c(C[C@@H](O)cc(Cl)nccccCccnnnc11'\n",
      "[10:52:20] SMILES Parse Error: extra close parentheses while parsing: CC(=Oc1ccccCl)cc)CCc1CS\n",
      "[10:52:20] SMILES Parse Error: Failed parsing SMILES 'CC(=Oc1ccccCl)cc)CCc1CS' for input: 'CC(=Oc1ccccCl)cc)CCc1CS'\n",
      "[10:52:20] SMILES Parse Error: ring closure 1 duplicates bond between atom 0 and atom 1 for input: 'c1c1n2n(C(=O)ncSCCl2)cc21'\n",
      "[10:52:20] SMILES Parse Error: extra close parentheses while parsing: CC1=C)CC)[C@]]1CCCC=C==NN\n",
      "[10:52:20] SMILES Parse Error: Failed parsing SMILES 'CC1=C)CC)[C@]]1CCCC=C==NN' for input: 'CC1=C)CC)[C@]]1CCCC=C==NN'\n",
      "[10:52:20] SMILES Parse Error: syntax error while parsing: COc1ccc2ccccc2CC=nn(nnnn(cccc((C((C(=)))CCCCCCCCcccC))cc11\n",
      "[10:52:20] SMILES Parse Error: Failed parsing SMILES 'COc1ccc2ccccc2CC=nn(nnnn(cccc((C((C(=)))CCCCCCCCcccC))cc11' for input: 'COc1ccc2ccccc2CC=nn(nnnn(cccc((C((C(=)))CCCCCCCCcccC))cc11'\n",
      "[10:52:20] SMILES Parse Error: syntax error while parsing: CC(C)=()CCC[C@@H](C)C1)CC2)c1\n",
      "[10:52:20] SMILES Parse Error: Failed parsing SMILES 'CC(C)=()CCC[C@@H](C)C1)CC2)c1' for input: 'CC(C)=()CCC[C@@H](C)C1)CC2)c1'\n",
      "[10:52:20] SMILES Parse Error: syntax error while parsing: CC[@H]1CCCC@@((=))Occc(NC(=O)[C@H](C)ccc(C))ccccccccccccc))11\n",
      "[10:52:20] SMILES Parse Error: Failed parsing SMILES 'CC[@H]1CCCC@@((=))Occc(NC(=O)[C@H](C)ccc(C))ccccccccccccc))11' for input: 'CC[@H]1CCCC@@((=))Occc(NC(=O)[C@H](C)ccc(C))ccccccccccccc))11'\n",
      "[10:52:20] SMILES Parse Error: extra open parentheses for input: 'CC(CNCC1ccc(C(=O)[n@@H]1CCNNNCCCCC)C1'\n",
      "[10:52:20] SMILES Parse Error: syntax error while parsing: CC(C)(C)c1c(CCC(=O]))NCCCO[[C@](CO)CCC\n",
      "[10:52:20] SMILES Parse Error: Failed parsing SMILES 'CC(C)(C)c1c(CCC(=O]))NCCCO[[C@](CO)CCC' for input: 'CC(C)(C)c1c(CCC(=O]))NCCCO[[C@](CO)CCC'\n",
      "[10:52:20] SMILES Parse Error: syntax error while parsing: CC[C@H]1CC[C@@H](CCC(=O)N(ccccc(c)((C(())C)nn22)CC1\n",
      "[10:52:20] SMILES Parse Error: Failed parsing SMILES 'CC[C@H]1CC[C@@H](CCC(=O)N(ccccc(c)((C(())C)nn22)CC1' for input: 'CC[C@H]1CC[C@@H](CCC(=O)N(ccccc(c)((C(())C)nn22)CC1'\n",
      "[10:52:20] SMILES Parse Error: syntax error while parsing: CC[C@H](C)((CCCC==O)Cccccss)c1CC\n",
      "[10:52:20] SMILES Parse Error: Failed parsing SMILES 'CC[C@H](C)((CCCC==O)Cccccss)c1CC' for input: 'CC[C@H](C)((CCCC==O)Cccccss)c1CC'\n",
      "[10:52:20] SMILES Parse Error: syntax error while parsing: C[CC@@H](CSc1(O)2cccc22)))cc1\n",
      "[10:52:20] SMILES Parse Error: Failed parsing SMILES 'C[CC@@H](CSc1(O)2cccc22)))cc1' for input: 'C[CC@@H](CSc1(O)2cccc22)))cc1'\n",
      "[10:52:20] SMILES Parse Error: syntax error while parsing: COCCOc1ccc((=O)c11C(=O)CC(=O)c2ccccc11\n",
      "[10:52:20] SMILES Parse Error: Failed parsing SMILES 'COCCOc1ccc((=O)c11C(=O)CC(=O)c2ccccc11' for input: 'COCCOc1ccc((=O)c11C(=O)CC(=O)c2ccccc11'\n",
      "[10:52:20] SMILES Parse Error: syntax error while parsing: CCc1cc2c((NCCC[C@H](C==)(C))c(CC(=O)CCC)ccc2cc1=\n",
      "[10:52:20] SMILES Parse Error: Failed parsing SMILES 'CCc1cc2c((NCCC[C@H](C==)(C))c(CC(=O)CCC)ccc2cc1=' for input: 'CCc1cc2c((NCCC[C@H](C==)(C))c(CC(=O)CCC)ccc2cc1='\n",
      "[10:52:20] SMILES Parse Error: syntax error while parsing: COc1cccc(C2=O([O@](cc3(CC[C@]](c3CCN(=C)CCCCC)CC2)c1\n",
      "[10:52:20] SMILES Parse Error: Failed parsing SMILES 'COc1cccc(C2=O([O@](cc3(CC[C@]](c3CCN(=C)CCCCC)CC2)c1' for input: 'COc1cccc(C2=O([O@](cc3(CC[C@]](c3CCN(=C)CCCCC)CC2)c1'\n",
      "[10:52:20] SMILES Parse Error: syntax error while parsing: CSC[CC]1(CC[C@H](C)On1cccn1\n",
      "[10:52:20] SMILES Parse Error: Failed parsing SMILES 'CSC[CC]1(CC[C@H](C)On1cccn1' for input: 'CSC[CC]1(CC[C@H](C)On1cccn1'\n",
      "[10:52:20] SMILES Parse Error: extra close parentheses while parsing: CC(C))c1c(C[C@@H]c(C)[n2]2CO))=1\n",
      "[10:52:20] SMILES Parse Error: Failed parsing SMILES 'CC(C))c1c(C[C@@H]c(C)[n2]2CO))=1' for input: 'CC(C))c1c(C[C@@H]c(C)[n2]2CO))=1'\n",
      "[10:52:20] SMILES Parse Error: extra close parentheses while parsing: Cc1CO)C(nn2cc(Cl)Oc3cccc(([NH]](C3CCC(CCCCC3))c22\n",
      "[10:52:20] SMILES Parse Error: Failed parsing SMILES 'Cc1CO)C(nn2cc(Cl)Oc3cccc(([NH]](C3CCC(CCCCC3))c22' for input: 'Cc1CO)C(nn2cc(Cl)Oc3cccc(([NH]](C3CCC(CCCCC3))c22'\n",
      "[10:52:20] SMILES Parse Error: extra close parentheses while parsing: CC1cS(n)C(O))c(CCC)O)2ccc(COO)n11\n",
      "[10:52:20] SMILES Parse Error: Failed parsing SMILES 'CC1cS(n)C(O))c(CCC)O)2ccc(COO)n11' for input: 'CC1cS(n)C(O))c(CCC)O)2ccc(COO)n11'\n",
      "[10:52:20] SMILES Parse Error: syntax error while parsing: C#[C@C@](C)CC(C(=O)CCCccc((r)ccc2C11\n",
      "[10:52:20] SMILES Parse Error: Failed parsing SMILES 'C#[C@C@](C)CC(C(=O)CCCccc((r)ccc2C11' for input: 'C#[C@C@](C)CC(C(=O)CCCccc((r)ccc2C11'\n",
      "[10:52:20] SMILES Parse Error: syntax error while parsing: CC(C)C@]1((CCC[C@@H](((Cnnnn(C3CCC[C@H]2C2))2=O)CC1\n",
      "[10:52:20] SMILES Parse Error: Failed parsing SMILES 'CC(C)C@]1((CCC[C@@H](((Cnnnn(C3CCC[C@H]2C2))2=O)CC1' for input: 'CC(C)C@]1((CCC[C@@H](((Cnnnn(C3CCC[C@H]2C2))2=O)CC1'\n",
      "[10:52:20] SMILES Parse Error: syntax error while parsing: CC(=O)Cn1c[C@@H](CCC[CH+](CC=O)[O)NCCC33cc(C)ccccccccccccccccccccccc11\n",
      "[10:52:20] SMILES Parse Error: Failed parsing SMILES 'CC(=O)Cn1c[C@@H](CCC[CH+](CC=O)[O)NCCC33cc(C)ccccccccccccccccccccccc11' for input: 'CC(=O)Cn1c[C@@H](CCC[CH+](CC=O)[O)NCCC33cc(C)ccccccccccccccccccccccc11'\n",
      "[10:52:20] SMILES Parse Error: unclosed ring for input: 'Clc1cccccccc1NC(=O)N1CC(CC1)CCC2'\n",
      "[10:52:20] SMILES Parse Error: syntax error while parsing: C=CC=OOc1ccc(-)c(SCc2ccccc3)cc1\n",
      "[10:52:20] SMILES Parse Error: Failed parsing SMILES 'C=CC=OOc1ccc(-)c(SCc2ccccc3)cc1' for input: 'C=CC=OOc1ccc(-)c(SCc2ccccc3)cc1'\n",
      "[10:52:20] SMILES Parse Error: extra close parentheses while parsing: C[C@H]1CCOn2c(CC))c2CC]\n",
      "[10:52:20] SMILES Parse Error: Failed parsing SMILES 'C[C@H]1CCOn2c(CC))c2CC]' for input: 'C[C@H]1CCOn2c(CC))c2CC]'\n",
      "[10:52:20] SMILES Parse Error: syntax error while parsing: Cc1nc(CC[CC@H](CCC)N)NNCCCN[CC@@](O)c1c(C))cc1\n",
      "[10:52:20] SMILES Parse Error: Failed parsing SMILES 'Cc1nc(CC[CC@H](CCC)N)NNCCCN[CC@@](O)c1c(C))cc1' for input: 'Cc1nc(CC[CC@H](CCC)N)NNCCCN[CC@@](O)c1c(C))cc1'\n",
      "[10:52:20] SMILES Parse Error: extra open parentheses for input: 'CCC[C@H](CC[C@H](CC(c2ccccc(c3ccc(NCCCC)=O2)C1'\n",
      "[10:52:20] SMILES Parse Error: syntax error while parsing: Nc1c(n[[H]]cccC)[nH]1[CCC))O1\n",
      "[10:52:20] SMILES Parse Error: Failed parsing SMILES 'Nc1c(n[[H]]cccC)[nH]1[CCC))O1' for input: 'Nc1c(n[[H]]cccC)[nH]1[CCC))O1'\n",
      "[10:52:20] SMILES Parse Error: syntax error while parsing: CC(C)c1ccc(CNC([C@](C(=))C2(CC1\n",
      "[10:52:20] SMILES Parse Error: Failed parsing SMILES 'CC(C)c1ccc(CNC([C@](C(=))C2(CC1' for input: 'CC(C)c1ccc(CNC([C@](C(=))C2(CC1'\n",
      "[10:52:20] SMILES Parse Error: syntax error while parsing: CC(C)c1n(C[C@+]2CCCC(=O)NC(c3cc((3CCC)C)[C@@]]CCCc2)cc1\n",
      "[10:52:20] SMILES Parse Error: Failed parsing SMILES 'CC(C)c1n(C[C@+]2CCCC(=O)NC(c3cc((3CCC)C)[C@@]]CCCc2)cc1' for input: 'CC(C)c1n(C[C@+]2CCCC(=O)NC(c3cc((3CCC)C)[C@@]]CCCc2)cc1'\n",
      "[10:52:20] SMILES Parse Error: syntax error while parsing: CC(C)(C)C1CCCCC(=O)NNNC2c((=O)CC(CNO)CC)C1\n",
      "[10:52:20] SMILES Parse Error: Failed parsing SMILES 'CC(C)(C)C1CCCCC(=O)NNNC2c((=O)CC(CNO)CC)C1' for input: 'CC(C)(C)C1CCCCC(=O)NNNC2c((=O)CC(CNO)CC)C1'\n",
      "[10:52:20] SMILES Parse Error: syntax error while parsing: CC(C)=11CCC[C@@@]]cc2c(C)[N)]2)CCN=C\n",
      "[10:52:20] SMILES Parse Error: Failed parsing SMILES 'CC(C)=11CCC[C@@@]]cc2c(C)[N)]2)CCN=C' for input: 'CC(C)=11CCC[C@@@]]cc2c(C)[N)]2)CCN=C'\n",
      "[10:52:20] SMILES Parse Error: extra close parentheses while parsing: O[C@H](Ocnccccccc2ccnnnn1)NCCS[C@H]c2ccccc2))c1cccccccc1\n",
      "[10:52:20] SMILES Parse Error: Failed parsing SMILES 'O[C@H](Ocnccccccc2ccnnnn1)NCCS[C@H]c2ccccc2))c1cccccccc1' for input: 'O[C@H](Ocnccccccc2ccnnnn1)NCCS[C@H]c2ccccc2))c1cccccccc1'\n",
      "[10:52:20] SMILES Parse Error: syntax error while parsing: COCCOc1cccc((=O)c2(c3cc(C(=O)c4cccc4CC))))12\n",
      "[10:52:20] SMILES Parse Error: Failed parsing SMILES 'COCCOc1cccc((=O)c2(c3cc(C(=O)c4cccc4CC))))12' for input: 'COCCOc1cccc((=O)c2(c3cc(C(=O)c4cccc4CC))))12'\n"
     ]
    }
   ]
  },
  {
   "cell_type": "code",
   "source": [
    "valid_smiles"
   ],
   "metadata": {
    "colab": {
     "base_uri": "https://localhost:8080/"
    },
    "id": "Mptw7LXugvwi",
    "outputId": "9fcc7981-27a1-4e08-e8ad-390a6fe6f3c8"
   },
   "execution_count": 106,
   "outputs": [
    {
     "output_type": "execute_result",
     "data": {
      "text/plain": [
       "[]"
      ]
     },
     "metadata": {},
     "execution_count": 106
    }
   ]
  },
  {
   "cell_type": "code",
   "source": [],
   "metadata": {
    "id": "YMl2U48rhA4a"
   },
   "execution_count": null,
   "outputs": []
  }
 ]
}