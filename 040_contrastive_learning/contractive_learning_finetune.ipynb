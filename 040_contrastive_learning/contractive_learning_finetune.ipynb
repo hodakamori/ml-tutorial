{
  "cells": [
    {
      "cell_type": "code",
      "execution_count": 1,
      "metadata": {
        "colab": {
          "base_uri": "https://localhost:8080/"
        },
        "id": "L9AVXmusqSXi",
        "outputId": "adfc6374-4c36-415b-d4f4-7c247459e054"
      },
      "outputs": [
        {
          "name": "stdout",
          "output_type": "stream",
          "text": [
            "Collecting deepchem\n",
            "  Downloading deepchem-2.8.0-py3-none-any.whl.metadata (2.0 kB)\n",
            "Collecting rdkit\n",
            "  Downloading rdkit-2024.3.6-cp310-cp310-manylinux_2_28_x86_64.whl.metadata (4.0 kB)\n",
            "Collecting torch_geometric\n",
            "  Downloading torch_geometric-2.6.1-py3-none-any.whl.metadata (63 kB)\n",
            "\u001b[2K     \u001b[90m━━━━━━━━━━━━━━━━━━━━━━━━━━━━━━━━━━━━━━━━\u001b[0m \u001b[32m63.1/63.1 kB\u001b[0m \u001b[31m5.7 MB/s\u001b[0m eta \u001b[36m0:00:00\u001b[0m\n",
            "\u001b[?25hRequirement already satisfied: joblib in /usr/local/lib/python3.10/dist-packages (from deepchem) (1.4.2)\n",
            "Requirement already satisfied: numpy>=1.21 in /usr/local/lib/python3.10/dist-packages (from deepchem) (1.26.4)\n",
            "Requirement already satisfied: pandas in /usr/local/lib/python3.10/dist-packages (from deepchem) (2.2.2)\n",
            "Requirement already satisfied: scikit-learn in /usr/local/lib/python3.10/dist-packages (from deepchem) (1.6.0)\n",
            "Requirement already satisfied: sympy in /usr/local/lib/python3.10/dist-packages (from deepchem) (1.13.1)\n",
            "Requirement already satisfied: scipy>=1.10.1 in /usr/local/lib/python3.10/dist-packages (from deepchem) (1.13.1)\n",
            "Requirement already satisfied: Pillow in /usr/local/lib/python3.10/dist-packages (from rdkit) (11.0.0)\n",
            "Requirement already satisfied: aiohttp in /usr/local/lib/python3.10/dist-packages (from torch_geometric) (3.11.10)\n",
            "Requirement already satisfied: fsspec in /usr/local/lib/python3.10/dist-packages (from torch_geometric) (2024.10.0)\n",
            "Requirement already satisfied: jinja2 in /usr/local/lib/python3.10/dist-packages (from torch_geometric) (3.1.4)\n",
            "Requirement already satisfied: psutil>=5.8.0 in /usr/local/lib/python3.10/dist-packages (from torch_geometric) (5.9.5)\n",
            "Requirement already satisfied: pyparsing in /usr/local/lib/python3.10/dist-packages (from torch_geometric) (3.2.0)\n",
            "Requirement already satisfied: requests in /usr/local/lib/python3.10/dist-packages (from torch_geometric) (2.32.3)\n",
            "Requirement already satisfied: tqdm in /usr/local/lib/python3.10/dist-packages (from torch_geometric) (4.67.1)\n",
            "Requirement already satisfied: aiohappyeyeballs>=2.3.0 in /usr/local/lib/python3.10/dist-packages (from aiohttp->torch_geometric) (2.4.4)\n",
            "Requirement already satisfied: aiosignal>=1.1.2 in /usr/local/lib/python3.10/dist-packages (from aiohttp->torch_geometric) (1.3.2)\n",
            "Requirement already satisfied: async-timeout<6.0,>=4.0 in /usr/local/lib/python3.10/dist-packages (from aiohttp->torch_geometric) (4.0.3)\n",
            "Requirement already satisfied: attrs>=17.3.0 in /usr/local/lib/python3.10/dist-packages (from aiohttp->torch_geometric) (24.3.0)\n",
            "Requirement already satisfied: frozenlist>=1.1.1 in /usr/local/lib/python3.10/dist-packages (from aiohttp->torch_geometric) (1.5.0)\n",
            "Requirement already satisfied: multidict<7.0,>=4.5 in /usr/local/lib/python3.10/dist-packages (from aiohttp->torch_geometric) (6.1.0)\n",
            "Requirement already satisfied: propcache>=0.2.0 in /usr/local/lib/python3.10/dist-packages (from aiohttp->torch_geometric) (0.2.1)\n",
            "Requirement already satisfied: yarl<2.0,>=1.17.0 in /usr/local/lib/python3.10/dist-packages (from aiohttp->torch_geometric) (1.18.3)\n",
            "Requirement already satisfied: MarkupSafe>=2.0 in /usr/local/lib/python3.10/dist-packages (from jinja2->torch_geometric) (3.0.2)\n",
            "Requirement already satisfied: python-dateutil>=2.8.2 in /usr/local/lib/python3.10/dist-packages (from pandas->deepchem) (2.8.2)\n",
            "Requirement already satisfied: pytz>=2020.1 in /usr/local/lib/python3.10/dist-packages (from pandas->deepchem) (2024.2)\n",
            "Requirement already satisfied: tzdata>=2022.7 in /usr/local/lib/python3.10/dist-packages (from pandas->deepchem) (2024.2)\n",
            "Requirement already satisfied: charset-normalizer<4,>=2 in /usr/local/lib/python3.10/dist-packages (from requests->torch_geometric) (3.4.0)\n",
            "Requirement already satisfied: idna<4,>=2.5 in /usr/local/lib/python3.10/dist-packages (from requests->torch_geometric) (3.10)\n",
            "Requirement already satisfied: urllib3<3,>=1.21.1 in /usr/local/lib/python3.10/dist-packages (from requests->torch_geometric) (2.2.3)\n",
            "Requirement already satisfied: certifi>=2017.4.17 in /usr/local/lib/python3.10/dist-packages (from requests->torch_geometric) (2024.12.14)\n",
            "Requirement already satisfied: threadpoolctl>=3.1.0 in /usr/local/lib/python3.10/dist-packages (from scikit-learn->deepchem) (3.5.0)\n",
            "Requirement already satisfied: mpmath<1.4,>=1.1.0 in /usr/local/lib/python3.10/dist-packages (from sympy->deepchem) (1.3.0)\n",
            "Requirement already satisfied: typing-extensions>=4.1.0 in /usr/local/lib/python3.10/dist-packages (from multidict<7.0,>=4.5->aiohttp->torch_geometric) (4.12.2)\n",
            "Requirement already satisfied: six>=1.5 in /usr/local/lib/python3.10/dist-packages (from python-dateutil>=2.8.2->pandas->deepchem) (1.17.0)\n",
            "Downloading deepchem-2.8.0-py3-none-any.whl (1.0 MB)\n",
            "\u001b[2K   \u001b[90m━━━━━━━━━━━━━━━━━━━━━━━━━━━━━━━━━━━━━━━━\u001b[0m \u001b[32m1.0/1.0 MB\u001b[0m \u001b[31m50.8 MB/s\u001b[0m eta \u001b[36m0:00:00\u001b[0m\n",
            "\u001b[?25hDownloading rdkit-2024.3.6-cp310-cp310-manylinux_2_28_x86_64.whl (32.8 MB)\n",
            "\u001b[2K   \u001b[90m━━━━━━━━━━━━━━━━━━━━━━━━━━━━━━━━━━━━━━━━\u001b[0m \u001b[32m32.8/32.8 MB\u001b[0m \u001b[31m38.9 MB/s\u001b[0m eta \u001b[36m0:00:00\u001b[0m\n",
            "\u001b[?25hDownloading torch_geometric-2.6.1-py3-none-any.whl (1.1 MB)\n",
            "\u001b[2K   \u001b[90m━━━━━━━━━━━━━━━━━━━━━━━━━━━━━━━━━━━━━━━━\u001b[0m \u001b[32m1.1/1.1 MB\u001b[0m \u001b[31m42.9 MB/s\u001b[0m eta \u001b[36m0:00:00\u001b[0m\n",
            "\u001b[?25hInstalling collected packages: rdkit, deepchem, torch_geometric\n",
            "Successfully installed deepchem-2.8.0 rdkit-2024.3.6 torch_geometric-2.6.1\n"
          ]
        }
      ],
      "source": [
        "!pip install deepchem rdkit torch_geometric"
      ]
    },
    {
      "cell_type": "code",
      "execution_count": 2,
      "metadata": {
        "colab": {
          "base_uri": "https://localhost:8080/"
        },
        "id": "L_LR67MjqNbc",
        "outputId": "446d2348-9d40-4631-9edf-e0d8b21e1f96"
      },
      "outputs": [
        {
          "name": "stderr",
          "output_type": "stream",
          "text": [
            "WARNING:deepchem.feat.molecule_featurizers.rdkit_descriptors:No normalization for SPS. Feature removed!\n",
            "WARNING:deepchem.feat.molecule_featurizers.rdkit_descriptors:No normalization for AvgIpc. Feature removed!\n",
            "\u001b[34m\u001b[1mwandb\u001b[0m: \u001b[33mWARNING\u001b[0m W&B installed but not logged in.  Run `wandb login` or set the WANDB_API_KEY env variable.\n",
            "WARNING:tensorflow:From /usr/local/lib/python3.10/dist-packages/tensorflow/python/util/deprecation.py:588: calling function (from tensorflow.python.eager.polymorphic_function.polymorphic_function) with experimental_relax_shapes is deprecated and will be removed in a future version.\n",
            "Instructions for updating:\n",
            "experimental_relax_shapes is deprecated, use reduce_retracing instead\n",
            "\u001b[34m\u001b[1mwandb\u001b[0m: \u001b[33mWARNING\u001b[0m W&B installed but not logged in.  Run `wandb login` or set the WANDB_API_KEY env variable.\n",
            "WARNING:deepchem.models.torch_models:Skipped loading modules with pytorch-geometric dependency, missing a dependency. No module named 'dgl'\n",
            "WARNING:deepchem.models:Skipped loading modules with pytorch-lightning dependency, missing a dependency. No module named 'lightning'\n",
            "WARNING:deepchem.models:Skipped loading some Jax models, missing a dependency. No module named 'haiku'\n"
          ]
        }
      ],
      "source": [
        "import deepchem as dc\n",
        "import pandas as pd\n",
        "import torch\n",
        "import torch.nn as nn\n",
        "import torch.nn.functional as F\n",
        "from rdkit import Chem\n",
        "from rdkit.Chem import AllChem\n",
        "from sklearn.model_selection import train_test_split\n",
        "from torch.utils.data import DataLoader\n",
        "from torch_geometric.data import Data, Dataset\n",
        "from torch_geometric.loader import DataLoader\n",
        "from torch_geometric.nn import GCNConv, global_mean_pool"
      ]
    },
    {
      "cell_type": "code",
      "execution_count": 3,
      "metadata": {
        "id": "z5RcE5JeqNbd"
      },
      "outputs": [],
      "source": [
        "class GNNEncoder(nn.Module):\n",
        "    def __init__(\n",
        "        self, num_node_features=20, num_edge_features=11, hidden_dim=64, out_dim=64\n",
        "    ):\n",
        "        super().__init__()\n",
        "        self.conv1 = GCNConv(num_node_features, hidden_dim)\n",
        "        self.conv2 = GCNConv(hidden_dim, hidden_dim)\n",
        "        self.proj_head = nn.Linear(hidden_dim, out_dim)\n",
        "\n",
        "    def forward(self, x, edge_index, edge_attr, batch_index):\n",
        "        h = self.conv1(x, edge_index)\n",
        "        h = F.relu(h)\n",
        "        h = self.conv2(h, edge_index)\n",
        "        h = F.relu(h)\n",
        "        h_pool = global_mean_pool(h, batch_index)\n",
        "        z = self.proj_head(h_pool)\n",
        "        return z"
      ]
    },
    {
      "cell_type": "code",
      "execution_count": 4,
      "metadata": {
        "id": "Q9PbQCjyqNbd"
      },
      "outputs": [],
      "source": [
        "class FineTuneModel(nn.Module):\n",
        "    def __init__(self, pretrained_gnn, embed_dim=64, freeze_gnn=False):\n",
        "        super().__init__()\n",
        "        self.gnn = pretrained_gnn\n",
        "\n",
        "        if freeze_gnn:\n",
        "            for param in self.gnn.parameters():\n",
        "                param.requires_grad = False\n",
        "\n",
        "        self.reg_head = nn.Sequential(\n",
        "            nn.Linear(embed_dim, embed_dim), nn.ReLU(), nn.Linear(embed_dim, 1)\n",
        "        )\n",
        "\n",
        "    def forward(self, x, edge_index, edge_attr, batch_index):\n",
        "        z = self.gnn(x, edge_index, edge_attr, batch_index)\n",
        "        out = self.reg_head(z)\n",
        "        return out.squeeze(-1)"
      ]
    },
    {
      "cell_type": "code",
      "execution_count": 5,
      "metadata": {
        "colab": {
          "base_uri": "https://localhost:8080/"
        },
        "id": "dIz9C9TJqNbd",
        "outputId": "32fcbeb5-d0ae-4842-d13e-70ae86f0dd9a"
      },
      "outputs": [
        {
          "name": "stderr",
          "output_type": "stream",
          "text": [
            "<ipython-input-5-14a78f965956>:2: FutureWarning: You are using `torch.load` with `weights_only=False` (the current default value), which uses the default pickle module implicitly. It is possible to construct malicious pickle data which will execute arbitrary code during unpickling (See https://github.com/pytorch/pytorch/blob/main/SECURITY.md#untrusted-models for more details). In a future release, the default value for `weights_only` will be flipped to `True`. This limits the functions that could be executed during unpickling. Arbitrary objects will no longer be allowed to be loaded via this mode unless they are explicitly allowlisted by the user via `torch.serialization.add_safe_globals`. We recommend you start setting `weights_only=True` for any use case where you don't have full control of the loaded file. Please open an issue on GitHub for any issues related to this experimental feature.\n",
            "  pretrained_encoder.load_state_dict(torch.load(\"pretrained_gnn.pt\"))\n"
          ]
        }
      ],
      "source": [
        "pretrained_encoder = GNNEncoder(num_node_features=30, num_edge_features=11)\n",
        "pretrained_encoder.load_state_dict(torch.load(\"pretrained_gnn_pubchem100k.pt\"))\n",
        "\n",
        "fine_tune_model = FineTuneModel(pretrained_encoder, embed_dim=64, freeze_gnn=True)"
      ]
    },
    {
      "cell_type": "code",
      "execution_count": 6,
      "metadata": {
        "id": "rE2JkTOVqNbe"
      },
      "outputs": [],
      "source": [
        "class MolGraphWithLogSDataset(Dataset):\n",
        "    def __init__(self, smiles_list, logS_list, transform=None):\n",
        "        super().__init__()\n",
        "        self.smiles_list = smiles_list\n",
        "        self.logS_list = logS_list\n",
        "        self.featurizer = dc.feat.MolGraphConvFeaturizer(use_edges=True)\n",
        "        self.transform = transform\n",
        "\n",
        "        assert len(self.smiles_list) == len(\n",
        "            self.logS_list\n",
        "        ), \"SMILESのリストとlogSのリストの長さが合っていません。\"\n",
        "\n",
        "    def __len__(self):\n",
        "        return len(self.smiles_list)\n",
        "\n",
        "    def __getitem__(self, idx):\n",
        "        smi = self.smiles_list[idx]\n",
        "        mol = Chem.MolFromSmiles(smi)\n",
        "        mol = AllChem.AddHs(mol)\n",
        "\n",
        "        dgraph = self.featurizer.featurize([mol])[0]\n",
        "        pyg_data = self._dc_to_pyg(dgraph)\n",
        "\n",
        "        logS_value = self.logS_list[idx]\n",
        "        pyg_data.y = torch.tensor([logS_value], dtype=torch.float)\n",
        "\n",
        "        if self.transform is not None:\n",
        "            pyg_data = self.transform(pyg_data)\n",
        "\n",
        "        return pyg_data\n",
        "\n",
        "    def _dc_to_pyg(self, dgraph):\n",
        "        node_feats = torch.tensor(dgraph.node_features, dtype=torch.float)\n",
        "        edge_index = torch.tensor(dgraph.edge_index, dtype=torch.long)\n",
        "        edge_feats = torch.tensor(dgraph.edge_features, dtype=torch.float)\n",
        "\n",
        "        data = Data(x=node_feats, edge_index=edge_index, edge_attr=edge_feats)\n",
        "        return data\n"
      ]
    },
    {
      "cell_type": "code",
      "execution_count": 7,
      "metadata": {
        "id": "ZSVFH8lGqNbe"
      },
      "outputs": [],
      "source": [
        "def create_dataloaders(train_dataset, valid_dataset, batch_size=32):\n",
        "    train_loader = DataLoader(train_dataset, batch_size=batch_size, shuffle=True)\n",
        "    valid_loader = DataLoader(valid_dataset, batch_size=batch_size, shuffle=False)\n",
        "    return train_loader, valid_loader"
      ]
    },
    {
      "cell_type": "code",
      "execution_count": 8,
      "metadata": {
        "id": "SSJAwHBzqNbe"
      },
      "outputs": [],
      "source": [
        "def train_regression(\n",
        "    model, train_loader, valid_loader, epochs=20, lr=1e-3, device=\"cpu\"\n",
        "):\n",
        "    model.to(device)\n",
        "    criterion = nn.MSELoss()\n",
        "    optimizer = torch.optim.Adam(model.parameters(), lr=lr)\n",
        "\n",
        "    for epoch in range(1, epochs + 1):\n",
        "        ####################\n",
        "        #      train\n",
        "        ####################\n",
        "        model.train()\n",
        "        total_loss = 0.0\n",
        "        for batch_data in train_loader:\n",
        "            # batch_data は PyG の Batch\n",
        "            batch_data = batch_data.to(device)\n",
        "            pred = model(\n",
        "                batch_data.x,\n",
        "                batch_data.edge_index,\n",
        "                batch_data.edge_attr,\n",
        "                batch_data.batch,\n",
        "            )\n",
        "            loss = criterion(pred, batch_data.y)\n",
        "            optimizer.zero_grad()\n",
        "            loss.backward()\n",
        "            optimizer.step()\n",
        "\n",
        "            total_loss += loss.item() * batch_data.num_graphs\n",
        "\n",
        "        train_loss = total_loss / len(train_loader.dataset)\n",
        "\n",
        "        ####################\n",
        "        #   validation\n",
        "        ####################\n",
        "        model.eval()\n",
        "        val_loss = 0.0\n",
        "        with torch.no_grad():\n",
        "            for batch_data in valid_loader:\n",
        "                batch_data = batch_data.to(device)\n",
        "                pred = model(\n",
        "                    batch_data.x,\n",
        "                    batch_data.edge_index,\n",
        "                    batch_data.edge_attr,\n",
        "                    batch_data.batch,\n",
        "                )\n",
        "                loss = criterion(pred, batch_data.y)\n",
        "                val_loss += loss.item() * batch_data.num_graphs\n",
        "\n",
        "        val_loss /= len(valid_loader.dataset)\n",
        "\n",
        "        print(\n",
        "            f\"Epoch [{epoch}/{epochs}] | \"\n",
        "            f\"Train MSE: {train_loss:.4f} | \"\n",
        "            f\"Val MSE: {val_loss:.4f}\"\n",
        "        )\n",
        "\n",
        "    print(\"Fine-tuning (Regression) completed.\")"
      ]
    },
    {
      "cell_type": "code",
      "execution_count": 9,
      "metadata": {
        "id": "mraDnaeNqNbe"
      },
      "outputs": [],
      "source": [
        "df = pd.read_csv(\"./delaney-rdkitfp.csv\")\n",
        "smiles_list = df[\"smiles\"].tolist()\n",
        "logS_list = df[\"logS\"].tolist()\n",
        "\n",
        "train_smiles, test_smiles, train_logs, test_logs = train_test_split(\n",
        "    smiles_list, logS_list, test_size=0.2, random_state=42\n",
        ")\n",
        "\n",
        "train_smiles, val_smiles, train_logs, val_logs = train_test_split(\n",
        "    train_smiles, train_logs, test_size=0.2, random_state=42\n",
        ")\n",
        "train_dataset = MolGraphWithLogSDataset(train_smiles, train_logs)\n",
        "val_dataset = MolGraphWithLogSDataset(val_smiles, val_logs)\n",
        "test_dataset = MolGraphWithLogSDataset(test_smiles, test_logs)"
      ]
    },
    {
      "cell_type": "code",
      "execution_count": 10,
      "metadata": {
        "id": "b6MWUVlmqNbf"
      },
      "outputs": [],
      "source": [
        "def create_dataloaders(train_dataset, valid_dataset, batch_size=32):\n",
        "    train_loader = DataLoader(train_dataset, batch_size=batch_size, shuffle=True)\n",
        "    valid_loader = DataLoader(valid_dataset, batch_size=batch_size, shuffle=False)\n",
        "    return train_loader, valid_loader\n",
        "\n",
        "\n",
        "train_loader, val_loader = create_dataloaders(train_dataset, val_dataset, batch_size=32)\n",
        "test_loader = DataLoader(test_dataset, batch_size=32, shuffle=False)"
      ]
    },
    {
      "cell_type": "code",
      "execution_count": 11,
      "metadata": {
        "id": "8tqEeEqVqNbf"
      },
      "outputs": [],
      "source": [
        "train_loader, valid_loader = create_dataloaders(\n",
        "    train_dataset=train_dataset, valid_dataset=val_dataset, batch_size=32\n",
        ")"
      ]
    },
    {
      "cell_type": "code",
      "execution_count": 12,
      "metadata": {
        "colab": {
          "base_uri": "https://localhost:8080/"
        },
        "id": "psqPbTpdqNbf",
        "outputId": "82b38b59-4333-43cc-d6c1-3fccf4e8e9b3"
      },
      "outputs": [
        {
          "name": "stdout",
          "output_type": "stream",
          "text": [
            "Epoch [1/100] | Train MSE: 13.3409 | Val MSE: 12.0740\n",
            "Epoch [2/100] | Train MSE: 12.3882 | Val MSE: 11.0500\n",
            "Epoch [3/100] | Train MSE: 11.1657 | Val MSE: 9.7623\n",
            "Epoch [4/100] | Train MSE: 9.6969 | Val MSE: 8.2531\n",
            "Epoch [5/100] | Train MSE: 8.0988 | Val MSE: 6.7029\n",
            "Epoch [6/100] | Train MSE: 6.6318 | Val MSE: 5.3265\n",
            "Epoch [7/100] | Train MSE: 5.5067 | Val MSE: 4.3047\n",
            "Epoch [8/100] | Train MSE: 4.7291 | Val MSE: 3.6786\n",
            "Epoch [9/100] | Train MSE: 4.2370 | Val MSE: 3.3008\n",
            "Epoch [10/100] | Train MSE: 3.9055 | Val MSE: 3.0596\n",
            "Epoch [11/100] | Train MSE: 3.6673 | Val MSE: 2.8783\n",
            "Epoch [12/100] | Train MSE: 3.4523 | Val MSE: 2.7323\n",
            "Epoch [13/100] | Train MSE: 3.2712 | Val MSE: 2.5865\n",
            "Epoch [14/100] | Train MSE: 3.0960 | Val MSE: 2.4601\n",
            "Epoch [15/100] | Train MSE: 2.9448 | Val MSE: 2.3322\n",
            "Epoch [16/100] | Train MSE: 2.7962 | Val MSE: 2.2239\n",
            "Epoch [17/100] | Train MSE: 2.6576 | Val MSE: 2.1082\n",
            "Epoch [18/100] | Train MSE: 2.5435 | Val MSE: 1.9948\n",
            "Epoch [19/100] | Train MSE: 2.4096 | Val MSE: 1.9092\n",
            "Epoch [20/100] | Train MSE: 2.3034 | Val MSE: 1.8193\n",
            "Epoch [21/100] | Train MSE: 2.2063 | Val MSE: 1.7466\n",
            "Epoch [22/100] | Train MSE: 2.1195 | Val MSE: 1.6805\n",
            "Epoch [23/100] | Train MSE: 2.0382 | Val MSE: 1.6258\n",
            "Epoch [24/100] | Train MSE: 1.9693 | Val MSE: 1.5808\n",
            "Epoch [25/100] | Train MSE: 1.9114 | Val MSE: 1.5378\n",
            "Epoch [26/100] | Train MSE: 1.8566 | Val MSE: 1.5022\n",
            "Epoch [27/100] | Train MSE: 1.8101 | Val MSE: 1.4757\n",
            "Epoch [28/100] | Train MSE: 1.7735 | Val MSE: 1.4479\n",
            "Epoch [29/100] | Train MSE: 1.7328 | Val MSE: 1.4292\n",
            "Epoch [30/100] | Train MSE: 1.6989 | Val MSE: 1.4132\n",
            "Epoch [31/100] | Train MSE: 1.6746 | Val MSE: 1.4005\n",
            "Epoch [32/100] | Train MSE: 1.6507 | Val MSE: 1.3914\n",
            "Epoch [33/100] | Train MSE: 1.6261 | Val MSE: 1.3820\n",
            "Epoch [34/100] | Train MSE: 1.6062 | Val MSE: 1.3762\n",
            "Epoch [35/100] | Train MSE: 1.5913 | Val MSE: 1.3728\n",
            "Epoch [36/100] | Train MSE: 1.5726 | Val MSE: 1.3677\n",
            "Epoch [37/100] | Train MSE: 1.5588 | Val MSE: 1.3639\n",
            "Epoch [38/100] | Train MSE: 1.5522 | Val MSE: 1.3633\n",
            "Epoch [39/100] | Train MSE: 1.5354 | Val MSE: 1.3564\n",
            "Epoch [40/100] | Train MSE: 1.5210 | Val MSE: 1.3551\n",
            "Epoch [41/100] | Train MSE: 1.5116 | Val MSE: 1.3520\n",
            "Epoch [42/100] | Train MSE: 1.5042 | Val MSE: 1.3511\n",
            "Epoch [43/100] | Train MSE: 1.4973 | Val MSE: 1.3541\n",
            "Epoch [44/100] | Train MSE: 1.4864 | Val MSE: 1.3484\n",
            "Epoch [45/100] | Train MSE: 1.4757 | Val MSE: 1.3474\n",
            "Epoch [46/100] | Train MSE: 1.4718 | Val MSE: 1.3469\n",
            "Epoch [47/100] | Train MSE: 1.4607 | Val MSE: 1.3447\n",
            "Epoch [48/100] | Train MSE: 1.4533 | Val MSE: 1.3441\n",
            "Epoch [49/100] | Train MSE: 1.4463 | Val MSE: 1.3430\n",
            "Epoch [50/100] | Train MSE: 1.4462 | Val MSE: 1.3399\n",
            "Epoch [51/100] | Train MSE: 1.4355 | Val MSE: 1.3402\n",
            "Epoch [52/100] | Train MSE: 1.4294 | Val MSE: 1.3409\n",
            "Epoch [53/100] | Train MSE: 1.4217 | Val MSE: 1.3385\n",
            "Epoch [54/100] | Train MSE: 1.4178 | Val MSE: 1.3388\n",
            "Epoch [55/100] | Train MSE: 1.4143 | Val MSE: 1.3374\n",
            "Epoch [56/100] | Train MSE: 1.4061 | Val MSE: 1.3355\n",
            "Epoch [57/100] | Train MSE: 1.4053 | Val MSE: 1.3344\n",
            "Epoch [58/100] | Train MSE: 1.4043 | Val MSE: 1.3317\n",
            "Epoch [59/100] | Train MSE: 1.3951 | Val MSE: 1.3331\n",
            "Epoch [60/100] | Train MSE: 1.3940 | Val MSE: 1.3292\n",
            "Epoch [61/100] | Train MSE: 1.3848 | Val MSE: 1.3323\n",
            "Epoch [62/100] | Train MSE: 1.3767 | Val MSE: 1.3239\n",
            "Epoch [63/100] | Train MSE: 1.3710 | Val MSE: 1.3234\n",
            "Epoch [64/100] | Train MSE: 1.3660 | Val MSE: 1.3231\n",
            "Epoch [65/100] | Train MSE: 1.3636 | Val MSE: 1.3228\n",
            "Epoch [66/100] | Train MSE: 1.3601 | Val MSE: 1.3191\n",
            "Epoch [67/100] | Train MSE: 1.3524 | Val MSE: 1.3185\n",
            "Epoch [68/100] | Train MSE: 1.3479 | Val MSE: 1.3179\n",
            "Epoch [69/100] | Train MSE: 1.3469 | Val MSE: 1.3163\n",
            "Epoch [70/100] | Train MSE: 1.3372 | Val MSE: 1.3134\n",
            "Epoch [71/100] | Train MSE: 1.3358 | Val MSE: 1.3101\n",
            "Epoch [72/100] | Train MSE: 1.3328 | Val MSE: 1.3079\n",
            "Epoch [73/100] | Train MSE: 1.3254 | Val MSE: 1.3089\n",
            "Epoch [74/100] | Train MSE: 1.3204 | Val MSE: 1.3076\n",
            "Epoch [75/100] | Train MSE: 1.3156 | Val MSE: 1.3052\n",
            "Epoch [76/100] | Train MSE: 1.3107 | Val MSE: 1.3031\n",
            "Epoch [77/100] | Train MSE: 1.3101 | Val MSE: 1.3054\n",
            "Epoch [78/100] | Train MSE: 1.3067 | Val MSE: 1.3038\n",
            "Epoch [79/100] | Train MSE: 1.3019 | Val MSE: 1.3010\n",
            "Epoch [80/100] | Train MSE: 1.2938 | Val MSE: 1.3003\n",
            "Epoch [81/100] | Train MSE: 1.2915 | Val MSE: 1.2921\n",
            "Epoch [82/100] | Train MSE: 1.2897 | Val MSE: 1.2945\n",
            "Epoch [83/100] | Train MSE: 1.2825 | Val MSE: 1.2934\n",
            "Epoch [84/100] | Train MSE: 1.2764 | Val MSE: 1.2905\n",
            "Epoch [85/100] | Train MSE: 1.2701 | Val MSE: 1.2882\n",
            "Epoch [86/100] | Train MSE: 1.2696 | Val MSE: 1.2917\n",
            "Epoch [87/100] | Train MSE: 1.2613 | Val MSE: 1.2829\n",
            "Epoch [88/100] | Train MSE: 1.2568 | Val MSE: 1.2790\n",
            "Epoch [89/100] | Train MSE: 1.2529 | Val MSE: 1.2793\n",
            "Epoch [90/100] | Train MSE: 1.2474 | Val MSE: 1.2790\n",
            "Epoch [91/100] | Train MSE: 1.2425 | Val MSE: 1.2755\n",
            "Epoch [92/100] | Train MSE: 1.2433 | Val MSE: 1.2732\n",
            "Epoch [93/100] | Train MSE: 1.2424 | Val MSE: 1.2723\n",
            "Epoch [94/100] | Train MSE: 1.2313 | Val MSE: 1.2668\n",
            "Epoch [95/100] | Train MSE: 1.2282 | Val MSE: 1.2688\n",
            "Epoch [96/100] | Train MSE: 1.2192 | Val MSE: 1.2669\n",
            "Epoch [97/100] | Train MSE: 1.2160 | Val MSE: 1.2655\n",
            "Epoch [98/100] | Train MSE: 1.2120 | Val MSE: 1.2620\n",
            "Epoch [99/100] | Train MSE: 1.2072 | Val MSE: 1.2626\n",
            "Epoch [100/100] | Train MSE: 1.2042 | Val MSE: 1.2620\n",
            "Fine-tuning (Regression) completed.\n"
          ]
        }
      ],
      "source": [
        "train_regression(\n",
        "    fine_tune_model,\n",
        "    train_loader=train_loader,\n",
        "    valid_loader=valid_loader,\n",
        "    epochs=100,\n",
        "    lr=1e-3,\n",
        "    device=\"cuda\",\n",
        ")"
      ]
    },
    {
      "cell_type": "code",
      "execution_count": 13,
      "metadata": {
        "id": "y2W1e72BqNbf"
      },
      "outputs": [],
      "source": [
        "import matplotlib.pyplot as plt\n",
        "import numpy as np\n",
        "\n",
        "\n",
        "def parity_plot(model, data_loader, ax, device=\"cpu\", title=\"Parity Plot\"):\n",
        "    model.eval()\n",
        "    true_vals = []\n",
        "    pred_vals = []\n",
        "\n",
        "    with torch.no_grad():\n",
        "        for batch_data in data_loader:\n",
        "            batch_data = batch_data.to(device)\n",
        "            pred = model(\n",
        "                batch_data.x,\n",
        "                batch_data.edge_index,\n",
        "                batch_data.edge_attr,\n",
        "                batch_data.batch,\n",
        "            )\n",
        "\n",
        "            y_cpu = batch_data.y.detach().cpu().numpy().flatten()\n",
        "            pred_cpu = pred.detach().cpu().numpy().flatten()\n",
        "\n",
        "            true_vals.extend(y_cpu)\n",
        "            pred_vals.extend(pred_cpu)\n",
        "\n",
        "    true_vals = np.array(true_vals)\n",
        "    pred_vals = np.array(pred_vals)\n",
        "\n",
        "    ax.scatter(true_vals, pred_vals, alpha=0.5, s=5)\n",
        "    ax.set_title(title)\n",
        "    ax.set_xlabel(\"True\")\n",
        "    ax.set_ylabel(\"Pred\")\n",
        "    ax.grid(True)\n",
        "    ax.set_aspect(\"equal\")\n",
        "    ax.label_outer()"
      ]
    },
    {
      "cell_type": "code",
      "execution_count": 15,
      "metadata": {
        "colab": {
          "base_uri": "https://localhost:8080/",
          "height": 433
        },
        "id": "I2ddsvpbqNbf",
        "outputId": "7e3be214-d743-474d-a4de-777efe199936"
      },
      "outputs": [
        {
          "data": {
            "image/png": "[encoded data removed]",
            "text/plain": [
              "<Figure size 800x400 with 2 Axes>"
            ]
          },
          "metadata": {},
          "output_type": "display_data"
        }
      ],
      "source": [
        "fig, ax = plt.subplots(1, 2, figsize=(8, 4))\n",
        "loaders = {\n",
        "    \"train\": train_loader,\n",
        "    \"test\": test_loader,\n",
        "}\n",
        "for i, (name, loader) in enumerate(loaders.items()):\n",
        "    parity_plot(fine_tune_model, loader, ax=ax[i], device=\"cuda\", title=name)\n",
        "    ax[i].plot([-10, 3], [-10, 3], color=\"gray\", linestyle=\"--\", linewidth=1)\n",
        "    ax[i].set_xlim(-10, 3)\n",
        "    ax[i].set_ylim(-10, 3)\n",
        "fig.tight_layout()\n"
      ]
    },
    {
      "cell_type": "code",
      "execution_count": null,
      "metadata": {
        "id": "mcWd17piqNbg"
      },
      "outputs": [],
      "source": []
    }
  ],
  "metadata": {
    "accelerator": "GPU",
    "colab": {
      "gpuType": "T4",
      "provenance": []
    },
    "kernelspec": {
      "display_name": "Python 3",
      "name": "python3"
    },
    "language_info": {
      "codemirror_mode": {
        "name": "ipython",
        "version": 3
      },
      "file_extension": ".py",
      "mimetype": "text/x-python",
      "name": "python",
      "nbconvert_exporter": "python",
      "pygments_lexer": "ipython3",
      "version": "3.10.16"
    }
  },
  "nbformat": 4,
  "nbformat_minor": 0
}
