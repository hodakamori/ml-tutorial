{
 "cells": [
  {
   "cell_type": "code",
   "execution_count": 5,
   "metadata": {},
   "outputs": [],
   "source": [
    "import os\n",
    "\n",
    "from langchain.chains import RetrievalQA\n",
    "from langchain.chat_models import ChatOpenAI\n",
    "from langchain.document_loaders import TextLoader\n",
    "from langchain.embeddings import OpenAIEmbeddings\n",
    "from langchain.text_splitter import CharacterTextSplitter\n",
    "from langchain.vectorstores import Chroma"
   ]
  },
  {
   "cell_type": "code",
   "execution_count": 6,
   "metadata": {},
   "outputs": [],
   "source": [
    "assert os.environ[\"OPENAI_API_KEY\"]"
   ]
  },
  {
   "cell_type": "code",
   "execution_count": 7,
   "metadata": {},
   "outputs": [],
   "source": [
    "chunks_with_metadata = []\n",
    "for text in [\n",
    "    {\"category\": \"fix\", \"source\": \"lammps_fix_nvt.txt\"},\n",
    "    {\"category\": \"pair_style\", \"source\": \"lammps_pair_style.txt\"},\n",
    "]:\n",
    "    loader = TextLoader(text[\"source\"])\n",
    "    documents = loader.load()\n",
    "    text_splitter = CharacterTextSplitter(\n",
    "        chunk_size=1000, chunk_overlap=100, separator=\"\\n\"\n",
    "    )\n",
    "    chunks = text_splitter.split_documents(documents)\n",
    "    chunks_with_metadata += chunks"
   ]
  },
  {
   "cell_type": "code",
   "execution_count": 8,
   "metadata": {},
   "outputs": [
    {
     "name": "stderr",
     "output_type": "stream",
     "text": [
      "/tmp/ipykernel_14192/2979001685.py:1: LangChainDeprecationWarning: The class `OpenAIEmbeddings` was deprecated in LangChain 0.0.9 and will be removed in 1.0. An updated version of the class exists in the :class:`~langchain-openai package and should be used instead. To use it run `pip install -U :class:`~langchain-openai` and import as `from :class:`~langchain_openai import OpenAIEmbeddings``.\n",
      "  embeddings = OpenAIEmbeddings()\n"
     ]
    }
   ],
   "source": [
    "embeddings = OpenAIEmbeddings()\n",
    "vectorstore = Chroma.from_documents(\n",
    "    documents=chunks_with_metadata, embedding=embeddings, persist_directory=\"./data\"\n",
    ")"
   ]
  },
  {
   "cell_type": "code",
   "execution_count": 9,
   "metadata": {},
   "outputs": [],
   "source": [
    "retriever = vectorstore.as_retriever(search_type=\"similarity\", search_kwargs={\"k\": 3})"
   ]
  },
  {
   "cell_type": "code",
   "execution_count": 10,
   "metadata": {},
   "outputs": [
    {
     "name": "stderr",
     "output_type": "stream",
     "text": [
      "/tmp/ipykernel_14192/4061062410.py:2: LangChainDeprecationWarning: The class `ChatOpenAI` was deprecated in LangChain 0.0.10 and will be removed in 1.0. An updated version of the class exists in the :class:`~langchain-openai package and should be used instead. To use it run `pip install -U :class:`~langchain-openai` and import as `from :class:`~langchain_openai import ChatOpenAI``.\n",
      "  llm=ChatOpenAI(temperature=0, model_name=\"gpt-4o\"),\n"
     ]
    }
   ],
   "source": [
    "qa_chain = RetrievalQA.from_chain_type(\n",
    "    llm=ChatOpenAI(temperature=0, model_name=\"gpt-4o\"),\n",
    "    chain_type=\"stuff\",\n",
    "    retriever=retriever,\n",
    "    return_source_documents=True,\n",
    ")"
   ]
  },
  {
   "cell_type": "code",
   "execution_count": 11,
   "metadata": {},
   "outputs": [
    {
     "name": "stderr",
     "output_type": "stream",
     "text": [
      "/tmp/ipykernel_14192/3641214514.py:2: LangChainDeprecationWarning: The method `Chain.__call__` was deprecated in langchain 0.1.0 and will be removed in 1.0. Use :meth:`~invoke` instead.\n",
      "  result = qa_chain({\"query\": query})\n"
     ]
    }
   ],
   "source": [
    "query = \"LAMMPSで圧浴としてMTKを用いたNPTアンサンブルでシミュレーションを行うコードを書いてください。\"\n",
    "result = qa_chain({\"query\": query})"
   ]
  },
  {
   "cell_type": "code",
   "execution_count": 12,
   "metadata": {},
   "outputs": [
    {
     "data": {
      "text/plain": [
       "{'query': 'LAMMPSで圧浴としてMTKを用いたNPTアンサンブルでシミュレーションを行うコードを書いてください。',\n",
       " 'result': '以下は、LAMMPSでMTK（Martyna-Tobias-Klein）を用いたNPTアンサンブルでシミュレーションを行うための基本的なスクリプトの例です。このスクリプトは、システムの初期化、力場の設定、NPTアンサンブルでのシミュレーションを行うためのコマンドを含んでいます。\\n\\n```lammps\\n# LAMMPS input script for NPT ensemble using MTK barostat\\n\\nunits           real\\natom_style      atomic\\n\\n# Read initial configuration\\nread_data       data.lammps\\n\\n# Define interatomic potential\\npair_style      lj/cut 10.0\\npair_coeff      * * 0.1 3.5\\n\\n# Define settings for NPT ensemble\\nfix             1 all npt temp 300.0 300.0 100.0 iso 1.0 1.0 1000.0\\n\\n# Output settings\\nthermo          100\\ndump            1 all atom 100 dump.lammpstrj\\n\\n# Run the simulation\\ntimestep        1.0\\nrun             10000\\n```\\n\\nこのスクリプトでは、以下の設定を行っています：\\n\\n- `units real`：実際の物理単位を使用します。\\n- `atom_style atomic`：原子スタイルを指定します。\\n- `read_data data.lammps`：初期構造を読み込みます。\\n- `pair_style lj/cut 10.0` と `pair_coeff * * 0.1 3.5`：Lennard-Jonesポテンシャルを使用し、カットオフ距離を10.0に設定します。\\n- `fix 1 all npt temp 300.0 300.0 100.0 iso 1.0 1.0 1000.0`：NPTアンサンブルを設定し、温度を300Kに、圧力を1.0 atmに設定します。温度と圧力の緩和時間はそれぞれ100.0と1000.0です。\\n- `thermo 100`：100ステップごとに熱力学的情報を出力します。\\n- `dump 1 all atom 100 dump.lammpstrj`：100ステップごとに原子の位置を出力します。\\n- `timestep 1.0`：タイムステップを1.0 fsに設定します。\\n- `run 10000`：10000ステップのシミュレーションを実行します。\\n\\nこのスクリプトを実行する前に、`data.lammps`という名前の初期構造ファイルを用意する必要があります。また、シミュレーションの詳細（例えば、ポテンシャルパラメータや初期条件）は、具体的なシステムに応じて調整してください。',\n",
       " 'source_documents': [Document(metadata={'source': 'lammps_fix_nvt.txt'}, page_content='The equations of motion used are those of Shinoda et al in (Shinoda), which combine the hydrostatic equations of Martyna, Tobias and Klein in (Martyna) with the strain energy proposed by Parrinello and Rahman in (Parrinello). The time integration schemes closely follow the time-reversible measure-preserving Verlet and rRESPA integrators derived by Tuckerman et al in (Tuckerman).\\nThe thermostat parameters for fix styles nvt and npt are specified using the temp keyword. Other thermostat-related keywords are tchain, tloop and drag, which are discussed below.'),\n",
       "  Document(metadata={'source': 'lammps_fix_nvt.txt'}, page_content='These commands perform time integration on Nose-Hoover style non-Hamiltonian equations of motion which are designed to generate positions and velocities sampled from the canonical (nvt), isothermal-isobaric (npt), and isenthalpic (nph) ensembles. This updates the position and velocity for atoms in the group each timestep.'),\n",
       "  Document(metadata={'source': 'lammps_fix_nvt.txt'}, page_content='The thermostatting and barostatting is achieved by adding some dynamic variables which are coupled to the particle velocities (thermostatting) and simulation domain dimensions (barostatting). In addition to basic thermostatting and barostatting, these fixes can also create a chain of thermostats coupled to the particle thermostat, and another chain of thermostats coupled to the barostat variables. The barostat can be coupled to the overall box volume, or to individual dimensions, including the xy, xz and yz tilt dimensions. The external pressure of the barostat can be specified as either a scalar pressure (isobaric ensemble) or as components of a symmetric stress tensor (constant stress ensemble). When used correctly, the time-averaged temperature and stress tensor of the particles will match the target values specified by Tstart/Tstop and Pstart/Pstop.')]}"
      ]
     },
     "execution_count": 12,
     "metadata": {},
     "output_type": "execute_result"
    }
   ],
   "source": [
    "result"
   ]
  },
  {
   "cell_type": "code",
   "execution_count": 23,
   "metadata": {},
   "outputs": [],
   "source": [
    "from langchain.evaluation import load_evaluator\n",
    "\n",
    "\n",
    "def evaluate_rag_performance(question, ground_truth):\n",
    "    evaluator = load_evaluator(\"qa\")\n",
    "\n",
    "    result = qa_chain({\"query\": question})\n",
    "    generated_answer = result[\"result\"]\n",
    "    retrieved_docs = result[\"source_documents\"]\n",
    "\n",
    "    # 評価\n",
    "    examples = [{\"query\": question, \"answer\": ground_truth}]\n",
    "    predictions = [{\"query\": question, \"result\": generated_answer}]\n",
    "    evaluation_result = evaluator.evaluate(\n",
    "        examples=examples,\n",
    "        predictions=predictions,\n",
    "        question_key=\"query\",\n",
    "        answer_key=\"answer\",\n",
    "        prediction_key=\"result\",\n",
    "    )\n",
    "\n",
    "    return {\n",
    "        \"question\": question,\n",
    "        \"ground_truth\": ground_truth,\n",
    "        \"generated_answer\": generated_answer,\n",
    "        \"retrieved_docs\": [doc.page_content for doc in retrieved_docs],\n",
    "        \"evaluation_result\": evaluation_result,\n",
    "    }"
   ]
  },
  {
   "cell_type": "code",
   "execution_count": 26,
   "metadata": {},
   "outputs": [],
   "source": [
    "questions_and_answers = [\n",
    "    {\n",
    "        \"question\": \"圧浴のMTKとは何ですか？\",\n",
    "        \"ground_truth\": \"Martyna, Tobias and Kleinらによって開発された圧浴です。\",\n",
    "    },\n",
    "]"
   ]
  },
  {
   "cell_type": "code",
   "execution_count": 27,
   "metadata": {},
   "outputs": [
    {
     "name": "stderr",
     "output_type": "stream",
     "text": [
      "WARNING! seed is not default parameter.\n",
      "                    seed was transferred to model_kwargs.\n",
      "                    Please confirm that seed is what you intended.\n"
     ]
    },
    {
     "name": "stdout",
     "output_type": "stream",
     "text": [
      "{'question': '圧浴のMTKとは何ですか？', 'ground_truth': 'Martyna, Tobias and Kleinらによって開発された圧浴です。', 'generated_answer': '圧浴のMTKとは、Martyna, Tobias, Kleinによって提案された圧力制御の方法を指します。これは、分子動力学シミュレーションにおいて、系の圧力を制御するための手法で、特に等温等圧（NPT）アンサンブルで使用されます。MTK法は、システムの体積を動的に調整することで、目標とする圧力を維持することを目的としています。この方法は、システムの温度と圧力を同時に制御するために、サーモスタットとバロスタットを組み合わせて使用します。', 'retrieved_docs': ['The equations of motion used are those of Shinoda et al in (Shinoda), which combine the hydrostatic equations of Martyna, Tobias and Klein in (Martyna) with the strain energy proposed by Parrinello and Rahman in (Parrinello). The time integration schemes closely follow the time-reversible measure-preserving Verlet and rRESPA integrators derived by Tuckerman et al in (Tuckerman).\\nThe thermostat parameters for fix styles nvt and npt are specified using the temp keyword. Other thermostat-related keywords are tchain, tloop and drag, which are discussed below.', 'The thermostatting and barostatting is achieved by adding some dynamic variables which are coupled to the particle velocities (thermostatting) and simulation domain dimensions (barostatting). In addition to basic thermostatting and barostatting, these fixes can also create a chain of thermostats coupled to the particle thermostat, and another chain of thermostats coupled to the barostat variables. The barostat can be coupled to the overall box volume, or to individual dimensions, including the xy, xz and yz tilt dimensions. The external pressure of the barostat can be specified as either a scalar pressure (isobaric ensemble) or as components of a symmetric stress tensor (constant stress ensemble). When used correctly, the time-averaged temperature and stress tensor of the particles will match the target values specified by Tstart/Tstop and Pstart/Pstop.', 'The thermostat is applied to only the translational degrees of freedom for the particles. The translational degrees of freedom can also have a bias velocity removed before thermostatting takes place; see the description below. The desired temperature at each timestep is a ramped value during the run from Tstart to Tstop. The Tdamp parameter is specified in time units and determines how rapidly the temperature is relaxed. For example, a value of 10.0 means to relax the temperature in a timespan of (roughly) 10 time units (e.g. \\n or fs or ps - see the units command). The atoms in the fix group are the only ones whose velocities and positions are updated by the velocity/position update portion of the integration.'], 'evaluation_result': [{'results': 'CORRECT'}]}\n",
      "\n",
      "====================\n",
      "Question: 圧浴のMTKとは何ですか？\n",
      "Ground Truth: Martyna, Tobias and Kleinらによって開発された圧浴です。\n",
      "Generated Answer: 圧浴のMTKとは、Martyna, Tobias, Kleinによって提案された圧力制御の方法を指します。これは、分子動力学シミュレーションにおいて、系の圧力を制御するための手法で、特に等温等圧（NPT）アンサンブルで使用されます。MTK法は、システムの体積を動的に調整することで、目標とする圧力を維持することを目的としています。この方法は、システムの温度と圧力を同時に制御するために、サーモスタットとバロスタットを組み合わせて使用します。\n",
      "Evaluation Result: [{'results': 'CORRECT'}]\n",
      "Retrieved Docs: ['The equations of motion used are those of Shinoda et al in (Shinoda), which combine the hydrostatic equations of Martyna, Tobias and Klein in (Martyna) with the strain energy proposed by Parrinello and Rahman in (Parrinello). The time integration schemes closely follow the time-reversible measure-preserving Verlet and rRESPA integrators derived by Tuckerman et al in (Tuckerman).\\nThe thermostat parameters for fix styles nvt and npt are specified using the temp keyword. Other thermostat-related keywords are tchain, tloop and drag, which are discussed below.', 'The thermostatting and barostatting is achieved by adding some dynamic variables which are coupled to the particle velocities (thermostatting) and simulation domain dimensions (barostatting). In addition to basic thermostatting and barostatting, these fixes can also create a chain of thermostats coupled to the particle thermostat, and another chain of thermostats coupled to the barostat variables. The barostat can be coupled to the overall box volume, or to individual dimensions, including the xy, xz and yz tilt dimensions. The external pressure of the barostat can be specified as either a scalar pressure (isobaric ensemble) or as components of a symmetric stress tensor (constant stress ensemble). When used correctly, the time-averaged temperature and stress tensor of the particles will match the target values specified by Tstart/Tstop and Pstart/Pstop.', 'The thermostat is applied to only the translational degrees of freedom for the particles. The translational degrees of freedom can also have a bias velocity removed before thermostatting takes place; see the description below. The desired temperature at each timestep is a ramped value during the run from Tstart to Tstop. The Tdamp parameter is specified in time units and determines how rapidly the temperature is relaxed. For example, a value of 10.0 means to relax the temperature in a timespan of (roughly) 10 time units (e.g. \\n or fs or ps - see the units command). The atoms in the fix group are the only ones whose velocities and positions are updated by the velocity/position update portion of the integration.']\n"
     ]
    }
   ],
   "source": [
    "results = []\n",
    "for qa in questions_and_answers:\n",
    "    result = evaluate_rag_performance(qa[\"question\"], qa[\"ground_truth\"])\n",
    "    print(result)\n",
    "    results.append(result)\n",
    "\n",
    "for res in results:\n",
    "    print(\"\\n====================\")\n",
    "    print(f\"Question: {res['question']}\")\n",
    "    print(f\"Ground Truth: {res['ground_truth']}\")\n",
    "    print(f\"Generated Answer: {res['generated_answer']}\")\n",
    "    print(f\"Evaluation Result: {res['evaluation_result']}\")\n",
    "    print(f\"Retrieved Docs: {res['retrieved_docs']}\")"
   ]
  },
  {
   "cell_type": "code",
   "execution_count": null,
   "metadata": {},
   "outputs": [],
   "source": []
  }
 ],
 "metadata": {
  "kernelspec": {
   "display_name": "openmm",
   "language": "python",
   "name": "python3"
  },
  "language_info": {
   "codemirror_mode": {
    "name": "ipython",
    "version": 3
   },
   "file_extension": ".py",
   "mimetype": "text/x-python",
   "name": "python",
   "nbconvert_exporter": "python",
   "pygments_lexer": "ipython3",
   "version": "3.12.7"
  }
 },
 "nbformat": 4,
 "nbformat_minor": 2
}
