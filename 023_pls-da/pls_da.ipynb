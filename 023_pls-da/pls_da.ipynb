{
 "cells": [
  {
   "cell_type": "markdown",
   "metadata": {},
   "source": [
    "https://stackoverflow.com/questions/18390150/pls-da-algorithm-in-python"
   ]
  },
  {
   "cell_type": "code",
   "execution_count": 3,
   "metadata": {},
   "outputs": [],
   "source": [
    "import numpy as np\n",
    "import pandas as pd\n",
    "from sklearn.cross_decomposition import PLSRegression\n",
    "from sklearn.preprocessing import StandardScaler\n",
    "import plotly.express as px"
   ]
  },
  {
   "cell_type": "code",
   "execution_count": 5,
   "metadata": {},
   "outputs": [],
   "source": [
    "df = pd.read_csv(\"../data/Iris.csv\")"
   ]
  },
  {
   "cell_type": "code",
   "execution_count": 6,
   "metadata": {},
   "outputs": [],
   "source": [
    "y = df[\"Species\"]\n",
    "X = df.loc[:, df.columns != \"Species\"]"
   ]
  },
  {
   "cell_type": "code",
   "execution_count": 8,
   "metadata": {},
   "outputs": [
    {
     "data": {
      "text/html": [
       "<div>\n",
       "<style scoped>\n",
       "    .dataframe tbody tr th:only-of-type {\n",
       "        vertical-align: middle;\n",
       "    }\n",
       "\n",
       "    .dataframe tbody tr th {\n",
       "        vertical-align: top;\n",
       "    }\n",
       "\n",
       "    .dataframe thead th {\n",
       "        text-align: right;\n",
       "    }\n",
       "</style>\n",
       "<table border=\"1\" class=\"dataframe\">\n",
       "  <thead>\n",
       "    <tr style=\"text-align: right;\">\n",
       "      <th></th>\n",
       "      <th>x0_Iris-setosa</th>\n",
       "      <th>x0_Iris-versicolor</th>\n",
       "      <th>x0_Iris-virginica</th>\n",
       "    </tr>\n",
       "  </thead>\n",
       "  <tbody>\n",
       "    <tr>\n",
       "      <th>0</th>\n",
       "      <td>1.0</td>\n",
       "      <td>0.0</td>\n",
       "      <td>0.0</td>\n",
       "    </tr>\n",
       "    <tr>\n",
       "      <th>1</th>\n",
       "      <td>1.0</td>\n",
       "      <td>0.0</td>\n",
       "      <td>0.0</td>\n",
       "    </tr>\n",
       "    <tr>\n",
       "      <th>2</th>\n",
       "      <td>1.0</td>\n",
       "      <td>0.0</td>\n",
       "      <td>0.0</td>\n",
       "    </tr>\n",
       "    <tr>\n",
       "      <th>3</th>\n",
       "      <td>1.0</td>\n",
       "      <td>0.0</td>\n",
       "      <td>0.0</td>\n",
       "    </tr>\n",
       "    <tr>\n",
       "      <th>4</th>\n",
       "      <td>1.0</td>\n",
       "      <td>0.0</td>\n",
       "      <td>0.0</td>\n",
       "    </tr>\n",
       "  </tbody>\n",
       "</table>\n",
       "</div>"
      ],
      "text/plain": [
       "   x0_Iris-setosa  x0_Iris-versicolor  x0_Iris-virginica\n",
       "0             1.0                 0.0                0.0\n",
       "1             1.0                 0.0                0.0\n",
       "2             1.0                 0.0                0.0\n",
       "3             1.0                 0.0                0.0\n",
       "4             1.0                 0.0                0.0"
      ]
     },
     "execution_count": 8,
     "metadata": {},
     "output_type": "execute_result"
    }
   ],
   "source": [
    "from sklearn.preprocessing import OneHotEncoder\n",
    "\n",
    "ohe = OneHotEncoder(handle_unknown=\"ignore\")\n",
    "y_ohe = ohe.fit_transform(y.values.reshape(-1,1))\n",
    "y_ohe = pd.DataFrame(y_ohe.toarray(), columns=ohe.get_feature_names_out())\n",
    "y_ohe.head()"
   ]
  },
  {
   "cell_type": "code",
   "execution_count": 11,
   "metadata": {},
   "outputs": [],
   "source": [
    "scaler = StandardScaler()\n",
    "X_std = scaler.fit_transform(X)"
   ]
  },
  {
   "cell_type": "code",
   "execution_count": 15,
   "metadata": {},
   "outputs": [],
   "source": [
    "from sklearn.model_selection import train_test_split\n",
    "X_train, X_test, y_train, y_test = train_test_split(\n",
    "    X_std, y_ohe, random_state=42, train_size=0.8\n",
    ")"
   ]
  },
  {
   "cell_type": "code",
   "execution_count": 16,
   "metadata": {},
   "outputs": [
    {
     "data": {
      "text/html": [
       "<style>#sk-container-id-2 {\n",
       "  /* Definition of color scheme common for light and dark mode */\n",
       "  --sklearn-color-text: black;\n",
       "  --sklearn-color-line: gray;\n",
       "  /* Definition of color scheme for unfitted estimators */\n",
       "  --sklearn-color-unfitted-level-0: #fff5e6;\n",
       "  --sklearn-color-unfitted-level-1: #f6e4d2;\n",
       "  --sklearn-color-unfitted-level-2: #ffe0b3;\n",
       "  --sklearn-color-unfitted-level-3: chocolate;\n",
       "  /* Definition of color scheme for fitted estimators */\n",
       "  --sklearn-color-fitted-level-0: #f0f8ff;\n",
       "  --sklearn-color-fitted-level-1: #d4ebff;\n",
       "  --sklearn-color-fitted-level-2: #b3dbfd;\n",
       "  --sklearn-color-fitted-level-3: cornflowerblue;\n",
       "\n",
       "  /* Specific color for light theme */\n",
       "  --sklearn-color-text-on-default-background: var(--sg-text-color, var(--theme-code-foreground, var(--jp-content-font-color1, black)));\n",
       "  --sklearn-color-background: var(--sg-background-color, var(--theme-background, var(--jp-layout-color0, white)));\n",
       "  --sklearn-color-border-box: var(--sg-text-color, var(--theme-code-foreground, var(--jp-content-font-color1, black)));\n",
       "  --sklearn-color-icon: #696969;\n",
       "\n",
       "  @media (prefers-color-scheme: dark) {\n",
       "    /* Redefinition of color scheme for dark theme */\n",
       "    --sklearn-color-text-on-default-background: var(--sg-text-color, var(--theme-code-foreground, var(--jp-content-font-color1, white)));\n",
       "    --sklearn-color-background: var(--sg-background-color, var(--theme-background, var(--jp-layout-color0, #111)));\n",
       "    --sklearn-color-border-box: var(--sg-text-color, var(--theme-code-foreground, var(--jp-content-font-color1, white)));\n",
       "    --sklearn-color-icon: #878787;\n",
       "  }\n",
       "}\n",
       "\n",
       "#sk-container-id-2 {\n",
       "  color: var(--sklearn-color-text);\n",
       "}\n",
       "\n",
       "#sk-container-id-2 pre {\n",
       "  padding: 0;\n",
       "}\n",
       "\n",
       "#sk-container-id-2 input.sk-hidden--visually {\n",
       "  border: 0;\n",
       "  clip: rect(1px 1px 1px 1px);\n",
       "  clip: rect(1px, 1px, 1px, 1px);\n",
       "  height: 1px;\n",
       "  margin: -1px;\n",
       "  overflow: hidden;\n",
       "  padding: 0;\n",
       "  position: absolute;\n",
       "  width: 1px;\n",
       "}\n",
       "\n",
       "#sk-container-id-2 div.sk-dashed-wrapped {\n",
       "  border: 1px dashed var(--sklearn-color-line);\n",
       "  margin: 0 0.4em 0.5em 0.4em;\n",
       "  box-sizing: border-box;\n",
       "  padding-bottom: 0.4em;\n",
       "  background-color: var(--sklearn-color-background);\n",
       "}\n",
       "\n",
       "#sk-container-id-2 div.sk-container {\n",
       "  /* jupyter's `normalize.less` sets `[hidden] { display: none; }`\n",
       "     but bootstrap.min.css set `[hidden] { display: none !important; }`\n",
       "     so we also need the `!important` here to be able to override the\n",
       "     default hidden behavior on the sphinx rendered scikit-learn.org.\n",
       "     See: https://github.com/scikit-learn/scikit-learn/issues/21755 */\n",
       "  display: inline-block !important;\n",
       "  position: relative;\n",
       "}\n",
       "\n",
       "#sk-container-id-2 div.sk-text-repr-fallback {\n",
       "  display: none;\n",
       "}\n",
       "\n",
       "div.sk-parallel-item,\n",
       "div.sk-serial,\n",
       "div.sk-item {\n",
       "  /* draw centered vertical line to link estimators */\n",
       "  background-image: linear-gradient(var(--sklearn-color-text-on-default-background), var(--sklearn-color-text-on-default-background));\n",
       "  background-size: 2px 100%;\n",
       "  background-repeat: no-repeat;\n",
       "  background-position: center center;\n",
       "}\n",
       "\n",
       "/* Parallel-specific style estimator block */\n",
       "\n",
       "#sk-container-id-2 div.sk-parallel-item::after {\n",
       "  content: \"\";\n",
       "  width: 100%;\n",
       "  border-bottom: 2px solid var(--sklearn-color-text-on-default-background);\n",
       "  flex-grow: 1;\n",
       "}\n",
       "\n",
       "#sk-container-id-2 div.sk-parallel {\n",
       "  display: flex;\n",
       "  align-items: stretch;\n",
       "  justify-content: center;\n",
       "  background-color: var(--sklearn-color-background);\n",
       "  position: relative;\n",
       "}\n",
       "\n",
       "#sk-container-id-2 div.sk-parallel-item {\n",
       "  display: flex;\n",
       "  flex-direction: column;\n",
       "}\n",
       "\n",
       "#sk-container-id-2 div.sk-parallel-item:first-child::after {\n",
       "  align-self: flex-end;\n",
       "  width: 50%;\n",
       "}\n",
       "\n",
       "#sk-container-id-2 div.sk-parallel-item:last-child::after {\n",
       "  align-self: flex-start;\n",
       "  width: 50%;\n",
       "}\n",
       "\n",
       "#sk-container-id-2 div.sk-parallel-item:only-child::after {\n",
       "  width: 0;\n",
       "}\n",
       "\n",
       "/* Serial-specific style estimator block */\n",
       "\n",
       "#sk-container-id-2 div.sk-serial {\n",
       "  display: flex;\n",
       "  flex-direction: column;\n",
       "  align-items: center;\n",
       "  background-color: var(--sklearn-color-background);\n",
       "  padding-right: 1em;\n",
       "  padding-left: 1em;\n",
       "}\n",
       "\n",
       "\n",
       "/* Toggleable style: style used for estimator/Pipeline/ColumnTransformer box that is\n",
       "clickable and can be expanded/collapsed.\n",
       "- Pipeline and ColumnTransformer use this feature and define the default style\n",
       "- Estimators will overwrite some part of the style using the `sk-estimator` class\n",
       "*/\n",
       "\n",
       "/* Pipeline and ColumnTransformer style (default) */\n",
       "\n",
       "#sk-container-id-2 div.sk-toggleable {\n",
       "  /* Default theme specific background. It is overwritten whether we have a\n",
       "  specific estimator or a Pipeline/ColumnTransformer */\n",
       "  background-color: var(--sklearn-color-background);\n",
       "}\n",
       "\n",
       "/* Toggleable label */\n",
       "#sk-container-id-2 label.sk-toggleable__label {\n",
       "  cursor: pointer;\n",
       "  display: block;\n",
       "  width: 100%;\n",
       "  margin-bottom: 0;\n",
       "  padding: 0.5em;\n",
       "  box-sizing: border-box;\n",
       "  text-align: center;\n",
       "}\n",
       "\n",
       "#sk-container-id-2 label.sk-toggleable__label-arrow:before {\n",
       "  /* Arrow on the left of the label */\n",
       "  content: \"▸\";\n",
       "  float: left;\n",
       "  margin-right: 0.25em;\n",
       "  color: var(--sklearn-color-icon);\n",
       "}\n",
       "\n",
       "#sk-container-id-2 label.sk-toggleable__label-arrow:hover:before {\n",
       "  color: var(--sklearn-color-text);\n",
       "}\n",
       "\n",
       "/* Toggleable content - dropdown */\n",
       "\n",
       "#sk-container-id-2 div.sk-toggleable__content {\n",
       "  max-height: 0;\n",
       "  max-width: 0;\n",
       "  overflow: hidden;\n",
       "  text-align: left;\n",
       "  /* unfitted */\n",
       "  background-color: var(--sklearn-color-unfitted-level-0);\n",
       "}\n",
       "\n",
       "#sk-container-id-2 div.sk-toggleable__content.fitted {\n",
       "  /* fitted */\n",
       "  background-color: var(--sklearn-color-fitted-level-0);\n",
       "}\n",
       "\n",
       "#sk-container-id-2 div.sk-toggleable__content pre {\n",
       "  margin: 0.2em;\n",
       "  border-radius: 0.25em;\n",
       "  color: var(--sklearn-color-text);\n",
       "  /* unfitted */\n",
       "  background-color: var(--sklearn-color-unfitted-level-0);\n",
       "}\n",
       "\n",
       "#sk-container-id-2 div.sk-toggleable__content.fitted pre {\n",
       "  /* unfitted */\n",
       "  background-color: var(--sklearn-color-fitted-level-0);\n",
       "}\n",
       "\n",
       "#sk-container-id-2 input.sk-toggleable__control:checked~div.sk-toggleable__content {\n",
       "  /* Expand drop-down */\n",
       "  max-height: 200px;\n",
       "  max-width: 100%;\n",
       "  overflow: auto;\n",
       "}\n",
       "\n",
       "#sk-container-id-2 input.sk-toggleable__control:checked~label.sk-toggleable__label-arrow:before {\n",
       "  content: \"▾\";\n",
       "}\n",
       "\n",
       "/* Pipeline/ColumnTransformer-specific style */\n",
       "\n",
       "#sk-container-id-2 div.sk-label input.sk-toggleable__control:checked~label.sk-toggleable__label {\n",
       "  color: var(--sklearn-color-text);\n",
       "  background-color: var(--sklearn-color-unfitted-level-2);\n",
       "}\n",
       "\n",
       "#sk-container-id-2 div.sk-label.fitted input.sk-toggleable__control:checked~label.sk-toggleable__label {\n",
       "  background-color: var(--sklearn-color-fitted-level-2);\n",
       "}\n",
       "\n",
       "/* Estimator-specific style */\n",
       "\n",
       "/* Colorize estimator box */\n",
       "#sk-container-id-2 div.sk-estimator input.sk-toggleable__control:checked~label.sk-toggleable__label {\n",
       "  /* unfitted */\n",
       "  background-color: var(--sklearn-color-unfitted-level-2);\n",
       "}\n",
       "\n",
       "#sk-container-id-2 div.sk-estimator.fitted input.sk-toggleable__control:checked~label.sk-toggleable__label {\n",
       "  /* fitted */\n",
       "  background-color: var(--sklearn-color-fitted-level-2);\n",
       "}\n",
       "\n",
       "#sk-container-id-2 div.sk-label label.sk-toggleable__label,\n",
       "#sk-container-id-2 div.sk-label label {\n",
       "  /* The background is the default theme color */\n",
       "  color: var(--sklearn-color-text-on-default-background);\n",
       "}\n",
       "\n",
       "/* On hover, darken the color of the background */\n",
       "#sk-container-id-2 div.sk-label:hover label.sk-toggleable__label {\n",
       "  color: var(--sklearn-color-text);\n",
       "  background-color: var(--sklearn-color-unfitted-level-2);\n",
       "}\n",
       "\n",
       "/* Label box, darken color on hover, fitted */\n",
       "#sk-container-id-2 div.sk-label.fitted:hover label.sk-toggleable__label.fitted {\n",
       "  color: var(--sklearn-color-text);\n",
       "  background-color: var(--sklearn-color-fitted-level-2);\n",
       "}\n",
       "\n",
       "/* Estimator label */\n",
       "\n",
       "#sk-container-id-2 div.sk-label label {\n",
       "  font-family: monospace;\n",
       "  font-weight: bold;\n",
       "  display: inline-block;\n",
       "  line-height: 1.2em;\n",
       "}\n",
       "\n",
       "#sk-container-id-2 div.sk-label-container {\n",
       "  text-align: center;\n",
       "}\n",
       "\n",
       "/* Estimator-specific */\n",
       "#sk-container-id-2 div.sk-estimator {\n",
       "  font-family: monospace;\n",
       "  border: 1px dotted var(--sklearn-color-border-box);\n",
       "  border-radius: 0.25em;\n",
       "  box-sizing: border-box;\n",
       "  margin-bottom: 0.5em;\n",
       "  /* unfitted */\n",
       "  background-color: var(--sklearn-color-unfitted-level-0);\n",
       "}\n",
       "\n",
       "#sk-container-id-2 div.sk-estimator.fitted {\n",
       "  /* fitted */\n",
       "  background-color: var(--sklearn-color-fitted-level-0);\n",
       "}\n",
       "\n",
       "/* on hover */\n",
       "#sk-container-id-2 div.sk-estimator:hover {\n",
       "  /* unfitted */\n",
       "  background-color: var(--sklearn-color-unfitted-level-2);\n",
       "}\n",
       "\n",
       "#sk-container-id-2 div.sk-estimator.fitted:hover {\n",
       "  /* fitted */\n",
       "  background-color: var(--sklearn-color-fitted-level-2);\n",
       "}\n",
       "\n",
       "/* Specification for estimator info (e.g. \"i\" and \"?\") */\n",
       "\n",
       "/* Common style for \"i\" and \"?\" */\n",
       "\n",
       ".sk-estimator-doc-link,\n",
       "a:link.sk-estimator-doc-link,\n",
       "a:visited.sk-estimator-doc-link {\n",
       "  float: right;\n",
       "  font-size: smaller;\n",
       "  line-height: 1em;\n",
       "  font-family: monospace;\n",
       "  background-color: var(--sklearn-color-background);\n",
       "  border-radius: 1em;\n",
       "  height: 1em;\n",
       "  width: 1em;\n",
       "  text-decoration: none !important;\n",
       "  margin-left: 1ex;\n",
       "  /* unfitted */\n",
       "  border: var(--sklearn-color-unfitted-level-1) 1pt solid;\n",
       "  color: var(--sklearn-color-unfitted-level-1);\n",
       "}\n",
       "\n",
       ".sk-estimator-doc-link.fitted,\n",
       "a:link.sk-estimator-doc-link.fitted,\n",
       "a:visited.sk-estimator-doc-link.fitted {\n",
       "  /* fitted */\n",
       "  border: var(--sklearn-color-fitted-level-1) 1pt solid;\n",
       "  color: var(--sklearn-color-fitted-level-1);\n",
       "}\n",
       "\n",
       "/* On hover */\n",
       "div.sk-estimator:hover .sk-estimator-doc-link:hover,\n",
       ".sk-estimator-doc-link:hover,\n",
       "div.sk-label-container:hover .sk-estimator-doc-link:hover,\n",
       ".sk-estimator-doc-link:hover {\n",
       "  /* unfitted */\n",
       "  background-color: var(--sklearn-color-unfitted-level-3);\n",
       "  color: var(--sklearn-color-background);\n",
       "  text-decoration: none;\n",
       "}\n",
       "\n",
       "div.sk-estimator.fitted:hover .sk-estimator-doc-link.fitted:hover,\n",
       ".sk-estimator-doc-link.fitted:hover,\n",
       "div.sk-label-container:hover .sk-estimator-doc-link.fitted:hover,\n",
       ".sk-estimator-doc-link.fitted:hover {\n",
       "  /* fitted */\n",
       "  background-color: var(--sklearn-color-fitted-level-3);\n",
       "  color: var(--sklearn-color-background);\n",
       "  text-decoration: none;\n",
       "}\n",
       "\n",
       "/* Span, style for the box shown on hovering the info icon */\n",
       ".sk-estimator-doc-link span {\n",
       "  display: none;\n",
       "  z-index: 9999;\n",
       "  position: relative;\n",
       "  font-weight: normal;\n",
       "  right: .2ex;\n",
       "  padding: .5ex;\n",
       "  margin: .5ex;\n",
       "  width: min-content;\n",
       "  min-width: 20ex;\n",
       "  max-width: 50ex;\n",
       "  color: var(--sklearn-color-text);\n",
       "  box-shadow: 2pt 2pt 4pt #999;\n",
       "  /* unfitted */\n",
       "  background: var(--sklearn-color-unfitted-level-0);\n",
       "  border: .5pt solid var(--sklearn-color-unfitted-level-3);\n",
       "}\n",
       "\n",
       ".sk-estimator-doc-link.fitted span {\n",
       "  /* fitted */\n",
       "  background: var(--sklearn-color-fitted-level-0);\n",
       "  border: var(--sklearn-color-fitted-level-3);\n",
       "}\n",
       "\n",
       ".sk-estimator-doc-link:hover span {\n",
       "  display: block;\n",
       "}\n",
       "\n",
       "/* \"?\"-specific style due to the `<a>` HTML tag */\n",
       "\n",
       "#sk-container-id-2 a.estimator_doc_link {\n",
       "  float: right;\n",
       "  font-size: 1rem;\n",
       "  line-height: 1em;\n",
       "  font-family: monospace;\n",
       "  background-color: var(--sklearn-color-background);\n",
       "  border-radius: 1rem;\n",
       "  height: 1rem;\n",
       "  width: 1rem;\n",
       "  text-decoration: none;\n",
       "  /* unfitted */\n",
       "  color: var(--sklearn-color-unfitted-level-1);\n",
       "  border: var(--sklearn-color-unfitted-level-1) 1pt solid;\n",
       "}\n",
       "\n",
       "#sk-container-id-2 a.estimator_doc_link.fitted {\n",
       "  /* fitted */\n",
       "  border: var(--sklearn-color-fitted-level-1) 1pt solid;\n",
       "  color: var(--sklearn-color-fitted-level-1);\n",
       "}\n",
       "\n",
       "/* On hover */\n",
       "#sk-container-id-2 a.estimator_doc_link:hover {\n",
       "  /* unfitted */\n",
       "  background-color: var(--sklearn-color-unfitted-level-3);\n",
       "  color: var(--sklearn-color-background);\n",
       "  text-decoration: none;\n",
       "}\n",
       "\n",
       "#sk-container-id-2 a.estimator_doc_link.fitted:hover {\n",
       "  /* fitted */\n",
       "  background-color: var(--sklearn-color-fitted-level-3);\n",
       "}\n",
       "</style><div id=\"sk-container-id-2\" class=\"sk-top-container\"><div class=\"sk-text-repr-fallback\"><pre>PLSRegression(n_components=3)</pre><b>In a Jupyter environment, please rerun this cell to show the HTML representation or trust the notebook. <br />On GitHub, the HTML representation is unable to render, please try loading this page with nbviewer.org.</b></div><div class=\"sk-container\" hidden><div class=\"sk-item\"><div class=\"sk-estimator fitted sk-toggleable\"><input class=\"sk-toggleable__control sk-hidden--visually\" id=\"sk-estimator-id-2\" type=\"checkbox\" checked><label for=\"sk-estimator-id-2\" class=\"sk-toggleable__label fitted sk-toggleable__label-arrow fitted\">&nbsp;&nbsp;PLSRegression<a class=\"sk-estimator-doc-link fitted\" rel=\"noreferrer\" target=\"_blank\" href=\"https://scikit-learn.org/1.5/modules/generated/sklearn.cross_decomposition.PLSRegression.html\">?<span>Documentation for PLSRegression</span></a><span class=\"sk-estimator-doc-link fitted\">i<span>Fitted</span></span></label><div class=\"sk-toggleable__content fitted\"><pre>PLSRegression(n_components=3)</pre></div> </div></div></div></div>"
      ],
      "text/plain": [
       "PLSRegression(n_components=3)"
      ]
     },
     "execution_count": 16,
     "metadata": {},
     "output_type": "execute_result"
    }
   ],
   "source": [
    "n_components = 3  # 主成分の数\n",
    "pls = PLSRegression(n_components=n_components)\n",
    "pls.fit(X_std, y_ohe)"
   ]
  },
  {
   "cell_type": "code",
   "execution_count": 22,
   "metadata": {},
   "outputs": [],
   "source": [
    "y_train_pred = pls.predict(X_train)\n",
    "y_test_pred = pls.predict(X_test)"
   ]
  },
  {
   "cell_type": "code",
   "execution_count": 23,
   "metadata": {},
   "outputs": [],
   "source": [
    "y_train_pred_label = np.argmax(y_train_pred, axis=1)\n",
    "y_train_label = np.argmax(y_train, axis=1)\n",
    "y_test_pred_label = np.argmax(y_test_pred, axis=1)\n",
    "y_test_label = np.argmax(y_test, axis=1)"
   ]
  },
  {
   "cell_type": "code",
   "execution_count": 28,
   "metadata": {},
   "outputs": [
    {
     "data": {
      "text/plain": [
       "array([0, 0, 1, 0, 0, 2, 1, 0, 0, 0, 2, 2, 2, 0, 0, 1, 2, 2, 1, 2, 2, 1,\n",
       "       1, 0, 2, 1, 0, 0, 0, 1, 2, 0, 0, 0, 2, 0, 2, 2, 0, 2, 2, 0, 2, 2,\n",
       "       1, 2, 2, 1, 0, 1, 2, 0, 0, 1, 1, 0, 2, 0, 0, 2, 2, 2, 1, 2, 2, 1,\n",
       "       0, 0, 1, 2, 0, 0, 0, 1, 2, 0, 2, 2, 0, 1, 1, 2, 1, 2, 0, 2, 1, 2,\n",
       "       1, 1, 2, 1, 1, 1, 0, 2, 1, 2, 0, 1, 2, 2, 0, 2, 0, 1, 2, 2, 2, 2,\n",
       "       1, 1, 2, 2, 0, 1, 2, 0, 1, 2])"
      ]
     },
     "execution_count": 28,
     "metadata": {},
     "output_type": "execute_result"
    }
   ],
   "source": [
    "y_train_pred_label"
   ]
  },
  {
   "cell_type": "code",
   "execution_count": 29,
   "metadata": {},
   "outputs": [
    {
     "data": {
      "image/png": "[encoded data removed]",
      "text/plain": [
       "<Figure size 1200x500 with 2 Axes>"
      ]
     },
     "metadata": {},
     "output_type": "display_data"
    }
   ],
   "source": [
    "from sklearn.metrics import confusion_matrix\n",
    "import seaborn as sns\n",
    "import matplotlib.pyplot as plt\n",
    "\n",
    "fig = plt.figure(figsize=(12, 5))\n",
    "ax1 = fig.add_subplot(1, 2, 1)\n",
    "cm_train = confusion_matrix(y_train_label, y_train_pred_label)\n",
    "cm_train_df = pd.DataFrame(cm_train, index=y.unique(), columns=y.unique())\n",
    "sns.heatmap(\n",
    "    cm_train_df, annot=True, fmt=\"d\", cmap=\"Blues\", ax=ax1, vmin=0, vmax=5, cbar=False\n",
    ")\n",
    "ax1.set_xlabel(\"Predict\")\n",
    "ax1.set_xlabel(\"Actual\")\n",
    "ax1.set_title(\"Train\")\n",
    "\n",
    "ax2 = fig.add_subplot(1, 2, 2)\n",
    "cm_test = confusion_matrix(y_test_label, y_test_pred_label)\n",
    "cm_test_df = pd.DataFrame(cm_test, index=y.unique(), columns=y.unique())\n",
    "sns.heatmap(\n",
    "    cm_test_df, annot=True, fmt=\"d\", cmap=\"Blues\", ax=ax2, vmin=0, vmax=5, cbar=False\n",
    ")\n",
    "ax2.set_xlabel(\"Predict\")\n",
    "ax2.set_xlabel(\"Actual\")\n",
    "ax2.set_title(\"Test\")\n",
    "\n",
    "# プロットの表示\n",
    "plt.show()"
   ]
  },
  {
   "cell_type": "code",
   "execution_count": 30,
   "metadata": {},
   "outputs": [
    {
     "data": {
      "application/vnd.plotly.v1+json": {
       "config": {
        "plotlyServerURL": "https://plot.ly"
       },
       "data": [
        {
         "hovertemplate": "Class Label=Iris-setosa<br>First Principal Component=%{x}<br>Second Principal Component=%{y}<br>Third Principal Component=%{z}<extra></extra>",
         "legendgroup": "Iris-setosa",
         "marker": {
          "color": "#636efa",
          "size": 3,
          "symbol": "circle"
         },
         "mode": "markers",
         "name": "Iris-setosa",
         "scene": "scene",
         "showlegend": true,
         "type": "scatter3d",
         "x": [
          -2.8294646210823764,
          -2.6191681904167488,
          -2.8565766242337944,
          -2.7774926193756997,
          -2.8941326345144804,
          -2.641920764096928,
          -2.885452066641094,
          -2.711613134636319,
          -2.730462354842896,
          -2.626216800877203,
          -2.657029025938538,
          -2.737497293913565,
          -2.6115563679208207,
          -2.937451411127342,
          -2.67816386518407,
          -2.7359423885755887,
          -2.633690726285878,
          -2.5708411334661476,
          -2.35176301476137,
          -2.6986885023588965,
          -2.306622820561677,
          -2.549681356820805,
          -3.006975840622798,
          -2.1632217663218523,
          -2.503643081387853,
          -2.2400343970424332,
          -2.334792025366223,
          -2.4454494742448976,
          -2.403344574319073,
          -2.464587147125683,
          -2.343442253485579,
          -2.107179043609293,
          -2.8144604802210997,
          -2.6752764253200447,
          -2.343832399837204,
          -2.362728332364708,
          -2.2516949820358474,
          -2.309946271712404,
          -2.4804201468023965,
          -2.3001258822524777,
          -2.390087478223627,
          -1.9111966148948905,
          -2.554867239727721,
          -2.0693807413868264,
          -2.233682907763318,
          -2.105604768729963,
          -2.4313106694830893,
          -2.3693151467528004,
          -2.2778399554103808,
          -2.2063978170048952
         ],
         "y": [
          0.23913767085153215,
          -0.8393628976630395,
          -0.43314958688655386,
          -0.6630626485561514,
          0.4680096606131051,
          1.1767224696467016,
          0.012912122852066488,
          0.06422406560811242,
          -1.0691463651234285,
          -0.5801212665280668,
          0.7833161547590818,
          0.06082007503319907,
          -0.7761499591318547,
          -0.8263371757835599,
          1.5280979879625647,
          2.372202718141178,
          1.2901901701785747,
          0.39019884055176973,
          1.1057573449186162,
          1.0345630297796606,
          0.21979234665151343,
          0.8514359424312348,
          0.5781381676746689,
          0.02283879684228722,
          0.149855081166818,
          -0.6391799178959228,
          0.23759532346275272,
          0.469736232004941,
          0.2724936815154066,
          -0.22938983056680165,
          -0.41728869526189866,
          0.345101723439011,
          1.7665701036926122,
          2.0491440377983015,
          -0.37525564119568594,
          -0.11136907867887302,
          0.6006774462399426,
          -0.3506717661558003,
          -0.6062070265289292,
          0.3416274581744037,
          0.5693315300631225,
          -2.0335773878186325,
          -0.1508907627772763,
          0.611677919486445,
          1.227854374200635,
          -0.4822222447446747,
          1.2382336543180068,
          -0.08539855977551877,
          1.0795365131234564,
          0.20296114066368248
         ],
         "z": [
          -0.4844288206384999,
          -0.4620479384136632,
          -0.24173666353182013,
          -0.21867538888981813,
          -0.31461129015881256,
          -0.5243671392597608,
          -0.05925558300338406,
          -0.32523285873839003,
          -0.02244700178160305,
          -0.3026250796007308,
          -0.45144098038201064,
          -0.13377392892393702,
          -0.18557017190519137,
          0.21649055715846782,
          -0.503306120767143,
          -0.35967284832446395,
          -0.23528686356296646,
          -0.14514478732455666,
          -0.49643364114378374,
          -0.047060139006902646,
          -0.368410136622512,
          -0.02820725635715485,
          0.3741977463474638,
          -0.1228300478984015,
          0.06699221494826532,
          -0.09243739786913946,
          0.040344654475944326,
          -0.03763554822101602,
          -0.025425493676609904,
          0.23413860547107268,
          0.1625743339666316,
          -0.10534550830513358,
          0.20942300038686198,
          0.08156810652318282,
          0.18864121527550204,
          0.22833497350951742,
          -0.02094877777304927,
          0.2475931706606499,
          0.6109747022961453,
          0.2380444491421541,
          0.3905945300104244,
          0.4299064447491713,
          0.7409200569532548,
          0.41052301432644894,
          0.3765060027161838,
          0.473347242927646,
          0.46005373017351076,
          0.6898554403186206,
          0.36082733739089756,
          0.4926539194030379
         ]
        },
        {
         "hovertemplate": "Class Label=Iris-versicolor<br>First Principal Component=%{x}<br>Second Principal Component=%{y}<br>Third Principal Component=%{z}<extra></extra>",
         "legendgroup": "Iris-versicolor",
         "marker": {
          "color": "#EF553B",
          "size": 3,
          "symbol": "circle"
         },
         "mode": "markers",
         "name": "Iris-versicolor",
         "scene": "scene",
         "showlegend": true,
         "type": "scatter3d",
         "x": [
          0.6217989413777922,
          0.34147554868929586,
          0.7787804171865171,
          0.1738499530852326,
          0.6936588647118236,
          0.14246352385259298,
          0.4127145555310962,
          -0.5438338629686309,
          0.5958570995669441,
          -0.11014332175914981,
          -0.162645772284466,
          0.2368674869488986,
          0.38569244654161505,
          0.4977647540824018,
          -0.12677058132624874,
          0.6139238994048162,
          0.23025303398388497,
          0.07203217057665792,
          1.031569488749833,
          0.1227736272320531,
          0.592732206928487,
          0.37830654342057213,
          1.063362414977838,
          0.5373286232262049,
          0.5894983541423479,
          0.736656739314036,
          1.0836702491991939,
          1.183117643146791,
          0.6257527212395142,
          0.043327114599253425,
          0.2277970685212359,
          0.14348557499216905,
          0.3166574516954414,
          1.0424889414180925,
          0.33349936462740115,
          0.47235095571043284,
          1.0047432151723574,
          1.074193589567316,
          0.22952801843447557,
          0.46085489349110714,
          0.4617529747243655,
          0.7252162100397012,
          0.5184302853189406,
          -0.027350807872528443,
          0.5057479449832992,
          0.3210335495309256,
          0.45874531902741716,
          0.7492215649938635,
          -0.060879534779494066,
          0.5234409710364417
         ],
         "y": [
          0.25197895090383454,
          0.19253718023909763,
          0.042013058721750964,
          -1.823418592861436,
          -0.6186107863235232,
          -0.7494926810390103,
          0.42969292679537074,
          -1.664859252801894,
          -0.3828931012286997,
          -0.9571172409866272,
          -2.48183892571092,
          -0.2064361749914226,
          -1.9203165223094503,
          -0.4118760987386309,
          -0.4271622090933039,
          0.13559838687071438,
          -0.22848434538669746,
          -0.8591814786248892,
          -1.8111937973089294,
          -1.272264819411427,
          0.2901206091709242,
          -0.5285185805308791,
          -1.1527600849528232,
          -0.5647038194033519,
          -0.2646347662584446,
          -0.008899636986413384,
          -0.4162188167755278,
          0.02293240052523883,
          -0.2807161585130149,
          -0.9523000143769881,
          -1.4027365119088535,
          -1.4004627250233703,
          -0.7010936017842108,
          -0.6855184907492295,
          -0.1113318794290711,
          0.8447431703004495,
          0.30194293758491375,
          -1.4467250306682722,
          -0.04838085865701414,
          -1.1058743286843356,
          -0.9214901916816487,
          0.03467398982927792,
          -0.8362479398469008,
          -1.5659462420316577,
          -0.6388514604713563,
          0.006572657756271395,
          -0.1847490546054507,
          -0.10650917523434215,
          -1.0580122976124278,
          -0.36560235506839467
         ],
         "z": [
          -1.363177984281619,
          -0.9085815293466332,
          -1.3152431050464632,
          -0.4297226665104772,
          -1.0360893949641568,
          -0.4843054757892311,
          -0.7503519472494168,
          0.17975918879475666,
          -1.0078048692027477,
          0.010951117182664009,
          0.034020546689420235,
          -0.3810076816044426,
          -0.621924780292976,
          -0.5948416861120378,
          -0.052157697943980334,
          -0.8427666029477942,
          -0.14081610340953157,
          -0.28245832999119297,
          -0.7001470870932878,
          -0.12172816898220713,
          -0.2465248685046486,
          -0.34091536287351415,
          -0.6829970142100079,
          -0.4344524474962111,
          -0.5076150118964519,
          -0.6063879091747224,
          -0.8420902099299057,
          -0.7263459556782207,
          -0.1928538538515332,
          0.10260632629885398,
          0.15253195307372594,
          0.18519042855848306,
          0.059208905506382616,
          -0.2501050484819713,
          0.34398272802342406,
          0.0782805302041977,
          -0.4795722919170921,
          -0.3588720079183263,
          0.3539754364365948,
          0.3290435455882103,
          0.29621951237235883,
          -0.0007212856243880869,
          0.2118132732306066,
          0.7959677301170415,
          0.3766344495037092,
          0.40253272015498726,
          0.4017349510096854,
          0.07543707851175073,
          0.9399354692697104,
          0.4532463091441902
         ]
        },
        {
         "hovertemplate": "Class Label=Iris-virginica<br>First Principal Component=%{x}<br>Second Principal Component=%{y}<br>Third Principal Component=%{z}<extra></extra>",
         "legendgroup": "Iris-virginica",
         "marker": {
          "color": "#00cc96",
          "size": 3,
          "symbol": "circle"
         },
         "mode": "markers",
         "name": "Iris-virginica",
         "scene": "scene",
         "showlegend": true,
         "type": "scatter3d",
         "x": [
          1.8861920261440464,
          1.3455415567886961,
          2.193094271988212,
          1.5771015854425392,
          1.953071030002953,
          2.6801899180076836,
          0.7640972248267608,
          2.3256687027668193,
          2.1309860853678297,
          2.287729261016273,
          1.5649770767113074,
          1.816716180843822,
          2.0399232765997364,
          1.5882767675743703,
          1.7655776213287808,
          1.8292345719170287,
          1.7351928388811229,
          2.482862130763295,
          3.3365407335875448,
          1.652587102074335,
          2.2519066460347874,
          1.4201568865553045,
          3.0042778066118574,
          1.7196042807348006,
          2.003999223731983,
          2.212493032840478,
          1.6146361165994594,
          1.4852724511583304,
          2.1691417888081306,
          2.186089394957269,
          2.703904414907877,
          2.5208493196480073,
          2.28092538788356,
          1.6309470072011247,
          1.7402223206283232,
          3.057266734818196,
          2.0503900715402037,
          1.8625462181562185,
          1.530481593901651,
          2.306114575568078,
          2.4751553475547574,
          2.3748951934844245,
          1.808651974494295,
          2.51967462526222,
          2.4963151242001,
          2.4088253327530404,
          2.1946333963539906,
          2.1315393620038683,
          2.0112877207544573,
          1.6917098352915212
         ],
         "y": [
          0.8202171451450457,
          -0.5331083913689474,
          0.28302441520021226,
          -0.05921549314591665,
          0.2259455632023643,
          0.3426633065194731,
          -1.0397664101385375,
          0.08449498389085897,
          -0.8142797396058205,
          1.6585222387336,
          0.7149679324570151,
          -0.3717732010837441,
          0.34277131429625846,
          -0.8549017962280955,
          -0.15654666197578093,
          0.7643598861124905,
          0.2947660045042516,
          2.1522460917415582,
          -0.37469673365456996,
          -1.4527772376445929,
          0.8578831464975607,
          -0.16488183636846412,
          0.057025309367238854,
          -0.27703881215363857,
          1.0480746551698517,
          0.8681246065762563,
          -0.05052974105895517,
          0.3591955491655617,
          -0.015185724099271882,
          0.4665236666753408,
          0.10029382665528874,
          2.2913116563001616,
          0.029345320428127687,
          -0.030744726286919818,
          -0.5163497254600342,
          0.6563410697396431,
          1.338066808384317,
          0.6629466194918435,
          0.43999273851737175,
          0.796302169991716,
          0.7977402314531666,
          0.853691628005963,
          -0.19712876582384287,
          1.0195207169696943,
          1.258977333332631,
          0.6390187555818136,
          -0.5051793624185079,
          0.5897995879040602,
          1.42113778462161,
          0.4974631024835563
         ],
         "z": [
          -0.07571678742586935,
          0.2503626413453001,
          -0.6404390362440207,
          -0.08308789063002994,
          -0.1844227060017985,
          -1.0368202640787343,
          0.9861038522236095,
          -0.7875362144748655,
          -0.38615587782837085,
          -0.42996952259217824,
          0.10199348206388983,
          0.017146308953961627,
          -0.17437876365917296,
          0.5238249942559317,
          0.5576072524099227,
          0.24499759601885995,
          0.0851856338098115,
          -0.6741928258812361,
          -0.993837259125181,
          0.34196937113723075,
          -0.057389998762316694,
          0.8418186558805417,
          -0.8430992098867612,
          0.38619783320873435,
          0.16752517568219494,
          -0.23657448192413696,
          0.5545954883811853,
          0.6729016607263687,
          0.3326323393410274,
          -0.18329897484143612,
          -0.3851016407144912,
          -0.4859243760053855,
          0.4164578993193298,
          0.5562453135277424,
          0.5592634817307786,
          -0.41124447175301493,
          0.7250782040875087,
          0.5890642448053371,
          0.972833156520758,
          0.3345474354723928,
          0.4644924918082003,
          0.4389869741221403,
          1.0560393649423219,
          0.4236569891092262,
          0.5814300227756019,
          0.6047745301981372,
          0.7738122533282483,
          0.7594940745159888,
          1.0576681753666546,
          1.1998415463638956
         ]
        }
       ],
       "layout": {
        "height": 700,
        "legend": {
         "title": {
          "text": "Class Label"
         },
         "tracegroupgap": 0
        },
        "margin": {
         "b": 10,
         "l": 10,
         "r": 20,
         "t": 40
        },
        "scene": {
         "domain": {
          "x": [
           0,
           1
          ],
          "y": [
           0,
           1
          ]
         },
         "xaxis": {
          "title": {
           "text": "PC1"
          }
         },
         "yaxis": {
          "title": {
           "text": "PC2"
          }
         },
         "zaxis": {
          "title": {
           "text": "PC3"
          }
         }
        },
        "template": {
         "data": {
          "bar": [
           {
            "error_x": {
             "color": "#2a3f5f"
            },
            "error_y": {
             "color": "#2a3f5f"
            },
            "marker": {
             "line": {
              "color": "#E5ECF6",
              "width": 0.5
             },
             "pattern": {
              "fillmode": "overlay",
              "size": 10,
              "solidity": 0.2
             }
            },
            "type": "bar"
           }
          ],
          "barpolar": [
           {
            "marker": {
             "line": {
              "color": "#E5ECF6",
              "width": 0.5
             },
             "pattern": {
              "fillmode": "overlay",
              "size": 10,
              "solidity": 0.2
             }
            },
            "type": "barpolar"
           }
          ],
          "carpet": [
           {
            "aaxis": {
             "endlinecolor": "#2a3f5f",
             "gridcolor": "white",
             "linecolor": "white",
             "minorgridcolor": "white",
             "startlinecolor": "#2a3f5f"
            },
            "baxis": {
             "endlinecolor": "#2a3f5f",
             "gridcolor": "white",
             "linecolor": "white",
             "minorgridcolor": "white",
             "startlinecolor": "#2a3f5f"
            },
            "type": "carpet"
           }
          ],
          "choropleth": [
           {
            "colorbar": {
             "outlinewidth": 0,
             "ticks": ""
            },
            "type": "choropleth"
           }
          ],
          "contour": [
           {
            "colorbar": {
             "outlinewidth": 0,
             "ticks": ""
            },
            "colorscale": [
             [
              0,
              "#0d0887"
             ],
             [
              0.1111111111111111,
              "#46039f"
             ],
             [
              0.2222222222222222,
              "#7201a8"
             ],
             [
              0.3333333333333333,
              "#9c179e"
             ],
             [
              0.4444444444444444,
              "#bd3786"
             ],
             [
              0.5555555555555556,
              "#d8576b"
             ],
             [
              0.6666666666666666,
              "#ed7953"
             ],
             [
              0.7777777777777778,
              "#fb9f3a"
             ],
             [
              0.8888888888888888,
              "#fdca26"
             ],
             [
              1,
              "#f0f921"
             ]
            ],
            "type": "contour"
           }
          ],
          "contourcarpet": [
           {
            "colorbar": {
             "outlinewidth": 0,
             "ticks": ""
            },
            "type": "contourcarpet"
           }
          ],
          "heatmap": [
           {
            "colorbar": {
             "outlinewidth": 0,
             "ticks": ""
            },
            "colorscale": [
             [
              0,
              "#0d0887"
             ],
             [
              0.1111111111111111,
              "#46039f"
             ],
             [
              0.2222222222222222,
              "#7201a8"
             ],
             [
              0.3333333333333333,
              "#9c179e"
             ],
             [
              0.4444444444444444,
              "#bd3786"
             ],
             [
              0.5555555555555556,
              "#d8576b"
             ],
             [
              0.6666666666666666,
              "#ed7953"
             ],
             [
              0.7777777777777778,
              "#fb9f3a"
             ],
             [
              0.8888888888888888,
              "#fdca26"
             ],
             [
              1,
              "#f0f921"
             ]
            ],
            "type": "heatmap"
           }
          ],
          "heatmapgl": [
           {
            "colorbar": {
             "outlinewidth": 0,
             "ticks": ""
            },
            "colorscale": [
             [
              0,
              "#0d0887"
             ],
             [
              0.1111111111111111,
              "#46039f"
             ],
             [
              0.2222222222222222,
              "#7201a8"
             ],
             [
              0.3333333333333333,
              "#9c179e"
             ],
             [
              0.4444444444444444,
              "#bd3786"
             ],
             [
              0.5555555555555556,
              "#d8576b"
             ],
             [
              0.6666666666666666,
              "#ed7953"
             ],
             [
              0.7777777777777778,
              "#fb9f3a"
             ],
             [
              0.8888888888888888,
              "#fdca26"
             ],
             [
              1,
              "#f0f921"
             ]
            ],
            "type": "heatmapgl"
           }
          ],
          "histogram": [
           {
            "marker": {
             "pattern": {
              "fillmode": "overlay",
              "size": 10,
              "solidity": 0.2
             }
            },
            "type": "histogram"
           }
          ],
          "histogram2d": [
           {
            "colorbar": {
             "outlinewidth": 0,
             "ticks": ""
            },
            "colorscale": [
             [
              0,
              "#0d0887"
             ],
             [
              0.1111111111111111,
              "#46039f"
             ],
             [
              0.2222222222222222,
              "#7201a8"
             ],
             [
              0.3333333333333333,
              "#9c179e"
             ],
             [
              0.4444444444444444,
              "#bd3786"
             ],
             [
              0.5555555555555556,
              "#d8576b"
             ],
             [
              0.6666666666666666,
              "#ed7953"
             ],
             [
              0.7777777777777778,
              "#fb9f3a"
             ],
             [
              0.8888888888888888,
              "#fdca26"
             ],
             [
              1,
              "#f0f921"
             ]
            ],
            "type": "histogram2d"
           }
          ],
          "histogram2dcontour": [
           {
            "colorbar": {
             "outlinewidth": 0,
             "ticks": ""
            },
            "colorscale": [
             [
              0,
              "#0d0887"
             ],
             [
              0.1111111111111111,
              "#46039f"
             ],
             [
              0.2222222222222222,
              "#7201a8"
             ],
             [
              0.3333333333333333,
              "#9c179e"
             ],
             [
              0.4444444444444444,
              "#bd3786"
             ],
             [
              0.5555555555555556,
              "#d8576b"
             ],
             [
              0.6666666666666666,
              "#ed7953"
             ],
             [
              0.7777777777777778,
              "#fb9f3a"
             ],
             [
              0.8888888888888888,
              "#fdca26"
             ],
             [
              1,
              "#f0f921"
             ]
            ],
            "type": "histogram2dcontour"
           }
          ],
          "mesh3d": [
           {
            "colorbar": {
             "outlinewidth": 0,
             "ticks": ""
            },
            "type": "mesh3d"
           }
          ],
          "parcoords": [
           {
            "line": {
             "colorbar": {
              "outlinewidth": 0,
              "ticks": ""
             }
            },
            "type": "parcoords"
           }
          ],
          "pie": [
           {
            "automargin": true,
            "type": "pie"
           }
          ],
          "scatter": [
           {
            "fillpattern": {
             "fillmode": "overlay",
             "size": 10,
             "solidity": 0.2
            },
            "type": "scatter"
           }
          ],
          "scatter3d": [
           {
            "line": {
             "colorbar": {
              "outlinewidth": 0,
              "ticks": ""
             }
            },
            "marker": {
             "colorbar": {
              "outlinewidth": 0,
              "ticks": ""
             }
            },
            "type": "scatter3d"
           }
          ],
          "scattercarpet": [
           {
            "marker": {
             "colorbar": {
              "outlinewidth": 0,
              "ticks": ""
             }
            },
            "type": "scattercarpet"
           }
          ],
          "scattergeo": [
           {
            "marker": {
             "colorbar": {
              "outlinewidth": 0,
              "ticks": ""
             }
            },
            "type": "scattergeo"
           }
          ],
          "scattergl": [
           {
            "marker": {
             "colorbar": {
              "outlinewidth": 0,
              "ticks": ""
             }
            },
            "type": "scattergl"
           }
          ],
          "scattermapbox": [
           {
            "marker": {
             "colorbar": {
              "outlinewidth": 0,
              "ticks": ""
             }
            },
            "type": "scattermapbox"
           }
          ],
          "scatterpolar": [
           {
            "marker": {
             "colorbar": {
              "outlinewidth": 0,
              "ticks": ""
             }
            },
            "type": "scatterpolar"
           }
          ],
          "scatterpolargl": [
           {
            "marker": {
             "colorbar": {
              "outlinewidth": 0,
              "ticks": ""
             }
            },
            "type": "scatterpolargl"
           }
          ],
          "scatterternary": [
           {
            "marker": {
             "colorbar": {
              "outlinewidth": 0,
              "ticks": ""
             }
            },
            "type": "scatterternary"
           }
          ],
          "surface": [
           {
            "colorbar": {
             "outlinewidth": 0,
             "ticks": ""
            },
            "colorscale": [
             [
              0,
              "#0d0887"
             ],
             [
              0.1111111111111111,
              "#46039f"
             ],
             [
              0.2222222222222222,
              "#7201a8"
             ],
             [
              0.3333333333333333,
              "#9c179e"
             ],
             [
              0.4444444444444444,
              "#bd3786"
             ],
             [
              0.5555555555555556,
              "#d8576b"
             ],
             [
              0.6666666666666666,
              "#ed7953"
             ],
             [
              0.7777777777777778,
              "#fb9f3a"
             ],
             [
              0.8888888888888888,
              "#fdca26"
             ],
             [
              1,
              "#f0f921"
             ]
            ],
            "type": "surface"
           }
          ],
          "table": [
           {
            "cells": {
             "fill": {
              "color": "#EBF0F8"
             },
             "line": {
              "color": "white"
             }
            },
            "header": {
             "fill": {
              "color": "#C8D4E3"
             },
             "line": {
              "color": "white"
             }
            },
            "type": "table"
           }
          ]
         },
         "layout": {
          "annotationdefaults": {
           "arrowcolor": "#2a3f5f",
           "arrowhead": 0,
           "arrowwidth": 1
          },
          "autotypenumbers": "strict",
          "coloraxis": {
           "colorbar": {
            "outlinewidth": 0,
            "ticks": ""
           }
          },
          "colorscale": {
           "diverging": [
            [
             0,
             "#8e0152"
            ],
            [
             0.1,
             "#c51b7d"
            ],
            [
             0.2,
             "#de77ae"
            ],
            [
             0.3,
             "#f1b6da"
            ],
            [
             0.4,
             "#fde0ef"
            ],
            [
             0.5,
             "#f7f7f7"
            ],
            [
             0.6,
             "#e6f5d0"
            ],
            [
             0.7,
             "#b8e186"
            ],
            [
             0.8,
             "#7fbc41"
            ],
            [
             0.9,
             "#4d9221"
            ],
            [
             1,
             "#276419"
            ]
           ],
           "sequential": [
            [
             0,
             "#0d0887"
            ],
            [
             0.1111111111111111,
             "#46039f"
            ],
            [
             0.2222222222222222,
             "#7201a8"
            ],
            [
             0.3333333333333333,
             "#9c179e"
            ],
            [
             0.4444444444444444,
             "#bd3786"
            ],
            [
             0.5555555555555556,
             "#d8576b"
            ],
            [
             0.6666666666666666,
             "#ed7953"
            ],
            [
             0.7777777777777778,
             "#fb9f3a"
            ],
            [
             0.8888888888888888,
             "#fdca26"
            ],
            [
             1,
             "#f0f921"
            ]
           ],
           "sequentialminus": [
            [
             0,
             "#0d0887"
            ],
            [
             0.1111111111111111,
             "#46039f"
            ],
            [
             0.2222222222222222,
             "#7201a8"
            ],
            [
             0.3333333333333333,
             "#9c179e"
            ],
            [
             0.4444444444444444,
             "#bd3786"
            ],
            [
             0.5555555555555556,
             "#d8576b"
            ],
            [
             0.6666666666666666,
             "#ed7953"
            ],
            [
             0.7777777777777778,
             "#fb9f3a"
            ],
            [
             0.8888888888888888,
             "#fdca26"
            ],
            [
             1,
             "#f0f921"
            ]
           ]
          },
          "colorway": [
           "#636efa",
           "#EF553B",
           "#00cc96",
           "#ab63fa",
           "#FFA15A",
           "#19d3f3",
           "#FF6692",
           "#B6E880",
           "#FF97FF",
           "#FECB52"
          ],
          "font": {
           "color": "#2a3f5f"
          },
          "geo": {
           "bgcolor": "white",
           "lakecolor": "white",
           "landcolor": "#E5ECF6",
           "showlakes": true,
           "showland": true,
           "subunitcolor": "white"
          },
          "hoverlabel": {
           "align": "left"
          },
          "hovermode": "closest",
          "mapbox": {
           "style": "light"
          },
          "paper_bgcolor": "white",
          "plot_bgcolor": "#E5ECF6",
          "polar": {
           "angularaxis": {
            "gridcolor": "white",
            "linecolor": "white",
            "ticks": ""
           },
           "bgcolor": "#E5ECF6",
           "radialaxis": {
            "gridcolor": "white",
            "linecolor": "white",
            "ticks": ""
           }
          },
          "scene": {
           "xaxis": {
            "backgroundcolor": "#E5ECF6",
            "gridcolor": "white",
            "gridwidth": 2,
            "linecolor": "white",
            "showbackground": true,
            "ticks": "",
            "zerolinecolor": "white"
           },
           "yaxis": {
            "backgroundcolor": "#E5ECF6",
            "gridcolor": "white",
            "gridwidth": 2,
            "linecolor": "white",
            "showbackground": true,
            "ticks": "",
            "zerolinecolor": "white"
           },
           "zaxis": {
            "backgroundcolor": "#E5ECF6",
            "gridcolor": "white",
            "gridwidth": 2,
            "linecolor": "white",
            "showbackground": true,
            "ticks": "",
            "zerolinecolor": "white"
           }
          },
          "shapedefaults": {
           "line": {
            "color": "#2a3f5f"
           }
          },
          "ternary": {
           "aaxis": {
            "gridcolor": "white",
            "linecolor": "white",
            "ticks": ""
           },
           "baxis": {
            "gridcolor": "white",
            "linecolor": "white",
            "ticks": ""
           },
           "bgcolor": "#E5ECF6",
           "caxis": {
            "gridcolor": "white",
            "linecolor": "white",
            "ticks": ""
           }
          },
          "title": {
           "x": 0.05
          },
          "xaxis": {
           "automargin": true,
           "gridcolor": "white",
           "linecolor": "white",
           "ticks": "",
           "title": {
            "standoff": 15
           },
           "zerolinecolor": "white",
           "zerolinewidth": 2
          },
          "yaxis": {
           "automargin": true,
           "gridcolor": "white",
           "linecolor": "white",
           "ticks": "",
           "title": {
            "standoff": 15
           },
           "zerolinecolor": "white",
           "zerolinewidth": 2
          }
         }
        },
        "title": {
         "text": "PLS Regression: First 3 Principal Components"
        },
        "width": 900
       }
      },
      "text/html": [
       "<div>                            <div id=\"88e9f291-ee1d-4f1f-ab83-58892f6d09ad\" class=\"plotly-graph-div\" style=\"height:700px; width:900px;\"></div>            <script type=\"text/javascript\">                require([\"plotly\"], function(Plotly) {                    window.PLOTLYENV=window.PLOTLYENV || {};                                    if (document.getElementById(\"88e9f291-ee1d-4f1f-ab83-58892f6d09ad\")) {                    Plotly.newPlot(                        \"88e9f291-ee1d-4f1f-ab83-58892f6d09ad\",                        [{\"hovertemplate\":\"Class Label=Iris-setosa\\u003cbr\\u003eFirst Principal Component=%{x}\\u003cbr\\u003eSecond Principal Component=%{y}\\u003cbr\\u003eThird Principal Component=%{z}\\u003cextra\\u003e\\u003c\\u002fextra\\u003e\",\"legendgroup\":\"Iris-setosa\",\"marker\":{\"color\":\"#636efa\",\"symbol\":\"circle\",\"size\":3},\"mode\":\"markers\",\"name\":\"Iris-setosa\",\"scene\":\"scene\",\"showlegend\":true,\"x\":[-2.8294646210823764,-2.6191681904167488,-2.8565766242337944,-2.7774926193756997,-2.8941326345144804,-2.641920764096928,-2.885452066641094,-2.711613134636319,-2.730462354842896,-2.626216800877203,-2.657029025938538,-2.737497293913565,-2.6115563679208207,-2.937451411127342,-2.67816386518407,-2.7359423885755887,-2.633690726285878,-2.5708411334661476,-2.35176301476137,-2.6986885023588965,-2.306622820561677,-2.549681356820805,-3.006975840622798,-2.1632217663218523,-2.503643081387853,-2.2400343970424332,-2.334792025366223,-2.4454494742448976,-2.403344574319073,-2.464587147125683,-2.343442253485579,-2.107179043609293,-2.8144604802210997,-2.6752764253200447,-2.343832399837204,-2.362728332364708,-2.2516949820358474,-2.309946271712404,-2.4804201468023965,-2.3001258822524777,-2.390087478223627,-1.9111966148948905,-2.554867239727721,-2.0693807413868264,-2.233682907763318,-2.105604768729963,-2.4313106694830893,-2.3693151467528004,-2.2778399554103808,-2.2063978170048952],\"y\":[0.23913767085153215,-0.8393628976630395,-0.43314958688655386,-0.6630626485561514,0.4680096606131051,1.1767224696467016,0.012912122852066488,0.06422406560811242,-1.0691463651234285,-0.5801212665280668,0.7833161547590818,0.06082007503319907,-0.7761499591318547,-0.8263371757835599,1.5280979879625647,2.372202718141178,1.2901901701785747,0.39019884055176973,1.1057573449186162,1.0345630297796606,0.21979234665151343,0.8514359424312348,0.5781381676746689,0.02283879684228722,0.149855081166818,-0.6391799178959228,0.23759532346275272,0.469736232004941,0.2724936815154066,-0.22938983056680165,-0.41728869526189866,0.345101723439011,1.7665701036926122,2.0491440377983015,-0.37525564119568594,-0.11136907867887302,0.6006774462399426,-0.3506717661558003,-0.6062070265289292,0.3416274581744037,0.5693315300631225,-2.0335773878186325,-0.1508907627772763,0.611677919486445,1.227854374200635,-0.4822222447446747,1.2382336543180068,-0.08539855977551877,1.0795365131234564,0.20296114066368248],\"z\":[-0.4844288206384999,-0.4620479384136632,-0.24173666353182013,-0.21867538888981813,-0.31461129015881256,-0.5243671392597608,-0.05925558300338406,-0.32523285873839003,-0.02244700178160305,-0.3026250796007308,-0.45144098038201064,-0.13377392892393702,-0.18557017190519137,0.21649055715846782,-0.503306120767143,-0.35967284832446395,-0.23528686356296646,-0.14514478732455666,-0.49643364114378374,-0.047060139006902646,-0.368410136622512,-0.02820725635715485,0.3741977463474638,-0.1228300478984015,0.06699221494826532,-0.09243739786913946,0.040344654475944326,-0.03763554822101602,-0.025425493676609904,0.23413860547107268,0.1625743339666316,-0.10534550830513358,0.20942300038686198,0.08156810652318282,0.18864121527550204,0.22833497350951742,-0.02094877777304927,0.2475931706606499,0.6109747022961453,0.2380444491421541,0.3905945300104244,0.4299064447491713,0.7409200569532548,0.41052301432644894,0.3765060027161838,0.473347242927646,0.46005373017351076,0.6898554403186206,0.36082733739089756,0.4926539194030379],\"type\":\"scatter3d\"},{\"hovertemplate\":\"Class Label=Iris-versicolor\\u003cbr\\u003eFirst Principal Component=%{x}\\u003cbr\\u003eSecond Principal Component=%{y}\\u003cbr\\u003eThird Principal Component=%{z}\\u003cextra\\u003e\\u003c\\u002fextra\\u003e\",\"legendgroup\":\"Iris-versicolor\",\"marker\":{\"color\":\"#EF553B\",\"symbol\":\"circle\",\"size\":3},\"mode\":\"markers\",\"name\":\"Iris-versicolor\",\"scene\":\"scene\",\"showlegend\":true,\"x\":[0.6217989413777922,0.34147554868929586,0.7787804171865171,0.1738499530852326,0.6936588647118236,0.14246352385259298,0.4127145555310962,-0.5438338629686309,0.5958570995669441,-0.11014332175914981,-0.162645772284466,0.2368674869488986,0.38569244654161505,0.4977647540824018,-0.12677058132624874,0.6139238994048162,0.23025303398388497,0.07203217057665792,1.031569488749833,0.1227736272320531,0.592732206928487,0.37830654342057213,1.063362414977838,0.5373286232262049,0.5894983541423479,0.736656739314036,1.0836702491991939,1.183117643146791,0.6257527212395142,0.043327114599253425,0.2277970685212359,0.14348557499216905,0.3166574516954414,1.0424889414180925,0.33349936462740115,0.47235095571043284,1.0047432151723574,1.074193589567316,0.22952801843447557,0.46085489349110714,0.4617529747243655,0.7252162100397012,0.5184302853189406,-0.027350807872528443,0.5057479449832992,0.3210335495309256,0.45874531902741716,0.7492215649938635,-0.060879534779494066,0.5234409710364417],\"y\":[0.25197895090383454,0.19253718023909763,0.042013058721750964,-1.823418592861436,-0.6186107863235232,-0.7494926810390103,0.42969292679537074,-1.664859252801894,-0.3828931012286997,-0.9571172409866272,-2.48183892571092,-0.2064361749914226,-1.9203165223094503,-0.4118760987386309,-0.4271622090933039,0.13559838687071438,-0.22848434538669746,-0.8591814786248892,-1.8111937973089294,-1.272264819411427,0.2901206091709242,-0.5285185805308791,-1.1527600849528232,-0.5647038194033519,-0.2646347662584446,-0.008899636986413384,-0.4162188167755278,0.02293240052523883,-0.2807161585130149,-0.9523000143769881,-1.4027365119088535,-1.4004627250233703,-0.7010936017842108,-0.6855184907492295,-0.1113318794290711,0.8447431703004495,0.30194293758491375,-1.4467250306682722,-0.04838085865701414,-1.1058743286843356,-0.9214901916816487,0.03467398982927792,-0.8362479398469008,-1.5659462420316577,-0.6388514604713563,0.006572657756271395,-0.1847490546054507,-0.10650917523434215,-1.0580122976124278,-0.36560235506839467],\"z\":[-1.363177984281619,-0.9085815293466332,-1.3152431050464632,-0.4297226665104772,-1.0360893949641568,-0.4843054757892311,-0.7503519472494168,0.17975918879475666,-1.0078048692027477,0.010951117182664009,0.034020546689420235,-0.3810076816044426,-0.621924780292976,-0.5948416861120378,-0.052157697943980334,-0.8427666029477942,-0.14081610340953157,-0.28245832999119297,-0.7001470870932878,-0.12172816898220713,-0.2465248685046486,-0.34091536287351415,-0.6829970142100079,-0.4344524474962111,-0.5076150118964519,-0.6063879091747224,-0.8420902099299057,-0.7263459556782207,-0.1928538538515332,0.10260632629885398,0.15253195307372594,0.18519042855848306,0.059208905506382616,-0.2501050484819713,0.34398272802342406,0.0782805302041977,-0.4795722919170921,-0.3588720079183263,0.3539754364365948,0.3290435455882103,0.29621951237235883,-0.0007212856243880869,0.2118132732306066,0.7959677301170415,0.3766344495037092,0.40253272015498726,0.4017349510096854,0.07543707851175073,0.9399354692697104,0.4532463091441902],\"type\":\"scatter3d\"},{\"hovertemplate\":\"Class Label=Iris-virginica\\u003cbr\\u003eFirst Principal Component=%{x}\\u003cbr\\u003eSecond Principal Component=%{y}\\u003cbr\\u003eThird Principal Component=%{z}\\u003cextra\\u003e\\u003c\\u002fextra\\u003e\",\"legendgroup\":\"Iris-virginica\",\"marker\":{\"color\":\"#00cc96\",\"symbol\":\"circle\",\"size\":3},\"mode\":\"markers\",\"name\":\"Iris-virginica\",\"scene\":\"scene\",\"showlegend\":true,\"x\":[1.8861920261440464,1.3455415567886961,2.193094271988212,1.5771015854425392,1.953071030002953,2.6801899180076836,0.7640972248267608,2.3256687027668193,2.1309860853678297,2.287729261016273,1.5649770767113074,1.816716180843822,2.0399232765997364,1.5882767675743703,1.7655776213287808,1.8292345719170287,1.7351928388811229,2.482862130763295,3.3365407335875448,1.652587102074335,2.2519066460347874,1.4201568865553045,3.0042778066118574,1.7196042807348006,2.003999223731983,2.212493032840478,1.6146361165994594,1.4852724511583304,2.1691417888081306,2.186089394957269,2.703904414907877,2.5208493196480073,2.28092538788356,1.6309470072011247,1.7402223206283232,3.057266734818196,2.0503900715402037,1.8625462181562185,1.530481593901651,2.306114575568078,2.4751553475547574,2.3748951934844245,1.808651974494295,2.51967462526222,2.4963151242001,2.4088253327530404,2.1946333963539906,2.1315393620038683,2.0112877207544573,1.6917098352915212],\"y\":[0.8202171451450457,-0.5331083913689474,0.28302441520021226,-0.05921549314591665,0.2259455632023643,0.3426633065194731,-1.0397664101385375,0.08449498389085897,-0.8142797396058205,1.6585222387336,0.7149679324570151,-0.3717732010837441,0.34277131429625846,-0.8549017962280955,-0.15654666197578093,0.7643598861124905,0.2947660045042516,2.1522460917415582,-0.37469673365456996,-1.4527772376445929,0.8578831464975607,-0.16488183636846412,0.057025309367238854,-0.27703881215363857,1.0480746551698517,0.8681246065762563,-0.05052974105895517,0.3591955491655617,-0.015185724099271882,0.4665236666753408,0.10029382665528874,2.2913116563001616,0.029345320428127687,-0.030744726286919818,-0.5163497254600342,0.6563410697396431,1.338066808384317,0.6629466194918435,0.43999273851737175,0.796302169991716,0.7977402314531666,0.853691628005963,-0.19712876582384287,1.0195207169696943,1.258977333332631,0.6390187555818136,-0.5051793624185079,0.5897995879040602,1.42113778462161,0.4974631024835563],\"z\":[-0.07571678742586935,0.2503626413453001,-0.6404390362440207,-0.08308789063002994,-0.1844227060017985,-1.0368202640787343,0.9861038522236095,-0.7875362144748655,-0.38615587782837085,-0.42996952259217824,0.10199348206388983,0.017146308953961627,-0.17437876365917296,0.5238249942559317,0.5576072524099227,0.24499759601885995,0.0851856338098115,-0.6741928258812361,-0.993837259125181,0.34196937113723075,-0.057389998762316694,0.8418186558805417,-0.8430992098867612,0.38619783320873435,0.16752517568219494,-0.23657448192413696,0.5545954883811853,0.6729016607263687,0.3326323393410274,-0.18329897484143612,-0.3851016407144912,-0.4859243760053855,0.4164578993193298,0.5562453135277424,0.5592634817307786,-0.41124447175301493,0.7250782040875087,0.5890642448053371,0.972833156520758,0.3345474354723928,0.4644924918082003,0.4389869741221403,1.0560393649423219,0.4236569891092262,0.5814300227756019,0.6047745301981372,0.7738122533282483,0.7594940745159888,1.0576681753666546,1.1998415463638956],\"type\":\"scatter3d\"}],                        {\"template\":{\"data\":{\"histogram2dcontour\":[{\"type\":\"histogram2dcontour\",\"colorbar\":{\"outlinewidth\":0,\"ticks\":\"\"},\"colorscale\":[[0.0,\"#0d0887\"],[0.1111111111111111,\"#46039f\"],[0.2222222222222222,\"#7201a8\"],[0.3333333333333333,\"#9c179e\"],[0.4444444444444444,\"#bd3786\"],[0.5555555555555556,\"#d8576b\"],[0.6666666666666666,\"#ed7953\"],[0.7777777777777778,\"#fb9f3a\"],[0.8888888888888888,\"#fdca26\"],[1.0,\"#f0f921\"]]}],\"choropleth\":[{\"type\":\"choropleth\",\"colorbar\":{\"outlinewidth\":0,\"ticks\":\"\"}}],\"histogram2d\":[{\"type\":\"histogram2d\",\"colorbar\":{\"outlinewidth\":0,\"ticks\":\"\"},\"colorscale\":[[0.0,\"#0d0887\"],[0.1111111111111111,\"#46039f\"],[0.2222222222222222,\"#7201a8\"],[0.3333333333333333,\"#9c179e\"],[0.4444444444444444,\"#bd3786\"],[0.5555555555555556,\"#d8576b\"],[0.6666666666666666,\"#ed7953\"],[0.7777777777777778,\"#fb9f3a\"],[0.8888888888888888,\"#fdca26\"],[1.0,\"#f0f921\"]]}],\"heatmap\":[{\"type\":\"heatmap\",\"colorbar\":{\"outlinewidth\":0,\"ticks\":\"\"},\"colorscale\":[[0.0,\"#0d0887\"],[0.1111111111111111,\"#46039f\"],[0.2222222222222222,\"#7201a8\"],[0.3333333333333333,\"#9c179e\"],[0.4444444444444444,\"#bd3786\"],[0.5555555555555556,\"#d8576b\"],[0.6666666666666666,\"#ed7953\"],[0.7777777777777778,\"#fb9f3a\"],[0.8888888888888888,\"#fdca26\"],[1.0,\"#f0f921\"]]}],\"heatmapgl\":[{\"type\":\"heatmapgl\",\"colorbar\":{\"outlinewidth\":0,\"ticks\":\"\"},\"colorscale\":[[0.0,\"#0d0887\"],[0.1111111111111111,\"#46039f\"],[0.2222222222222222,\"#7201a8\"],[0.3333333333333333,\"#9c179e\"],[0.4444444444444444,\"#bd3786\"],[0.5555555555555556,\"#d8576b\"],[0.6666666666666666,\"#ed7953\"],[0.7777777777777778,\"#fb9f3a\"],[0.8888888888888888,\"#fdca26\"],[1.0,\"#f0f921\"]]}],\"contourcarpet\":[{\"type\":\"contourcarpet\",\"colorbar\":{\"outlinewidth\":0,\"ticks\":\"\"}}],\"contour\":[{\"type\":\"contour\",\"colorbar\":{\"outlinewidth\":0,\"ticks\":\"\"},\"colorscale\":[[0.0,\"#0d0887\"],[0.1111111111111111,\"#46039f\"],[0.2222222222222222,\"#7201a8\"],[0.3333333333333333,\"#9c179e\"],[0.4444444444444444,\"#bd3786\"],[0.5555555555555556,\"#d8576b\"],[0.6666666666666666,\"#ed7953\"],[0.7777777777777778,\"#fb9f3a\"],[0.8888888888888888,\"#fdca26\"],[1.0,\"#f0f921\"]]}],\"surface\":[{\"type\":\"surface\",\"colorbar\":{\"outlinewidth\":0,\"ticks\":\"\"},\"colorscale\":[[0.0,\"#0d0887\"],[0.1111111111111111,\"#46039f\"],[0.2222222222222222,\"#7201a8\"],[0.3333333333333333,\"#9c179e\"],[0.4444444444444444,\"#bd3786\"],[0.5555555555555556,\"#d8576b\"],[0.6666666666666666,\"#ed7953\"],[0.7777777777777778,\"#fb9f3a\"],[0.8888888888888888,\"#fdca26\"],[1.0,\"#f0f921\"]]}],\"mesh3d\":[{\"type\":\"mesh3d\",\"colorbar\":{\"outlinewidth\":0,\"ticks\":\"\"}}],\"scatter\":[{\"fillpattern\":{\"fillmode\":\"overlay\",\"size\":10,\"solidity\":0.2},\"type\":\"scatter\"}],\"parcoords\":[{\"type\":\"parcoords\",\"line\":{\"colorbar\":{\"outlinewidth\":0,\"ticks\":\"\"}}}],\"scatterpolargl\":[{\"type\":\"scatterpolargl\",\"marker\":{\"colorbar\":{\"outlinewidth\":0,\"ticks\":\"\"}}}],\"bar\":[{\"error_x\":{\"color\":\"#2a3f5f\"},\"error_y\":{\"color\":\"#2a3f5f\"},\"marker\":{\"line\":{\"color\":\"#E5ECF6\",\"width\":0.5},\"pattern\":{\"fillmode\":\"overlay\",\"size\":10,\"solidity\":0.2}},\"type\":\"bar\"}],\"scattergeo\":[{\"type\":\"scattergeo\",\"marker\":{\"colorbar\":{\"outlinewidth\":0,\"ticks\":\"\"}}}],\"scatterpolar\":[{\"type\":\"scatterpolar\",\"marker\":{\"colorbar\":{\"outlinewidth\":0,\"ticks\":\"\"}}}],\"histogram\":[{\"marker\":{\"pattern\":{\"fillmode\":\"overlay\",\"size\":10,\"solidity\":0.2}},\"type\":\"histogram\"}],\"scattergl\":[{\"type\":\"scattergl\",\"marker\":{\"colorbar\":{\"outlinewidth\":0,\"ticks\":\"\"}}}],\"scatter3d\":[{\"type\":\"scatter3d\",\"line\":{\"colorbar\":{\"outlinewidth\":0,\"ticks\":\"\"}},\"marker\":{\"colorbar\":{\"outlinewidth\":0,\"ticks\":\"\"}}}],\"scattermapbox\":[{\"type\":\"scattermapbox\",\"marker\":{\"colorbar\":{\"outlinewidth\":0,\"ticks\":\"\"}}}],\"scatterternary\":[{\"type\":\"scatterternary\",\"marker\":{\"colorbar\":{\"outlinewidth\":0,\"ticks\":\"\"}}}],\"scattercarpet\":[{\"type\":\"scattercarpet\",\"marker\":{\"colorbar\":{\"outlinewidth\":0,\"ticks\":\"\"}}}],\"carpet\":[{\"aaxis\":{\"endlinecolor\":\"#2a3f5f\",\"gridcolor\":\"white\",\"linecolor\":\"white\",\"minorgridcolor\":\"white\",\"startlinecolor\":\"#2a3f5f\"},\"baxis\":{\"endlinecolor\":\"#2a3f5f\",\"gridcolor\":\"white\",\"linecolor\":\"white\",\"minorgridcolor\":\"white\",\"startlinecolor\":\"#2a3f5f\"},\"type\":\"carpet\"}],\"table\":[{\"cells\":{\"fill\":{\"color\":\"#EBF0F8\"},\"line\":{\"color\":\"white\"}},\"header\":{\"fill\":{\"color\":\"#C8D4E3\"},\"line\":{\"color\":\"white\"}},\"type\":\"table\"}],\"barpolar\":[{\"marker\":{\"line\":{\"color\":\"#E5ECF6\",\"width\":0.5},\"pattern\":{\"fillmode\":\"overlay\",\"size\":10,\"solidity\":0.2}},\"type\":\"barpolar\"}],\"pie\":[{\"automargin\":true,\"type\":\"pie\"}]},\"layout\":{\"autotypenumbers\":\"strict\",\"colorway\":[\"#636efa\",\"#EF553B\",\"#00cc96\",\"#ab63fa\",\"#FFA15A\",\"#19d3f3\",\"#FF6692\",\"#B6E880\",\"#FF97FF\",\"#FECB52\"],\"font\":{\"color\":\"#2a3f5f\"},\"hovermode\":\"closest\",\"hoverlabel\":{\"align\":\"left\"},\"paper_bgcolor\":\"white\",\"plot_bgcolor\":\"#E5ECF6\",\"polar\":{\"bgcolor\":\"#E5ECF6\",\"angularaxis\":{\"gridcolor\":\"white\",\"linecolor\":\"white\",\"ticks\":\"\"},\"radialaxis\":{\"gridcolor\":\"white\",\"linecolor\":\"white\",\"ticks\":\"\"}},\"ternary\":{\"bgcolor\":\"#E5ECF6\",\"aaxis\":{\"gridcolor\":\"white\",\"linecolor\":\"white\",\"ticks\":\"\"},\"baxis\":{\"gridcolor\":\"white\",\"linecolor\":\"white\",\"ticks\":\"\"},\"caxis\":{\"gridcolor\":\"white\",\"linecolor\":\"white\",\"ticks\":\"\"}},\"coloraxis\":{\"colorbar\":{\"outlinewidth\":0,\"ticks\":\"\"}},\"colorscale\":{\"sequential\":[[0.0,\"#0d0887\"],[0.1111111111111111,\"#46039f\"],[0.2222222222222222,\"#7201a8\"],[0.3333333333333333,\"#9c179e\"],[0.4444444444444444,\"#bd3786\"],[0.5555555555555556,\"#d8576b\"],[0.6666666666666666,\"#ed7953\"],[0.7777777777777778,\"#fb9f3a\"],[0.8888888888888888,\"#fdca26\"],[1.0,\"#f0f921\"]],\"sequentialminus\":[[0.0,\"#0d0887\"],[0.1111111111111111,\"#46039f\"],[0.2222222222222222,\"#7201a8\"],[0.3333333333333333,\"#9c179e\"],[0.4444444444444444,\"#bd3786\"],[0.5555555555555556,\"#d8576b\"],[0.6666666666666666,\"#ed7953\"],[0.7777777777777778,\"#fb9f3a\"],[0.8888888888888888,\"#fdca26\"],[1.0,\"#f0f921\"]],\"diverging\":[[0,\"#8e0152\"],[0.1,\"#c51b7d\"],[0.2,\"#de77ae\"],[0.3,\"#f1b6da\"],[0.4,\"#fde0ef\"],[0.5,\"#f7f7f7\"],[0.6,\"#e6f5d0\"],[0.7,\"#b8e186\"],[0.8,\"#7fbc41\"],[0.9,\"#4d9221\"],[1,\"#276419\"]]},\"xaxis\":{\"gridcolor\":\"white\",\"linecolor\":\"white\",\"ticks\":\"\",\"title\":{\"standoff\":15},\"zerolinecolor\":\"white\",\"automargin\":true,\"zerolinewidth\":2},\"yaxis\":{\"gridcolor\":\"white\",\"linecolor\":\"white\",\"ticks\":\"\",\"title\":{\"standoff\":15},\"zerolinecolor\":\"white\",\"automargin\":true,\"zerolinewidth\":2},\"scene\":{\"xaxis\":{\"backgroundcolor\":\"#E5ECF6\",\"gridcolor\":\"white\",\"linecolor\":\"white\",\"showbackground\":true,\"ticks\":\"\",\"zerolinecolor\":\"white\",\"gridwidth\":2},\"yaxis\":{\"backgroundcolor\":\"#E5ECF6\",\"gridcolor\":\"white\",\"linecolor\":\"white\",\"showbackground\":true,\"ticks\":\"\",\"zerolinecolor\":\"white\",\"gridwidth\":2},\"zaxis\":{\"backgroundcolor\":\"#E5ECF6\",\"gridcolor\":\"white\",\"linecolor\":\"white\",\"showbackground\":true,\"ticks\":\"\",\"zerolinecolor\":\"white\",\"gridwidth\":2}},\"shapedefaults\":{\"line\":{\"color\":\"#2a3f5f\"}},\"annotationdefaults\":{\"arrowcolor\":\"#2a3f5f\",\"arrowhead\":0,\"arrowwidth\":1},\"geo\":{\"bgcolor\":\"white\",\"landcolor\":\"#E5ECF6\",\"subunitcolor\":\"white\",\"showland\":true,\"showlakes\":true,\"lakecolor\":\"white\"},\"title\":{\"x\":0.05},\"mapbox\":{\"style\":\"light\"}}},\"scene\":{\"domain\":{\"x\":[0.0,1.0],\"y\":[0.0,1.0]},\"xaxis\":{\"title\":{\"text\":\"PC1\"}},\"yaxis\":{\"title\":{\"text\":\"PC2\"}},\"zaxis\":{\"title\":{\"text\":\"PC3\"}}},\"legend\":{\"title\":{\"text\":\"Class Label\"},\"tracegroupgap\":0},\"title\":{\"text\":\"PLS Regression: First 3 Principal Components\"},\"margin\":{\"r\":20,\"b\":10,\"l\":10,\"t\":40},\"width\":900,\"height\":700},                        {\"responsive\": true}                    ).then(function(){\n",
       "                            \n",
       "var gd = document.getElementById('88e9f291-ee1d-4f1f-ab83-58892f6d09ad');\n",
       "var x = new MutationObserver(function (mutations, observer) {{\n",
       "        var display = window.getComputedStyle(gd).display;\n",
       "        if (!display || display === 'none') {{\n",
       "            console.log([gd, 'removed!']);\n",
       "            Plotly.purge(gd);\n",
       "            observer.disconnect();\n",
       "        }}\n",
       "}});\n",
       "\n",
       "// Listen for the removal of the full notebook cells\n",
       "var notebookContainer = gd.closest('#notebook-container');\n",
       "if (notebookContainer) {{\n",
       "    x.observe(notebookContainer, {childList: true});\n",
       "}}\n",
       "\n",
       "// Listen for the clearing of the current output cell\n",
       "var outputEl = gd.closest('.output');\n",
       "if (outputEl) {{\n",
       "    x.observe(outputEl, {childList: true});\n",
       "}}\n",
       "\n",
       "                        })                };                });            </script>        </div>"
      ]
     },
     "metadata": {},
     "output_type": "display_data"
    }
   ],
   "source": [
    "# 主成分スコアの取得\n",
    "X_scores = pls.x_scores_\n",
    "\n",
    "# データフレームの作成\n",
    "df = pd.DataFrame(\n",
    "    {\"PC1\": X_scores[:, 0], \"PC2\": X_scores[:, 1], \"PC3\": X_scores[:, 2], \"Label\": y}\n",
    ")\n",
    "\n",
    "# 3次元散布図の作成（マーカーサイズを小さく設定）\n",
    "fig = px.scatter_3d(\n",
    "    df,\n",
    "    x=\"PC1\",\n",
    "    y=\"PC2\",\n",
    "    z=\"PC3\",\n",
    "    color=\"Label\",\n",
    "    title=\"PLS Regression: First 3 Principal Components\",\n",
    "    labels={\n",
    "        \"PC1\": \"First Principal Component\",\n",
    "        \"PC2\": \"Second Principal Component\",\n",
    "        \"PC3\": \"Third Principal Component\",\n",
    "        \"Label\": \"Class Label\",\n",
    "    },\n",
    "    color_continuous_scale=px.colors.qualitative.Set1,\n",
    "    size_max=5,\n",
    ")  # マーカーの最大サイズを小さく設定\n",
    "\n",
    "# マーカーサイズをさらに調整\n",
    "fig.update_traces(marker=dict(size=3))  # すべてのマーカーのサイズを3に設定\n",
    "\n",
    "# レイアウトの調整\n",
    "fig.update_layout(\n",
    "    scene=dict(xaxis_title=\"PC1\", yaxis_title=\"PC2\", zaxis_title=\"PC3\"),\n",
    "    width=900,\n",
    "    height=700,\n",
    "    margin=dict(r=20, b=10, l=10, t=40),\n",
    ")\n",
    "\n",
    "# グラフの表示\n",
    "fig.show()"
   ]
  },
  {
   "cell_type": "code",
   "execution_count": null,
   "metadata": {},
   "outputs": [],
   "source": []
  }
 ],
 "metadata": {
  "kernelspec": {
   "display_name": "tmap",
   "language": "python",
   "name": "python3"
  },
  "language_info": {
   "codemirror_mode": {
    "name": "ipython",
    "version": 3
   },
   "file_extension": ".py",
   "mimetype": "text/x-python",
   "name": "python",
   "nbconvert_exporter": "python",
   "pygments_lexer": "ipython3",
   "version": "3.9.18"
  }
 },
 "nbformat": 4,
 "nbformat_minor": 2
}
