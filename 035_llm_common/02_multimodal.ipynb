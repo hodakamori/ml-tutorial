{
 "cells": [
  {
   "cell_type": "code",
   "execution_count": null,
   "metadata": {},
   "outputs": [],
   "source": [
    "import base64\n",
    "import os\n",
    "from typing import List\n",
    "\n",
    "from langchain.chat_models import ChatOpenAI\n",
    "from langchain.schema import HumanMessage, SystemMessage"
   ]
  },
  {
   "cell_type": "code",
   "execution_count": 5,
   "metadata": {},
   "outputs": [],
   "source": [
    "assert os.environ[\"OPENAI_API_KEY\"]"
   ]
  },
  {
   "cell_type": "code",
   "execution_count": null,
   "metadata": {},
   "outputs": [],
   "source": [
    "def encode_image_to_base64(image_path: str) -> str:\n",
    "    with open(image_path, \"rb\") as image_file:\n",
    "        return base64.b64encode(image_file.read()).decode(\"utf-8\")"
   ]
  },
  {
   "cell_type": "code",
   "execution_count": null,
   "metadata": {},
   "outputs": [],
   "source": [
    "def create_image_message(base64_image: str) -> List[dict]:\n",
    "    \"\"\"画像メッセージを作成する\"\"\"\n",
    "    return [\n",
    "        {\n",
    "            \"type\": \"image_url\",\n",
    "            \"image_url\": {\"url\": f\"data:image/jpeg;base64,{base64_image}\"},\n",
    "        }\n",
    "    ]"
   ]
  },
  {
   "cell_type": "code",
   "execution_count": null,
   "metadata": {},
   "outputs": [],
   "source": [
    "class ImageAnalysisChain:\n",
    "    def __init__(self, api_key: str = None, model: str = \"gpt-4o\"):\n",
    "        self.api_key = api_key or os.getenv(\"OPENAI_API_KEY\")\n",
    "        self.model = ChatOpenAI(model=model, temperature=0, openai_api_key=self.api_key)\n",
    "\n",
    "    def analyze_image(\n",
    "        self, image_path: str, prompt: str, max_tokens: int = 1000\n",
    "    ) -> str:\n",
    "        base64_image = encode_image_to_base64(image_path)\n",
    "        image_message = create_image_message(base64_image)\n",
    "\n",
    "        messages = [\n",
    "            SystemMessage(content=\"You are a helpful assistant that analyzes images.\"),\n",
    "            HumanMessage(content=[{\"type\": \"text\", \"text\": prompt}, *image_message]),\n",
    "        ]\n",
    "\n",
    "        response = self.model.invoke(messages, max_tokens=max_tokens)\n",
    "        return response.content"
   ]
  },
  {
   "cell_type": "code",
   "execution_count": 12,
   "metadata": {},
   "outputs": [],
   "source": [
    "chain = ImageAnalysisChain()\n",
    "\n",
    "image_path = \"./acetic_acid_dimer.png\"\n",
    "prompt = \"この画像について詳しく説明してください。何が写っていて、どのような状況か分析してください。\"\n",
    "\n",
    "result = chain.analyze_image(image_path, prompt)"
   ]
  },
  {
   "cell_type": "code",
   "execution_count": null,
   "metadata": {},
   "outputs": [
    {
     "data": {
      "text/markdown": [
       "この画像は、化学分子の3Dモデルを示しています。左側の分子はアセト酢酸エステル（エチルアセトアセテート）で、右側の分子はそのエノール形態です。\n",
       "\n",
       "- **左側の分子（ケト形）**:\n",
       "  - 中央にカルボニル基（C=O）があり、酸素原子が赤色で示されています。\n",
       "  - エステル基が含まれており、酸素原子が炭素と結合しています。\n",
       "  - 水素原子は白色、炭素原子は灰色で示されています。\n",
       "\n",
       "- **右側の分子（エノール形）**:\n",
       "  - エノール形は、ケト形のカルボニル基がエノール基（C=C-OH）に変化したものです。\n",
       "  - 二重結合があり、酸素原子が水素と結合しています。\n",
       "\n",
       "このような分子は、ケト-エノール互変異性と呼ばれる現象を示し、化学反応や溶液中での挙動に影響を与えます。"
      ],
      "text/plain": [
       "<IPython.core.display.Markdown object>"
      ]
     },
     "metadata": {},
     "output_type": "display_data"
    }
   ],
   "source": [
    "from IPython.display import Markdown, display\n",
    "\n",
    "display(Markdown(result))"
   ]
  }
 ],
 "metadata": {
  "kernelspec": {
   "display_name": "openmm",
   "language": "python",
   "name": "python3"
  },
  "language_info": {
   "codemirror_mode": {
    "name": "ipython",
    "version": 3
   },
   "file_extension": ".py",
   "mimetype": "text/x-python",
   "name": "python",
   "nbconvert_exporter": "python",
   "pygments_lexer": "ipython3",
   "version": "3.12.7"
  }
 },
 "nbformat": 4,
 "nbformat_minor": 2
}
