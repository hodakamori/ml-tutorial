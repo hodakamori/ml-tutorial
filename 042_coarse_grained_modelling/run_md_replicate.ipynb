{
 "cells": [
  {
   "cell_type": "code",
   "execution_count": 1,
   "metadata": {},
   "outputs": [],
   "source": [
    "from forcefield import CGForceField\n",
    "from model_builder import CGModelBuilder"
   ]
  },
  {
   "cell_type": "code",
   "execution_count": 2,
   "metadata": {},
   "outputs": [],
   "source": [
    "builder = CGModelBuilder(\n",
    "    smiles_sequence=\"[OH][EO]10[OH]\",\n",
    "    bond_length=0.35,  # nm\n",
    "    min_dist=0.35,  # nm\n",
    "    max_tries=50000,\n",
    ")\n",
    "topology, positions = builder.create_molecule()"
   ]
  },
  {
   "cell_type": "code",
   "execution_count": 3,
   "metadata": {},
   "outputs": [
    {
     "data": {
      "image/png": "[encoded data removed]",
      "text/plain": [
       "<Figure size 640x480 with 1 Axes>"
      ]
     },
     "metadata": {},
     "output_type": "display_data"
    }
   ],
   "source": [
    "import matplotlib.pyplot as plt\n",
    "import networkx as nx\n",
    "\n",
    "bonds = list(topology.bonds())\n",
    "\n",
    "G = nx.Graph()\n",
    "for atom in topology.atoms():\n",
    "    G.add_node(atom.index, label=atom.name, residue=atom.residue.name)\n",
    "\n",
    "for bond in bonds:\n",
    "    a1 = bond[0].index\n",
    "    a2 = bond[1].index\n",
    "    G.add_edge(a1, a2)\n",
    "\n",
    "pos = nx.spring_layout(G)\n",
    "nx.draw_networkx_nodes(G, pos)\n",
    "nx.draw_networkx_edges(G, pos)\n",
    "labels = {i: f\"{G.nodes[i]['label']}({i})\" for i in G.nodes}\n",
    "nx.draw_networkx_labels(G, pos, labels=labels, font_size=8)\n",
    "\n",
    "plt.axis(\"off\")\n",
    "plt.show()\n"
   ]
  },
  {
   "cell_type": "code",
   "execution_count": 4,
   "metadata": {},
   "outputs": [],
   "source": [
    "topology, positions = builder.replicate_model(topology, positions, nx=3, ny=3, nz=3)"
   ]
  },
  {
   "cell_type": "code",
   "execution_count": 6,
   "metadata": {},
   "outputs": [],
   "source": [
    "param_dict = {\n",
    "    \"BOND\": {\n",
    "        (\"EO\", \"EO\"): {\"r0\": 0.5, \"k\": 100},\n",
    "        (\"EO\", \"OH\"): {\"r0\": 0.45, \"k\": 120},\n",
    "    },\n",
    "    \"NONBONDED\": {\n",
    "        \"EO\": {\"sigma\": 0.3, \"epsilon\": 0.5, \"charge\": 0.0, \"mass\": 72.0},\n",
    "        \"OH\": {\"sigma\": 0.25, \"epsilon\": 0.4, \"charge\": -0.2, \"mass\": 18.0},\n",
    "    },\n",
    "    \"ANGLE\": {},\n",
    "    \"TORSION\": {},\n",
    "}\n",
    "ff = CGForceField.from_dict(param_dict)\n",
    "system = ff.create_system(topology)"
   ]
  },
  {
   "cell_type": "code",
   "execution_count": 7,
   "metadata": {},
   "outputs": [
    {
     "name": "stdout",
     "output_type": "stream",
     "text": [
      "#\"Step\",\"Potential Energy (kJ/mole)\",\"Kinetic Energy (kJ/mole)\",\"Temperature (K)\",\"Box Volume (nm^3)\",\"Density (g/mL)\"\n",
      "1000,2893.1588635166927,970.0521994870539,240.06268013721044,8.0,4.23686542989407\n",
      "2000,3002.915150796418,1229.4568474913046,304.2585812164298,8.0,4.23686542989407\n",
      "3000,3010.196222582285,1246.0546585329223,308.3661076002354,8.0,4.23686542989407\n",
      "4000,2949.862595104568,1257.6293136635977,311.2305335907163,8.0,4.23686542989407\n",
      "5000,2844.6242024845496,1341.9503639239902,332.09779962876866,8.0,4.23686542989407\n",
      "6000,2805.414718642576,1320.289319025789,326.7372546028574,8.0,4.23686542989407\n",
      "7000,2844.4960555993757,1255.21383933548,310.63276654135836,8.0,4.23686542989407\n",
      "8000,2714.790836363527,1187.5387940037133,293.8849536202167,8.0,4.23686542989407\n",
      "9000,2687.2304728018617,1221.2548673756369,302.2288045404525,8.0,4.23686542989407\n",
      "10000,2763.5780089886775,1192.6282100072553,295.1444516624763,8.0,4.23686542989407\n"
     ]
    }
   ],
   "source": [
    "import sys\n",
    "\n",
    "import openmm\n",
    "import openmm.app as app\n",
    "from openmm import unit\n",
    "\n",
    "temperature = 300 * unit.kelvin\n",
    "friction = 1 / unit.picosecond\n",
    "timestep = 0.001 * unit.picoseconds\n",
    "integrator = openmm.LangevinIntegrator(temperature, friction, timestep)\n",
    "\n",
    "simulation = app.Simulation(topology, system, integrator)\n",
    "simulation.context.setPositions(positions)\n",
    "simulation.reporters.append(app.PDBReporter(\"example-traj.pdb\", 1000))\n",
    "simulation.reporters.append(\n",
    "    app.StateDataReporter(\n",
    "        sys.stdout,\n",
    "        1000,\n",
    "        step=True,\n",
    "        potentialEnergy=True,\n",
    "        kineticEnergy=True,\n",
    "        temperature=True,\n",
    "        volume=True,\n",
    "        density=True,\n",
    "    )\n",
    ")\n",
    "simulation.minimizeEnergy()\n",
    "simulation.step(10_000)\n"
   ]
  },
  {
   "cell_type": "code",
   "execution_count": null,
   "metadata": {},
   "outputs": [],
   "source": []
  }
 ],
 "metadata": {
  "kernelspec": {
   "display_name": ".venv",
   "language": "python",
   "name": "python3"
  },
  "language_info": {
   "codemirror_mode": {
    "name": "ipython",
    "version": 3
   },
   "file_extension": ".py",
   "mimetype": "text/x-python",
   "name": "python",
   "nbconvert_exporter": "python",
   "pygments_lexer": "ipython3",
   "version": "3.12.7"
  }
 },
 "nbformat": 4,
 "nbformat_minor": 2
}
