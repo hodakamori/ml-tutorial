{
 "cells": [
  {
   "cell_type": "code",
   "execution_count": 1,
   "metadata": {},
   "outputs": [],
   "source": [
    "import psi4\n",
    "import resp"
   ]
  },
  {
   "cell_type": "code",
   "execution_count": 2,
   "metadata": {},
   "outputs": [],
   "source": [
    "geometry = \"\"\"C    0.00000000  0.00000000  0.00000000\n",
    "C    1.48805540 -0.00728176  0.39653260\n",
    "O    2.04971655  1.37648153  0.25604810\n",
    "H    3.06429978  1.37151670  0.52641124\n",
    "H    1.58679428 -0.33618761  1.43102358\n",
    "H    2.03441010 -0.68906454 -0.25521028\n",
    "H   -0.40814044 -1.00553466  0.10208540\n",
    "H   -0.54635470  0.68178278  0.65174288\n",
    "H   -0.09873888  0.32890585 -1.03449097\n",
    "\"\"\"\n",
    "mol1 = psi4.geometry(geometry)\n",
    "mol1.update_geometry()\n",
    "mol1.set_name('conformer1')"
   ]
  },
  {
   "cell_type": "code",
   "execution_count": 3,
   "metadata": {},
   "outputs": [],
   "source": [
    "geometry = \"\"\"C    0.00000000  0.00000000  0.00000000\n",
    "C    1.48013500 -0.00724300  0.39442200\n",
    "O    2.00696300  1.29224100  0.26232800\n",
    "H    2.91547900  1.25572900  0.50972300\n",
    "H    1.61500700 -0.32678000  1.45587700\n",
    "H    2.07197500 -0.68695100 -0.26493400\n",
    "H   -0.32500012  1.02293415 -0.30034094\n",
    "H   -0.18892141 -0.68463906 -0.85893815\n",
    "H   -0.64257065 -0.32709111  0.84987482\n",
    "\"\"\"\n",
    "mol2 = psi4.geometry(geometry)\n",
    "mol2.update_geometry()\n",
    "mol2.set_name('conformer2')"
   ]
  },
  {
   "cell_type": "code",
   "execution_count": 4,
   "metadata": {},
   "outputs": [],
   "source": [
    "geometry = \"\"\"C    0.00000000  0.00000000  0.00000000\n",
    "C    1.48805540 -0.00728176  0.39653260\n",
    "O    2.04971655  1.37648153  0.25604810\n",
    "H    3.06429978  1.37151670  0.52641124\n",
    "H    1.58679428 -0.33618761  1.43102358\n",
    "H    2.03441010 -0.68906454 -0.25521028\n",
    "H   -0.27127997 -0.97245518 -0.41089913\n",
    "H   -0.60950912  0.20545158  0.87999334\n",
    "H   -0.17244493  0.77215758 -0.74975690\n",
    "\"\"\"\n",
    "mol3 = psi4.geometry(geometry)\n",
    "mol3.update_geometry()\n",
    "mol3.set_name('conformer3')"
   ]
  },
  {
   "cell_type": "code",
   "execution_count": 5,
   "metadata": {},
   "outputs": [],
   "source": [
    "molecules = [mol1, mol2, mol3]"
   ]
  },
  {
   "cell_type": "code",
   "execution_count": 6,
   "metadata": {},
   "outputs": [],
   "source": [
    "options = {\n",
    "    'VDW_SCALE_FACTORS' : [1.4, 1.6, 1.8, 2.0],\n",
    "    'VDW_POINT_DENSITY'  : 1.0,\n",
    "    'RESP_A'             : 0.0005,\n",
    "    'RESP_B'             : 0.1,\n",
    "    'RESTRAINT'          : True,\n",
    "    'IHFREE'             : False,\n",
    "    'WEIGHT'             : [1, 1, 1],\n",
    "}"
   ]
  },
  {
   "cell_type": "code",
   "execution_count": 7,
   "metadata": {},
   "outputs": [],
   "source": [
    "charges1 = resp.resp(molecules, options)"
   ]
  },
  {
   "cell_type": "code",
   "execution_count": 8,
   "metadata": {},
   "outputs": [
    {
     "name": "stdout",
     "output_type": "stream",
     "text": [
      "Restrained Electrostatic Potential Charges\n",
      "[-0.14748869  0.27646443 -0.63057957  0.37288002 -0.00985323 -0.00919009\n",
      "  0.05264649  0.04539451  0.04972613]\n"
     ]
    }
   ],
   "source": [
    "print(\"Restrained Electrostatic Potential Charges\")\n",
    "print(charges1[1])"
   ]
  },
  {
   "cell_type": "code",
   "execution_count": 9,
   "metadata": {},
   "outputs": [],
   "source": [
    "options['RESP_A'] = 0.001\n",
    "resp.set_stage2_constraint(molecules[0], charges1[1], options)"
   ]
  },
  {
   "cell_type": "code",
   "execution_count": 10,
   "metadata": {},
   "outputs": [],
   "source": [
    "options['grid'] = []\n",
    "options['esp'] = []\n",
    "# Add constraint for atoms fixed in second stage fit\n",
    "for mol in range(len(molecules)):\n",
    "    options['grid'].append('%i_%s_grid.dat' %(mol+1, molecules[mol].name()))\n",
    "    options['esp'].append('%i_%s_grid_esp.dat' %(mol+1, molecules[mol].name()))\n"
   ]
  },
  {
   "cell_type": "code",
   "execution_count": 11,
   "metadata": {},
   "outputs": [
    {
     "name": "stdout",
     "output_type": "stream",
     "text": [
      "\n",
      "Stage Two\n",
      "\n",
      "RESP Charges\n",
      "[-0.07967489  0.25532514 -0.63057957  0.37288002 -0.00643525 -0.00643525\n",
      "  0.03163993  0.03163993  0.03163993]\n"
     ]
    }
   ],
   "source": [
    "charges2 = resp.resp(molecules, options)\n",
    "print(\"\\nStage Two\\n\")\n",
    "print(\"RESP Charges\")\n",
    "print(charges2[1])"
   ]
  },
  {
   "cell_type": "code",
   "execution_count": null,
   "metadata": {},
   "outputs": [],
   "source": []
  }
 ],
 "metadata": {
  "kernelspec": {
   "display_name": "ml",
   "language": "python",
   "name": "python3"
  },
  "language_info": {
   "codemirror_mode": {
    "name": "ipython",
    "version": 3
   },
   "file_extension": ".py",
   "mimetype": "text/x-python",
   "name": "python",
   "nbconvert_exporter": "python",
   "pygments_lexer": "ipython3",
   "version": "3.10.14"
  }
 },
 "nbformat": 4,
 "nbformat_minor": 2
}
