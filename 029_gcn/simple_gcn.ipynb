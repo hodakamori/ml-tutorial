{
 "cells": [
  {
   "cell_type": "code",
   "execution_count": 1,
   "metadata": {},
   "outputs": [],
   "source": [
    "import torch\n",
    "import torch.nn as nn\n",
    "import torch.nn.functional as F\n",
    "from torch_geometric.nn import GCNConv\n",
    "from torch_geometric.data import Data, DataLoader\n",
    "from rdkit import Chem\n",
    "from rdkit.Chem import AllChem"
   ]
  },
  {
   "cell_type": "code",
   "execution_count": 2,
   "metadata": {},
   "outputs": [],
   "source": [
    "class GCNMoleculeModel(nn.Module):\n",
    "    def __init__(self, num_node_features):\n",
    "        super(GCNMoleculeModel, self).__init__()\n",
    "        self.conv1 = GCNConv(num_node_features, 64)\n",
    "        self.conv2 = GCNConv(64, 64)\n",
    "        self.fc = nn.Linear(64, 1)\n",
    "\n",
    "    def forward(self, data):\n",
    "        x, edge_index = data.x, data.edge_index\n",
    "        x = F.relu(self.conv1(x, edge_index))\n",
    "        x = F.relu(self.conv2(x, edge_index))\n",
    "        x = torch.mean(x, dim=0)  # Global mean pooling\n",
    "        x = self.fc(x)\n",
    "        return x"
   ]
  },
  {
   "cell_type": "code",
   "execution_count": 3,
   "metadata": {},
   "outputs": [],
   "source": [
    "def smiles_to_graph(smiles):\n",
    "    mol = Chem.MolFromSmiles(smiles)\n",
    "    mol = Chem.AddHs(mol)\n",
    "    \n",
    "    node_features = []\n",
    "    for atom in mol.GetAtoms():\n",
    "        feature = [\n",
    "            atom.GetAtomicNum(),\n",
    "            atom.GetTotalDegree(),\n",
    "            atom.GetFormalCharge(),\n",
    "            atom.GetTotalNumHs(),\n",
    "            int(atom.GetIsAromatic())\n",
    "        ]\n",
    "        node_features.append(feature)\n",
    "\n",
    "    edges = []\n",
    "    for bond in mol.GetBonds():\n",
    "        i = bond.GetBeginAtomIdx()\n",
    "        j = bond.GetEndAtomIdx()\n",
    "        edges.append([i, j])\n",
    "        edges.append([j, i])  # 無向グラフなので両方向を追加\n",
    "\n",
    "    x = torch.tensor(node_features, dtype=torch.float)\n",
    "    edge_index = torch.tensor(edges, dtype=torch.long).t().contiguous()\n",
    "    \n",
    "    return Data(x=x, edge_index=edge_index)"
   ]
  },
  {
   "cell_type": "code",
   "execution_count": 4,
   "metadata": {},
   "outputs": [],
   "source": [
    "graph = smiles_to_graph(\"CCC\")"
   ]
  },
  {
   "cell_type": "code",
   "execution_count": 5,
   "metadata": {},
   "outputs": [
    {
     "data": {
      "text/plain": [
       "tensor([[6., 4., 0., 0., 0.],\n",
       "        [6., 4., 0., 0., 0.],\n",
       "        [6., 4., 0., 0., 0.],\n",
       "        [1., 1., 0., 0., 0.],\n",
       "        [1., 1., 0., 0., 0.],\n",
       "        [1., 1., 0., 0., 0.],\n",
       "        [1., 1., 0., 0., 0.],\n",
       "        [1., 1., 0., 0., 0.],\n",
       "        [1., 1., 0., 0., 0.],\n",
       "        [1., 1., 0., 0., 0.],\n",
       "        [1., 1., 0., 0., 0.]])"
      ]
     },
     "execution_count": 5,
     "metadata": {},
     "output_type": "execute_result"
    }
   ],
   "source": [
    "graph.x"
   ]
  },
  {
   "cell_type": "code",
   "execution_count": 6,
   "metadata": {},
   "outputs": [
    {
     "data": {
      "text/plain": [
       "tensor([[ 0,  1,  1,  2,  0,  3,  0,  4,  0,  5,  1,  6,  1,  7,  2,  8,  2,  9,\n",
       "          2, 10],\n",
       "        [ 1,  0,  2,  1,  3,  0,  4,  0,  5,  0,  6,  1,  7,  1,  8,  2,  9,  2,\n",
       "         10,  2]])"
      ]
     },
     "execution_count": 6,
     "metadata": {},
     "output_type": "execute_result"
    }
   ],
   "source": [
    "graph.edge_index"
   ]
  },
  {
   "cell_type": "code",
   "execution_count": 7,
   "metadata": {},
   "outputs": [],
   "source": [
    "smiles_list = [\"CC(=O)OC1=CC=CC=C1C(=O)O\", \"CCO\", \"C1=CC=NC=C1\"]  # アスピリン、エタノール、ピリジン\n",
    "values = [0, 1, 2] \n",
    "\n",
    "dataset = [\n",
    "    (smiles_to_graph(smiles), torch.tensor([label], dtype=torch.float))\n",
    "    for smiles, label in zip(smiles_list, values)\n",
    "]"
   ]
  },
  {
   "cell_type": "code",
   "execution_count": 8,
   "metadata": {},
   "outputs": [
    {
     "data": {
      "text/plain": [
       "[(Data(x=[21, 5], edge_index=[2, 42]), tensor([0.])),\n",
       " (Data(x=[9, 5], edge_index=[2, 16]), tensor([1.])),\n",
       " (Data(x=[11, 5], edge_index=[2, 22]), tensor([2.]))]"
      ]
     },
     "execution_count": 8,
     "metadata": {},
     "output_type": "execute_result"
    }
   ],
   "source": [
    "dataset"
   ]
  },
  {
   "cell_type": "code",
   "execution_count": 9,
   "metadata": {},
   "outputs": [
    {
     "name": "stderr",
     "output_type": "stream",
     "text": [
      "/home/hodaka/miniforge3/envs/ml/lib/python3.9/site-packages/torch_geometric/deprecation.py:26: UserWarning: 'data.DataLoader' is deprecated, use 'loader.DataLoader' instead\n",
      "  warnings.warn(out)\n"
     ]
    }
   ],
   "source": [
    "# データローダーの設定\n",
    "loader = DataLoader(dataset, batch_size=1, shuffle=True)"
   ]
  },
  {
   "cell_type": "code",
   "execution_count": 10,
   "metadata": {},
   "outputs": [],
   "source": [
    "# モデルの初期化\n",
    "model = GCNMoleculeModel(num_node_features=5)\n",
    "optimizer = torch.optim.Adam(model.parameters(), lr=0.01)\n",
    "criterion = nn.MSELoss() "
   ]
  },
  {
   "cell_type": "code",
   "execution_count": 11,
   "metadata": {},
   "outputs": [
    {
     "name": "stdout",
     "output_type": "stream",
     "text": [
      "Epoch 1\n",
      "Loss: 0.426400363445282\n",
      "Loss: 3.763733386993408\n",
      "Loss: 0.390403687953949\n",
      "Epoch 2\n",
      "Loss: 1.350990653038025\n",
      "Loss: 1.750903606414795\n",
      "Loss: 0.0012758751399815083\n",
      "Epoch 3\n",
      "Loss: 0.00592241482809186\n",
      "Loss: 2.2299811840057373\n",
      "Loss: 0.5152594447135925\n",
      "Epoch 4\n",
      "Loss: 1.701269268989563\n",
      "Loss: 0.021333137527108192\n",
      "Loss: 0.9832474589347839\n",
      "Epoch 5\n",
      "Loss: 1.0436395406723022\n",
      "Loss: 0.05441497266292572\n",
      "Loss: 1.1648766994476318\n",
      "Epoch 6\n",
      "Loss: 0.054052043706178665\n",
      "Loss: 1.0604530572891235\n",
      "Loss: 1.1433470249176025\n",
      "Epoch 7\n",
      "Loss: 1.162408471107483\n",
      "Loss: 0.07574790716171265\n",
      "Loss: 1.0541080236434937\n",
      "Epoch 8\n",
      "Loss: 1.0236179828643799\n",
      "Loss: 0.05168420076370239\n",
      "Loss: 1.1822112798690796\n",
      "Epoch 9\n",
      "Loss: 0.04413101449608803\n",
      "Loss: 0.9190360903739929\n",
      "Loss: 1.202519178390503\n",
      "Epoch 10\n",
      "Loss: 0.041047483682632446\n",
      "Loss: 0.8995616436004639\n",
      "Loss: 1.2020825147628784\n"
     ]
    },
    {
     "name": "stderr",
     "output_type": "stream",
     "text": [
      "/home/hodaka/miniforge3/envs/ml/lib/python3.9/site-packages/torch/nn/modules/loss.py:535: UserWarning: Using a target size (torch.Size([1, 1])) that is different to the input size (torch.Size([1])). This will likely lead to incorrect results due to broadcasting. Please ensure they have the same size.\n",
      "  return F.mse_loss(input, target, reduction=self.reduction)\n"
     ]
    }
   ],
   "source": [
    "# 訓練ループ\n",
    "def train():\n",
    "    model.train()\n",
    "    for data, target in loader:\n",
    "        optimizer.zero_grad()\n",
    "        output = model(data)\n",
    "        loss = criterion(output, target)\n",
    "        loss.backward()\n",
    "        optimizer.step()\n",
    "        print(f\"Loss: {loss.item()}\")\n",
    "\n",
    "# 訓練の実行\n",
    "for epoch in range(10):\n",
    "    print(f\"Epoch {epoch + 1}\")\n",
    "    train()"
   ]
  },
  {
   "cell_type": "code",
   "execution_count": 13,
   "metadata": {},
   "outputs": [
    {
     "name": "stdout",
     "output_type": "stream",
     "text": [
      "Predicted value CCN: 0\n"
     ]
    }
   ],
   "source": [
    "def predict(smiles):\n",
    "    model.eval()\n",
    "    data = smiles_to_graph(smiles)\n",
    "    with torch.no_grad():\n",
    "        output = model(data)\n",
    "    return output.argmax().item()\n",
    "\n",
    "# 予測の例\n",
    "test_smiles = \"CCN\"  # エチルアミン\n",
    "predicted_class = predict(test_smiles)\n",
    "print(f\"Predicted value {test_smiles}: {predicted_class}\")"
   ]
  },
  {
   "cell_type": "code",
   "execution_count": null,
   "metadata": {},
   "outputs": [],
   "source": []
  }
 ],
 "metadata": {
  "kernelspec": {
   "display_name": "base",
   "language": "python",
   "name": "python3"
  },
  "language_info": {
   "codemirror_mode": {
    "name": "ipython",
    "version": 3
   },
   "file_extension": ".py",
   "mimetype": "text/x-python",
   "name": "python",
   "nbconvert_exporter": "python",
   "pygments_lexer": "ipython3",
   "version": "3.9.19"
  }
 },
 "nbformat": 4,
 "nbformat_minor": 2
}
