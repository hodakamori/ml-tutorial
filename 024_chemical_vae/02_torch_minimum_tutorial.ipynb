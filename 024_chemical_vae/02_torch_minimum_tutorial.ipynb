{
  "nbformat": 4,
  "nbformat_minor": 0,
  "metadata": {
    "colab": {
      "provenance": []
    },
    "kernelspec": {
      "name": "python3",
      "display_name": "Python 3"
    },
    "language_info": {
      "name": "python"
    }
  },
  "cells": [
    {
      "cell_type": "code",
      "source": [
        "import torch\n",
        "import torch.nn as nn\n",
        "import torch.optim as optim\n",
        "from torch.utils.data import DataLoader, Dataset\n",
        "\n",
        "# サンプルデータセット (ここではランダムなデータを使用)\n",
        "class RandomDataset(Dataset):\n",
        "  def __init__(self, length):\n",
        "    self.length = length\n",
        "    self.data = torch.randn(length, 10)  # 入力データ (10次元)\n",
        "    self.targets = torch.randint(0, 2, (length,))  # ラベル (0 or 1)\n",
        "\n",
        "  def __len__(self):\n",
        "    return self.length\n",
        "\n",
        "  def __getitem__(self, idx):\n",
        "    return self.data[idx], self.targets[idx]\n",
        "\n",
        "# 単純なニューラルネットワーク\n",
        "class SimpleNN(nn.Module):\n",
        "  def __init__(self):\n",
        "    super().__init__()\n",
        "    self.fc1 = nn.Linear(10, 5)  # 入力層 (10次元) -> 隠れ層 (5次元)\n",
        "    self.fc2 = nn.Linear(5, 1)   # 隠れ層 (5次元) -> 出力層 (1次元)\n",
        "    self.sigmoid = nn.Sigmoid()  # シグモイド関数 (2値分類用)\n",
        "\n",
        "  def forward(self, x):\n",
        "    x = torch.relu(self.fc1(x))  # ReLU活性化関数\n",
        "    x = self.fc2(x)\n",
        "    x = self.sigmoid(x)\n",
        "    return x\n",
        "\n",
        "# データセット、データローダーの作成\n",
        "dataset = RandomDataset(100)  # 100個のサンプルデータ\n",
        "dataloader = DataLoader(dataset, batch_size=10, shuffle=True)  # バッチサイズ10\n",
        "\n",
        "# モデル、損失関数、オプティマイザーの定義\n",
        "model = SimpleNN()\n",
        "criterion = nn.BCELoss()  # 2値分類の損失関数 (Binary Cross Entropy)\n",
        "optimizer = optim.SGD(model.parameters(), lr=0.01)  # 確率的勾配降下法 (SGD)\n",
        "\n",
        "# 学習ループ\n",
        "num_epochs = 5\n",
        "for epoch in range(num_epochs):\n",
        "  for inputs, labels in dataloader:\n",
        "    optimizer.zero_grad()  # 勾配の初期化\n",
        "    outputs = model(inputs)  # 順伝播\n",
        "    loss = criterion(outputs.squeeze(), labels.float())  # 損失の計算\n",
        "    loss.backward()  # 逆伝播 (勾配の計算)\n",
        "    optimizer.step()  # パラメータの更新\n",
        "\n",
        "    print(f\"Epoch [{epoch+1}/{num_epochs}], Loss: {loss.item():.4f}\")\n"
      ],
      "metadata": {
        "colab": {
          "base_uri": "https://localhost:8080/"
        },
        "id": "BD3u16N-wrpz",
        "outputId": "fc1ad22b-1e7e-4e72-c8d3-59dc08b08aa2"
      },
      "execution_count": 2,
      "outputs": [
        {
          "output_type": "stream",
          "name": "stdout",
          "text": [
            "Epoch [1/5], Loss: 0.6392\n",
            "Epoch [1/5], Loss: 0.7021\n",
            "Epoch [1/5], Loss: 0.7213\n",
            "Epoch [1/5], Loss: 0.7030\n",
            "Epoch [1/5], Loss: 0.5810\n",
            "Epoch [1/5], Loss: 0.6814\n",
            "Epoch [1/5], Loss: 0.6194\n",
            "Epoch [1/5], Loss: 0.7327\n",
            "Epoch [1/5], Loss: 0.6152\n",
            "Epoch [1/5], Loss: 0.6504\n",
            "Epoch [2/5], Loss: 0.6640\n",
            "Epoch [2/5], Loss: 0.6473\n",
            "Epoch [2/5], Loss: 0.6155\n",
            "Epoch [2/5], Loss: 0.6676\n",
            "Epoch [2/5], Loss: 0.6873\n",
            "Epoch [2/5], Loss: 0.6707\n",
            "Epoch [2/5], Loss: 0.6297\n",
            "Epoch [2/5], Loss: 0.6777\n",
            "Epoch [2/5], Loss: 0.7629\n",
            "Epoch [2/5], Loss: 0.6166\n",
            "Epoch [3/5], Loss: 0.5680\n",
            "Epoch [3/5], Loss: 0.7050\n",
            "Epoch [3/5], Loss: 0.7256\n",
            "Epoch [3/5], Loss: 0.5731\n",
            "Epoch [3/5], Loss: 0.6709\n",
            "Epoch [3/5], Loss: 0.7599\n",
            "Epoch [3/5], Loss: 0.6216\n",
            "Epoch [3/5], Loss: 0.7369\n",
            "Epoch [3/5], Loss: 0.6151\n",
            "Epoch [3/5], Loss: 0.6585\n",
            "Epoch [4/5], Loss: 0.6214\n",
            "Epoch [4/5], Loss: 0.6964\n",
            "Epoch [4/5], Loss: 0.5912\n",
            "Epoch [4/5], Loss: 0.7168\n",
            "Epoch [4/5], Loss: 0.6178\n",
            "Epoch [4/5], Loss: 0.7322\n",
            "Epoch [4/5], Loss: 0.6281\n",
            "Epoch [4/5], Loss: 0.7592\n",
            "Epoch [4/5], Loss: 0.6294\n",
            "Epoch [4/5], Loss: 0.6365\n",
            "Epoch [5/5], Loss: 0.7037\n",
            "Epoch [5/5], Loss: 0.6696\n",
            "Epoch [5/5], Loss: 0.6173\n",
            "Epoch [5/5], Loss: 0.6579\n",
            "Epoch [5/5], Loss: 0.7209\n",
            "Epoch [5/5], Loss: 0.7039\n",
            "Epoch [5/5], Loss: 0.6986\n",
            "Epoch [5/5], Loss: 0.6414\n",
            "Epoch [5/5], Loss: 0.5805\n",
            "Epoch [5/5], Loss: 0.6280\n"
          ]
        }
      ]
    },
    {
      "cell_type": "code",
      "source": [
        "# サンプルデータセット (ここではランダムなデータを使用)\n",
        "class RandomDataset(Dataset):\n",
        "  def __init__(self, length):\n",
        "    self.length = length\n",
        "    self.data = torch.randn(length, 10)  # 入力データ (10次元)\n",
        "    self.targets = torch.randint(0, 2, (length,))  # ラベル (0 or 1)\n",
        "\n",
        "  def __len__(self):\n",
        "    return self.length\n",
        "\n",
        "  def __getitem__(self, idx):\n",
        "    return self.data[idx], self.targets[idx]"
      ],
      "metadata": {
        "id": "bxCn693ow2EB"
      },
      "execution_count": 3,
      "outputs": []
    },
    {
      "cell_type": "code",
      "source": [
        "dataset = RandomDataset(100)\n",
        "X, y = dataset[0]\n",
        "X"
      ],
      "metadata": {
        "colab": {
          "base_uri": "https://localhost:8080/"
        },
        "id": "R_9ZQQVHw3qy",
        "outputId": "69916496-7f43-46fd-a35a-060d6b639c67"
      },
      "execution_count": 13,
      "outputs": [
        {
          "output_type": "execute_result",
          "data": {
            "text/plain": [
              "tensor([ 1.0154, -0.7223, -0.3501,  0.1600, -0.9460, -1.6584,  1.4541,  0.2858,\n",
              "         1.1821,  0.3361])"
            ]
          },
          "metadata": {},
          "execution_count": 13
        }
      ]
    },
    {
      "cell_type": "code",
      "source": [
        "dataloader = DataLoader(dataset, batch_size=10, shuffle=True)"
      ],
      "metadata": {
        "id": "Nwq__LEUx6qm"
      },
      "execution_count": 14,
      "outputs": []
    },
    {
      "cell_type": "code",
      "source": [
        "for inputs, labels in dataloader:\n",
        "  print(inputs)\n",
        "  print(labels)\n",
        "  break"
      ],
      "metadata": {
        "colab": {
          "base_uri": "https://localhost:8080/"
        },
        "id": "4EEI3siXyCyi",
        "outputId": "1201af2c-4513-40ea-c1cc-125668466468"
      },
      "execution_count": 15,
      "outputs": [
        {
          "output_type": "stream",
          "name": "stdout",
          "text": [
            "tensor([[ 0.3293,  0.5235, -0.7247,  1.6076, -1.0546, -1.1495,  0.1805,  0.5477,\n",
            "         -0.0256,  0.2789],\n",
            "        [-1.0288, -1.7827, -0.0497, -1.2763, -0.1239, -0.3720, -1.1847,  1.3246,\n",
            "         -0.3835,  0.0781],\n",
            "        [-1.1395, -0.0538,  0.6418,  1.4607, -0.0650,  0.4627, -0.5758, -1.0084,\n",
            "         -1.4050,  1.3970],\n",
            "        [-0.2297, -0.9599, -1.5847,  1.3666, -0.0836, -0.6195,  0.7608, -0.2206,\n",
            "         -1.1134,  1.6231],\n",
            "        [-0.8524,  0.0851, -1.1628,  0.0283,  1.9620, -0.0841,  0.3384, -1.3309,\n",
            "          1.1852,  0.9140],\n",
            "        [-0.7126, -0.1463,  0.7158, -0.0118,  1.0873,  0.4211, -0.3810, -0.4288,\n",
            "         -0.7115,  1.8796],\n",
            "        [-1.0565,  0.3741,  2.1807, -0.3285,  0.8070,  0.2312, -0.1483,  0.0325,\n",
            "         -1.6218, -1.8513],\n",
            "        [-0.1956,  0.3662,  0.1584, -0.0749,  0.3517, -0.3533, -2.2447, -0.9180,\n",
            "          0.7452, -1.9275],\n",
            "        [ 0.5235, -0.9579,  0.6159, -0.6936,  0.2763, -0.7786,  0.4613, -0.5170,\n",
            "         -0.3087, -0.3709],\n",
            "        [-1.9946,  0.2540,  0.1654,  1.0002,  0.1294, -0.2390, -0.1855, -0.5559,\n",
            "         -0.7887, -0.6145]])\n",
            "tensor([0, 1, 1, 1, 1, 0, 0, 1, 0, 0])\n"
          ]
        }
      ]
    },
    {
      "cell_type": "code",
      "source": [
        "from torch.utils.data import random_split\n",
        "train_size = int(0.8 * len(dataset))\n",
        "test_size = len(dataset) - train_size\n",
        "train_dataset, test_dataset = random_split(dataset, [train_size, test_size])"
      ],
      "metadata": {
        "id": "N82Rv5A9yS1E"
      },
      "execution_count": 11,
      "outputs": []
    },
    {
      "cell_type": "code",
      "source": [
        "train_dataloader = DataLoader(train_dataset, batch_size=10, shuffle=True)\n",
        "test_dataloader = DataLoader(test_dataset, batch_size=10, shuffle=False)"
      ],
      "metadata": {
        "id": "Oi6LPDfKya0f"
      },
      "execution_count": 12,
      "outputs": []
    },
    {
      "cell_type": "code",
      "source": [
        "for inputs, labels in train_dataloader:\n",
        "  print(inputs)\n",
        "  print(labels)\n",
        "  break"
      ],
      "metadata": {
        "colab": {
          "base_uri": "https://localhost:8080/"
        },
        "id": "Ix6i8Qs_z7c9",
        "outputId": "af32d3da-3613-4e66-d357-348726695f90"
      },
      "execution_count": 18,
      "outputs": [
        {
          "output_type": "stream",
          "name": "stdout",
          "text": [
            "tensor([[-0.4548, -1.2205, -1.0151, -0.8685,  0.7533,  0.0575, -0.6123,  0.9436,\n",
            "         -1.4239, -1.1502],\n",
            "        [ 0.0329, -1.1848,  0.3009,  1.3876, -1.2279, -0.2404,  1.1148,  0.6754,\n",
            "          0.0048, -0.8577],\n",
            "        [ 0.7657, -0.1015, -1.5893,  1.1822,  0.4624,  1.9341, -0.9013,  3.9917,\n",
            "          0.5014,  0.0730],\n",
            "        [-0.1712, -1.4664,  0.9519, -0.4785,  0.3289,  0.5395,  1.6412, -1.6922,\n",
            "          0.7201,  1.0498],\n",
            "        [-1.5620, -1.5531,  0.0280,  0.2431,  1.8253, -0.4210,  0.1713, -0.6595,\n",
            "          0.2650, -0.9849],\n",
            "        [ 0.9731,  0.1491,  0.1544,  0.2604,  1.7433,  0.8198, -1.2277, -0.4566,\n",
            "         -0.9544, -0.5165],\n",
            "        [ 0.1809,  0.7922,  1.1614, -1.6620,  0.4246,  0.1799,  0.4626, -1.4174,\n",
            "          2.1825, -0.2727],\n",
            "        [ 1.6497,  0.3646, -1.5447, -1.3083, -1.4818,  0.1548,  1.4457,  0.1484,\n",
            "         -0.1990, -1.0319],\n",
            "        [-0.7032, -1.4864,  1.7270, -0.0276,  0.9989,  1.0395, -0.0106,  3.3457,\n",
            "          1.4093, -0.0826],\n",
            "        [ 0.6926,  0.4601, -2.5018,  2.0002, -0.4258, -0.3817,  0.8253,  1.2195,\n",
            "         -0.1445,  0.9325]])\n",
            "tensor([1, 1, 1, 1, 1, 0, 0, 0, 0, 0])\n"
          ]
        }
      ]
    },
    {
      "cell_type": "code",
      "source": [
        "class SimpleNN(nn.Module):\n",
        "  def __init__(self):\n",
        "    super().__init__()\n",
        "    self.fc1 = nn.Linear(10, 5)  # 入力層 (10次元) -> 隠れ層 (5次元)\n",
        "    self.fc2 = nn.Linear(5, 1)   # 隠れ層 (5次元) -> 出力層 (1次元)\n",
        "    self.sigmoid = nn.Sigmoid()  # シグモイド関数 (2値分類用)\n",
        "\n",
        "  def forward(self, x):\n",
        "    x = torch.relu(self.fc1(x))  # ReLU活性化関数\n",
        "    x = self.fc2(x)\n",
        "    x = self.sigmoid(x)\n",
        "    return x"
      ],
      "metadata": {
        "id": "kxE9RVEg0H6e"
      },
      "execution_count": 19,
      "outputs": []
    },
    {
      "cell_type": "code",
      "source": [
        "model = SimpleNN()\n",
        "y = model(X)\n",
        "y"
      ],
      "metadata": {
        "colab": {
          "base_uri": "https://localhost:8080/"
        },
        "id": "qrkcIZKW0SgX",
        "outputId": "d4f46186-0b2e-4f70-e114-ff6396dd51cf"
      },
      "execution_count": 20,
      "outputs": [
        {
          "output_type": "execute_result",
          "data": {
            "text/plain": [
              "tensor([[0.4722],\n",
              "        [0.5880],\n",
              "        [0.4722],\n",
              "        [0.5311],\n",
              "        [0.4918],\n",
              "        [0.5969],\n",
              "        [0.4748],\n",
              "        [0.4745],\n",
              "        [0.4762],\n",
              "        [0.4774]], grad_fn=<SigmoidBackward0>)"
            ]
          },
          "metadata": {},
          "execution_count": 20
        }
      ]
    },
    {
      "cell_type": "code",
      "source": [
        "dataset = RandomDataset(100)  # 100個のサンプルデータ\n",
        "dataloader = DataLoader(dataset, batch_size=10, shuffle=True)  # バッチサイズ10\n",
        "\n",
        "# モデル、損失関数、オプティマイザーの定義\n",
        "model = SimpleNN()\n",
        "criterion = nn.BCELoss()  # 2値分類の損失関数 (Binary Cross Entropy)\n",
        "optimizer = optim.SGD(model.parameters(), lr=0.01)  # 確率的勾配降下法 (SGD)\n",
        "\n",
        "# 学習ループ\n",
        "num_epochs = 5\n",
        "for epoch in range(num_epochs):\n",
        "  for batch, (inputs, labels) in enumerate(dataloader):\n",
        "    optimizer.zero_grad()\n",
        "    outputs = model(inputs)\n",
        "    loss = criterion(outputs.squeeze(), labels.float())\n",
        "    loss.backward()\n",
        "    optimizer.step()\n",
        "\n",
        "    print(f\"Epoch [{epoch+1}/{num_epochs}], Batch [{batch}/{len(dataloader)}], Loss: {loss.item():.4f}\")\n"
      ],
      "metadata": {
        "colab": {
          "base_uri": "https://localhost:8080/"
        },
        "id": "2VCrjL8Oup2g",
        "outputId": "9af14792-9ac4-4ab0-abc9-5c8019545fa5"
      },
      "execution_count": 23,
      "outputs": [
        {
          "output_type": "stream",
          "name": "stdout",
          "text": [
            "Epoch [1/5], Batch [0/10], Loss: 0.6941\n",
            "Epoch [1/5], Batch [1/10], Loss: 0.6761\n",
            "Epoch [1/5], Batch [2/10], Loss: 0.7319\n",
            "Epoch [1/5], Batch [3/10], Loss: 0.7330\n",
            "Epoch [1/5], Batch [4/10], Loss: 0.7151\n",
            "Epoch [1/5], Batch [5/10], Loss: 0.6594\n",
            "Epoch [1/5], Batch [6/10], Loss: 0.7181\n",
            "Epoch [1/5], Batch [7/10], Loss: 0.6918\n",
            "Epoch [1/5], Batch [8/10], Loss: 0.7448\n",
            "Epoch [1/5], Batch [9/10], Loss: 0.7204\n",
            "Epoch [2/5], Batch [0/10], Loss: 0.7219\n",
            "Epoch [2/5], Batch [1/10], Loss: 0.6814\n",
            "Epoch [2/5], Batch [2/10], Loss: 0.7338\n",
            "Epoch [2/5], Batch [3/10], Loss: 0.7208\n",
            "Epoch [2/5], Batch [4/10], Loss: 0.7055\n",
            "Epoch [2/5], Batch [5/10], Loss: 0.6855\n",
            "Epoch [2/5], Batch [6/10], Loss: 0.7375\n",
            "Epoch [2/5], Batch [7/10], Loss: 0.6909\n",
            "Epoch [2/5], Batch [8/10], Loss: 0.6906\n",
            "Epoch [2/5], Batch [9/10], Loss: 0.7043\n",
            "Epoch [3/5], Batch [0/10], Loss: 0.7019\n",
            "Epoch [3/5], Batch [1/10], Loss: 0.6776\n",
            "Epoch [3/5], Batch [2/10], Loss: 0.7417\n",
            "Epoch [3/5], Batch [3/10], Loss: 0.7037\n",
            "Epoch [3/5], Batch [4/10], Loss: 0.7326\n",
            "Epoch [3/5], Batch [5/10], Loss: 0.6732\n",
            "Epoch [3/5], Batch [6/10], Loss: 0.6980\n",
            "Epoch [3/5], Batch [7/10], Loss: 0.6835\n",
            "Epoch [3/5], Batch [8/10], Loss: 0.7112\n",
            "Epoch [3/5], Batch [9/10], Loss: 0.7365\n",
            "Epoch [4/5], Batch [0/10], Loss: 0.6903\n",
            "Epoch [4/5], Batch [1/10], Loss: 0.7008\n",
            "Epoch [4/5], Batch [2/10], Loss: 0.6702\n",
            "Epoch [4/5], Batch [3/10], Loss: 0.7453\n",
            "Epoch [4/5], Batch [4/10], Loss: 0.7220\n",
            "Epoch [4/5], Batch [5/10], Loss: 0.7230\n",
            "Epoch [4/5], Batch [6/10], Loss: 0.6468\n",
            "Epoch [4/5], Batch [7/10], Loss: 0.6840\n",
            "Epoch [4/5], Batch [8/10], Loss: 0.7063\n",
            "Epoch [4/5], Batch [9/10], Loss: 0.7597\n",
            "Epoch [5/5], Batch [0/10], Loss: 0.6721\n",
            "Epoch [5/5], Batch [1/10], Loss: 0.7204\n",
            "Epoch [5/5], Batch [2/10], Loss: 0.7368\n",
            "Epoch [5/5], Batch [3/10], Loss: 0.6807\n",
            "Epoch [5/5], Batch [4/10], Loss: 0.6767\n",
            "Epoch [5/5], Batch [5/10], Loss: 0.6928\n",
            "Epoch [5/5], Batch [6/10], Loss: 0.7161\n",
            "Epoch [5/5], Batch [7/10], Loss: 0.6954\n",
            "Epoch [5/5], Batch [8/10], Loss: 0.7072\n",
            "Epoch [5/5], Batch [9/10], Loss: 0.7373\n"
          ]
        }
      ]
    },
    {
      "cell_type": "code",
      "source": [],
      "metadata": {
        "id": "Wsj8LflW0saK"
      },
      "execution_count": null,
      "outputs": []
    }
  ]
}