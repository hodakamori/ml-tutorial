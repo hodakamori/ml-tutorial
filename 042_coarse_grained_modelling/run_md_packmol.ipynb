{
 "cells": [
  {
   "cell_type": "code",
   "execution_count": 1,
   "metadata": {},
   "outputs": [],
   "source": [
    "from forcefield import CGForceField\n",
    "from model_builder import CGModelBuilder"
   ]
  },
  {
   "cell_type": "code",
   "execution_count": 5,
   "metadata": {},
   "outputs": [],
   "source": [
    "import openmm.app as app\n",
    "\n",
    "builder = CGModelBuilder(\n",
    "    smiles_sequence=\"[OH][EO]10[OH]\",\n",
    "    bond_length=0.35,  # nm\n",
    "    min_dist=0.35,  # nm\n",
    "    max_tries=50000,\n",
    ")\n",
    "topology, positions = builder.create_molecule()\n",
    "\n",
    "with open(\"peo10.pdb\", \"w\") as f:\n",
    "    app.PDBFile.writeFile(topology, positions, f)\n"
   ]
  },
  {
   "cell_type": "code",
   "execution_count": 6,
   "metadata": {},
   "outputs": [],
   "source": [
    "structures = [\n",
    "    {\n",
    "        \"pdb\": \"peo10.pdb\",\n",
    "        \"number\": 10,\n",
    "        \"box\": (0, 0, 0, 50, 50, 50),  # Aを10個  50Å立方\n",
    "    },\n",
    "]\n",
    "\n",
    "topology, positions = builder.create_packed_model(\n",
    "    structures,\n",
    "    output_pdb=\"peo10_10.pdb\",  # 生成されるPACKMOL出力\n",
    ")\n",
    "pdb = app.PDBFile(\"peo10_10.pdb\")\n",
    "topology = pdb.topology\n",
    "positions = pdb.positions"
   ]
  },
  {
   "cell_type": "code",
   "execution_count": 7,
   "metadata": {},
   "outputs": [],
   "source": [
    "param_dict = {\n",
    "    \"BOND\": {\n",
    "        (\"EO\", \"EO\"): {\"r0\": 0.5, \"k\": 100},\n",
    "        (\"EO\", \"OH\"): {\"r0\": 0.45, \"k\": 120},\n",
    "    },\n",
    "    \"NONBONDED\": {\n",
    "        \"EO\": {\"sigma\": 0.3, \"epsilon\": 0.5, \"charge\": 0.0, \"mass\": 72.0},\n",
    "        \"OH\": {\"sigma\": 0.25, \"epsilon\": 0.4, \"charge\": -0.2, \"mass\": 18.0},\n",
    "    },\n",
    "    \"ANGLE\": {},\n",
    "    \"TORSION\": {},\n",
    "}\n",
    "ff = CGForceField.from_dict(param_dict)\n",
    "system = ff.create_system(topology)"
   ]
  },
  {
   "cell_type": "code",
   "execution_count": 9,
   "metadata": {},
   "outputs": [
    {
     "name": "stdout",
     "output_type": "stream",
     "text": [
      "#\"Step\",\"Potential Energy (kJ/mole)\",\"Kinetic Energy (kJ/mole)\",\"Temperature (K)\",\"Box Volume (nm^3)\",\"Density (g/mL)\"\n",
      "1000,457.3514276900267,344.3541717598373,230.09048447968348,8.0,1.5692094184792849\n",
      "2000,544.7623669165666,448.08771780467066,299.4031393671566,8.0,1.5692094184792849\n",
      "3000,550.4264583489502,424.383750239875,283.5646282400768,8.0,1.5692094184792849\n",
      "4000,495.90025057760454,496.7150380690085,331.89493007609434,8.0,1.5692094184792849\n",
      "5000,504.50962182601717,446.2988180326522,298.20783276428966,8.0,1.5692094184792849\n",
      "6000,482.8565235319272,459.2865090287836,306.88594489024484,8.0,1.5692094184792849\n",
      "7000,489.42599646196555,410.0474613117083,273.9854102847236,8.0,1.5692094184792849\n",
      "8000,421.15480908583595,499.7672759074356,333.9343735926396,8.0,1.5692094184792849\n",
      "9000,461.4152781894957,430.10803722431547,287.38948088762726,8.0,1.5692094184792849\n",
      "10000,497.9938395128056,445.358872077522,297.57977991075416,8.0,1.5692094184792849\n"
     ]
    }
   ],
   "source": [
    "import sys\n",
    "\n",
    "import openmm\n",
    "from openmm import unit\n",
    "\n",
    "temperature = 300 * unit.kelvin\n",
    "friction = 1 / unit.picosecond\n",
    "timestep = 0.001 * unit.picoseconds\n",
    "integrator = openmm.LangevinIntegrator(temperature, friction, timestep)\n",
    "\n",
    "simulation = app.Simulation(topology, system, integrator)\n",
    "simulation.context.setPositions(positions)\n",
    "simulation.reporters.append(app.PDBReporter(\"example-traj-packmol.pdb\", 1000))\n",
    "simulation.reporters.append(\n",
    "    app.StateDataReporter(\n",
    "        sys.stdout,\n",
    "        1000,\n",
    "        step=True,\n",
    "        potentialEnergy=True,\n",
    "        kineticEnergy=True,\n",
    "        temperature=True,\n",
    "        volume=True,\n",
    "        density=True,\n",
    "    )\n",
    ")\n",
    "simulation.minimizeEnergy()\n",
    "simulation.step(10_000)\n"
   ]
  },
  {
   "cell_type": "code",
   "execution_count": 25,
   "metadata": {},
   "outputs": [
    {
     "data": {
      "application/vnd.jupyter.widget-view+json": {
       "model_id": "2a12b8cf697340ae899b0c77ae1e1031",
       "version_major": 2,
       "version_minor": 0
      },
      "text/plain": [
       "NGLWidget(max_frame=9)"
      ]
     },
     "metadata": {},
     "output_type": "display_data"
    }
   ],
   "source": [
    "import MDAnalysis as mda\n",
    "import nglview as nv\n",
    "\n",
    "bonds = list(topology.bonds())\n",
    "bonds_nglview = []\n",
    "for bond in bonds:\n",
    "    bonds_nglview.append((bond[0].index, bond[1].index))\n",
    "u = mda.Universe(\"example-traj-packmol.pdb\")\n",
    "u.add_TopologyAttr(\"bonds\", bonds_nglview)\n",
    "view = nv.show_mdanalysis(u)\n",
    "view.add_ball_and_stick()\n",
    "view.add_representation(\"ball+stick\", colorScheme=\"resname\")\n",
    "view"
   ]
  },
  {
   "cell_type": "code",
   "execution_count": null,
   "metadata": {},
   "outputs": [],
   "source": []
  }
 ],
 "metadata": {
  "kernelspec": {
   "display_name": ".venv",
   "language": "python",
   "name": "python3"
  },
  "language_info": {
   "codemirror_mode": {
    "name": "ipython",
    "version": 3
   },
   "file_extension": ".py",
   "mimetype": "text/x-python",
   "name": "python",
   "nbconvert_exporter": "python",
   "pygments_lexer": "ipython3",
   "version": "3.12.7"
  }
 },
 "nbformat": 4,
 "nbformat_minor": 2
}
