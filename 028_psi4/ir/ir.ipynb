{
 "cells": [
  {
   "cell_type": "code",
   "execution_count": 1,
   "metadata": {},
   "outputs": [],
   "source": [
    "import psi4\n",
    "import numpy as np\n",
    "import matplotlib.pyplot as plt"
   ]
  },
  {
   "cell_type": "code",
   "execution_count": 2,
   "metadata": {},
   "outputs": [
    {
     "name": "stdout",
     "output_type": "stream",
     "text": [
      "Optimizer: Optimization complete!\n"
     ]
    }
   ],
   "source": [
    "psi4.core.set_output_file('output.dat', False)\n",
    "psi4.set_memory('500 MB')\n",
    "\n",
    "molecule = psi4.geometry(\"\"\"\n",
    "0 1\n",
    "O\n",
    "H 1 0.96\n",
    "H 1 0.96 2 104.5\n",
    "\"\"\")\n",
    "\n",
    "psi4.set_options({\n",
    "    'basis': '6-31g',\n",
    "    'scf_type': 'df',\n",
    "    'e_convergence': 1e-8,\n",
    "    'd_convergence': 1e-8\n",
    "})\n",
    "\n",
    "opt_energy, opt_wfn, history = psi4.optimize('scf', return_wfn=True, return_history=True)\n"
   ]
  },
  {
   "cell_type": "code",
   "execution_count": 3,
   "metadata": {},
   "outputs": [],
   "source": [
    "e, wfn = psi4.frequencies(\n",
    "    \"scf\", ref_gradient=opt_wfn.gradient(), molecule=opt_wfn.molecule(), return_wfn=True\n",
    ")"
   ]
  },
  {
   "cell_type": "code",
   "execution_count": 4,
   "metadata": {},
   "outputs": [],
   "source": [
    "hessian, _ = psi4.hessian(\n",
    "    \"scf\",\n",
    "    ref_gradient=opt_wfn.gradient(),\n",
    "    return_wfn= True\n",
    ")\n",
    "\n",
    "vibinfo, vibtext = psi4.driver.qcdb.vib.harmonic_analysis(\n",
    "    hessian.np,\n",
    "    wfn.molecule().geometry().np,\n",
    "    np.array(\n",
    "        [wfn.molecule().mass(i) for i in range(len(wfn.molecule().geometry().np))]\n",
    "    ),\n",
    "    wfn.basisset(),\n",
    "    wfn.molecule().irrep_labels(),\n",
    "    wfn.variable(\"SCF DIPOLE GRADIENT\").np.T,\n",
    "    True,\n",
    "    True,\n",
    ")"
   ]
  },
  {
   "cell_type": "code",
   "execution_count": 7,
   "metadata": {},
   "outputs": [
    {
     "data": {
      "text/plain": [
       "{'q': Datum(numeric=True, label='normal mode', units='a0 u^1/2', data=array([[ 0.00000000, -0.00000000, -0.00000000,  1.00000000, -0.00000000,\n",
       "         -0.00000000,  0.00000000, -0.00000000,  0.00000000],\n",
       "        [ 0.67590382, -0.26880150, -0.00000000, -0.00000000,  0.54309561,\n",
       "          0.31085578, -0.00000000,  0.00000000, -0.28163029],\n",
       "        [-0.53078632,  0.28103234,  0.00000000,  0.00000000,  0.70852701,\n",
       "          0.15925234, -0.28608608,  0.17340596,  0.00000000],\n",
       "        [ 0.42693431,  0.88789338, -0.00000000,  0.00000000,  0.00615337,\n",
       "         -0.17127341,  0.00000000, -0.00000000, -0.00000000],\n",
       "        [ 0.08994406,  0.03752458, -0.00000000, -0.00000000, -0.04128667,\n",
       "          0.41725084,  0.36652627,  0.60469703,  0.56098050],\n",
       "        [-0.25041850,  0.22488568,  0.00000000,  0.00000000, -0.08322984,\n",
       "          0.53861319,  0.56985601, -0.34540801, -0.38163212],\n",
       "        [ 0.00000000,  0.00000000,  1.00000000,  0.00000000,  0.00000000,\n",
       "          0.00000000, -0.00000000,  0.00000000,  0.00000000],\n",
       "        [ 0.08994406,  0.03752458, -0.00000000, -0.00000000, -0.04128667,\n",
       "          0.41725084, -0.36652627, -0.60469703,  0.56098050],\n",
       "        [-0.01605335, -0.08379839,  0.00000000, -0.00000000,  0.43893324,\n",
       "         -0.45866338,  0.56985601, -0.34540801,  0.38163211]]), comment='normalized mass-weighted', doi=None, glossary=''),\n",
       " 'omega': Datum(numeric=True, label='frequency', units='cm^-1', data=array([    0.00000000+0.00007778j,     0.00000000+0.00005046j,\n",
       "            0.00000000+0.00000000j,     0.00000000+0.00000000j,\n",
       "            0.00003495+0.00000000j,     0.00005453+0.00000000j,\n",
       "         1737.08394116+0.00000000j,  3988.31037416+0.00000000j,\n",
       "         4145.25495264+0.00000000j]), comment='', doi=None, glossary=''),\n",
       " 'degeneracy': Datum(numeric=True, label='degeneracy', units='', data=array([6, 6, 6, 6, 6, 6, 1, 1, 1]), comment='', doi=None, glossary=''),\n",
       " 'TRV': Datum(numeric=False, label='translation/rotation/vibration', units='', data=['TR', 'TR', 'TR', 'TR', 'TR', 'TR', 'V', 'V', 'V'], comment='', doi=None, glossary=''),\n",
       " 'gamma': Datum(numeric=False, label='irreducible representation', units='', data=[None, None, None, None, None, None, 'A1', 'A1', 'B2'], comment='', doi=None, glossary=''),\n",
       " 'w': Datum(numeric=True, label='normal mode', units='a0', data=array([[ 0.00000000, -0.00000000, -0.00000000,  0.25003974, -0.00000000,\n",
       "         -0.00000000,  0.00000000, -0.00000000,  0.00000000],\n",
       "        [ 0.16900282, -0.06721106, -0.00000000, -0.00000000,  0.13579548,\n",
       "          0.07772630, -0.00000000,  0.00000000, -0.07041876],\n",
       "        [-0.13271767,  0.07026925,  0.00000000,  0.00000000,  0.17715991,\n",
       "          0.03981941, -0.07153289,  0.04335838,  0.00000000],\n",
       "        [ 0.42527366,  0.88443974, -0.00000000,  0.00000000,  0.00612943,\n",
       "         -0.17060720,  0.00000000, -0.00000000, -0.00000000],\n",
       "        [ 0.08959420,  0.03737862, -0.00000000, -0.00000000, -0.04112607,\n",
       "          0.41562786,  0.36510059,  0.60234493,  0.55879845],\n",
       "        [-0.24944444,  0.22401094,  0.00000000,  0.00000000, -0.08290610,\n",
       "          0.53651814,  0.56763944, -0.34406448, -0.38014768],\n",
       "        [ 0.00000000,  0.00000000,  0.99611030,  0.00000000,  0.00000000,\n",
       "          0.00000000, -0.00000000,  0.00000000,  0.00000000],\n",
       "        [ 0.08959420,  0.03737862, -0.00000000, -0.00000000, -0.04112607,\n",
       "          0.41562786, -0.36510059, -0.60234493,  0.55879845],\n",
       "        [-0.01599090, -0.08347244,  0.00000000, -0.00000000,  0.43722592,\n",
       "         -0.45687931,  0.56763944, -0.34406448,  0.38014768]]), comment='un-mass-weighted', doi=None, glossary=''),\n",
       " 'mu': Datum(numeric=True, label='reduced mass', units='u', data=array([  3.27261437,   1.17421662,   1.00782503,  15.99491462,\n",
       "          3.97952531,   1.13789301,   1.09153277,   1.03704370,\n",
       "          1.08873787]), comment='', doi=None, glossary=''),\n",
       " 'x': Datum(numeric=True, label='normal mode', units='a0', data=array([[ 0.00000000, -0.00000000, -0.00000000,  1.00000000, -0.00000000,\n",
       "         -0.00000000,  0.00000000, -0.00000000,  0.00000000],\n",
       "        [ 0.30573232, -0.07283076, -0.00000000, -0.00000000,  0.27089498,\n",
       "          0.08291225, -0.00000000,  0.00000000, -0.07347677],\n",
       "        [-0.24009116,  0.07614466,  0.00000000,  0.00000000,  0.35341183,\n",
       "          0.04247619, -0.07473502,  0.04415415,  0.00000000],\n",
       "        [ 0.76933572,  0.95839019, -0.00000000,  0.00000000,  0.01222745,\n",
       "         -0.18199023,  0.00000000, -0.00000000, -0.00000000],\n",
       "        [ 0.16207921,  0.04050394, -0.00000000, -0.00000000, -0.08204136,\n",
       "          0.44335883,  0.38144412,  0.61340003,  0.58306485],\n",
       "        [-0.45125419,  0.24274111,  0.00000000,  0.00000000, -0.16538729,\n",
       "          0.57231500,  0.59304951, -0.35037924, -0.39665598],\n",
       "        [ 0.00000000,  0.00000000,  1.00000000,  0.00000000,  0.00000000,\n",
       "          0.00000000, -0.00000000,  0.00000000,  0.00000000],\n",
       "        [ 0.16207921,  0.04050394, -0.00000000, -0.00000000, -0.08204136,\n",
       "          0.44335883, -0.38144412, -0.61340003,  0.58306484],\n",
       "        [-0.02892814, -0.09045180,  0.00000000, -0.00000000,  0.87221095,\n",
       "         -0.48736261,  0.59304951, -0.35037924,  0.39665598]]), comment='normalized un-mass-weighted', doi=None, glossary=''),\n",
       " 'IR_intensity': Datum(numeric=True, label='infrared intensity', units='km/mol', data=array([  47.71104728,  191.23018540,  229.71888818,   57.89749264,\n",
       "          28.99569580,  112.47450769,  123.05366004,    2.95515431,\n",
       "          54.32217736]), comment='', doi=None, glossary=''),\n",
       " 'k': Datum(numeric=True, label='force constant', units='mDyne/A', data=array([-0.00000000, -0.00000000, -0.00000000,  0.00000000,  0.00000000,\n",
       "         0.00000000,  1.94056692,  9.71908070, 11.02239719]), comment='', doi=None, glossary=''),\n",
       " 'Qtp0': Datum(numeric=True, label='Turning point v=0', units='a0 u^1/2', data=array([ 0.00000000e+00,  0.00000000e+00,  0.00000000e+00,  3.12592894e+08,\n",
       "         1.85606455e+03,  1.48592271e+03,  2.63270204e-01,  1.73747130e-01,\n",
       "         1.70426251e-01]), comment='', doi=None, glossary=''),\n",
       " 'Xtp0': Datum(numeric=True, label='Turning point v=0', units='a0', data=array([        0.00000000,         0.00000000,         0.00000000,\n",
       "         78160645.72900334,       930.41657972,      1392.98200208,\n",
       "                0.25199001,         0.17061575,         0.16333333]), comment='', doi=None, glossary=''),\n",
       " 'DQ0': Datum(numeric=True, label='RMS deviation v=0', units='a0 u^1/2', data=array([ 0.00000000e+00,  0.00000000e+00,  0.00000000e+00,  2.21036555e+08,\n",
       "         1.31243583e+03,  1.05070602e+03,  1.86160147e-01,  1.22857774e-01,\n",
       "         1.20509558e-01]), comment='', doi=None, glossary=''),\n",
       " 'theta_vib': Datum(numeric=True, label='char temp', units='K', data=array([    0.00000000,     0.00000000,     0.00000000,     0.00000000,\n",
       "            0.00005028,     0.00007846,  2499.27703624,  5738.29064638,\n",
       "         5964.09895169]), comment='', doi=None, glossary='')}"
      ]
     },
     "execution_count": 7,
     "metadata": {},
     "output_type": "execute_result"
    }
   ],
   "source": [
    "vibinfo"
   ]
  },
  {
   "cell_type": "code",
   "execution_count": 8,
   "metadata": {},
   "outputs": [
    {
     "data": {
      "text/plain": [
       "Text(0, 0.5, 'Intensity')"
      ]
     },
     "execution_count": 8,
     "metadata": {},
     "output_type": "execute_result"
    },
    {
     "data": {
      "image/png": "[encoded data removed]",
      "text/plain": [
       "<Figure size 1000x400 with 1 Axes>"
      ]
     },
     "metadata": {},
     "output_type": "display_data"
    }
   ],
   "source": [
    "def gaussian(x, height, mu, sigma):\n",
    "    return height * np.exp(-((x - mu) ** 2) / (2 * sigma ** 2))\n",
    "\n",
    "fig = plt.figure(figsize=(10,4))\n",
    "ax = fig.add_subplot(111)\n",
    "sigma = 10\n",
    "x = np.linspace(500, 4500, 1000)\n",
    "y = np.zeros_like(x)\n",
    "for height, mu in zip(np.real(vibinfo[\"IR_intensity\"].data), np.real(vibinfo[\"omega\"].data)):\n",
    "    y += gaussian(x, height, mu, sigma)\n",
    "    ax.plot([mu, mu], [0, height], color=\"tab:orange\")\n",
    "ax.plot(x, y)\n",
    "\n",
    "ax.set_xlim(4500, 500)\n",
    "ax.set_xlabel(r\"Wavenumber [$\\mathrm{cm}^{-1}$]\")\n",
    "ax.set_ylabel(r\"Intensity\")"
   ]
  },
  {
   "cell_type": "code",
   "execution_count": null,
   "metadata": {},
   "outputs": [],
   "source": []
  }
 ],
 "metadata": {
  "kernelspec": {
   "display_name": "ml",
   "language": "python",
   "name": "python3"
  },
  "language_info": {
   "codemirror_mode": {
    "name": "ipython",
    "version": 3
   },
   "file_extension": ".py",
   "mimetype": "text/x-python",
   "name": "python",
   "nbconvert_exporter": "python",
   "pygments_lexer": "ipython3",
   "version": "3.12.5"
  }
 },
 "nbformat": 4,
 "nbformat_minor": 2
}
