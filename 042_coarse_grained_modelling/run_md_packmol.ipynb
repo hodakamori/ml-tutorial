{
 "cells": [
  {
   "cell_type": "code",
   "execution_count": 1,
   "metadata": {},
   "outputs": [],
   "source": [
    "from forcefield import CGForceField\n",
    "from model_builder import CGModelBuilder"
   ]
  },
  {
   "cell_type": "code",
   "execution_count": 2,
   "metadata": {},
   "outputs": [],
   "source": [
    "import openmm.app as app\n",
    "\n",
    "builder = CGModelBuilder(\n",
    "    smiles_sequence=\"[OH][EO]10[OH]\",\n",
    "    bond_length=0.35,  # nm\n",
    "    min_dist=0.35,  # nm\n",
    "    max_tries=50000,\n",
    ")\n",
    "topology, positions = builder.create_molecule()\n",
    "\n",
    "with open(\"peo10.pdb\", \"w\") as f:\n",
    "    app.PDBFile.writeFile(topology, positions, f)\n"
   ]
  },
  {
   "cell_type": "code",
   "execution_count": 3,
   "metadata": {},
   "outputs": [],
   "source": [
    "structures = [\n",
    "    {\n",
    "        \"pdb\": \"peo10.pdb\",\n",
    "        \"number\": 10,\n",
    "        \"box\": (0, 0, 0, 50, 50, 50),  # Aを10個  50Å立方\n",
    "    },\n",
    "]\n",
    "\n",
    "topology, positions = builder.create_packed_model(\n",
    "    structures,\n",
    "    output_pdb=\"peo10_10.pdb\",  # 生成されるPACKMOL出力\n",
    ")\n",
    "pdb = app.PDBFile(\"peo10_10.pdb\")\n",
    "topology = pdb.topology\n",
    "positions = pdb.positions"
   ]
  },
  {
   "cell_type": "code",
   "execution_count": null,
   "metadata": {},
   "outputs": [],
   "source": [
    "param_dict = {\n",
    "    \"BOND\": {\n",
    "        (\"EO\", \"EO\"): {\"r0\": 0.5, \"k\": 100},\n",
    "        (\"EO\", \"OH\"): {\"r0\": 0.45, \"k\": 120},\n",
    "    },\n",
    "    \"NONBONDED\": {\n",
    "        \"EO\": {\"sigma\": 0.3, \"epsilon\": 0.5, \"charge\": 0.0, \"mass\": 72.0},\n",
    "        \"OH\": {\"sigma\": 0.25, \"epsilon\": 0.4, \"charge\": -0.2, \"mass\": 18.0},\n",
    "    },\n",
    "    \"ANGLE\": {(\"EO\", \"EO\", \"EO\"): {\"theta0\": 0.5, \"k\": 100}},\n",
    "    \"TORSION\": {(\"EO\", \"EO\", \"EO\", \"EO\"): {\"periodicity\": 3, \"phase\": 0.0, \"k\": 5.0}},\n",
    "}\n",
    "ff = CGForceField.from_dict(param_dict)\n",
    "system = ff.create_system(topology)"
   ]
  },
  {
   "cell_type": "code",
   "execution_count": 5,
   "metadata": {},
   "outputs": [
    {
     "name": "stdout",
     "output_type": "stream",
     "text": [
      "#\"Step\",\"Potential Energy (kJ/mole)\",\"Kinetic Energy (kJ/mole)\",\"Temperature (K)\",\"Box Volume (nm^3)\",\"Density (g/mL)\"\n",
      "1000,575.612884122571,312.7851729710978,208.99671875377976,8.0,1.5692094184792849\n",
      "2000,676.139926153234,357.2231765444395,238.68929288246247,8.0,1.5692094184792849\n",
      "3000,724.4984309524774,406.06540999233886,271.32468422871506,8.0,1.5692094184792849\n",
      "4000,830.3191488501573,443.6458761230541,296.4351907017401,8.0,1.5692094184792849\n",
      "5000,796.2700176695051,419.2987453406663,280.1669309365677,8.0,1.5692094184792849\n",
      "6000,788.6707529787506,456.0873717755765,304.7483461594219,8.0,1.5692094184792849\n",
      "7000,779.7334957657997,473.5000929378217,316.3831738365638,8.0,1.5692094184792849\n",
      "8000,777.5843398285936,464.56611202092006,310.41366869888304,8.0,1.5692094184792849\n",
      "9000,775.0469709836447,434.49945569489665,290.32373778448795,8.0,1.5692094184792849\n",
      "10000,734.0240686031341,464.9455360881127,310.66719217733385,8.0,1.5692094184792849\n"
     ]
    }
   ],
   "source": [
    "import sys\n",
    "\n",
    "import openmm\n",
    "from openmm import unit\n",
    "\n",
    "temperature = 300 * unit.kelvin\n",
    "friction = 1 / unit.picosecond\n",
    "timestep = 0.001 * unit.picoseconds\n",
    "integrator = openmm.LangevinIntegrator(temperature, friction, timestep)\n",
    "\n",
    "simulation = app.Simulation(topology, system, integrator)\n",
    "simulation.context.setPositions(positions)\n",
    "simulation.reporters.append(app.PDBReporter(\"example-traj-packmol.pdb\", 1000))\n",
    "simulation.reporters.append(\n",
    "    app.StateDataReporter(\n",
    "        sys.stdout,\n",
    "        1000,\n",
    "        step=True,\n",
    "        potentialEnergy=True,\n",
    "        kineticEnergy=True,\n",
    "        temperature=True,\n",
    "        volume=True,\n",
    "        density=True,\n",
    "    )\n",
    ")\n",
    "simulation.minimizeEnergy()\n",
    "simulation.step(10_000)\n"
   ]
  },
  {
   "cell_type": "code",
   "execution_count": 6,
   "metadata": {},
   "outputs": [
    {
     "data": {
      "application/vnd.jupyter.widget-view+json": {
       "model_id": "42d890d6f3164c5d8cda55db4a78f87b",
       "version_major": 2,
       "version_minor": 0
      },
      "text/plain": []
     },
     "metadata": {},
     "output_type": "display_data"
    },
    {
     "data": {
      "application/vnd.jupyter.widget-view+json": {
       "model_id": "e4e766fcbba948edbabde4abea511836",
       "version_major": 2,
       "version_minor": 0
      },
      "text/plain": [
       "NGLWidget(max_frame=9)"
      ]
     },
     "metadata": {},
     "output_type": "display_data"
    }
   ],
   "source": [
    "import MDAnalysis as mda\n",
    "import nglview as nv\n",
    "\n",
    "bonds = list(topology.bonds())\n",
    "bonds_nglview = []\n",
    "for bond in bonds:\n",
    "    bonds_nglview.append((bond[0].index, bond[1].index))\n",
    "u = mda.Universe(\"example-traj-packmol.pdb\")\n",
    "u.add_TopologyAttr(\"bonds\", bonds_nglview)\n",
    "view = nv.show_mdanalysis(u)\n",
    "view.add_ball_and_stick()\n",
    "view.add_representation(\"ball+stick\", colorScheme=\"resname\")\n",
    "view"
   ]
  },
  {
   "cell_type": "code",
   "execution_count": null,
   "metadata": {},
   "outputs": [],
   "source": []
  }
 ],
 "metadata": {
  "kernelspec": {
   "display_name": ".venv",
   "language": "python",
   "name": "python3"
  },
  "language_info": {
   "codemirror_mode": {
    "name": "ipython",
    "version": 3
   },
   "file_extension": ".py",
   "mimetype": "text/x-python",
   "name": "python",
   "nbconvert_exporter": "python",
   "pygments_lexer": "ipython3",
   "version": "3.12.7"
  }
 },
 "nbformat": 4,
 "nbformat_minor": 2
}
