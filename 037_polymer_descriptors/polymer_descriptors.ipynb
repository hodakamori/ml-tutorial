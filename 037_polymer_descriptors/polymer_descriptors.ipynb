{
 "cells": [
  {
   "cell_type": "code",
   "execution_count": null,
   "metadata": {},
   "outputs": [],
   "source": [
    "!pip install radonpy-pypi deepchem mordred"
   ]
  },
  {
   "cell_type": "code",
   "execution_count": null,
   "metadata": {},
   "outputs": [],
   "source": [
    "from rdkit.Chem import rdchem\n",
    "from radonpy.core.utils import mol_from_smiles\n",
    "from radonpy.core.poly import polymerize_rw, terminate_mols\n",
    "from typing import Literal\n",
    "\n",
    "\n",
    "def build_polymer(\n",
    "    repeat_units: str,\n",
    "    head_smiles: str,\n",
    "    tail_smiles: str,\n",
    "    n_repreat_unit: int,\n",
    "    tacticity: Literal[\"atactic\", \"isotactic\", \"syndiotactic\"] = \"atactic\",\n",
    ") -> rdchem.Mol:\n",
    "    head_mol = mol_from_smiles(head_smiles)\n",
    "    tail_mol = mol_from_smiles(tail_smiles)\n",
    "    repeat_units_mol = mol_from_smiles(repeat_units)\n",
    "    polymer = polymerize_rw(repeat_units_mol, n_repreat_unit, tacticity=tacticity)\n",
    "    polymer = terminate_mols(polymer, head_mol, tail_mol)\n",
    "    return polymer"
   ]
  },
  {
   "cell_type": "code",
   "execution_count": null,
   "metadata": {},
   "outputs": [],
   "source": [
    "import deepchem as dc\n",
    "\n",
    "repeat_units = \"*CC*\"\n",
    "begin_smiles = \"C*\"\n",
    "end_smiles = \"C*\"\n",
    "\n",
    "polymer = build_polymer(repeat_units, begin_smiles, end_smiles, 3)\n",
    "mordred_featurizer = dc.feat.MordredDescriptors(ignore_3D=True)\n",
    "morderd_features = mordred_featurizer.featurize(polymer)\n",
    "maccskey_featurizer = dc.feat.MACCSKeysFingerprint()\n",
    "maccskey_features = maccskey_featurizer.featurize(polymer)\n",
    "circular_featurizer = dc.feat.CircularFingerprint(size=2048, radius=4)\n",
    "circular_features = circular_featurizer.featurize(polymer)"
   ]
  },
  {
   "cell_type": "code",
   "execution_count": null,
   "metadata": {},
   "outputs": [],
   "source": [
    "from openff.interchange import Interchange\n",
    "from openff.toolkit import ForceField, Molecule\n",
    "\n",
    "off_mol = Molecule.from_rdkit(polymer)\n",
    "off_mol.generate_conformers()\n",
    "\n",
    "ff = ForceField(\"openff-2.0.0.offxml\")\n",
    "interchange = Interchange.from_smirnoff(topology=[off_mol], force_field=ff)\n",
    "interchange.to_lammps_datafile(\"polymer.data\")\n",
    "\n",
    "lmp_input = \"\"\"\n",
    "units real\n",
    "atom_style full\n",
    "\n",
    "dimension 3\n",
    "boundary p p p\n",
    "\n",
    "bond_style hybrid harmonic\n",
    "angle_style hybrid harmonic\n",
    "dihedral_style hybrid fourier\n",
    "improper_style cvff\n",
    "special_bonds lj 0.0 0.0 0.5 coul 0.0 0.0 0.8333333333 \n",
    "pair_style lj/cut/coul/cut 12.0 12.0\n",
    "pair_modify mix arithmetic tail yes\n",
    "\n",
    "read_data polymer.data\n",
    "\n",
    "compute DIPOLE all dipole\n",
    "thermo_style custom step time ebond eangle edihed eimp epair evdwl ecoul elong etail pe c_DIPOLE[0] c_DIPOLE[1] c_DIPOLE[2]\n",
    "timestep 1.0\n",
    "fix NVT all nvt temp 300.0 300.0 100.0\n",
    "thermo 1000\n",
    "run 1000000\n",
    "\n",
    "\"\"\"\n",
    "\n",
    "with open(\"dipole.in\", \"w\") as fi:\n",
    "    fi.write(lmp_input)\n",
    "\n",
    "!lmp_mpi -i dipole.in -log dipole.log"
   ]
  },
  {
   "cell_type": "code",
   "execution_count": null,
   "metadata": {},
   "outputs": [],
   "source": [
    "import psi4\n",
    "from rdkit.Chem import AllChem\n",
    "import numpy as np\n",
    "\n",
    "repeat_units = \"*CC*\"\n",
    "begin_smiles = \"C*\"\n",
    "end_smiles = \"C*\"\n",
    "\n",
    "polymer = build_polymer(repeat_units, begin_smiles, end_smiles, 3)\n",
    "AllChem.UFFOptimizeMolecule(polymer)\n",
    "elements = [atom.GetSymbol() for atom in polymer.GetAtoms()]\n",
    "positions = polymer.GetConformer(0).GetPositions()\n",
    "psi4_geom_input = []\n",
    "for elem, pos in zip(elements, positions):\n",
    "    psi4_geom_input.append(f\"{elem} {pos[0]} {pos[1]} {pos[2]}\")\n",
    "psi4_geom_input_join = \"\\n\".join(psi4_geom_input)\n",
    "molecule = psi4.geometry(psi4_geom_input_join)\n",
    "opt_energy, opt_wfn, history = psi4.optimize(\n",
    "    \"b3lyp/6-31g\", return_wfn=True, return_history=True\n",
    ")\n",
    "psi4.oeprop(opt_wfn, \"DIPOLE\")\n",
    "dipole = psi4.variable(\"SCF DIPOLE\")\n",
    "\n",
    "psi4.oeprop(opt_wfn, \"DIPOLE\")\n",
    "dipole = psi4.variable(\"SCF DIPOLE\")\n",
    "dipole_magnitude = np.sqrt(np.sum(dipole**2))"
   ]
  },
  {
   "cell_type": "code",
   "execution_count": null,
   "metadata": {},
   "outputs": [],
   "source": [
    "\n"
   ]
  },
  {
   "cell_type": "code",
   "execution_count": null,
   "metadata": {},
   "outputs": [],
   "source": []
  }
 ],
 "metadata": {
  "kernelspec": {
   "display_name": "radonpy",
   "language": "python",
   "name": "python3"
  },
  "language_info": {
   "codemirror_mode": {
    "name": "ipython",
    "version": 3
   },
   "file_extension": ".py",
   "mimetype": "text/x-python",
   "name": "python",
   "nbconvert_exporter": "python",
   "pygments_lexer": "ipython3",
   "version": "3.11.10"
  }
 },
 "nbformat": 4,
 "nbformat_minor": 2
}
