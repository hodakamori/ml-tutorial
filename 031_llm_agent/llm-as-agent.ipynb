{
 "cells": [
  {
   "cell_type": "code",
   "execution_count": 37,
   "metadata": {},
   "outputs": [],
   "source": [
    "import ast\n",
    "import os\n",
    "import re\n",
    "import sys\n",
    "from io import StringIO\n",
    "\n",
    "from langchain.callbacks import get_openai_callback\n",
    "from langchain.chains import LLMChain\n",
    "from langchain.prompts import PromptTemplate\n",
    "from langchain_anthropic import ChatAnthropic"
   ]
  },
  {
   "cell_type": "code",
   "execution_count": 38,
   "metadata": {},
   "outputs": [],
   "source": [
    "assert os.environ[\"ANTHROPIC_API_KEY\"]"
   ]
  },
  {
   "cell_type": "code",
   "execution_count": 53,
   "metadata": {},
   "outputs": [],
   "source": [
    "def setup_llm_chain():\n",
    "    llm = ChatAnthropic(model=\"claude-3-5-sonnet-20240620\")\n",
    "    prompt_template = PromptTemplate(\n",
    "        input_variables=[\"task\"],\n",
    "        template=\"あなたはPythonコードジェネレーターです。次のタスクに対するPythonコードのみを生成してください。説明は不要です：{task}\",\n",
    "    )\n",
    "    return LLMChain(llm=llm, prompt=prompt_template)"
   ]
  },
  {
   "cell_type": "code",
   "execution_count": 54,
   "metadata": {},
   "outputs": [],
   "source": [
    "def clean_code(code):\n",
    "    code = re.sub(r\"^```[\\w\\s]*\\n|```$\", \"\", code, flags=re.MULTILINE)\n",
    "    code = code.replace(\"python\\n\", \"\", 1)\n",
    "    code = code.strip()\n",
    "    return code"
   ]
  },
  {
   "cell_type": "code",
   "execution_count": 55,
   "metadata": {},
   "outputs": [],
   "source": [
    "def generate_code(chain, task):\n",
    "    return chain.run(task)"
   ]
  },
  {
   "cell_type": "code",
   "execution_count": 56,
   "metadata": {},
   "outputs": [],
   "source": [
    "def is_valid_and_safe_code(code):\n",
    "    try:\n",
    "        tree = ast.parse(code)\n",
    "        for node in ast.walk(tree):\n",
    "            if isinstance(node, ast.Call):\n",
    "                func = node.func\n",
    "                if isinstance(func, ast.Attribute) and func.attr in [\n",
    "                    \"open\",\n",
    "                    \"exec\",\n",
    "                    \"eval\",\n",
    "                ]:\n",
    "                    return False \n",
    "    except SyntaxError:\n",
    "        print(\"Syntax Error\")\n",
    "        return False\n",
    "    return True"
   ]
  },
  {
   "cell_type": "code",
   "execution_count": 57,
   "metadata": {},
   "outputs": [],
   "source": [
    "def execute_code(code):\n",
    "    if not is_valid_and_safe_code(code):\n",
    "        return \"Error: 生成されたコードは安全でないと判断されました。\"\n",
    "\n",
    "    old_stdout = sys.stdout\n",
    "    redirected_output = sys.stdout = StringIO()\n",
    "\n",
    "    try:\n",
    "        exec(code)\n",
    "        sys.stdout = old_stdout\n",
    "        return redirected_output.getvalue()\n",
    "    except Exception as e:\n",
    "        sys.stdout = old_stdout\n",
    "        return f\"Error: {str(e)}\""
   ]
  },
  {
   "cell_type": "code",
   "execution_count": 58,
   "metadata": {},
   "outputs": [],
   "source": [
    "def run_code_by_prompt(prompt):\n",
    "    chain = setup_llm_chain()\n",
    "\n",
    "    task = f\"\\n {prompt}: \"\n",
    "\n",
    "    print(\"\\n生成中...\")\n",
    "    with get_openai_callback() as cb:\n",
    "        generated_code = generate_code(chain, task)\n",
    "        print(f\"\\nトークン使用量: {cb.total_tokens} （プロンプト: {cb.prompt_tokens}, 生成: {cb.completion_tokens}）\")\n",
    "        print(f\"コスト: ${cb.total_cost:.5f}\")\n",
    "\n",
    "    cleaned_code = clean_code(generated_code)\n",
    "            \n",
    "    print(\"\\n生成されたコード（クリーンアップ後）:\")\n",
    "    print(cleaned_code)\n",
    "\n",
    "    print(\"\\n実行結果:\")\n",
    "    result = execute_code(cleaned_code)\n",
    "    print(result)"
   ]
  },
  {
   "cell_type": "code",
   "execution_count": 59,
   "metadata": {},
   "outputs": [
    {
     "name": "stdout",
     "output_type": "stream",
     "text": [
      "\n",
      "生成中...\n"
     ]
    },
    {
     "data": {
      "image/png": "[encoded data removed]",
      "text/plain": [
       "<Figure size 640x480 with 1 Axes>"
      ]
     },
     "metadata": {},
     "output_type": "display_data"
    },
    {
     "name": "stdout",
     "output_type": "stream",
     "text": [
      "\n",
      "トークン使用量: 195 （プロンプト: 69, 生成: 126）\n",
      "コスト: $0.00000\n",
      "\n",
      "生成されたコード（クリーンアップ後）:\n",
      "import matplotlib.pyplot as plt\n",
      "import numpy as np\n",
      "\n",
      "# ランダムなデータを生成\n",
      "x = np.random.rand(50)\n",
      "y = np.random.rand(50)\n",
      "\n",
      "# 散布図を作成\n",
      "plt.scatter(x, y)\n",
      "\n",
      "# グラフのタイトルと軸ラベルを設定\n",
      "plt.title('Scatter Plot')\n",
      "plt.xlabel('X-axis')\n",
      "plt.ylabel('Y-axis')\n",
      "\n",
      "# グラフを表示\n",
      "plt.show()\n",
      "\n",
      "実行結果:\n",
      "\n"
     ]
    }
   ],
   "source": [
    "run_code_by_prompt(\n",
    "    \"散布図を書くコードを実行して。\"\n",
    ")"
   ]
  },
  {
   "cell_type": "code",
   "execution_count": null,
   "metadata": {},
   "outputs": [],
   "source": []
  }
 ],
 "metadata": {
  "kernelspec": {
   "display_name": "tmap",
   "language": "python",
   "name": "python3"
  },
  "language_info": {
   "codemirror_mode": {
    "name": "ipython",
    "version": 3
   },
   "file_extension": ".py",
   "mimetype": "text/x-python",
   "name": "python",
   "nbconvert_exporter": "python",
   "pygments_lexer": "ipython3",
   "version": "3.9.18"
  }
 },
 "nbformat": 4,
 "nbformat_minor": 2
}
