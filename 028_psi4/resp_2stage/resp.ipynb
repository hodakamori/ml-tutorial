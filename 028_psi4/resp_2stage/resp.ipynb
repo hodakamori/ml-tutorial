{
 "cells": [
  {
   "cell_type": "code",
   "execution_count": 2,
   "metadata": {},
   "outputs": [],
   "source": [
    "import psi4\n",
    "import numpy as np\n",
    "import resp"
   ]
  },
  {
   "cell_type": "code",
   "execution_count": 3,
   "metadata": {},
   "outputs": [],
   "source": [
    "psi4.core.set_output_file('output.dat', False)\n",
    "psi4.set_memory('2 GB')\n",
    "psi4.set_num_threads(2)\n"
   ]
  },
  {
   "cell_type": "code",
   "execution_count": 23,
   "metadata": {},
   "outputs": [],
   "source": [
    "molecule = psi4.geometry(\"\"\"\n",
    " C   1.45051389  -0.06628932   0.00000000\n",
    " H   1.75521613  -0.62865986  -0.87500146\n",
    " H   1.75521613  -0.62865986   0.87500146\n",
    " H   1.92173244   0.90485897   0.00000000\n",
    " C  -0.04233122   0.09849378   0.00000000\n",
    " O  -0.67064817  -1.07620915   0.00000000\n",
    " H  -1.60837259  -0.91016601   0.00000000\n",
    " O  -0.62675864   1.13160510   0.00000000\n",
    "\"\"\")\n"
   ]
  },
  {
   "cell_type": "code",
   "execution_count": 24,
   "metadata": {},
   "outputs": [
    {
     "name": "stdout",
     "output_type": "stream",
     "text": [
      "Optimizer: Optimization complete!\n"
     ]
    }
   ],
   "source": [
    "# 計算方法と基底関数の設定\n",
    "psi4.set_options({\n",
    "    'basis': '6-31g*',\n",
    "    'scf_type': 'df',\n",
    "    'e_convergence': 1e-8,\n",
    "    'd_convergence': 1e-8\n",
    "})\n",
    "\n",
    "# SCF計算の実行\n",
    "opt_energy, opt_wfn, history = psi4.optimize('scf', return_wfn=True, return_history=True)\n"
   ]
  },
  {
   "cell_type": "code",
   "execution_count": 25,
   "metadata": {},
   "outputs": [
    {
     "name": "stdout",
     "output_type": "stream",
     "text": [
      "Electrostatic Potential Charges\n",
      "[-0.47447237  0.15052981  0.15052981  0.13074298  0.88860939 -0.67612035\n",
      "  0.45167334 -0.62149261]\n",
      "Restrained Electrostatic Potential Charges\n",
      "[-0.29503690  0.10712959  0.10712959  0.08482782  0.80432770 -0.66146609\n",
      "  0.45334511 -0.60025682]\n"
     ]
    }
   ],
   "source": [
    "mol = opt_wfn.molecule()\n",
    "options = {'VDW_SCALE_FACTORS'  : [1.4, 1.6, 1.8, 2.0],\n",
    "           'VDW_POINT_DENSITY'  : 1.0,\n",
    "           'RESP_A'             : 0.0005,\n",
    "           'RESP_B'             : 0.1,\n",
    "           }\n",
    "\n",
    "# Call for first stage fit\n",
    "charges1 = resp.resp([mol], options)\n",
    "print('Electrostatic Potential Charges')\n",
    "print(charges1[0])\n",
    "print('Restrained Electrostatic Potential Charges')\n",
    "print(charges1[1])"
   ]
  },
  {
   "cell_type": "code",
   "execution_count": 26,
   "metadata": {},
   "outputs": [],
   "source": [
    "# Change the value of the RESP parameter A\n",
    "options['RESP_A'] = 0.001\n",
    "\n",
    "# Add constraint for atoms fixed in second stage fit\n",
    "constraint_charge = []\n",
    "for i in range(4, 8):\n",
    "    constraint_charge.append([charges1[1][i], [i+1]])\n",
    "options['constraint_charge'] = constraint_charge\n",
    "options['constraint_group'] = [[2, 3, 4]]\n",
    "options['grid'] = ['grid.dat']\n",
    "options['esp'] = ['grid_esp.dat']\n",
    "\n",
    "# Call for second stage fit\n",
    "charges2 = resp.resp([mol], options)"
   ]
  },
  {
   "cell_type": "code",
   "execution_count": 27,
   "metadata": {},
   "outputs": [
    {
     "name": "stdout",
     "output_type": "stream",
     "text": [
      "\n",
      "Stage Two:\n",
      "\n",
      "RESP Charges\n",
      "[-0.29095164  0.09833391  0.09833391  0.09833391  0.80432770 -0.66146609\n",
      "  0.45334511 -0.60025682]\n"
     ]
    }
   ],
   "source": [
    "# Get RESP charges\n",
    "print(\"\\nStage Two:\\n\")\n",
    "print('RESP Charges')\n",
    "print(charges2[1])"
   ]
  },
  {
   "cell_type": "code",
   "execution_count": 28,
   "metadata": {},
   "outputs": [
    {
     "name": "stdout",
     "output_type": "stream",
     "text": [
      "RESP電荷:\n",
      "C1: -0.307203\n",
      "H2: 0.103751\n",
      "H3: 0.103751\n",
      "H4: 0.103751\n",
      "C5: 0.804328\n",
      "O6: -0.661466\n",
      "H7: 0.453345\n",
      "O8: -0.600257\n",
      "\n",
      "電荷の合計: 0.000000\n"
     ]
    }
   ],
   "source": [
    "print(\"RESP電荷:\")\n",
    "for i, charge in enumerate(charges2[0]):\n",
    "    symbol = molecule.symbol(i)\n",
    "    print(f\"{symbol}{i+1}: {charge:.6f}\")\n",
    "\n",
    "total_charge = sum(charges2[0])\n",
    "print(f\"\\n電荷の合計: {total_charge:.6f}\")"
   ]
  }
 ],
 "metadata": {
  "kernelspec": {
   "display_name": "ml",
   "language": "python",
   "name": "python3"
  },
  "language_info": {
   "codemirror_mode": {
    "name": "ipython",
    "version": 3
   },
   "file_extension": ".py",
   "mimetype": "text/x-python",
   "name": "python",
   "nbconvert_exporter": "python",
   "pygments_lexer": "ipython3",
   "version": "3.10.14"
  }
 },
 "nbformat": 4,
 "nbformat_minor": 2
}
