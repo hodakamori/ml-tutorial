{
 "cells": [
  {
   "cell_type": "code",
   "execution_count": 1,
   "metadata": {},
   "outputs": [],
   "source": [
    "import ast\n",
    "import os\n",
    "import re\n",
    "import sys\n",
    "from io import StringIO\n",
    "\n",
    "from langchain.callbacks import get_openai_callback\n",
    "from langchain.chains import LLMChain\n",
    "from langchain.chat_models import ChatOpenAI\n",
    "from langchain.prompts import PromptTemplate"
   ]
  },
  {
   "cell_type": "code",
   "execution_count": 2,
   "metadata": {},
   "outputs": [],
   "source": [
    "assert os.environ[\"OPENAI_API_KEY\"]"
   ]
  },
  {
   "cell_type": "code",
   "execution_count": 3,
   "metadata": {},
   "outputs": [],
   "source": [
    "def setup_llm_chain():\n",
    "    llm = ChatOpenAI(temperature=0.3, model_name=\"gpt-4o\")\n",
    "    prompt_template = PromptTemplate(\n",
    "        input_variables=[\"task\"],\n",
    "        template=\"あなたはPythonコードジェネレーターです。次のタスクに対するPythonコードのみを生成してください。説明は不要です：{task}\",\n",
    "    )\n",
    "    return LLMChain(llm=llm, prompt=prompt_template)"
   ]
  },
  {
   "cell_type": "code",
   "execution_count": 4,
   "metadata": {},
   "outputs": [],
   "source": [
    "def clean_code(code):\n",
    "    code = re.sub(r\"^```[\\w\\s]*\\n|```$\", \"\", code, flags=re.MULTILINE)\n",
    "    code = code.replace(\"python\\n\", \"\", 1)\n",
    "    code = code.strip()\n",
    "    return code"
   ]
  },
  {
   "cell_type": "code",
   "execution_count": 5,
   "metadata": {},
   "outputs": [],
   "source": [
    "def generate_code(chain, task):\n",
    "    return chain.run(task)"
   ]
  },
  {
   "cell_type": "code",
   "execution_count": 6,
   "metadata": {},
   "outputs": [],
   "source": [
    "def is_valid_and_safe_code(code):\n",
    "    try:\n",
    "        tree = ast.parse(code)\n",
    "        for node in ast.walk(tree):\n",
    "            if isinstance(node, ast.Call):\n",
    "                func = node.func\n",
    "                if isinstance(func, ast.Attribute) and func.attr in [\n",
    "                    \"open\",\n",
    "                    \"exec\",\n",
    "                    \"eval\",\n",
    "                ]:\n",
    "                    return False\n",
    "    except SyntaxError:\n",
    "        print(\"Syntax Error\")\n",
    "        return False\n",
    "    return True"
   ]
  },
  {
   "cell_type": "code",
   "execution_count": 7,
   "metadata": {},
   "outputs": [],
   "source": [
    "def execute_code(code):\n",
    "    if not is_valid_and_safe_code(code):\n",
    "        return \"Error: 生成されたコードは安全でないと判断されました。\"\n",
    "\n",
    "    old_stdout = sys.stdout\n",
    "    redirected_output = sys.stdout = StringIO()\n",
    "\n",
    "    try:\n",
    "        exec(code)\n",
    "        sys.stdout = old_stdout\n",
    "        return redirected_output.getvalue()\n",
    "    except Exception as e:\n",
    "        sys.stdout = old_stdout\n",
    "        return f\"Error: {str(e)}\""
   ]
  },
  {
   "cell_type": "code",
   "execution_count": 8,
   "metadata": {},
   "outputs": [],
   "source": [
    "def run_code_by_prompt(prompt):\n",
    "    chain = setup_llm_chain()\n",
    "\n",
    "    task = f\"\\n {prompt}: \"\n",
    "\n",
    "    print(\"\\n生成中...\")\n",
    "    with get_openai_callback() as cb:\n",
    "        generated_code = generate_code(chain, task)\n",
    "        print(\n",
    "            f\"\\nトークン使用量: {cb.total_tokens} （プロンプト: {cb.prompt_tokens}, 生成: {cb.completion_tokens}）\"\n",
    "        )\n",
    "        print(f\"コスト: ${cb.total_cost:.5f}\")\n",
    "\n",
    "    cleaned_code = clean_code(generated_code)\n",
    "\n",
    "    print(\"\\n生成されたコード（クリーンアップ後）:\")\n",
    "    print(cleaned_code)\n",
    "\n",
    "    print(\"\\n実行結果:\")\n",
    "    result = execute_code(cleaned_code)\n",
    "    print(result)"
   ]
  },
  {
   "cell_type": "code",
   "execution_count": null,
   "metadata": {},
   "outputs": [
    {
     "name": "stderr",
     "output_type": "stream",
     "text": [
      "/tmp/ipykernel_875/4140655126.py:2: LangChainDeprecationWarning: The class `ChatOpenAI` was deprecated in LangChain 0.0.10 and will be removed in 1.0. An updated version of the class exists in the :class:`~langchain-openai package and should be used instead. To use it run `pip install -U :class:`~langchain-openai` and import as `from :class:`~langchain_openai import ChatOpenAI``.\n",
      "  llm = ChatOpenAI(temperature=0.3, model_name=\"gpt-4o\")\n",
      "/tmp/ipykernel_875/4140655126.py:7: LangChainDeprecationWarning: The class `LLMChain` was deprecated in LangChain 0.1.17 and will be removed in 1.0. Use :meth:`~RunnableSequence, e.g., `prompt | llm`` instead.\n",
      "  return LLMChain(llm=llm, prompt=prompt_template)\n",
      "/tmp/ipykernel_875/3291214923.py:2: LangChainDeprecationWarning: The method `Chain.run` was deprecated in langchain 0.1.0 and will be removed in 1.0. Use :meth:`~invoke` instead.\n",
      "  return chain.run(task)\n"
     ]
    },
    {
     "name": "stdout",
     "output_type": "stream",
     "text": [
      "\n",
      "生成中...\n",
      "\n",
      "トークン使用量: 144 （プロンプト: 49, 生成: 95）\n",
      "コスト: $0.00107\n",
      "\n",
      "生成されたコード（クリーンアップ後）:\n",
      "import matplotlib.pyplot as plt\n",
      "import numpy as np\n",
      "\n",
      "# サンプルデータを生成\n",
      "x = np.random.rand(100)\n",
      "y = np.random.rand(100)\n",
      "\n",
      "# 散布図を作成\n",
      "plt.scatter(x, y)\n",
      "\n",
      "# グラフのタイトルとラベルを設定\n",
      "plt.title('Scatter Plot')\n",
      "plt.xlabel('X-axis')\n",
      "plt.ylabel('Y-axis')\n",
      "\n",
      "# グラフを表示\n",
      "plt.show()\n",
      "\n",
      "実行結果:\n"
     ]
    },
    {
     "data": {
      "image/png": "[encoded data removed]",
      "text/plain": [
       "<Figure size 640x480 with 1 Axes>"
      ]
     },
     "metadata": {},
     "output_type": "display_data"
    },
    {
     "name": "stdout",
     "output_type": "stream",
     "text": [
      "\n"
     ]
    }
   ],
   "source": [
    "run_code_by_prompt(\"散布図を書くコードを実行して。\")"
   ]
  },
  {
   "cell_type": "code",
   "execution_count": null,
   "metadata": {},
   "outputs": [],
   "source": []
  }
 ],
 "metadata": {
  "kernelspec": {
   "display_name": "flowapp",
   "language": "python",
   "name": "python3"
  },
  "language_info": {
   "codemirror_mode": {
    "name": "ipython",
    "version": 3
   },
   "file_extension": ".py",
   "mimetype": "text/x-python",
   "name": "python",
   "nbconvert_exporter": "python",
   "pygments_lexer": "ipython3",
   "version": "3.10.15"
  }
 },
 "nbformat": 4,
 "nbformat_minor": 2
}
