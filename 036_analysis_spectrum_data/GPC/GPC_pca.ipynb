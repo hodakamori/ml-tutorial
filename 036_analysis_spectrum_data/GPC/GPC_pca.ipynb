{
 "cells": [
  {
   "cell_type": "code",
   "execution_count": null,
   "metadata": {},
   "outputs": [],
   "source": [
    "import glob\n",
    "\n",
    "import matplotlib.pyplot as plt\n",
    "import numpy as np\n",
    "import pandas as pd\n",
    "from natsort import natsorted"
   ]
  },
  {
   "cell_type": "code",
   "execution_count": null,
   "metadata": {},
   "outputs": [],
   "source": [
    "spectra = glob.glob(\"*.csv\")\n",
    "spectra"
   ]
  },
  {
   "cell_type": "code",
   "execution_count": null,
   "metadata": {},
   "outputs": [],
   "source": [
    "natsorted(spectra)"
   ]
  },
  {
   "cell_type": "code",
   "execution_count": null,
   "metadata": {},
   "outputs": [],
   "source": [
    "fig, ax = plt.subplots()\n",
    "for spectrum in natsorted(spectra):\n",
    "    data = pd.read_csv(spectrum, header=0)\n",
    "    data.columns = [\"logM\", \"Intensity\"]\n",
    "    ax.plot(data[\"logM\"], data[\"Intensity\"], label=spectrum)\n",
    "ax.legend()\n",
    "ax.set_xlabel(\"logM\")\n",
    "ax.set_ylabel(\"Intensity\")"
   ]
  },
  {
   "cell_type": "code",
   "execution_count": null,
   "metadata": {},
   "outputs": [],
   "source": [
    "x_max = 0\n",
    "x_min = 10\n",
    "for spectrum in natsorted(spectra):\n",
    "    data = pd.read_csv(spectrum, header=0)\n",
    "    data.columns = [\"logM\", \"Intensity\"]\n",
    "    if x_max < data[\"logM\"].max():\n",
    "        x_max = data[\"logM\"].max()\n",
    "    if x_min > data[\"logM\"].min():\n",
    "        x_min = data[\"logM\"].min()\n"
   ]
  },
  {
   "cell_type": "code",
   "execution_count": null,
   "metadata": {},
   "outputs": [],
   "source": [
    "x_min, x_max"
   ]
  },
  {
   "cell_type": "code",
   "execution_count": null,
   "metadata": {},
   "outputs": [],
   "source": [
    "x_resample = np.linspace(x_min - 1, x_max + 1, 1000)\n",
    "resampled_spectra = []\n",
    "for spectrum in natsorted(spectra):\n",
    "    data = pd.read_csv(spectrum, header=0)\n",
    "    data.columns = [\"logM\", \"Intensity\"]\n",
    "    y_resample = np.interp(x_resample, data[\"logM\"], data[\"Intensity\"])\n",
    "    resampled_spectra.append(y_resample)\n",
    "\n",
    "resampled_spectra = pd.DataFrame(\n",
    "    resampled_spectra, columns=[str(i) for i in range(len(x_resample))]\n",
    ")\n",
    "resampled_spectra[\"label\"] = natsorted(spectra)"
   ]
  },
  {
   "cell_type": "code",
   "execution_count": null,
   "metadata": {},
   "outputs": [],
   "source": [
    "resampled_spectra"
   ]
  },
  {
   "cell_type": "code",
   "execution_count": null,
   "metadata": {},
   "outputs": [],
   "source": [
    "from sklearn.decomposition import PCA\n",
    "from sklearn.preprocessing import StandardScaler\n",
    "\n",
    "spectra_data = resampled_spectra.loc[:, resampled_spectra.columns != \"label\"]\n",
    "sc = StandardScaler()\n",
    "spectra_data_scaled = sc.fit_transform(spectra_data)\n",
    "\n",
    "pca = PCA(n_components=5)\n",
    "pca_components = pca.fit_transform(spectra_data_scaled)"
   ]
  },
  {
   "cell_type": "code",
   "execution_count": null,
   "metadata": {},
   "outputs": [],
   "source": [
    "pca_components"
   ]
  },
  {
   "cell_type": "code",
   "execution_count": null,
   "metadata": {},
   "outputs": [],
   "source": [
    "fig, ax = plt.subplots()\n",
    "for i, spectrum in enumerate(natsorted(spectra)):\n",
    "    ax.scatter(pca_components[i, 0], pca_components[i, 1], label=spectrum)\n",
    "    ax.text(pca_components[i, 0], pca_components[i, 1], spectrum[:4])\n"
   ]
  },
  {
   "cell_type": "code",
   "execution_count": null,
   "metadata": {},
   "outputs": [],
   "source": [
    "explained_variance_ratio = pca.explained_variance_ratio_\n",
    "cumulative_variance_ratio = np.cumsum(explained_variance_ratio)"
   ]
  },
  {
   "cell_type": "code",
   "execution_count": null,
   "metadata": {},
   "outputs": [],
   "source": [
    "fig, (ax1, ax2) = plt.subplots(1, 2, figsize=(6, 3))\n",
    "\n",
    "x_pos = np.arange(1, len(explained_variance_ratio) + 1)\n",
    "ax1.bar(x_pos, explained_variance_ratio * 100)\n",
    "ax1.set_xlabel(\"Num. PC\")\n",
    "ax1.set_ylabel(\"Variance ratio (%)\")\n",
    "ax1.grid(True, alpha=0.3)\n",
    "ax1.set_xticks(x_pos)\n",
    "\n",
    "ax2.plot(x_pos, cumulative_variance_ratio * 100, marker=\"o\", color=\"blue\")\n",
    "ax2.set_xlabel(\"Num. PC\")\n",
    "ax2.set_ylabel(\"Cumulative variance ratio (%)\")\n",
    "ax2.grid(True, alpha=0.3)\n",
    "ax2.set_xticks(x_pos)\n",
    "\n",
    "fig.tight_layout()"
   ]
  },
  {
   "cell_type": "code",
   "execution_count": null,
   "metadata": {},
   "outputs": [],
   "source": []
  }
 ],
 "metadata": {
  "kernelspec": {
   "display_name": "openmm",
   "language": "python",
   "name": "python3"
  },
  "language_info": {
   "codemirror_mode": {
    "name": "ipython",
    "version": 3
   },
   "file_extension": ".py",
   "mimetype": "text/x-python",
   "name": "python",
   "nbconvert_exporter": "python",
   "pygments_lexer": "ipython3",
   "version": "3.12.7"
  }
 },
 "nbformat": 4,
 "nbformat_minor": 2
}
