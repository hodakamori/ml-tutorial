{
 "cells": [
  {
   "cell_type": "code",
   "execution_count": 18,
   "metadata": {},
   "outputs": [],
   "source": [
    "import torch\n",
    "import torch.nn as nn\n",
    "import torch.nn.functional as F\n",
    "from torch_geometric.data import Data, Dataset\n",
    "from torch.utils.data import DataLoader\n",
    "import deepchem as dc\n",
    "\n",
    "from rdkit import Chem\n",
    "from rdkit.Chem import AllChem\n",
    "from torch_geometric.data import Batch\n",
    "from torch_geometric.nn import GCNConv, global_mean_pool\n",
    "import pandas as pd\n",
    "import torch\n",
    "import torch.nn as nn\n",
    "from torch_geometric.loader import DataLoader \n",
    "from sklearn.model_selection import train_test_split"
   ]
  },
  {
   "cell_type": "code",
   "execution_count": 4,
   "metadata": {},
   "outputs": [],
   "source": [
    "class GNNEncoder(nn.Module):\n",
    "    def __init__(\n",
    "        self, num_node_features=20, num_edge_features=11, hidden_dim=64, out_dim=64\n",
    "    ):\n",
    "        super().__init__()\n",
    "        self.conv1 = GCNConv(num_node_features, hidden_dim)\n",
    "        self.conv2 = GCNConv(hidden_dim, hidden_dim)\n",
    "        self.proj_head = nn.Linear(hidden_dim, out_dim)\n",
    "\n",
    "    def forward(self, x, edge_index, edge_attr, batch_index):\n",
    "        h = self.conv1(x, edge_index)\n",
    "        h = F.relu(h)\n",
    "        h = self.conv2(h, edge_index)\n",
    "        h = F.relu(h)\n",
    "        h_pool = global_mean_pool(h, batch_index)\n",
    "        z = self.proj_head(h_pool)\n",
    "        return z"
   ]
  },
  {
   "cell_type": "code",
   "execution_count": 5,
   "metadata": {},
   "outputs": [],
   "source": [
    "class FineTuneModel(nn.Module):\n",
    "    def __init__(self, pretrained_gnn, embed_dim=64, freeze_gnn=False):\n",
    "        super().__init__()\n",
    "        self.gnn = pretrained_gnn  \n",
    "\n",
    "        if freeze_gnn:\n",
    "            for param in self.gnn.parameters():\n",
    "                param.requires_grad = False\n",
    "\n",
    "        self.reg_head = nn.Sequential(\n",
    "            nn.Linear(embed_dim, embed_dim),\n",
    "            nn.ReLU(),\n",
    "            nn.Linear(embed_dim, 1)\n",
    "        )\n",
    "\n",
    "    def forward(self, x, edge_index, edge_attr, batch_index):\n",
    "        z = self.gnn(x, edge_index, edge_attr, batch_index)\n",
    "        out = self.reg_head(z)\n",
    "        return out.squeeze(-1)"
   ]
  },
  {
   "cell_type": "code",
   "execution_count": 7,
   "metadata": {},
   "outputs": [
    {
     "name": "stderr",
     "output_type": "stream",
     "text": [
      "/tmp/ipykernel_17898/1169483440.py:2: FutureWarning: You are using `torch.load` with `weights_only=False` (the current default value), which uses the default pickle module implicitly. It is possible to construct malicious pickle data which will execute arbitrary code during unpickling (See https://github.com/pytorch/pytorch/blob/main/SECURITY.md#untrusted-models for more details). In a future release, the default value for `weights_only` will be flipped to `True`. This limits the functions that could be executed during unpickling. Arbitrary objects will no longer be allowed to be loaded via this mode unless they are explicitly allowlisted by the user via `torch.serialization.add_safe_globals`. We recommend you start setting `weights_only=True` for any use case where you don't have full control of the loaded file. Please open an issue on GitHub for any issues related to this experimental feature.\n",
      "  pretrained_encoder.load_state_dict(torch.load(\"pretrained_gnn.pt\"))\n"
     ]
    }
   ],
   "source": [
    "pretrained_encoder = GNNEncoder(num_node_features=30, num_edge_features=11)\n",
    "pretrained_encoder.load_state_dict(torch.load(\"pretrained_gnn.pt\"))\n",
    "\n",
    "fine_tune_model = FineTuneModel(pretrained_encoder, embed_dim=64, freeze_gnn=True)"
   ]
  },
  {
   "cell_type": "code",
   "execution_count": 8,
   "metadata": {},
   "outputs": [],
   "source": [
    "class MolGraphWithLogSDataset(Dataset):\n",
    "    def __init__(self, smiles_list, logS_list, transform=None):\n",
    "        super().__init__()\n",
    "        self.smiles_list = smiles_list\n",
    "        self.logS_list = logS_list\n",
    "        self.featurizer = dc.feat.MolGraphConvFeaturizer(use_edges=True)\n",
    "        self.transform = transform\n",
    "\n",
    "        assert len(self.smiles_list) == len(self.logS_list), \\\n",
    "            \"SMILESのリストとlogSのリストの長さが合っていません。\"\n",
    "\n",
    "    def __len__(self):\n",
    "        return len(self.smiles_list)\n",
    "\n",
    "    def __getitem__(self, idx):\n",
    "        smi = self.smiles_list[idx]\n",
    "        mol = Chem.MolFromSmiles(smi)\n",
    "        mol = AllChem.AddHs(mol)\n",
    "\n",
    "        dgraph = self.featurizer.featurize([mol])[0]\n",
    "        pyg_data = self._dc_to_pyg(dgraph)\n",
    "\n",
    "        logS_value = self.logS_list[idx]\n",
    "        pyg_data.y = torch.tensor([logS_value], dtype=torch.float)\n",
    "\n",
    "        if self.transform is not None:\n",
    "            pyg_data = self.transform(pyg_data)\n",
    "\n",
    "        return pyg_data\n",
    "\n",
    "    def _dc_to_pyg(self, dgraph):\n",
    "        node_feats = torch.tensor(dgraph.node_features, dtype=torch.float)\n",
    "        edge_index = torch.tensor(dgraph.edge_index, dtype=torch.long)\n",
    "        edge_feats = torch.tensor(dgraph.edge_features, dtype=torch.float)\n",
    "\n",
    "        data = Data(x=node_feats, edge_index=edge_index, edge_attr=edge_feats)\n",
    "        return data\n"
   ]
  },
  {
   "cell_type": "code",
   "execution_count": 10,
   "metadata": {},
   "outputs": [],
   "source": [
    "def create_dataloaders(train_dataset, valid_dataset, batch_size=32):\n",
    "\n",
    "    train_loader = DataLoader(train_dataset, batch_size=batch_size, shuffle=True)\n",
    "    valid_loader = DataLoader(valid_dataset, batch_size=batch_size, shuffle=False)\n",
    "    return train_loader, valid_loader"
   ]
  },
  {
   "cell_type": "code",
   "execution_count": 11,
   "metadata": {},
   "outputs": [],
   "source": [
    "def train_regression(model, train_loader, valid_loader, epochs=20, lr=1e-3, device=\"cpu\"):\n",
    "    model.to(device)\n",
    "    criterion = nn.MSELoss()\n",
    "    optimizer = torch.optim.Adam(model.parameters(), lr=lr)\n",
    "\n",
    "    for epoch in range(1, epochs + 1):\n",
    "        ####################\n",
    "        #      train\n",
    "        ####################\n",
    "        model.train()\n",
    "        total_loss = 0.0\n",
    "        for batch_data in train_loader:\n",
    "            # batch_data は PyG の Batch\n",
    "            batch_data = batch_data.to(device)\n",
    "            pred = model(\n",
    "                batch_data.x,\n",
    "                batch_data.edge_index,\n",
    "                batch_data.edge_attr,\n",
    "                batch_data.batch\n",
    "            )\n",
    "            loss = criterion(pred, batch_data.y)\n",
    "            optimizer.zero_grad()\n",
    "            loss.backward()\n",
    "            optimizer.step()\n",
    "\n",
    "            total_loss += loss.item() * batch_data.num_graphs\n",
    "\n",
    "        train_loss = total_loss / len(train_loader.dataset)\n",
    "\n",
    "        ####################\n",
    "        #   validation\n",
    "        ####################\n",
    "        model.eval()\n",
    "        val_loss = 0.0\n",
    "        with torch.no_grad():\n",
    "            for batch_data in valid_loader:\n",
    "                batch_data = batch_data.to(device)\n",
    "                pred = model(\n",
    "                    batch_data.x,\n",
    "                    batch_data.edge_index,\n",
    "                    batch_data.edge_attr,\n",
    "                    batch_data.batch\n",
    "                )\n",
    "                loss = criterion(pred, batch_data.y)\n",
    "                val_loss += loss.item() * batch_data.num_graphs\n",
    "\n",
    "        val_loss /= len(valid_loader.dataset)\n",
    "\n",
    "        print(f\"Epoch [{epoch}/{epochs}] | \"\n",
    "              f\"Train MSE: {train_loss:.4f} | \"\n",
    "              f\"Val MSE: {val_loss:.4f}\")\n",
    "\n",
    "    print(\"Fine-tuning (Regression) completed.\")"
   ]
  },
  {
   "cell_type": "code",
   "execution_count": 20,
   "metadata": {},
   "outputs": [],
   "source": [
    "df = pd.read_csv(\"../data/delaney-rdkitfp.csv\")\n",
    "smiles_list = df[\"smiles\"].tolist()\n",
    "logS_list = df[\"logS\"].tolist()\n",
    "\n",
    "train_smiles, test_smiles, train_logs, test_logs = train_test_split(\n",
    "    smiles_list, logS_list,\n",
    "    test_size=0.2, \n",
    "    random_state=42\n",
    ")\n",
    "\n",
    "train_smiles, val_smiles, train_logs, val_logs = train_test_split(\n",
    "    train_smiles, train_logs,\n",
    "    test_size=0.2,\n",
    "    random_state=42\n",
    ")\n",
    "train_dataset = MolGraphWithLogSDataset(train_smiles, train_logs)\n",
    "val_dataset = MolGraphWithLogSDataset(val_smiles, val_logs)\n",
    "test_dataset = MolGraphWithLogSDataset(test_smiles, test_logs)"
   ]
  },
  {
   "cell_type": "code",
   "execution_count": 21,
   "metadata": {},
   "outputs": [],
   "source": [
    "def create_dataloaders(train_dataset, valid_dataset, batch_size=32):\n",
    "    train_loader = DataLoader(train_dataset, batch_size=batch_size, shuffle=True)\n",
    "    valid_loader = DataLoader(valid_dataset, batch_size=batch_size, shuffle=False)\n",
    "    return train_loader, valid_loader\n",
    "\n",
    "train_loader, val_loader = create_dataloaders(train_dataset, val_dataset, batch_size=32)\n",
    "test_loader = DataLoader(test_dataset, batch_size=32, shuffle=False)"
   ]
  },
  {
   "cell_type": "code",
   "execution_count": 22,
   "metadata": {},
   "outputs": [],
   "source": [
    "train_loader, valid_loader = create_dataloaders(\n",
    "    train_dataset=train_dataset, \n",
    "    valid_dataset=val_dataset, \n",
    "    batch_size=32\n",
    ")"
   ]
  },
  {
   "cell_type": "code",
   "execution_count": 24,
   "metadata": {},
   "outputs": [
    {
     "name": "stdout",
     "output_type": "stream",
     "text": [
      "Epoch [1/20] | Train MSE: 14.0772 | Val MSE: 12.7638\n",
      "Epoch [2/20] | Train MSE: 13.0768 | Val MSE: 11.6949\n",
      "Epoch [3/20] | Train MSE: 11.8497 | Val MSE: 10.3428\n",
      "Epoch [4/20] | Train MSE: 10.3530 | Val MSE: 8.6889\n",
      "Epoch [5/20] | Train MSE: 8.6148 | Val MSE: 7.0001\n",
      "Epoch [6/20] | Train MSE: 6.9397 | Val MSE: 5.5084\n",
      "Epoch [7/20] | Train MSE: 5.5861 | Val MSE: 4.4619\n",
      "Epoch [8/20] | Train MSE: 4.7353 | Val MSE: 3.8862\n",
      "Epoch [9/20] | Train MSE: 4.3025 | Val MSE: 3.6455\n",
      "Epoch [10/20] | Train MSE: 4.1242 | Val MSE: 3.5543\n",
      "Epoch [11/20] | Train MSE: 4.0464 | Val MSE: 3.5052\n",
      "Epoch [12/20] | Train MSE: 4.0048 | Val MSE: 3.4631\n",
      "Epoch [13/20] | Train MSE: 3.9589 | Val MSE: 3.4095\n",
      "Epoch [14/20] | Train MSE: 3.9176 | Val MSE: 3.3725\n",
      "Epoch [15/20] | Train MSE: 3.8844 | Val MSE: 3.3341\n",
      "Epoch [16/20] | Train MSE: 3.8458 | Val MSE: 3.3045\n",
      "Epoch [17/20] | Train MSE: 3.8091 | Val MSE: 3.2663\n",
      "Epoch [18/20] | Train MSE: 3.7701 | Val MSE: 3.2231\n",
      "Epoch [19/20] | Train MSE: 3.7380 | Val MSE: 3.1924\n",
      "Epoch [20/20] | Train MSE: 3.6968 | Val MSE: 3.1498\n",
      "Fine-tuning (Regression) completed.\n"
     ]
    }
   ],
   "source": [
    "train_regression(\n",
    "    fine_tune_model, \n",
    "    train_loader=train_loader, \n",
    "    valid_loader=valid_loader, \n",
    "    epochs=20, \n",
    "    lr=1e-3, \n",
    "    device=\"cpu\"\n",
    ")"
   ]
  },
  {
   "cell_type": "code",
   "execution_count": 43,
   "metadata": {},
   "outputs": [],
   "source": [
    "import matplotlib.pyplot as plt\n",
    "import numpy as np\n",
    "\n",
    "def parity_plot(model, data_loader, ax, device=\"cpu\", title=\"Parity Plot\"):\n",
    "    model.eval()\n",
    "    true_vals = []\n",
    "    pred_vals = []\n",
    "\n",
    "    with torch.no_grad():\n",
    "        for batch_data in data_loader:\n",
    "            batch_data = batch_data.to(device)\n",
    "            pred = model(\n",
    "                batch_data.x,\n",
    "                batch_data.edge_index,\n",
    "                batch_data.edge_attr,\n",
    "                batch_data.batch\n",
    "            ) \n",
    "            \n",
    "            y_cpu = batch_data.y.detach().cpu().numpy().flatten()\n",
    "            pred_cpu = pred.detach().cpu().numpy().flatten()\n",
    "\n",
    "            true_vals.extend(y_cpu)\n",
    "            pred_vals.extend(pred_cpu)\n",
    "\n",
    "    true_vals = np.array(true_vals)\n",
    "    pred_vals = np.array(pred_vals)\n",
    "\n",
    "    ax.scatter(true_vals, pred_vals, alpha=0.5, s=5)\n",
    "    ax.set_title(title)\n",
    "    ax.set_xlabel(\"True\")\n",
    "    ax.set_ylabel(\"Pred\")\n",
    "    ax.grid(True)\n",
    "    ax.label_outer()"
   ]
  },
  {
   "cell_type": "code",
   "execution_count": 48,
   "metadata": {},
   "outputs": [
    {
     "data": {
      "image/png": "[encoded data removed]",
      "text/plain": [
       "<Figure size 800x400 with 2 Axes>"
      ]
     },
     "metadata": {},
     "output_type": "display_data"
    }
   ],
   "source": [
    "fig, ax = plt.subplots(1, 2, figsize=(8,4))\n",
    "loaders = {\n",
    "    \"train\": train_loader,\n",
    "    \"test\": test_loader,\n",
    "}\n",
    "for i, (name, loader) in enumerate(loaders.items()):\n",
    "    parity_plot(\n",
    "        fine_tune_model, \n",
    "        loader, \n",
    "        ax=ax[i], \n",
    "        device=\"cpu\", \n",
    "        title=name\n",
    "    )\n",
    "    ax[i].plot([-10, 3], [-10, 3], color=\"gray\", linestyle=\"--\", linewidth=1)\n",
    "    ax[i].set_xlim(-10, 3)\n",
    "    ax[i].set_ylim(-10, 3)\n",
    "fig.tight_layout()\n"
   ]
  },
  {
   "cell_type": "code",
   "execution_count": null,
   "metadata": {},
   "outputs": [],
   "source": []
  }
 ],
 "metadata": {
  "kernelspec": {
   "display_name": "torch",
   "language": "python",
   "name": "python3"
  },
  "language_info": {
   "codemirror_mode": {
    "name": "ipython",
    "version": 3
   },
   "file_extension": ".py",
   "mimetype": "text/x-python",
   "name": "python",
   "nbconvert_exporter": "python",
   "pygments_lexer": "ipython3",
   "version": "3.10.16"
  }
 },
 "nbformat": 4,
 "nbformat_minor": 2
}
