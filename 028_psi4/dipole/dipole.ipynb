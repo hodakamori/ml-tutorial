{
 "cells": [
  {
   "cell_type": "code",
   "execution_count": 21,
   "metadata": {},
   "outputs": [],
   "source": [
    "import psi4"
   ]
  },
  {
   "cell_type": "code",
   "execution_count": 22,
   "metadata": {},
   "outputs": [
    {
     "name": "stdout",
     "output_type": "stream",
     "text": [
      "Optimizer: Optimization complete!\n"
     ]
    }
   ],
   "source": [
    "psi4.core.set_output_file(\"output.dat\", False)\n",
    "psi4.set_memory(\"500 MB\")\n",
    "\n",
    "molecule = psi4.geometry(\n",
    "    \"\"\"\n",
    "0 1\n",
    "O\n",
    "H 1 0.96\n",
    "H 1 0.96 2 104.5\n",
    "\"\"\"\n",
    ")\n",
    "\n",
    "\n",
    "opt_energy, opt_wfn, history = psi4.optimize(\n",
    "    \"b3lyp/6-31g\", return_wfn=True, return_history=True\n",
    ")"
   ]
  },
  {
   "cell_type": "code",
   "execution_count": 23,
   "metadata": {},
   "outputs": [],
   "source": [
    "import numpy as np\n",
    "\n",
    "psi4.oeprop(opt_wfn, \"DIPOLE\")\n",
    "dipole = psi4.variable(\"SCF DIPOLE\")\n",
    "dipole_magnitude = np.sqrt(np.sum(dipole**2))"
   ]
  },
  {
   "cell_type": "code",
   "execution_count": 24,
   "metadata": {},
   "outputs": [
    {
     "name": "stdout",
     "output_type": "stream",
     "text": [
      "SCF Energy: -76.38611971941341\n",
      "Dipole moment (a.u.): [ 0.00000000  0.00000000  0.94356383]\n",
      "Dipole moment magnitude (a.u.): 0.9435638263690391\n"
     ]
    }
   ],
   "source": [
    "# 結果を出力\n",
    "print(f\"SCF Energy: {opt_energy}\")\n",
    "print(f\"Dipole moment (a.u.): {dipole}\")\n",
    "print(f\"Dipole moment magnitude (a.u.): {dipole_magnitude}\")"
   ]
  },
  {
   "cell_type": "code",
   "execution_count": null,
   "metadata": {},
   "outputs": [],
   "source": []
  }
 ],
 "metadata": {
  "kernelspec": {
   "display_name": "ml",
   "language": "python",
   "name": "python3"
  },
  "language_info": {
   "codemirror_mode": {
    "name": "ipython",
    "version": 3
   },
   "file_extension": ".py",
   "mimetype": "text/x-python",
   "name": "python",
   "nbconvert_exporter": "python",
   "pygments_lexer": "ipython3",
   "version": "3.10.14"
  }
 },
 "nbformat": 4,
 "nbformat_minor": 2
}
