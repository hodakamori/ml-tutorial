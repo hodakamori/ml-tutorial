{
 "cells": [
  {
   "cell_type": "code",
   "execution_count": 1,
   "metadata": {},
   "outputs": [],
   "source": [
    "from forcefield import CGForceField\n",
    "from model_builder import CGModelBuilder"
   ]
  },
  {
   "cell_type": "code",
   "execution_count": 2,
   "metadata": {},
   "outputs": [],
   "source": [
    "import sys\n",
    "\n",
    "import openmm\n",
    "import openmm.app as app\n",
    "from openmm import unit\n",
    "\n",
    "builder = CGModelBuilder(\n",
    "    smiles_sequence=\"[EO]100\",\n",
    "    bond_length=0.35,  # nm\n",
    "    min_dist=0.35,  # nm\n",
    "    max_tries=50000,\n",
    ")\n",
    "topology, positions = builder.create_molecule()\n",
    "\n",
    "with open(\"peo100.pdb\", \"w\") as f:\n",
    "    app.PDBFile.writeFile(topology, positions, f)\n"
   ]
  },
  {
   "cell_type": "code",
   "execution_count": 3,
   "metadata": {},
   "outputs": [],
   "source": [
    "# structures = [\n",
    "#     {\n",
    "#         \"pdb\": \"peo10.pdb\",\n",
    "#         \"number\": 50,\n",
    "#         \"box\": (0, 0, 0, 20, 20, 20),  # Aを10個  50Å立方\n",
    "#     },\n",
    "# ]\n",
    "\n",
    "# topology, positions = builder.create_packed_model(\n",
    "#     structures,\n",
    "#     box_size=(20, 20, 20),  # nm\n",
    "#     output_pdb=\"peo10_100.pdb\",  # 生成されるPACKMOL出力\n",
    "# )\n",
    "\n",
    "topology, positions = builder.replicate_model(topology, positions, nx=3, ny=3, nz=3)"
   ]
  },
  {
   "cell_type": "code",
   "execution_count": 5,
   "metadata": {},
   "outputs": [],
   "source": [
    "param_dict = {\n",
    "    \"BOND\": {\n",
    "        (\"EO\", \"EO\"): {\"r0\": 0.36, \"k\": 7000},\n",
    "    },\n",
    "    \"ANGLE\": {\n",
    "        (\"EO\", \"EO\", \"EO\"): {\"theta0\": 123, \"k\": 80},\n",
    "    },\n",
    "    \"TORSION\": {\n",
    "        (\"EO\", \"EO\", \"EO\", \"EO\"): {\"periodicity\": 1, \"phase\": 180.0, \"k\": 1.96},\n",
    "    },\n",
    "    \"NONBONDED\": {\n",
    "        \"EO\": {\"sigma\": 0.41, \"epsilon\": 2.35, \"charge\": 0.0, \"mass\": 44.0},\n",
    "    },\n",
    "}\n",
    "ff = CGForceField.from_dict(param_dict)\n",
    "system = ff.create_system(topology)"
   ]
  },
  {
   "cell_type": "code",
   "execution_count": 6,
   "metadata": {},
   "outputs": [
    {
     "name": "stdout",
     "output_type": "stream",
     "text": [
      "#\"Step\",\"Potential Energy (kJ/mole)\",\"Kinetic Energy (kJ/mole)\",\"Temperature (K)\",\"Box Volume (nm^3)\",\"Density (g/mL)\"\n",
      "1000,17567.243355089504,8950.42521223687,265.79968368136286,1901.0325797197502,0.10377099439786286\n",
      "2000,18618.374476731304,9989.581527050961,296.6593817653656,1787.130562619355,0.11038479521670536\n",
      "3000,18710.945304851146,9988.590715197244,296.6299577468345,1685.733828238124,0.11702443047395894\n",
      "4000,18356.779283112508,10298.610397303832,305.8365743583299,1575.096318466283,0.12524443036749808\n",
      "5000,17900.666117636443,9870.146410061521,293.1125316924956,1512.3177355661196,0.13044351497101656\n",
      "6000,17598.819823469497,10446.359297060897,310.22425537777536,1436.7451376244137,0.13730482603646213\n",
      "7000,17324.97119801479,9846.613442231828,292.41367602286056,1370.0781144751347,0.14398598086929243\n",
      "8000,16948.549302801188,10009.69695051115,297.25674703752327,1333.1398009495085,0.14797550942500473\n",
      "9000,16423.8439200247,10369.166607633742,307.9318735137049,1251.6245816734759,0.15761278906530563\n",
      "10000,16579.62339884329,10222.23217053457,303.56837949227406,1223.7956999746739,0.16119687394255058\n",
      "11000,15937.382459915836,10341.295130089533,307.1041776512943,1190.2268990972645,0.16574322201075714\n",
      "12000,15670.771409303718,9896.31824418511,293.8897534519602,1129.4422756750982,0.17466323461492367\n",
      "13000,14941.604606153434,9983.933826330856,296.4916626872956,1079.009316098359,0.18282700458377718\n",
      "14000,14599.320152408458,10024.825329538882,297.70601266064534,1044.5550013024708,0.18885749523411555\n",
      "15000,14470.673447109632,10205.953586552965,303.08495637320533,994.2114184634726,0.19842061508922487\n",
      "16000,13825.8352628094,10199.389081337617,302.89001106408426,954.5292479242405,0.2066694568126111\n",
      "17000,13569.8513309584,10095.984491841451,299.8192176070645,941.5990054507627,0.20950748677332645\n",
      "18000,13667.353693951085,10042.715605482,298.23729799892754,910.0576720146498,0.2167687249353548\n",
      "19000,13097.553722833345,9950.373275191667,295.49501910160615,885.6608403528608,0.2227399385770029\n",
      "20000,13129.507800295432,10223.724502538123,303.61269709340314,869.1921995339623,0.22696020659875343\n",
      "21000,12760.96594091418,10126.782442632555,300.7338205878388,854.8750729784066,0.23076125087254223\n",
      "22000,12298.20541704308,9922.327604532753,294.6621502475567,844.4422364587882,0.23361223854401622\n",
      "23000,11922.081433929592,10311.29721344768,306.2133331868768,834.8816078936071,0.23628744401013593\n",
      "24000,11936.469707947414,10215.599316093798,303.3714044245587,829.4579384559687,0.23783248316059732\n",
      "25000,11457.045832380662,10126.98251322628,300.73976205980966,816.7147807843924,0.24154337085804692\n",
      "26000,11502.836953748822,10246.740422322335,304.29619805042086,790.834361000721,0.24944798924850098\n",
      "27000,11085.349983590486,10407.964764771437,309.0840576446353,775.5545396458529,0.25436256394080903\n",
      "28000,10848.614580877806,10115.629379878179,300.4026094462566,767.6339473279154,0.25698712500527665\n",
      "29000,10670.441146805892,9922.713206072933,294.6736014093704,755.066352395192,0.261264510800242\n",
      "30000,10519.518063232628,10262.085863011513,304.7519097271754,749.3815163138945,0.2632464731057249\n",
      "31000,10230.256146529615,9982.236269416704,296.4412505470773,736.0496150415755,0.2680145973163917\n",
      "32000,9760.721285400587,10050.455017162958,298.46713436177055,721.6472071633474,0.27336354831288046\n",
      "33000,9611.54085028584,10062.67069349358,298.8299018088627,715.9916715315616,0.275522815451572\n",
      "34000,9318.843306627181,10272.39528802696,305.0580674619271,704.5952341472258,0.2799792442806004\n",
      "35000,9114.289077422216,10040.998406500914,298.186302550648,694.0665270956649,0.2842264155941099\n",
      "36000,8951.458642892523,10076.219542530187,299.2322603228754,684.2211778205026,0.28831618718473073\n",
      "37000,8479.815393156783,10169.66769046842,302.0073785517426,668.7943036102137,0.2949666887342793\n",
      "38000,8468.674586335916,9879.918521011155,293.40273287710085,656.2566924104127,0.30060194960553954\n",
      "39000,8006.744695775173,10289.30187570796,305.56014033010734,634.5661128767397,0.31087704996716675\n",
      "40000,8058.524840484666,10156.42114959562,301.613997646325,614.316380441531,0.3211245010892702\n",
      "41000,7481.033472780535,10153.253486030524,301.5199279285578,598.8375755433558,0.32942495467365757\n",
      "42000,7557.82847974061,10102.868643875285,300.0236554286895,579.4929067881625,0.34042183928295616\n",
      "43000,7420.403619877805,9992.256217364444,296.73881171672673,569.2259991532972,0.34656189540479165\n",
      "44000,7244.729210564532,9948.319526373174,295.43402917393547,554.1075646236187,0.35601759256661897\n",
      "45000,6802.49032179158,10200.72716845904,302.9297480737993,540.9437946183441,0.3646812166861729\n",
      "46000,6648.220336954135,10199.031309324082,302.87938635232223,517.3429196097472,0.3813177559848761\n",
      "47000,6837.303745524912,10048.906142383406,298.4211376167327,503.20411115629,0.392031855079543\n",
      "48000,6473.126152957042,10047.103759622121,298.36761247614305,489.30122350472436,0.40317095421762883\n",
      "49000,5655.099036698044,9993.887597179159,296.78725860371065,474.0432151601106,0.41614780018235953\n",
      "50000,6192.053760586043,10270.845395272469,305.01204048621196,464.89637351727015,0.4243355130687519\n",
      "51000,5881.264100479826,10337.04338842501,306.9779141986955,457.4126208023267,0.43127808942881163\n",
      "52000,5399.710407254559,10456.864630103444,310.5362309692656,442.1565892342361,0.44615877266898873\n",
      "53000,5332.092601649945,10361.129905652031,307.6932085571328,440.4609983977506,0.44787629755611164\n",
      "54000,5107.184787020418,10090.367454515952,299.65240913607664,425.1890415122167,0.46396313620558083\n",
      "55000,4917.539235232087,10075.093549932126,299.1988218583002,417.4457677167439,0.4725692687202212\n",
      "56000,4799.293514869889,9893.04404258057,293.79251988705585,408.04800954387156,0.48345301671920826\n",
      "57000,4464.847824172655,10112.852397969735,300.3201417539011,394.44115623761087,0.500130470820891\n",
      "58000,4142.775183205107,10098.540028540621,299.8951090681033,382.3122684144518,0.5159971507019414\n",
      "59000,3895.7622075793297,9934.15081405775,295.01326265588636,378.4631682019118,0.5212450186830531\n",
      "60000,3894.408748021666,10395.90788529844,308.7260059684171,378.0019328722053,0.5218810382298934\n",
      "61000,3845.5692069676297,9991.668495501635,296.7213582123934,373.7730806935166,0.5277855773193322\n",
      "62000,3591.9794133863106,10374.08430240558,308.0779136943444,367.8721540304479,0.5362516271452424\n",
      "63000,3711.58925439397,10298.943849757592,305.84647685509754,364.81425076793676,0.540746532694361\n",
      "64000,3440.0025995278556,10244.821163221375,304.23920204745554,354.8649310747754,0.5559073999867424\n"
     ]
    },
    {
     "ename": "KeyboardInterrupt",
     "evalue": "",
     "output_type": "error",
     "traceback": [
      "\u001b[0;31m---------------------------------------------------------------------------\u001b[0m",
      "\u001b[0;31mKeyboardInterrupt\u001b[0m                         Traceback (most recent call last)",
      "\u001b[0;32m/tmp/ipykernel_696567/1158777670.py\u001b[0m in \u001b[0;36m?\u001b[0;34m()\u001b[0m\n\u001b[1;32m     22\u001b[0m     \u001b[0;34m)\u001b[0m\u001b[0;34m\u001b[0m\u001b[0;34m\u001b[0m\u001b[0m\n\u001b[1;32m     23\u001b[0m \u001b[0;34m)\u001b[0m\u001b[0;34m\u001b[0m\u001b[0;34m\u001b[0m\u001b[0m\n\u001b[1;32m     24\u001b[0m \u001b[0msimulation\u001b[0m\u001b[0;34m.\u001b[0m\u001b[0mcontext\u001b[0m\u001b[0;34m.\u001b[0m\u001b[0mreinitialize\u001b[0m\u001b[0;34m(\u001b[0m\u001b[0mpreserveState\u001b[0m\u001b[0;34m=\u001b[0m\u001b[0;32mTrue\u001b[0m\u001b[0;34m)\u001b[0m\u001b[0;34m\u001b[0m\u001b[0;34m\u001b[0m\u001b[0m\n\u001b[1;32m     25\u001b[0m \u001b[0msimulation\u001b[0m\u001b[0;34m.\u001b[0m\u001b[0mminimizeEnergy\u001b[0m\u001b[0;34m(\u001b[0m\u001b[0;34m)\u001b[0m\u001b[0;34m\u001b[0m\u001b[0;34m\u001b[0m\u001b[0m\n\u001b[0;32m---> 26\u001b[0;31m \u001b[0msimulation\u001b[0m\u001b[0;34m.\u001b[0m\u001b[0mstep\u001b[0m\u001b[0;34m(\u001b[0m\u001b[0;36m100_000\u001b[0m\u001b[0;34m)\u001b[0m\u001b[0;34m\u001b[0m\u001b[0;34m\u001b[0m\u001b[0m\n\u001b[0m",
      "\u001b[0;32m~/work/flowapp/.venv/lib/python3.12/site-packages/openmm/app/simulation.py\u001b[0m in \u001b[0;36m?\u001b[0;34m(self, steps)\u001b[0m\n\u001b[1;32m    146\u001b[0m         \u001b[0;34m\"\"\"Advance the simulation by integrating a specified number of time steps.\"\"\"\u001b[0m\u001b[0;34m\u001b[0m\u001b[0;34m\u001b[0m\u001b[0m\n\u001b[1;32m    147\u001b[0m         \u001b[0;32mif\u001b[0m \u001b[0mint\u001b[0m\u001b[0;34m(\u001b[0m\u001b[0msteps\u001b[0m\u001b[0;34m)\u001b[0m \u001b[0;34m!=\u001b[0m \u001b[0msteps\u001b[0m\u001b[0;34m:\u001b[0m\u001b[0;34m\u001b[0m\u001b[0;34m\u001b[0m\u001b[0m\n\u001b[1;32m    148\u001b[0m             \u001b[0;32mraise\u001b[0m \u001b[0mTypeError\u001b[0m\u001b[0;34m(\u001b[0m\u001b[0;34mf'\u001b[0m\u001b[0;34mExpected an integer for steps, got \u001b[0m\u001b[0;34m{\u001b[0m\u001b[0mtype\u001b[0m\u001b[0;34m(\u001b[0m\u001b[0msteps\u001b[0m\u001b[0;34m)\u001b[0m\u001b[0;34m}\u001b[0m\u001b[0;34m'\u001b[0m\u001b[0;34m)\u001b[0m\u001b[0;34m\u001b[0m\u001b[0;34m\u001b[0m\u001b[0m\n\u001b[1;32m    149\u001b[0m \u001b[0;34m\u001b[0m\u001b[0m\n\u001b[0;32m--> 150\u001b[0;31m         \u001b[0mself\u001b[0m\u001b[0;34m.\u001b[0m\u001b[0m_simulate\u001b[0m\u001b[0;34m(\u001b[0m\u001b[0mendStep\u001b[0m\u001b[0;34m=\u001b[0m\u001b[0mself\u001b[0m\u001b[0;34m.\u001b[0m\u001b[0mcurrentStep\u001b[0m\u001b[0;34m+\u001b[0m\u001b[0msteps\u001b[0m\u001b[0;34m)\u001b[0m\u001b[0;34m\u001b[0m\u001b[0;34m\u001b[0m\u001b[0m\n\u001b[0m",
      "\u001b[0;32m~/work/flowapp/.venv/lib/python3.12/site-packages/openmm/app/simulation.py\u001b[0m in \u001b[0;36m?\u001b[0;34m(self, endStep, endTime)\u001b[0m\n\u001b[1;32m    225\u001b[0m                     \u001b[0mnextSteps\u001b[0m \u001b[0;34m=\u001b[0m \u001b[0msteps\u001b[0m\u001b[0;34m\u001b[0m\u001b[0;34m\u001b[0m\u001b[0m\n\u001b[1;32m    226\u001b[0m                     \u001b[0manyReport\u001b[0m \u001b[0;34m=\u001b[0m \u001b[0;32mTrue\u001b[0m\u001b[0;34m\u001b[0m\u001b[0;34m\u001b[0m\u001b[0m\n\u001b[1;32m    227\u001b[0m             \u001b[0mstepsToGo\u001b[0m \u001b[0;34m=\u001b[0m \u001b[0mnextSteps\u001b[0m\u001b[0;34m\u001b[0m\u001b[0;34m\u001b[0m\u001b[0m\n\u001b[1;32m    228\u001b[0m             \u001b[0;32mwhile\u001b[0m \u001b[0mstepsToGo\u001b[0m \u001b[0;34m>\u001b[0m \u001b[0;36m10\u001b[0m\u001b[0;34m:\u001b[0m\u001b[0;34m\u001b[0m\u001b[0;34m\u001b[0m\u001b[0m\n\u001b[0;32m--> 229\u001b[0;31m                 \u001b[0mself\u001b[0m\u001b[0;34m.\u001b[0m\u001b[0mintegrator\u001b[0m\u001b[0;34m.\u001b[0m\u001b[0mstep\u001b[0m\u001b[0;34m(\u001b[0m\u001b[0;36m10\u001b[0m\u001b[0;34m)\u001b[0m \u001b[0;31m# Only take 10 steps at a time, to give Python more chances to respond to a control-c.\u001b[0m\u001b[0;34m\u001b[0m\u001b[0;34m\u001b[0m\u001b[0m\n\u001b[0m\u001b[1;32m    230\u001b[0m                 \u001b[0mstepsToGo\u001b[0m \u001b[0;34m-=\u001b[0m \u001b[0;36m10\u001b[0m\u001b[0;34m\u001b[0m\u001b[0;34m\u001b[0m\u001b[0m\n\u001b[1;32m    231\u001b[0m                 \u001b[0;32mif\u001b[0m \u001b[0mendTime\u001b[0m \u001b[0;32mis\u001b[0m \u001b[0;32mnot\u001b[0m \u001b[0;32mNone\u001b[0m \u001b[0;32mand\u001b[0m \u001b[0mdatetime\u001b[0m\u001b[0;34m.\u001b[0m\u001b[0mnow\u001b[0m\u001b[0;34m(\u001b[0m\u001b[0;34m)\u001b[0m \u001b[0;34m>=\u001b[0m \u001b[0mendTime\u001b[0m\u001b[0;34m:\u001b[0m\u001b[0;34m\u001b[0m\u001b[0;34m\u001b[0m\u001b[0m\n\u001b[1;32m    232\u001b[0m                     \u001b[0;32mreturn\u001b[0m\u001b[0;34m\u001b[0m\u001b[0;34m\u001b[0m\u001b[0m\n",
      "\u001b[0;32m~/work/flowapp/.venv/lib/python3.12/site-packages/openmm/openmm.py\u001b[0m in \u001b[0;36m?\u001b[0;34m(self, steps)\u001b[0m\n\u001b[1;32m   3244\u001b[0m         \u001b[0;34m-\u001b[0m\u001b[0;34m-\u001b[0m\u001b[0;34m-\u001b[0m\u001b[0;34m-\u001b[0m\u001b[0;34m-\u001b[0m\u001b[0;34m-\u001b[0m\u001b[0;34m-\u001b[0m\u001b[0;34m-\u001b[0m\u001b[0;34m-\u001b[0m\u001b[0;34m-\u001b[0m\u001b[0;34m\u001b[0m\u001b[0;34m\u001b[0m\u001b[0m\n\u001b[1;32m   3245\u001b[0m         \u001b[0msteps\u001b[0m \u001b[0;34m:\u001b[0m \u001b[0mint\u001b[0m\u001b[0;34m\u001b[0m\u001b[0;34m\u001b[0m\u001b[0m\n\u001b[1;32m   3246\u001b[0m             \u001b[0mthe\u001b[0m \u001b[0mnumber\u001b[0m \u001b[0mof\u001b[0m \u001b[0mtime\u001b[0m \u001b[0msteps\u001b[0m \u001b[0mto\u001b[0m \u001b[0mtake\u001b[0m\u001b[0;34m\u001b[0m\u001b[0;34m\u001b[0m\u001b[0m\n\u001b[1;32m   3247\u001b[0m         \"\"\"\n\u001b[0;32m-> 3248\u001b[0;31m         \u001b[0;32mreturn\u001b[0m \u001b[0m_openmm\u001b[0m\u001b[0;34m.\u001b[0m\u001b[0mLangevinMiddleIntegrator_step\u001b[0m\u001b[0;34m(\u001b[0m\u001b[0mself\u001b[0m\u001b[0;34m,\u001b[0m \u001b[0msteps\u001b[0m\u001b[0;34m)\u001b[0m\u001b[0;34m\u001b[0m\u001b[0;34m\u001b[0m\u001b[0m\n\u001b[0m",
      "\u001b[0;31mKeyboardInterrupt\u001b[0m: "
     ]
    }
   ],
   "source": [
    "temperature = 300 * unit.kelvin\n",
    "friction = 1 / unit.picosecond\n",
    "timestep = 0.002 * unit.picoseconds\n",
    "integrator = openmm.LangevinIntegrator(temperature, friction, timestep)\n",
    "\n",
    "simulation = app.Simulation(topology, system, integrator)\n",
    "barostat = openmm.MonteCarloBarostat(1 * unit.atmospheres, temperature)\n",
    "simulation.system.addForce(barostat)\n",
    "\n",
    "simulation.context.setPositions(positions)\n",
    "simulation.reporters.append(app.XTCReporter(\"example-traj-packmol.xtc\", 1000))\n",
    "simulation.reporters.append(\n",
    "    app.StateDataReporter(\n",
    "        sys.stdout,\n",
    "        1000,\n",
    "        step=True,\n",
    "        potentialEnergy=True,\n",
    "        kineticEnergy=True,\n",
    "        temperature=True,\n",
    "        volume=True,\n",
    "        density=True,\n",
    "    )\n",
    ")\n",
    "simulation.reporters.append(\n",
    "    app.StateDataReporter(\n",
    "        \"md.log\",\n",
    "        1000,\n",
    "        step=True,\n",
    "        potentialEnergy=True,\n",
    "        kineticEnergy=True,\n",
    "        temperature=True,\n",
    "        volume=True,\n",
    "        density=True,\n",
    "    )\n",
    ")\n",
    "simulation.context.reinitialize(preserveState=True)\n",
    "simulation.minimizeEnergy()\n",
    "simulation.step(100_000)\n"
   ]
  },
  {
   "cell_type": "code",
   "execution_count": 8,
   "metadata": {},
   "outputs": [
    {
     "name": "stderr",
     "output_type": "stream",
     "text": [
      "/home/mori/work/flowapp/.venv/lib/python3.12/site-packages/MDAnalysis/core/universe.py:1663: UserWarning: there is no reference attributes in this universe to guess types from\n",
      "  warnings.warn(str(e))\n",
      "/home/mori/work/flowapp/.venv/lib/python3.12/site-packages/MDAnalysis/core/universe.py:1663: UserWarning: there is no reference attributes (elements, types, or names) in this universe to guess mass from\n",
      "  warnings.warn(str(e))\n"
     ]
    },
    {
     "data": {
      "application/vnd.jupyter.widget-view+json": {
       "model_id": "9bef95e3403d42e1af2c71c0d40d7e2f",
       "version_major": 2,
       "version_minor": 0
      },
      "text/plain": [
       "NGLWidget(max_frame=63)"
      ]
     },
     "metadata": {},
     "output_type": "display_data"
    }
   ],
   "source": [
    "import MDAnalysis as mda\n",
    "import nglview as nv\n",
    "\n",
    "bonds = list(topology.bonds())\n",
    "bonds_nglview = []\n",
    "for bond in bonds:\n",
    "    bonds_nglview.append((bond[0].index, bond[1].index))\n",
    "u = mda.Universe(\"example-traj-packmol.xtc\")\n",
    "u.add_TopologyAttr(\"bonds\", bonds_nglview)\n",
    "view = nv.show_mdanalysis(u)\n",
    "view.add_ball_and_stick()\n",
    "view.add_representation(\"ball+stick\", colorScheme=\"ersindex\")\n",
    "view.add_representation(\"unitcell\")\n",
    "view"
   ]
  },
  {
   "cell_type": "code",
   "execution_count": null,
   "metadata": {},
   "outputs": [],
   "source": [
    "import pandas as pd\n",
    "\n",
    "df = pd.read_csv(\"state.log\", delim_whitespace=True)"
   ]
  }
 ],
 "metadata": {
  "kernelspec": {
   "display_name": ".venv",
   "language": "python",
   "name": "python3"
  },
  "language_info": {
   "codemirror_mode": {
    "name": "ipython",
    "version": 3
   },
   "file_extension": ".py",
   "mimetype": "text/x-python",
   "name": "python",
   "nbconvert_exporter": "python",
   "pygments_lexer": "ipython3",
   "version": "3.12.7"
  }
 },
 "nbformat": 4,
 "nbformat_minor": 2
}
