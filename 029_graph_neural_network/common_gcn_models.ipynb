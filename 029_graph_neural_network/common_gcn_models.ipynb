{
 "cells": [
  {
   "cell_type": "code",
   "execution_count": 1,
   "metadata": {},
   "outputs": [],
   "source": [
    "import torch\n",
    "from torch_geometric.nn import SchNet, DimeNet\n",
    "from torch_geometric.data import Data\n",
    "import math"
   ]
  },
  {
   "cell_type": "code",
   "execution_count": 2,
   "metadata": {},
   "outputs": [],
   "source": [
    "schnet = SchNet(\n",
    "    hidden_channels=128,\n",
    "    num_filters=128,\n",
    "    num_interactions=6,\n",
    "    num_gaussians=50,\n",
    "    cutoff=10.0,\n",
    "    max_num_neighbors=32,\n",
    "    readout=\"add\",\n",
    ")"
   ]
  },
  {
   "cell_type": "code",
   "execution_count": 3,
   "metadata": {},
   "outputs": [],
   "source": [
    "dimenet = DimeNet(\n",
    "    hidden_channels=128,\n",
    "    out_channels=1,\n",
    "    num_blocks=6,\n",
    "    num_bilinear=8,\n",
    "    num_spherical=7,\n",
    "    num_radial=6,\n",
    "    cutoff=5.0,\n",
    "    envelope_exponent=5,\n",
    "    num_before_skip=1,\n",
    "    num_after_skip=2,\n",
    "    num_output_layers=3,\n",
    ")"
   ]
  },
  {
   "cell_type": "code",
   "execution_count": 4,
   "metadata": {},
   "outputs": [
    {
     "name": "stdout",
     "output_type": "stream",
     "text": [
      "Prediction: 2.3206124305725098\n",
      "Prediction: 0.0\n"
     ]
    },
    {
     "name": "stderr",
     "output_type": "stream",
     "text": [
      "/home/hodaka/miniforge3/envs/schnet2/lib/python3.12/site-packages/torch_geometric/nn/models/dimenet.py:706: UserWarning: Using torch.cross without specifying the dim arg is deprecated.\n",
      "Please either pass the dim explicitly or simply use torch.linalg.cross.\n",
      "The default value of dim will change to agree with that of linalg.cross in a future release. (Triggered internally at ../aten/src/ATen/native/Cross.cpp:62.)\n",
      "  b = torch.cross(pos_ji, pos_ki).norm(dim=-1)\n"
     ]
    }
   ],
   "source": [
    "num_atoms = 5\n",
    "z = torch.tensor([6, 1, 1, 1, 1], dtype=torch.long)  # 炭素原子1つと水素原子4つ\n",
    "pos = torch.randn(num_atoms, 3)  # ランダムな3D座標\n",
    "\n",
    "# データオブジェクトの作成\n",
    "data = Data(z=z, pos=pos)\n",
    "\n",
    "# 予測\n",
    "schnet.eval()\n",
    "dimenet.eval()\n",
    "with torch.no_grad():\n",
    "    y_schnet = schnet(data.z, data.pos)\n",
    "    y_dimenet = dimenet(data.z, data.pos)\n",
    "print(f\"Prediction: {y_schnet.item()}\")\n",
    "print(f\"Prediction: {y_dimenet.item()}\")"
   ]
  },
  {
   "cell_type": "code",
   "execution_count": null,
   "metadata": {},
   "outputs": [],
   "source": []
  }
 ],
 "metadata": {
  "kernelspec": {
   "display_name": "pyg",
   "language": "python",
   "name": "python3"
  },
  "language_info": {
   "codemirror_mode": {
    "name": "ipython",
    "version": 3
   },
   "file_extension": ".py",
   "mimetype": "text/x-python",
   "name": "python",
   "nbconvert_exporter": "python",
   "pygments_lexer": "ipython3",
   "version": "3.12.5"
  }
 },
 "nbformat": 4,
 "nbformat_minor": 2
}
