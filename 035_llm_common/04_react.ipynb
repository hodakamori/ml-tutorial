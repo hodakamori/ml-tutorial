{
 "cells": [
  {
   "cell_type": "code",
   "execution_count": 1,
   "metadata": {},
   "outputs": [],
   "source": [
    "import os\n",
    "\n",
    "from langchain import hub\n",
    "from langchain.agents import AgentExecutor, create_react_agent\n",
    "from langchain.chat_models import ChatOpenAI\n",
    "from langchain_community.tools.tavily_search import TavilySearchResults"
   ]
  },
  {
   "cell_type": "code",
   "execution_count": 2,
   "metadata": {},
   "outputs": [],
   "source": [
    "assert os.environ[\"TAVILY_API_KEY\"]"
   ]
  },
  {
   "cell_type": "code",
   "execution_count": 3,
   "metadata": {},
   "outputs": [],
   "source": [
    "tools = [TavilySearchResults(max_results=1)]"
   ]
  },
  {
   "cell_type": "code",
   "execution_count": 4,
   "metadata": {},
   "outputs": [
    {
     "name": "stderr",
     "output_type": "stream",
     "text": [
      "/home/mori/miniforge3/envs/openmm/lib/python3.12/site-packages/langsmith/client.py:241: LangSmithMissingAPIKeyWarning: API key must be provided when using hosted LangSmith API\n",
      "  warnings.warn(\n"
     ]
    }
   ],
   "source": [
    "prompt = hub.pull(\"hwchase17/react\")"
   ]
  },
  {
   "cell_type": "code",
   "execution_count": 5,
   "metadata": {},
   "outputs": [
    {
     "data": {
      "text/plain": [
       "PromptTemplate(input_variables=['agent_scratchpad', 'input', 'tool_names', 'tools'], input_types={}, partial_variables={}, metadata={'lc_hub_owner': 'hwchase17', 'lc_hub_repo': 'react', 'lc_hub_commit_hash': 'd15fe3c426f1c4b3f37c9198853e4a86e20c425ca7f4752ec0c9b0e97ca7ea4d'}, template='Answer the following questions as best you can. You have access to the following tools:\\n\\n{tools}\\n\\nUse the following format:\\n\\nQuestion: the input question you must answer\\nThought: you should always think about what to do\\nAction: the action to take, should be one of [{tool_names}]\\nAction Input: the input to the action\\nObservation: the result of the action\\n... (this Thought/Action/Action Input/Observation can repeat N times)\\nThought: I now know the final answer\\nFinal Answer: the final answer to the original input question\\n\\nBegin!\\n\\nQuestion: {input}\\nThought:{agent_scratchpad}')"
      ]
     },
     "execution_count": 5,
     "metadata": {},
     "output_type": "execute_result"
    }
   ],
   "source": [
    "prompt"
   ]
  },
  {
   "cell_type": "code",
   "execution_count": 6,
   "metadata": {},
   "outputs": [
    {
     "name": "stderr",
     "output_type": "stream",
     "text": [
      "/tmp/ipykernel_19993/410987464.py:2: LangChainDeprecationWarning: The class `ChatOpenAI` was deprecated in LangChain 0.0.10 and will be removed in 1.0. An updated version of the class exists in the :class:`~langchain-openai package and should be used instead. To use it run `pip install -U :class:`~langchain-openai` and import as `from :class:`~langchain_openai import ChatOpenAI``.\n",
      "  llm = ChatOpenAI(temperature=0.3, model=\"gpt-4o\")\n"
     ]
    }
   ],
   "source": [
    "# Choose the LLM to use\n",
    "llm = ChatOpenAI(temperature=0.3, model=\"gpt-4o\")\n",
    "\n",
    "# Construct the ReAct agent\n",
    "agent = create_react_agent(llm, tools, prompt)"
   ]
  },
  {
   "cell_type": "code",
   "execution_count": 7,
   "metadata": {},
   "outputs": [],
   "source": [
    "# Create an agent executor by passing in the agent and tools\n",
    "agent_executor = AgentExecutor(\n",
    "    agent=agent,\n",
    "    tools=tools,\n",
    "    verbose=True,\n",
    "    handle_parsing_errors=True,\n",
    "    max_iterations=2,\n",
    "    return_intermediate_results=True,\n",
    ")"
   ]
  },
  {
   "cell_type": "code",
   "execution_count": 8,
   "metadata": {},
   "outputs": [
    {
     "name": "stdout",
     "output_type": "stream",
     "text": [
      "\n",
      "\n",
      "\u001b[1m> Entering new AgentExecutor chain...\u001b[0m\n",
      "\u001b[32;1m\u001b[1;3mOpenMM and LAMMPS are both molecular dynamics simulation software packages, but they have different focuses and features. To provide a comprehensive comparison, I will outline the key differences between them:\n",
      "\n",
      "1. **Purpose and Design**:\n",
      "   - **OpenMM**: It is designed primarily for high-performance molecular dynamics simulations, with a focus on ease of use and flexibility. It is particularly well-suited for simulations of biomolecular systems and is often used in the context of drug discovery and protein dynamics.\n",
      "   - **LAMMPS (Large-scale Atomic/Molecular Massively Parallel Simulator)**: It is a more general-purpose molecular dynamics code that can handle a wide variety of systems, including soft matter, solid-state materials, and biomolecules. It is highly extensible and can be used for simulations involving complex force fields and custom interactions.\n",
      "\n",
      "2. **Programming and Extensibility**:\n",
      "   - **OpenMM**: It is designed to be user-friendly and is accessible through Python, which makes it easy to script and integrate with other Python-based tools. It also provides a C++ API for more advanced users.\n",
      "   - **LAMMPS**: It is written in C++ and provides a script-based interface for setting up simulations. LAMMPS is highly modular, allowing users to add new features and customize simulations through its extensive library of packages.\n",
      "\n",
      "3. **Performance and Parallelization**:\n",
      "   - **OpenMM**: It is optimized for running on GPUs, which can significantly accelerate simulations. OpenMM leverages CUDA and OpenCL for parallel computations, making it highly efficient for systems where GPU resources are available.\n",
      "   - **LAMMPS**: It is designed for massively parallel simulations and can run efficiently on both CPUs and GPUs. LAMMPS supports MPI for distributed computing, making it suitable for large-scale simulations on supercomputers.\n",
      "\n",
      "4. **Community and Support**:\n",
      "   - **OpenMM**: It has a strong focus on the biomolecular community and is supported by the OpenMM Consortium. It is often used in academic research and has a growing user base.\n",
      "   - **LAMMPS**: It has a large and active community, with extensive documentation and user support. LAMMPS is widely used in both academia and industry for a broad range of applications.\n",
      "\n",
      "5. **Applications**:\n",
      "   - **OpenMM**: Best suited for biomolecular simulations, such as proteins, nucleic acids, and small molecules.\n",
      "   - **LAMMPS**: Used for a wide range of materials science applications, including polymers, metals, and granular materials, in addition to biomolecular systems.\n",
      "\n",
      "Final Answer: OpenMM is optimized for biomolecular simulations with a focus on ease of use and GPU acceleration, while LAMMPS is a general-purpose molecular dynamics code suitable for a wide range of systems, offering extensive parallelization and customization options.\u001b[0m\n",
      "\n",
      "\u001b[1m> Finished chain.\u001b[0m\n"
     ]
    }
   ],
   "source": [
    "result = agent_executor.invoke(\n",
    "    {\"input\": \"What is the diference between OpenMM and LAMMPS?\"}\n",
    ")"
   ]
  },
  {
   "cell_type": "code",
   "execution_count": 13,
   "metadata": {},
   "outputs": [
    {
     "data": {
      "text/plain": [
       "{'input': 'What is the diference between OpenMM and LAMMPS?',\n",
       " 'output': 'OpenMM is a molecular dynamics toolkit optimized for biomolecular simulations and GPU acceleration, with a user-friendly Python API. LAMMPS is a highly flexible and scalable simulator suitable for a wide range of applications, particularly large-scale simulations on parallel computing architectures.'}"
      ]
     },
     "execution_count": 13,
     "metadata": {},
     "output_type": "execute_result"
    }
   ],
   "source": [
    "result"
   ]
  },
  {
   "cell_type": "code",
   "execution_count": 10,
   "metadata": {},
   "outputs": [],
   "source": [
    "from datetime import datetime\n",
    "from typing import Any\n",
    "\n",
    "from langchain.callbacks.base import BaseCallbackHandler\n",
    "from langchain.schema import AgentAction, AgentFinish\n",
    "\n",
    "\n",
    "class ThoughtVisualizer(BaseCallbackHandler):\n",
    "    def __init__(self):\n",
    "        self.thoughts = []\n",
    "        self.current_thought = {}\n",
    "        self.step_count = 0\n",
    "\n",
    "    def on_agent_action(self, action: AgentAction, **kwargs: Any) -> Any:\n",
    "        self.step_count += 1\n",
    "\n",
    "        thought_entry = {\n",
    "            \"step\": self.step_count,\n",
    "            \"timestamp\": datetime.now().strftime(\"%H:%M:%S\"),\n",
    "            \"thought\": action.log,  # 思考プロセス\n",
    "            \"action\": action.tool,  # 使用したツール\n",
    "            \"action_input\": action.tool_input,  # ツールへの入力\n",
    "            \"type\": \"action\",\n",
    "        }\n",
    "\n",
    "        self.thoughts.append(thought_entry)\n",
    "\n",
    "    def on_agent_finish(self, finish: AgentFinish, **kwargs: Any) -> Any:\n",
    "        self.step_count += 1\n",
    "\n",
    "        thought_entry = {\n",
    "            \"step\": self.step_count,\n",
    "            \"timestamp\": datetime.now().strftime(\"%H:%M:%S\"),\n",
    "            \"final_answer\": finish.return_values[\"output\"],\n",
    "            \"thought\": finish.log,\n",
    "            \"type\": \"finish\",\n",
    "        }\n",
    "\n",
    "        self.thoughts.append(thought_entry)\n",
    "\n",
    "    def print_thoughts(self):\n",
    "        for entry in self.thoughts:\n",
    "            print(f\"\\n=== ステップ {entry['step']} ({entry['timestamp']}) ===\")\n",
    "\n",
    "            if \"thought\" in entry and entry[\"thought\"]:\n",
    "                print(\"\\n\" + entry[\"thought\"])\n",
    "\n",
    "            if entry[\"type\"] == \"action\":\n",
    "                print(f\"\\nツール: {entry['action']}\")\n",
    "                print(f\"入力: {entry['action_input']}\")\n",
    "\n",
    "            if entry[\"type\"] == \"finish\":\n",
    "                print(f\"\\n最終回答: {entry['final_answer']}\")\n",
    "\n",
    "            print(\"\\n\" + \"=\" * 50)"
   ]
  },
  {
   "cell_type": "code",
   "execution_count": 11,
   "metadata": {},
   "outputs": [
    {
     "name": "stdout",
     "output_type": "stream",
     "text": [
      "\n",
      "\n",
      "\u001b[1m> Entering new AgentExecutor chain...\u001b[0m\n",
      "\u001b[32;1m\u001b[1;3mOpenMM and LAMMPS are both software packages used for molecular dynamics simulations, but they have different features and use cases. I will provide a detailed comparison based on their characteristics.\n",
      "\n",
      "1. **Purpose and Design**:\n",
      "   - **OpenMM**: OpenMM is designed to be a high-performance toolkit for molecular simulations, particularly focused on biomolecular systems. It is user-friendly and provides a Python API, making it accessible for researchers who prefer scripting in Python. OpenMM is optimized for running on GPUs, which can significantly accelerate simulations.\n",
      "   - **LAMMPS**: LAMMPS (Large-scale Atomic/Molecular Massively Parallel Simulator) is a highly flexible and scalable molecular dynamics simulator. It is designed to run efficiently on parallel computing architectures, making it suitable for large-scale simulations. LAMMPS supports a wide range of potential models and simulation types, from atomic to mesoscale systems.\n",
      "\n",
      "2. **Programming and Customization**:\n",
      "   - **OpenMM**: OpenMM is highly customizable through its Python interface, allowing users to easily set up and modify simulations. It is particularly suited for users who need to integrate molecular dynamics into larger workflows or who want to develop custom simulation protocols.\n",
      "   - **LAMMPS**: LAMMPS provides a scripting language for setting up simulations and is highly extensible through its modular architecture. Users can add new features by writing custom C++ code, which can be integrated into the main LAMMPS codebase.\n",
      "\n",
      "3. **Performance**:\n",
      "   - **OpenMM**: Known for its performance on GPU hardware, OpenMM can leverage CUDA and OpenCL to accelerate simulations, making it a good choice for users with access to GPU resources.\n",
      "   - **LAMMPS**: LAMMPS is optimized for parallel execution on CPUs and can also utilize GPUs. It is well-suited for running very large simulations on high-performance computing clusters.\n",
      "\n",
      "4. **Community and Support**:\n",
      "   - **OpenMM**: OpenMM has a strong focus on the biomolecular simulation community, with support for popular force fields used in this area. It is supported by the OpenMM community and has documentation and tutorials available for new users.\n",
      "   - **LAMMPS**: LAMMPS has a large and active user community, with extensive documentation and a mailing list for support. It is widely used in materials science, chemistry, and physics.\n",
      "\n",
      "5. **Applications**:\n",
      "   - **OpenMM**: Primarily used for biomolecular simulations, such as proteins, nucleic acids, and other biological macromolecules.\n",
      "   - **LAMMPS**: Used across a broad range of applications, including materials science, solid-state physics, and soft matter.\n",
      "\n",
      "Final Answer: OpenMM is a molecular dynamics toolkit optimized for biomolecular simulations and GPU acceleration, with a user-friendly Python API. LAMMPS is a highly flexible and scalable simulator suitable for a wide range of applications, particularly large-scale simulations on parallel computing architectures.\u001b[0m\n",
      "\n",
      "\u001b[1m> Finished chain.\u001b[0m\n"
     ]
    }
   ],
   "source": [
    "visualizer = ThoughtVisualizer()\n",
    "agent_executor = AgentExecutor(\n",
    "    agent=agent,\n",
    "    tools=tools,\n",
    "    verbose=True,\n",
    "    handle_parsing_errors=True,\n",
    "    max_iterations=2,\n",
    "    return_intermediate_results=True,\n",
    "    callbacks=[visualizer],\n",
    ")\n",
    "result = agent_executor.invoke(\n",
    "    {\"input\": \"What is the diference between OpenMM and LAMMPS?\"},\n",
    ")"
   ]
  },
  {
   "cell_type": "code",
   "execution_count": 12,
   "metadata": {},
   "outputs": [
    {
     "data": {
      "text/plain": [
       "[{'step': 1,\n",
       "  'timestamp': '13:55:03',\n",
       "  'final_answer': 'OpenMM is a molecular dynamics toolkit optimized for biomolecular simulations and GPU acceleration, with a user-friendly Python API. LAMMPS is a highly flexible and scalable simulator suitable for a wide range of applications, particularly large-scale simulations on parallel computing architectures.',\n",
       "  'thought': 'OpenMM and LAMMPS are both software packages used for molecular dynamics simulations, but they have different features and use cases. I will provide a detailed comparison based on their characteristics.\\n\\n1. **Purpose and Design**:\\n   - **OpenMM**: OpenMM is designed to be a high-performance toolkit for molecular simulations, particularly focused on biomolecular systems. It is user-friendly and provides a Python API, making it accessible for researchers who prefer scripting in Python. OpenMM is optimized for running on GPUs, which can significantly accelerate simulations.\\n   - **LAMMPS**: LAMMPS (Large-scale Atomic/Molecular Massively Parallel Simulator) is a highly flexible and scalable molecular dynamics simulator. It is designed to run efficiently on parallel computing architectures, making it suitable for large-scale simulations. LAMMPS supports a wide range of potential models and simulation types, from atomic to mesoscale systems.\\n\\n2. **Programming and Customization**:\\n   - **OpenMM**: OpenMM is highly customizable through its Python interface, allowing users to easily set up and modify simulations. It is particularly suited for users who need to integrate molecular dynamics into larger workflows or who want to develop custom simulation protocols.\\n   - **LAMMPS**: LAMMPS provides a scripting language for setting up simulations and is highly extensible through its modular architecture. Users can add new features by writing custom C++ code, which can be integrated into the main LAMMPS codebase.\\n\\n3. **Performance**:\\n   - **OpenMM**: Known for its performance on GPU hardware, OpenMM can leverage CUDA and OpenCL to accelerate simulations, making it a good choice for users with access to GPU resources.\\n   - **LAMMPS**: LAMMPS is optimized for parallel execution on CPUs and can also utilize GPUs. It is well-suited for running very large simulations on high-performance computing clusters.\\n\\n4. **Community and Support**:\\n   - **OpenMM**: OpenMM has a strong focus on the biomolecular simulation community, with support for popular force fields used in this area. It is supported by the OpenMM community and has documentation and tutorials available for new users.\\n   - **LAMMPS**: LAMMPS has a large and active user community, with extensive documentation and a mailing list for support. It is widely used in materials science, chemistry, and physics.\\n\\n5. **Applications**:\\n   - **OpenMM**: Primarily used for biomolecular simulations, such as proteins, nucleic acids, and other biological macromolecules.\\n   - **LAMMPS**: Used across a broad range of applications, including materials science, solid-state physics, and soft matter.\\n\\nFinal Answer: OpenMM is a molecular dynamics toolkit optimized for biomolecular simulations and GPU acceleration, with a user-friendly Python API. LAMMPS is a highly flexible and scalable simulator suitable for a wide range of applications, particularly large-scale simulations on parallel computing architectures.',\n",
       "  'type': 'finish'}]"
      ]
     },
     "execution_count": 12,
     "metadata": {},
     "output_type": "execute_result"
    }
   ],
   "source": [
    "visualizer.thoughts"
   ]
  }
 ],
 "metadata": {
  "kernelspec": {
   "display_name": "openmm",
   "language": "python",
   "name": "python3"
  },
  "language_info": {
   "codemirror_mode": {
    "name": "ipython",
    "version": 3
   },
   "file_extension": ".py",
   "mimetype": "text/x-python",
   "name": "python",
   "nbconvert_exporter": "python",
   "pygments_lexer": "ipython3",
   "version": "3.12.7"
  }
 },
 "nbformat": 4,
 "nbformat_minor": 2
}
