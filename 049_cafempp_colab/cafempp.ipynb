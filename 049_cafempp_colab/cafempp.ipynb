{
  "cells": [
    {
      "cell_type": "code",
      "execution_count": null,
      "metadata": {
        "colab": {
          "base_uri": "https://localhost:8080/"
        },
        "id": "vD6srfEBK9QE",
        "outputId": "e3dcdd37-ce08-4532-ffb3-2da395947c22"
      },
      "outputs": [
        {
          "name": "stdout",
          "output_type": "stream",
          "text": [
            "Cloning into 'CAFE-MPP'...\n",
            "remote: Enumerating objects: 100, done.\u001b[K\n",
            "remote: Counting objects: 100% (54/54), done.\u001b[K\n",
            "remote: Compressing objects: 100% (49/49), done.\u001b[K\n",
            "remote: Total 100 (delta 23), reused 5 (delta 1), pack-reused 46 (from 1)\u001b[K\n",
            "Receiving objects: 100% (100/100), 56.63 MiB | 12.39 MiB/s, done.\n",
            "Resolving deltas: 100% (34/34), done.\n",
            "Updating files: 100% (23/23), done.\n"
          ]
        }
      ],
      "source": [
        "!git clone https://github.com/shiokoo/CAFE-MPP.git"
      ]
    },
    {
      "cell_type": "code",
      "execution_count": null,
      "metadata": {
        "colab": {
          "base_uri": "https://localhost:8080/"
        },
        "id": "qfZFGqG7LD3E",
        "outputId": "9ec973e2-5e30-4f57-cbcb-aca2e39f289b"
      },
      "outputs": [
        {
          "name": "stdout",
          "output_type": "stream",
          "text": [
            "--2025-07-05 05:54:40--  https://deepchemdata.s3-us-west-1.amazonaws.com/datasets/delaney-processed.csv\n",
            "Resolving deepchemdata.s3-us-west-1.amazonaws.com (deepchemdata.s3-us-west-1.amazonaws.com)... 52.219.193.178, 16.15.4.251, 16.15.0.15, ...\n",
            "Connecting to deepchemdata.s3-us-west-1.amazonaws.com (deepchemdata.s3-us-west-1.amazonaws.com)|52.219.193.178|:443... connected.\n",
            "HTTP request sent, awaiting response... 200 OK\n",
            "Length: 96699 (94K) [text/csv]\n",
            "Saving to: ‘delaney-processed.csv’\n",
            "\n",
            "delaney-processed.c 100%[===================>]  94.43K   501KB/s    in 0.2s    \n",
            "\n",
            "2025-07-05 05:54:41 (501 KB/s) - ‘delaney-processed.csv’ saved [96699/96699]\n",
            "\n",
            "--2025-07-05 05:54:41--  https://deepchemdata.s3-us-west-1.amazonaws.com/datasets/SAMPL.csv\n",
            "Resolving deepchemdata.s3-us-west-1.amazonaws.com (deepchemdata.s3-us-west-1.amazonaws.com)... 52.219.121.90, 16.15.0.144, 16.15.0.166, ...\n",
            "Connecting to deepchemdata.s3-us-west-1.amazonaws.com (deepchemdata.s3-us-west-1.amazonaws.com)|52.219.121.90|:443... connected.\n",
            "HTTP request sent, awaiting response... 200 OK\n",
            "Length: 32060 (31K) [text/csv]\n",
            "Saving to: ‘SAMPL.csv’\n",
            "\n",
            "SAMPL.csv           100%[===================>]  31.31K  --.-KB/s    in 0.07s   \n",
            "\n",
            "2025-07-05 05:54:41 (475 KB/s) - ‘SAMPL.csv’ saved [32060/32060]\n",
            "\n",
            "--2025-07-05 05:54:41--  https://deepchemdata.s3-us-west-1.amazonaws.com/datasets/HIV.csv\n",
            "Resolving deepchemdata.s3-us-west-1.amazonaws.com (deepchemdata.s3-us-west-1.amazonaws.com)... 52.219.121.90, 16.15.0.144, 16.15.0.166, ...\n",
            "Connecting to deepchemdata.s3-us-west-1.amazonaws.com (deepchemdata.s3-us-west-1.amazonaws.com)|52.219.121.90|:443... connected.\n",
            "HTTP request sent, awaiting response... 200 OK\n",
            "Length: 2193844 (2.1M) [text/csv]\n",
            "Saving to: ‘HIV.csv’\n",
            "\n",
            "HIV.csv             100%[===================>]   2.09M  4.81MB/s    in 0.4s    \n",
            "\n",
            "2025-07-05 05:54:42 (4.81 MB/s) - ‘HIV.csv’ saved [2193844/2193844]\n",
            "\n",
            "--2025-07-05 05:54:42--  https://deepchemdata.s3-us-west-1.amazonaws.com/datasets/bace.csv\n",
            "Resolving deepchemdata.s3-us-west-1.amazonaws.com (deepchemdata.s3-us-west-1.amazonaws.com)... 52.219.121.90, 16.15.0.144, 16.15.0.166, ...\n",
            "Connecting to deepchemdata.s3-us-west-1.amazonaws.com (deepchemdata.s3-us-west-1.amazonaws.com)|52.219.121.90|:443... connected.\n",
            "HTTP request sent, awaiting response... 200 OK\n",
            "Length: 3897767 (3.7M) [text/csv]\n",
            "Saving to: ‘bace.csv’\n",
            "\n",
            "bace.csv            100%[===================>]   3.72M  7.42MB/s    in 0.5s    \n",
            "\n",
            "2025-07-05 05:54:43 (7.42 MB/s) - ‘bace.csv’ saved [3897767/3897767]\n",
            "\n",
            "--2025-07-05 05:54:43--  https://deepchemdata.s3-us-west-1.amazonaws.com/datasets/BBBP.csv\n",
            "Resolving deepchemdata.s3-us-west-1.amazonaws.com (deepchemdata.s3-us-west-1.amazonaws.com)... 52.219.121.90, 16.15.0.144, 16.15.0.166, ...\n",
            "Connecting to deepchemdata.s3-us-west-1.amazonaws.com (deepchemdata.s3-us-west-1.amazonaws.com)|52.219.121.90|:443... connected.\n",
            "HTTP request sent, awaiting response... 200 OK\n",
            "Length: 148743 (145K) [text/csv]\n",
            "Saving to: ‘BBBP.csv’\n",
            "\n",
            "BBBP.csv            100%[===================>] 145.26K   773KB/s    in 0.2s    \n",
            "\n",
            "2025-07-05 05:54:44 (773 KB/s) - ‘BBBP.csv’ saved [148743/148743]\n",
            "\n",
            "--2025-07-05 05:54:44--  https://deepchemdata.s3-us-west-1.amazonaws.com/datasets/tox21.csv.gz\n",
            "Resolving deepchemdata.s3-us-west-1.amazonaws.com (deepchemdata.s3-us-west-1.amazonaws.com)... 52.219.121.90, 16.15.0.144, 16.15.0.166, ...\n",
            "Connecting to deepchemdata.s3-us-west-1.amazonaws.com (deepchemdata.s3-us-west-1.amazonaws.com)|52.219.121.90|:443... connected.\n",
            "HTTP request sent, awaiting response... 200 OK\n",
            "Length: 122925 (120K) [application/x-gzip]\n",
            "Saving to: ‘tox21.csv.gz’\n",
            "\n",
            "tox21.csv.gz        100%[===================>] 120.04K  --.-KB/s    in 0.1s    \n",
            "\n",
            "2025-07-05 05:54:44 (957 KB/s) - ‘tox21.csv.gz’ saved [122925/122925]\n",
            "\n",
            "--2025-07-05 05:54:44--  https://deepchemdata.s3-us-west-1.amazonaws.com/datasets/sider.csv.gz\n",
            "Resolving deepchemdata.s3-us-west-1.amazonaws.com (deepchemdata.s3-us-west-1.amazonaws.com)... 52.219.121.90, 16.15.0.144, 16.15.0.166, ...\n",
            "Connecting to deepchemdata.s3-us-west-1.amazonaws.com (deepchemdata.s3-us-west-1.amazonaws.com)|52.219.121.90|:443... connected.\n",
            "HTTP request sent, awaiting response... 200 OK\n",
            "Length: 34759 (34K) [application/x-gzip]\n",
            "Saving to: ‘sider.csv.gz’\n",
            "\n",
            "sider.csv.gz        100%[===================>]  33.94K  --.-KB/s    in 0.06s   \n",
            "\n",
            "2025-07-05 05:54:44 (545 KB/s) - ‘sider.csv.gz’ saved [34759/34759]\n",
            "\n",
            "--2025-07-05 05:54:44--  https://deepchemdata.s3-us-west-1.amazonaws.com/datasets/clintox.csv.gz\n",
            "Resolving deepchemdata.s3-us-west-1.amazonaws.com (deepchemdata.s3-us-west-1.amazonaws.com)... 52.219.121.90, 16.15.0.144, 16.15.0.166, ...\n",
            "Connecting to deepchemdata.s3-us-west-1.amazonaws.com (deepchemdata.s3-us-west-1.amazonaws.com)|52.219.121.90|:443... connected.\n",
            "HTTP request sent, awaiting response... 200 OK\n",
            "Length: 19870 (19K) [application/x-gzip]\n",
            "Saving to: ‘clintox.csv.gz’\n",
            "\n",
            "clintox.csv.gz      100%[===================>]  19.40K  --.-KB/s    in 0s      \n",
            "\n",
            "2025-07-05 05:54:45 (47.0 MB/s) - ‘clintox.csv.gz’ saved [19870/19870]\n",
            "\n",
            "--2025-07-05 05:54:45--  https://deepchemdata.s3-us-west-1.amazonaws.com/datasets/Lipophilicity.csv\n",
            "Resolving deepchemdata.s3-us-west-1.amazonaws.com (deepchemdata.s3-us-west-1.amazonaws.com)... 52.219.121.90, 16.15.0.144, 16.15.0.166, ...\n",
            "Connecting to deepchemdata.s3-us-west-1.amazonaws.com (deepchemdata.s3-us-west-1.amazonaws.com)|52.219.121.90|:443... connected.\n",
            "HTTP request sent, awaiting response... 200 OK\n",
            "Length: 282606 (276K) [text/csv]\n",
            "Saving to: ‘Lipophilicity.csv’\n",
            "\n",
            "Lipophilicity.csv   100%[===================>] 275.98K  1.44MB/s    in 0.2s    \n",
            "\n",
            "2025-07-05 05:54:45 (1.44 MB/s) - ‘Lipophilicity.csv’ saved [282606/282606]\n",
            "\n",
            "--2025-07-05 05:54:45--  https://raw.githubusercontent.com/HIPS/neural-fingerprint/master/data/2015-06-03-malaria/malaria-processed.csv\n",
            "Resolving raw.githubusercontent.com (raw.githubusercontent.com)... 185.199.108.133, 185.199.109.133, 185.199.110.133, ...\n",
            "Connecting to raw.githubusercontent.com (raw.githubusercontent.com)|185.199.108.133|:443... connected.\n",
            "HTTP request sent, awaiting response... 200 OK\n",
            "Length: 735229 (718K) [text/plain]\n",
            "Saving to: ‘malaria-processed.csv’\n",
            "\n",
            "malaria-processed.c 100%[===================>] 718.00K  --.-KB/s    in 0.006s  \n",
            "\n",
            "2025-07-05 05:54:45 (110 MB/s) - ‘malaria-processed.csv’ saved [735229/735229]\n",
            "\n",
            "--2025-07-05 05:54:46--  https://raw.githubusercontent.com/HIPS/neural-fingerprint/master/data/2015-06-02-cep-pce/cep-processed.csv\n",
            "Resolving raw.githubusercontent.com (raw.githubusercontent.com)... 185.199.108.133, 185.199.109.133, 185.199.110.133, ...\n",
            "Connecting to raw.githubusercontent.com (raw.githubusercontent.com)|185.199.108.133|:443... connected.\n",
            "HTTP request sent, awaiting response... 200 OK\n",
            "Length: 2119766 (2.0M) [text/plain]\n",
            "Saving to: ‘cep-processed.csv’\n",
            "\n",
            "cep-processed.csv   100%[===================>]   2.02M  --.-KB/s    in 0.02s   \n",
            "\n",
            "2025-07-05 05:54:46 (89.4 MB/s) - ‘cep-processed.csv’ saved [2119766/2119766]\n",
            "\n",
            "--2025-07-05 05:54:46--  https://deepchemdata.s3-us-west-1.amazonaws.com/datasets/muv.csv.gz\n",
            "Resolving deepchemdata.s3-us-west-1.amazonaws.com (deepchemdata.s3-us-west-1.amazonaws.com)... 52.219.193.162, 52.219.117.114, 52.219.192.10, ...\n",
            "Connecting to deepchemdata.s3-us-west-1.amazonaws.com (deepchemdata.s3-us-west-1.amazonaws.com)|52.219.193.162|:443... connected.\n",
            "HTTP request sent, awaiting response... 200 OK\n",
            "Length: 1755511 (1.7M) [application/x-gzip]\n",
            "Saving to: ‘muv.csv.gz’\n",
            "\n",
            "muv.csv.gz          100%[===================>]   1.67M  4.49MB/s    in 0.4s    \n",
            "\n",
            "2025-07-05 05:54:47 (4.49 MB/s) - ‘muv.csv.gz’ saved [1755511/1755511]\n",
            "\n",
            "--2025-07-05 05:54:47--  https://deepchemdata.s3-us-west-1.amazonaws.com/datasets/toxcast_data.csv.gz\n",
            "Resolving deepchemdata.s3-us-west-1.amazonaws.com (deepchemdata.s3-us-west-1.amazonaws.com)... 52.219.193.162, 52.219.117.114, 52.219.192.10, ...\n",
            "Connecting to deepchemdata.s3-us-west-1.amazonaws.com (deepchemdata.s3-us-west-1.amazonaws.com)|52.219.193.162|:443... connected.\n",
            "HTTP request sent, awaiting response... 200 OK\n",
            "Length: 404948 (395K) [application/x-gzip]\n",
            "Saving to: ‘toxcast_data.csv.gz’\n",
            "\n",
            "toxcast_data.csv.gz 100%[===================>] 395.46K  1.56MB/s    in 0.2s    \n",
            "\n",
            "2025-07-05 05:54:47 (1.56 MB/s) - ‘toxcast_data.csv.gz’ saved [404948/404948]\n",
            "\n",
            "--2025-07-05 05:54:47--  https://deepchemdata.s3-us-west-1.amazonaws.com/datasets/qm8.csv\n",
            "Resolving deepchemdata.s3-us-west-1.amazonaws.com (deepchemdata.s3-us-west-1.amazonaws.com)... 52.219.193.162, 52.219.117.114, 52.219.192.10, ...\n",
            "Connecting to deepchemdata.s3-us-west-1.amazonaws.com (deepchemdata.s3-us-west-1.amazonaws.com)|52.219.193.162|:443... connected.\n",
            "HTTP request sent, awaiting response... 200 OK\n",
            "Length: 4719270 (4.5M) [text/csv]\n",
            "Saving to: ‘qm8.csv’\n",
            "\n",
            "qm8.csv             100%[===================>]   4.50M  10.3MB/s    in 0.4s    \n",
            "\n",
            "2025-07-05 05:54:48 (10.3 MB/s) - ‘qm8.csv’ saved [4719270/4719270]\n",
            "\n",
            "--2025-07-05 05:54:48--  https://deepchemdata.s3-us-west-1.amazonaws.com/datasets/qm7.csv\n",
            "Resolving deepchemdata.s3-us-west-1.amazonaws.com (deepchemdata.s3-us-west-1.amazonaws.com)... 52.219.193.162, 52.219.117.114, 52.219.192.10, ...\n",
            "Connecting to deepchemdata.s3-us-west-1.amazonaws.com (deepchemdata.s3-us-west-1.amazonaws.com)|52.219.193.162|:443... connected.\n",
            "HTTP request sent, awaiting response... 200 OK\n",
            "Length: 409378 (400K) [text/csv]\n",
            "Saving to: ‘qm7.csv’\n",
            "\n",
            "qm7.csv             100%[===================>] 399.78K  1.58MB/s    in 0.2s    \n",
            "\n",
            "2025-07-05 05:54:48 (1.58 MB/s) - ‘qm7.csv’ saved [409378/409378]\n",
            "\n"
          ]
        }
      ],
      "source": [
        "! cd /content/CAFE-MPP/Data && bash download_data.sh"
      ]
    },
    {
      "cell_type": "code",
      "execution_count": null,
      "metadata": {
        "colab": {
          "base_uri": "https://localhost:8080/"
        },
        "id": "Cd2xFUQiNlYO",
        "outputId": "0f0695c3-911c-4d4f-97d6-c57e9b1326e4"
      },
      "outputs": [
        {
          "name": "stdout",
          "output_type": "stream",
          "text": [
            "Collecting rdkit\n",
            "  Downloading rdkit-2025.3.3-cp311-cp311-manylinux_2_28_x86_64.whl.metadata (4.0 kB)\n",
            "Requirement already satisfied: numpy in /usr/local/lib/python3.11/dist-packages (from rdkit) (2.0.2)\n",
            "Requirement already satisfied: Pillow in /usr/local/lib/python3.11/dist-packages (from rdkit) (11.2.1)\n",
            "Downloading rdkit-2025.3.3-cp311-cp311-manylinux_2_28_x86_64.whl (34.9 MB)\n",
            "\u001b[2K   \u001b[90m━━━━━━━━━━━━━━━━━━━━━━━━━━━━━━━━━━━━━━━━\u001b[0m \u001b[32m34.9/34.9 MB\u001b[0m \u001b[31m15.2 MB/s\u001b[0m eta \u001b[36m0:00:00\u001b[0m\n",
            "\u001b[?25hInstalling collected packages: rdkit\n",
            "Successfully installed rdkit-2025.3.3\n"
          ]
        }
      ],
      "source": [
        "!pip install rdkit"
      ]
    },
    {
      "cell_type": "code",
      "execution_count": null,
      "metadata": {
        "colab": {
          "base_uri": "https://localhost:8080/"
        },
        "id": "FREwH7MROEFe",
        "outputId": "b1375565-67af-46db-de7b-783380770d1a"
      },
      "outputs": [
        {
          "name": "stdout",
          "output_type": "stream",
          "text": [
            "Collecting torch_geometric\n",
            "  Downloading torch_geometric-2.6.1-py3-none-any.whl.metadata (63 kB)\n",
            "\u001b[?25l     \u001b[90m━━━━━━━━━━━━━━━━━━━━━━━━━━━━━━━━━━━━━━━━\u001b[0m \u001b[32m0.0/63.1 kB\u001b[0m \u001b[31m?\u001b[0m eta \u001b[36m-:--:--\u001b[0m\r\u001b[2K     \u001b[90m━━━━━━━━━━━━━━━━━━━━━━━━━━━━━━━━━━━━━━━━\u001b[0m \u001b[32m63.1/63.1 kB\u001b[0m \u001b[31m2.2 MB/s\u001b[0m eta \u001b[36m0:00:00\u001b[0m\n",
            "\u001b[?25hRequirement already satisfied: aiohttp in /usr/local/lib/python3.11/dist-packages (from torch_geometric) (3.11.15)\n",
            "Requirement already satisfied: fsspec in /usr/local/lib/python3.11/dist-packages (from torch_geometric) (2025.3.2)\n",
            "Requirement already satisfied: jinja2 in /usr/local/lib/python3.11/dist-packages (from torch_geometric) (3.1.6)\n",
            "Requirement already satisfied: numpy in /usr/local/lib/python3.11/dist-packages (from torch_geometric) (2.0.2)\n",
            "Requirement already satisfied: psutil>=5.8.0 in /usr/local/lib/python3.11/dist-packages (from torch_geometric) (5.9.5)\n",
            "Requirement already satisfied: pyparsing in /usr/local/lib/python3.11/dist-packages (from torch_geometric) (3.2.3)\n",
            "Requirement already satisfied: requests in /usr/local/lib/python3.11/dist-packages (from torch_geometric) (2.32.3)\n",
            "Requirement already satisfied: tqdm in /usr/local/lib/python3.11/dist-packages (from torch_geometric) (4.67.1)\n",
            "Requirement already satisfied: aiohappyeyeballs>=2.3.0 in /usr/local/lib/python3.11/dist-packages (from aiohttp->torch_geometric) (2.6.1)\n",
            "Requirement already satisfied: aiosignal>=1.1.2 in /usr/local/lib/python3.11/dist-packages (from aiohttp->torch_geometric) (1.3.2)\n",
            "Requirement already satisfied: attrs>=17.3.0 in /usr/local/lib/python3.11/dist-packages (from aiohttp->torch_geometric) (25.3.0)\n",
            "Requirement already satisfied: frozenlist>=1.1.1 in /usr/local/lib/python3.11/dist-packages (from aiohttp->torch_geometric) (1.7.0)\n",
            "Requirement already satisfied: multidict<7.0,>=4.5 in /usr/local/lib/python3.11/dist-packages (from aiohttp->torch_geometric) (6.6.3)\n",
            "Requirement already satisfied: propcache>=0.2.0 in /usr/local/lib/python3.11/dist-packages (from aiohttp->torch_geometric) (0.3.2)\n",
            "Requirement already satisfied: yarl<2.0,>=1.17.0 in /usr/local/lib/python3.11/dist-packages (from aiohttp->torch_geometric) (1.20.1)\n",
            "Requirement already satisfied: MarkupSafe>=2.0 in /usr/local/lib/python3.11/dist-packages (from jinja2->torch_geometric) (3.0.2)\n",
            "Requirement already satisfied: charset-normalizer<4,>=2 in /usr/local/lib/python3.11/dist-packages (from requests->torch_geometric) (3.4.2)\n",
            "Requirement already satisfied: idna<4,>=2.5 in /usr/local/lib/python3.11/dist-packages (from requests->torch_geometric) (3.10)\n",
            "Requirement already satisfied: urllib3<3,>=1.21.1 in /usr/local/lib/python3.11/dist-packages (from requests->torch_geometric) (2.4.0)\n",
            "Requirement already satisfied: certifi>=2017.4.17 in /usr/local/lib/python3.11/dist-packages (from requests->torch_geometric) (2025.6.15)\n",
            "Downloading torch_geometric-2.6.1-py3-none-any.whl (1.1 MB)\n",
            "\u001b[2K   \u001b[90m━━━━━━━━━━━━━━━━━━━━━━━━━━━━━━━━━━━━━━━━\u001b[0m \u001b[32m1.1/1.1 MB\u001b[0m \u001b[31m35.0 MB/s\u001b[0m eta \u001b[36m0:00:00\u001b[0m\n",
            "\u001b[?25hInstalling collected packages: torch_geometric\n",
            "Successfully installed torch_geometric-2.6.1\n"
          ]
        }
      ],
      "source": [
        "!pip install torch_geometric"
      ]
    },
    {
      "cell_type": "code",
      "execution_count": null,
      "metadata": {
        "colab": {
          "base_uri": "https://localhost:8080/"
        },
        "id": "YHdaNvxRLX5-",
        "outputId": "474464cb-f09c-42d7-c536-46235d661102"
      },
      "outputs": [
        {
          "name": "stdout",
          "output_type": "stream",
          "text": [
            "{'batch_size': 256, 'warm_up': 10, 'epochs': 100, 'seed': 8, 'load_model': 'None', 'eval_every_n_epochs': 1, 'save_every_n_epochs': 1, 'log_every_n_steps': 50, 'init_lr': 0.0005, 'weight_decay': '1e-5', 'gpu': 'cuda:3', 'model_folder': 'pretrain', 'model': {'feat_dim': 256, 'num_TF_layers': 6, 'num_heads': 8, 'embed_dim': 512, 'ffn_hidden': 512, 'drop_rate': 0.1, 'ffn_drop_rate': 0.1, 'attention_drop_rate': 0.1, 'input_drop_rate': 0.1, 'vocab': 128, 'max_len': 256, 'num_GNN_layers': 3, 'in_channels': 128, 'hidden_channels': 256, 'out_channels': 256, 'train_eps': True, 'pool': 'add'}, 'dataset': {'data_path': '../Data/fragments_ccsinglebond.txt', 'max_len': 256}, 'wrapper': {'valid_rate': 0.05, 'num_workers': 8}, 'loss': {'temperature': 0.08, 'alpha': 0.8, 'reduction': 'sum', 'negative_mode': 'paired'}}\n",
            "/usr/local/lib/python3.11/dist-packages/torch/utils/data/dataloader.py:624: UserWarning: This DataLoader will create 8 worker processes in total. Our suggested max number of worker in current system is 2, which is smaller than what this DataLoader is going to create. Please be aware that excessive worker creation might get DataLoader running slow or even freeze, lower the worker number to avoid potential slowness/freeze if necessary.\n",
            "  warnings.warn(\n",
            "Pre-trained weights not found. Training from scratch.\n",
            "FragCLR(\n",
            "  (SeqEncoder): TransformerEncoder(\n",
            "    (embedding): Sequential(\n",
            "      (0): Embedding(128, 512, padding_idx=0)\n",
            "      (1): PositionEncoding()\n",
            "    )\n",
            "    (input_drop_rate): Dropout(p=0.1, inplace=False)\n",
            "    (encoder_layers): ModuleList(\n",
            "      (0-5): 6 x TransformerEncoderLayer(\n",
            "        (self_attention): MultiHeadAttention(\n",
            "          (linear_q): Linear(in_features=512, out_features=512, bias=True)\n",
            "          (linear_k): Linear(in_features=512, out_features=512, bias=True)\n",
            "          (linear_v): Linear(in_features=512, out_features=512, bias=True)\n",
            "          (dropout): Dropout(p=0.1, inplace=False)\n",
            "          (dropout_layer): Linear(in_features=512, out_features=512, bias=True)\n",
            "        )\n",
            "        (ffn): FeedForwardNetwork(\n",
            "          (layer1): Linear(in_features=512, out_features=512, bias=True)\n",
            "          (layer2): Linear(in_features=512, out_features=512, bias=True)\n",
            "          (gelu): GELU(approximate='none')\n",
            "          (dropout): Dropout(p=0.1, inplace=False)\n",
            "        )\n",
            "        (self_attention_norm): LayerNorm((512,), eps=1e-05, elementwise_affine=True)\n",
            "        (ffn_norm): LayerNorm((512,), eps=1e-05, elementwise_affine=True)\n",
            "        (self_attention_dropout): Dropout(p=0.1, inplace=False)\n",
            "        (ffn_dropout): Dropout(p=0.1, inplace=False)\n",
            "      )\n",
            "    )\n",
            "    (final_norm): LayerNorm((512,), eps=1e-05, elementwise_affine=True)\n",
            "  )\n",
            "  (GraphEncoder): GINet(\n",
            "    (GINE): GINE(\n",
            "      (convs): ModuleList(\n",
            "        (0-2): 3 x GINEConv(nn=Sequential(\n",
            "          (0): Linear(in_features=256, out_features=512, bias=True)\n",
            "          (1): BatchNorm1d(512, eps=1e-05, momentum=0.1, affine=True, track_running_stats=True)\n",
            "          (2): ReLU()\n",
            "          (3): Linear(in_features=512, out_features=256, bias=True)\n",
            "        ))\n",
            "      )\n",
            "      (norms): ModuleList(\n",
            "        (0-2): 3 x BatchNorm1d(256, eps=1e-05, momentum=0.1, affine=True, track_running_stats=True)\n",
            "      )\n",
            "      (atom_embed): Linear(in_features=128, out_features=256, bias=True)\n",
            "      (bond_embed): Linear(in_features=128, out_features=256, bias=True)\n",
            "      (lin): Linear(in_features=256, out_features=256, bias=True)\n",
            "    )\n",
            "    (atom_embedding): AtomEmbedding(\n",
            "      (atom_embedding_list): ModuleList(\n",
            "        (0): Embedding(119, 128)\n",
            "        (1): Embedding(7, 128)\n",
            "        (2-4): 3 x Embedding(6, 128)\n",
            "        (5): Embedding(2, 128)\n",
            "        (6): Embedding(6, 128)\n",
            "        (7): Embedding(5, 128)\n",
            "      )\n",
            "    )\n",
            "    (bond_embedding): BondEmbedding(\n",
            "      (bond_embedding_list): ModuleList(\n",
            "        (0): Embedding(5, 128)\n",
            "        (1-2): 2 x Embedding(2, 128)\n",
            "        (3): Embedding(5, 128)\n",
            "      )\n",
            "    )\n",
            "  )\n",
            "  (seq_feat_lin): Linear(in_features=512, out_features=256, bias=True)\n",
            "  (graph_feat_lin): Linear(in_features=256, out_features=256, bias=True)\n",
            "  (seq_projection): Sequential(\n",
            "    (0): Linear(in_features=256, out_features=256, bias=True)\n",
            "    (1): ReLU(inplace=True)\n",
            "    (2): Linear(in_features=256, out_features=128, bias=True)\n",
            "  )\n",
            "  (graph_projection): Sequential(\n",
            "    (0): Linear(in_features=256, out_features=256, bias=True)\n",
            "    (1): ReLU(inplace=True)\n",
            "    (2): Linear(in_features=256, out_features=128, bias=True)\n",
            "  )\n",
            ")\n",
            "^C\n"
          ]
        }
      ],
      "source": [
        "\n",
        "! cd /content/CAFE-MPP/Pretrain && python trainer.py"
      ]
    },
    {
      "cell_type": "code",
      "execution_count": null,
      "metadata": {
        "colab": {
          "base_uri": "https://localhost:8080/"
        },
        "id": "NuQUI3gFLTJm",
        "outputId": "af12f84c-cb3a-488b-b102-0a7639be2f36"
      },
      "outputs": [
        {
          "name": "stdout",
          "output_type": "stream",
          "text": [
            "Collecting ruamel.yaml<0.18\n",
            "  Downloading ruamel.yaml-0.17.40-py3-none-any.whl.metadata (19 kB)\n",
            "Collecting ruamel.yaml.clib>=0.2.7 (from ruamel.yaml<0.18)\n",
            "  Using cached ruamel.yaml.clib-0.2.12-cp311-cp311-manylinux_2_17_x86_64.manylinux2014_x86_64.whl.metadata (2.7 kB)\n",
            "Downloading ruamel.yaml-0.17.40-py3-none-any.whl (113 kB)\n",
            "\u001b[2K   \u001b[90m━━━━━━━━━━━━━━━━━━━━━━━━━━━━━━━━━━━━━━━━\u001b[0m \u001b[32m113.7/113.7 kB\u001b[0m \u001b[31m4.2 MB/s\u001b[0m eta \u001b[36m0:00:00\u001b[0m\n",
            "\u001b[?25hUsing cached ruamel.yaml.clib-0.2.12-cp311-cp311-manylinux_2_17_x86_64.manylinux2014_x86_64.whl (739 kB)\n",
            "Installing collected packages: ruamel.yaml.clib, ruamel.yaml\n",
            "  Attempting uninstall: ruamel.yaml.clib\n",
            "    Found existing installation: ruamel.yaml.clib 0.2.12\n",
            "    Uninstalling ruamel.yaml.clib-0.2.12:\n",
            "      Successfully uninstalled ruamel.yaml.clib-0.2.12\n",
            "  Attempting uninstall: ruamel.yaml\n",
            "    Found existing installation: ruamel.yaml 0.18.14\n",
            "    Uninstalling ruamel.yaml-0.18.14:\n",
            "      Successfully uninstalled ruamel.yaml-0.18.14\n",
            "Successfully installed ruamel.yaml-0.17.40 ruamel.yaml.clib-0.2.12\n"
          ]
        }
      ],
      "source": [
        "!pip install \"ruamel.yaml<0.18\" --force-reinstall"
      ]
    },
    {
      "cell_type": "code",
      "execution_count": null,
      "metadata": {
        "colab": {
          "base_uri": "https://localhost:8080/"
        },
        "id": "ULmORFe-LiAy",
        "outputId": "9c3b9876-e1fa-48cd-eac4-81631dbbd44e"
      },
      "outputs": [
        {
          "name": "stdout",
          "output_type": "stream",
          "text": [
            "running build_ext\n",
            "copying build/lib.linux-x86_64-cpython-311/Prediction/algos.cpython-311-x86_64-linux-gnu.so -> Prediction\n",
            "Traceback (most recent call last):\n",
            "  File \"/content/CAFE-MPP/Prediction/trainer.py\", line 11, in <module>\n",
            "    from collections import Iterable\n",
            "ImportError: cannot import name 'Iterable' from 'collections' (/usr/lib/python3.11/collections/__init__.py)\n"
          ]
        }
      ],
      "source": [
        "! cd /content/CAFE-MPP && python Prediction/setup.py build_ext --inplace"
      ]
    },
    {
      "cell_type": "code",
      "execution_count": null,
      "metadata": {
        "colab": {
          "background_save": true,
          "base_uri": "https://localhost:8080/"
        },
        "id": "ydJPWufEQ9OY",
        "outputId": "2c105792-7af0-452c-9e99-1ebe5b7939e6"
      },
      "outputs": [
        {
          "output_type": "stream",
          "name": "stdout",
          "text": [
            "{'batch_size': 256, 'epochs': 100, 'seed': 8, 'eval_every_n_epochs': 1, 'log_every_n_steps': 50, 'fine_tune_from': '../Pretrain/ckpt', 'init_lr': 2e-05, 'downstream_lr': 0.0003, 'weight_decay': 1e-06, 'gpu': 'cuda:3', 'model_folder': 'finetune', 'finetune': True, 'module': 'frag_feature', 'max_node': 256, 'spatial_pos_max': 20, 'multi_hop_max_dist': 20, 'edge_type': 'multi_hop', 'fragmentation': 'CCSingleBond', 'model': {'num_GNN_layers': 3, 'in_channels': 128, 'hidden_channels': 256, 'out_channels': 256, 'train_eps': True, 'pool': 'add', 'num_in_degree': 128, 'num_out_degree': 128, 'num_edges': 32, 'num_spatial': 256, 'num_edge_dis': 256, 'num_offset': 256, 'num_encoder_layers': 6, 'num_attention_heads': 8, 'embedding_dim': 512, 'dropout_rate': 0.15, 'input_dropout_rate': 0.1, 'ffn_dim': 512, 'attention_dropout_rate': 0.15}, 'dataset': {'dataset_name': 'bbbp', 'task': 'classification', 'target': 'p_np'}, 'wrapper': {'valid_rate': 0.1, 'test_rate': 0.1, 'split_type': 'scaffold', 'num_workers': 8, 'split_seed': 7}, 'exp': 0}\n",
            "dataset: 2036 molecules\n",
            "/usr/local/lib/python3.11/dist-packages/torch/utils/data/dataloader.py:624: UserWarning: This DataLoader will create 8 worker processes in total. Our suggested max number of worker in current system is 2, which is smaller than what this DataLoader is going to create. Please be aware that excessive worker creation might get DataLoader running slow or even freeze, lower the worker number to avoid potential slowness/freeze if necessary.\n",
            "  warnings.warn(\n",
            "len(train_loader):6\n",
            "len(valid_loader):1\n",
            "len(test_loader):1\n",
            "Pre-trained weights not found. Training from scratch.\n",
            "FragTransformer(\n",
            "  (frag_feature): FragFeature(\n",
            "    (GraphEncoder): GINet(\n",
            "      (GINE): GINE(\n",
            "        (convs): ModuleList(\n",
            "          (0-2): 3 x GINEConv(nn=Sequential(\n",
            "            (0): Linear(in_features=256, out_features=512, bias=True)\n",
            "            (1): BatchNorm1d(512, eps=1e-05, momentum=0.1, affine=True, track_running_stats=True)\n",
            "            (2): ReLU()\n",
            "            (3): Linear(in_features=512, out_features=256, bias=True)\n",
            "          ))\n",
            "        )\n",
            "        (norms): ModuleList(\n",
            "          (0-2): 3 x BatchNorm1d(256, eps=1e-05, momentum=0.1, affine=True, track_running_stats=True)\n",
            "        )\n",
            "        (atom_embed): Linear(in_features=128, out_features=256, bias=True)\n",
            "        (bond_embed): Linear(in_features=128, out_features=256, bias=True)\n",
            "        (lin): Linear(in_features=256, out_features=256, bias=True)\n",
            "      )\n",
            "      (atom_embedding): AtomEmbedding(\n",
            "        (atom_embedding_list): ModuleList(\n",
            "          (0): Embedding(119, 128)\n",
            "          (1): Embedding(7, 128)\n",
            "          (2-4): 3 x Embedding(6, 128)\n",
            "          (5): Embedding(2, 128)\n",
            "          (6): Embedding(6, 128)\n",
            "          (7): Embedding(5, 128)\n",
            "        )\n",
            "      )\n",
            "      (bond_embedding): BondEmbedding(\n",
            "        (bond_embedding_list): ModuleList(\n",
            "          (0): Embedding(5, 128)\n",
            "          (1-2): 2 x Embedding(2, 128)\n",
            "          (3): Embedding(5, 128)\n",
            "        )\n",
            "      )\n",
            "    )\n",
            "  )\n",
            "  (graph_frag_feature): GraphFragFeature(\n",
            "    (feat_lin): Linear(in_features=256, out_features=512, bias=True)\n",
            "    (in_degree_encoder): Embedding(128, 512, padding_idx=0)\n",
            "    (out_degree_encoder): Embedding(128, 512, padding_idx=0)\n",
            "    (graph_token): Embedding(1, 512)\n",
            "  )\n",
            "  (graph_attn_bias): GraphAttnBias(\n",
            "    (edge_encoder): Embedding(8193, 8, padding_idx=0)\n",
            "    (edge_dis_encoder): Embedding(16384, 1)\n",
            "    (spatial_pos_encoder): Embedding(256, 8, padding_idx=0)\n",
            "    (graph_token_virtual_distance): Embedding(1, 8)\n",
            "  )\n",
            "  (input_dropout): Dropout(p=0.1, inplace=False)\n",
            "  (layers): ModuleList(\n",
            "    (0-5): 6 x EncoderLayer(\n",
            "      (self_attention_norm): LayerNorm((512,), eps=1e-05, elementwise_affine=True)\n",
            "      (self_attention): MultiHeadAttention(\n",
            "        (linear_q): Linear(in_features=512, out_features=512, bias=True)\n",
            "        (linear_k): Linear(in_features=512, out_features=512, bias=True)\n",
            "        (linear_v): Linear(in_features=512, out_features=512, bias=True)\n",
            "        (att_dropout): Dropout(p=0.15, inplace=False)\n",
            "        (output_layer): Linear(in_features=512, out_features=512, bias=True)\n",
            "      )\n",
            "      (self_attention_dropout): Dropout(p=0.15, inplace=False)\n",
            "      (ffn_norm): LayerNorm((512,), eps=1e-05, elementwise_affine=True)\n",
            "      (ffn): FeedForwardNetwork(\n",
            "        (layer1): Linear(in_features=512, out_features=512, bias=True)\n",
            "        (gelu): GELU(approximate='none')\n",
            "        (layer2): Linear(in_features=512, out_features=512, bias=True)\n",
            "      )\n",
            "      (ffn_dropout): Dropout(p=0.15, inplace=False)\n",
            "    )\n",
            "  )\n",
            "  (final_ln): LayerNorm((512,), eps=1e-05, elementwise_affine=True)\n",
            "  (downstream_out_proj): Linear(in_features=512, out_features=2, bias=True)\n",
            ")\n",
            "epoch:0, n_iter:0, loss:0.6650248169898987\n"
          ]
        }
      ],
      "source": [
        "! cd /content/CAFE-MPP/Prediction && python trainer.py"
      ]
    },
    {
      "cell_type": "code",
      "execution_count": null,
      "metadata": {
        "id": "GM5pyIHaL-07"
      },
      "outputs": [],
      "source": []
    }
  ],
  "metadata": {
    "colab": {
      "provenance": []
    },
    "kernelspec": {
      "display_name": "Python 3",
      "name": "python3"
    },
    "language_info": {
      "name": "python"
    }
  },
  "nbformat": 4,
  "nbformat_minor": 0
}