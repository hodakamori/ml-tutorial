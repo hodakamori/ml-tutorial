{
 "cells": [
  {
   "cell_type": "code",
   "execution_count": 1,
   "metadata": {},
   "outputs": [],
   "source": [
    "import os\n",
    "\n",
    "from langchain.chains import RetrievalQA\n",
    "from langchain.chat_models import ChatOpenAI\n",
    "from langchain.document_loaders import TextLoader\n",
    "from langchain.embeddings import OpenAIEmbeddings\n",
    "from langchain.text_splitter import CharacterTextSplitter\n",
    "from langchain.vectorstores import Chroma"
   ]
  },
  {
   "cell_type": "code",
   "execution_count": 2,
   "metadata": {},
   "outputs": [],
   "source": [
    "assert os.environ[\"OPENAI_API_KEY\"]"
   ]
  },
  {
   "cell_type": "code",
   "execution_count": 3,
   "metadata": {},
   "outputs": [],
   "source": [
    "chunks_with_metadata = []\n",
    "for text in [\n",
    "    {\"category\": \"fix\", \"source\": \"lammps_fix_nvt.txt\"},\n",
    "    {\"category\": \"pair_style\", \"source\": \"lammps_pair_style.txt\"},\n",
    "]:\n",
    "    loader = TextLoader(text[\"source\"])\n",
    "    documents = loader.load()\n",
    "    text_splitter = CharacterTextSplitter(\n",
    "        chunk_size=1000, chunk_overlap=100, separator=\"\\n\"\n",
    "    )\n",
    "    chunks = text_splitter.split_documents(documents)\n",
    "    chunks_with_metadata += chunks"
   ]
  },
  {
   "cell_type": "code",
   "execution_count": 4,
   "metadata": {},
   "outputs": [
    {
     "name": "stderr",
     "output_type": "stream",
     "text": [
      "/tmp/ipykernel_25829/2979001685.py:1: LangChainDeprecationWarning: The class `OpenAIEmbeddings` was deprecated in LangChain 0.0.9 and will be removed in 1.0. An updated version of the class exists in the :class:`~langchain-openai package and should be used instead. To use it run `pip install -U :class:`~langchain-openai` and import as `from :class:`~langchain_openai import OpenAIEmbeddings``.\n",
      "  embeddings = OpenAIEmbeddings()\n"
     ]
    }
   ],
   "source": [
    "embeddings = OpenAIEmbeddings()\n",
    "vectorstore = Chroma.from_documents(\n",
    "    documents=chunks_with_metadata, embedding=embeddings, persist_directory=\"./data\"\n",
    ")"
   ]
  },
  {
   "cell_type": "code",
   "execution_count": null,
   "metadata": {},
   "outputs": [],
   "source": [
    "retriever = vectorstore.as_retriever(search_type=\"similarity\", search_kwargs={\"k\": 3})"
   ]
  },
  {
   "cell_type": "code",
   "execution_count": 7,
   "metadata": {},
   "outputs": [],
   "source": [
    "qa_chain = RetrievalQA.from_chain_type(\n",
    "    llm=ChatOpenAI(temperature=0, model_name=\"gpt-4o\"),\n",
    "    chain_type=\"stuff\",\n",
    "    retriever=retriever,\n",
    "    return_source_documents=True,\n",
    ")"
   ]
  },
  {
   "cell_type": "code",
   "execution_count": 8,
   "metadata": {},
   "outputs": [
    {
     "name": "stderr",
     "output_type": "stream",
     "text": [
      "/tmp/ipykernel_25829/3641214514.py:2: LangChainDeprecationWarning: The method `Chain.__call__` was deprecated in langchain 0.1.0 and will be removed in 1.0. Use :meth:`~invoke` instead.\n",
      "  result = qa_chain({\"query\": query})\n"
     ]
    }
   ],
   "source": [
    "query = \"LAMMPSで圧浴としてMTKを用いたNPTアンサンブルでシミュレーションを行うコードを書いてください。\"\n",
    "result = qa_chain({\"query\": query})"
   ]
  },
  {
   "cell_type": "code",
   "execution_count": 9,
   "metadata": {},
   "outputs": [
    {
     "data": {
      "text/plain": [
       "{'query': 'LAMMPSで圧浴としてMTKを用いたNPTアンサンブルでシミュレーションを行うコードを書いてください。',\n",
       " 'result': '以下は、LAMMPSでMTK（Martyna-Tobias-Klein）を用いたNPTアンサンブルでシミュレーションを行うための基本的なスクリプトの例です。このスクリプトは、シミュレーションボックスの圧力と温度を制御するためにNose-Hooverスタイルのサーモスタットとバロスタットを使用します。\\n\\n```lammps\\n# LAMMPS input script for NPT ensemble using MTK barostat\\n\\nunits           metal\\ndimension       3\\nboundary        p p p\\natom_style      atomic\\n\\n# Read in initial configuration\\nread_data       data.lammps\\n\\n# Define interatomic potential\\npair_style      eam\\npair_coeff      * * potential_file.eam\\n\\n# Define simulation settings\\nneighbor        2.0 bin\\nneigh_modify    delay 5\\n\\n# Define the temperature and pressure\\nvariable        T equal 300.0\\nvariable        P equal 1.0\\n\\n# Define the timestep\\ntimestep        0.001\\n\\n# Fix for NPT ensemble\\nfix             1 all npt temp ${T} ${T} 0.1 iso ${P} ${P} 1.0\\n\\n# Output settings\\nthermo          100\\nthermo_style    custom step temp press vol\\n\\n# Run the simulation\\nrun             10000\\n```\\n\\nこのスクリプトでは、`fix 1 all npt temp ${T} ${T} 0.1 iso ${P} ${P} 1.0` の行でNPTアンサンブルを設定しています。ここで、`temp`キーワードは目標温度を設定し、`iso`キーワードは等方的な圧力制御を行います。`0.1`と`1.0`はそれぞれ、温度と圧力の緩和時間を指定しています。`data.lammps`と`potential_file.eam`は、ユーザーのシステムに応じて適切なファイルに置き換えてください。',\n",
       " 'source_documents': [Document(metadata={'source': 'lammps_fix_nvt.txt'}, page_content='The equations of motion used are those of Shinoda et al in (Shinoda), which combine the hydrostatic equations of Martyna, Tobias and Klein in (Martyna) with the strain energy proposed by Parrinello and Rahman in (Parrinello). The time integration schemes closely follow the time-reversible measure-preserving Verlet and rRESPA integrators derived by Tuckerman et al in (Tuckerman).\\nThe thermostat parameters for fix styles nvt and npt are specified using the temp keyword. Other thermostat-related keywords are tchain, tloop and drag, which are discussed below.'),\n",
       "  Document(metadata={'source': 'lammps_fix_nvt.txt'}, page_content='These commands perform time integration on Nose-Hoover style non-Hamiltonian equations of motion which are designed to generate positions and velocities sampled from the canonical (nvt), isothermal-isobaric (npt), and isenthalpic (nph) ensembles. This updates the position and velocity for atoms in the group each timestep.'),\n",
       "  Document(metadata={'source': 'lammps_fix_nvt.txt'}, page_content='The thermostatting and barostatting is achieved by adding some dynamic variables which are coupled to the particle velocities (thermostatting) and simulation domain dimensions (barostatting). In addition to basic thermostatting and barostatting, these fixes can also create a chain of thermostats coupled to the particle thermostat, and another chain of thermostats coupled to the barostat variables. The barostat can be coupled to the overall box volume, or to individual dimensions, including the xy, xz and yz tilt dimensions. The external pressure of the barostat can be specified as either a scalar pressure (isobaric ensemble) or as components of a symmetric stress tensor (constant stress ensemble). When used correctly, the time-averaged temperature and stress tensor of the particles will match the target values specified by Tstart/Tstop and Pstart/Pstop.')]}"
      ]
     },
     "execution_count": 9,
     "metadata": {},
     "output_type": "execute_result"
    }
   ],
   "source": [
    "result"
   ]
  },
  {
   "cell_type": "code",
   "execution_count": null,
   "metadata": {},
   "outputs": [],
   "source": []
  }
 ],
 "metadata": {
  "kernelspec": {
   "display_name": "openmm",
   "language": "python",
   "name": "python3"
  },
  "language_info": {
   "codemirror_mode": {
    "name": "ipython",
    "version": 3
   },
   "file_extension": ".py",
   "mimetype": "text/x-python",
   "name": "python",
   "nbconvert_exporter": "python",
   "pygments_lexer": "ipython3",
   "version": "3.12.7"
  }
 },
 "nbformat": 4,
 "nbformat_minor": 2
}
