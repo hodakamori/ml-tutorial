{
 "cells": [
  {
   "cell_type": "code",
   "execution_count": 14,
   "metadata": {},
   "outputs": [],
   "source": [
    "import torch\n",
    "import torch.nn as nn\n",
    "import torch.nn.functional as F\n",
    "from torch_geometric.nn import GCNConv\n",
    "from torch_geometric.data import Data, DataLoader\n",
    "from rdkit import Chem\n",
    "from rdkit.Chem import AllChem"
   ]
  },
  {
   "cell_type": "code",
   "execution_count": 15,
   "metadata": {},
   "outputs": [],
   "source": [
    "class GCNMoleculeModel(nn.Module):\n",
    "    def __init__(self, num_node_features):\n",
    "        super(GCNMoleculeModel, self).__init__()\n",
    "        self.conv1 = GCNConv(num_node_features, 64)\n",
    "        self.conv2 = GCNConv(64, 64)\n",
    "        self.fc = nn.Linear(64, 1)\n",
    "\n",
    "    def forward(self, data):\n",
    "        x, edge_index = data.x, data.edge_index\n",
    "        x = F.relu(self.conv1(x, edge_index))\n",
    "        x = F.relu(self.conv2(x, edge_index))\n",
    "        x = torch.mean(x, dim=0)  # Global mean pooling\n",
    "        x = self.fc(x)\n",
    "        return x"
   ]
  },
  {
   "cell_type": "code",
   "execution_count": 16,
   "metadata": {},
   "outputs": [],
   "source": [
    "def smiles_to_graph(smiles):\n",
    "    mol = Chem.MolFromSmiles(smiles)\n",
    "    mol = Chem.AddHs(mol)\n",
    "\n",
    "    node_features = []\n",
    "    for atom in mol.GetAtoms():\n",
    "        feature = [\n",
    "            atom.GetAtomicNum(),\n",
    "            atom.GetTotalDegree(),\n",
    "            atom.GetFormalCharge(),\n",
    "            atom.GetTotalNumHs(),\n",
    "            int(atom.GetIsAromatic()),\n",
    "        ]\n",
    "        node_features.append(feature)\n",
    "\n",
    "    edges = []\n",
    "    for bond in mol.GetBonds():\n",
    "        i = bond.GetBeginAtomIdx()\n",
    "        j = bond.GetEndAtomIdx()\n",
    "        edges.append([i, j])\n",
    "        edges.append([j, i])\n",
    "\n",
    "    x = torch.tensor(node_features, dtype=torch.float)\n",
    "    edge_index = torch.tensor(edges, dtype=torch.long).t().contiguous()\n",
    "\n",
    "    return Data(x=x, edge_index=edge_index)"
   ]
  },
  {
   "cell_type": "code",
   "execution_count": 17,
   "metadata": {},
   "outputs": [],
   "source": [
    "graph = smiles_to_graph(\"CCC\")"
   ]
  },
  {
   "cell_type": "code",
   "execution_count": 18,
   "metadata": {},
   "outputs": [
    {
     "data": {
      "text/plain": [
       "tensor([[6., 4., 0., 0., 0.],\n",
       "        [6., 4., 0., 0., 0.],\n",
       "        [6., 4., 0., 0., 0.],\n",
       "        [1., 1., 0., 0., 0.],\n",
       "        [1., 1., 0., 0., 0.],\n",
       "        [1., 1., 0., 0., 0.],\n",
       "        [1., 1., 0., 0., 0.],\n",
       "        [1., 1., 0., 0., 0.],\n",
       "        [1., 1., 0., 0., 0.],\n",
       "        [1., 1., 0., 0., 0.],\n",
       "        [1., 1., 0., 0., 0.]])"
      ]
     },
     "execution_count": 18,
     "metadata": {},
     "output_type": "execute_result"
    }
   ],
   "source": [
    "graph.x"
   ]
  },
  {
   "cell_type": "code",
   "execution_count": 19,
   "metadata": {},
   "outputs": [
    {
     "data": {
      "text/plain": [
       "tensor([[ 0,  1,  1,  2,  0,  3,  0,  4,  0,  5,  1,  6,  1,  7,  2,  8,  2,  9,\n",
       "          2, 10],\n",
       "        [ 1,  0,  2,  1,  3,  0,  4,  0,  5,  0,  6,  1,  7,  1,  8,  2,  9,  2,\n",
       "         10,  2]])"
      ]
     },
     "execution_count": 19,
     "metadata": {},
     "output_type": "execute_result"
    }
   ],
   "source": [
    "graph.edge_index"
   ]
  },
  {
   "cell_type": "code",
   "execution_count": 20,
   "metadata": {},
   "outputs": [],
   "source": [
    "smiles_list = [\n",
    "    \"CC(=O)OC1=CC=CC=C1C(=O)O\",\n",
    "    \"CCO\",\n",
    "    \"C1=CC=NC=C1\",\n",
    "]  # アスピリン、エタノール、ピリジン\n",
    "values = [0, 1, 2]\n",
    "\n",
    "dataset = [\n",
    "    (smiles_to_graph(smiles), torch.tensor([label], dtype=torch.float))\n",
    "    for smiles, label in zip(smiles_list, values)\n",
    "]"
   ]
  },
  {
   "cell_type": "code",
   "execution_count": 21,
   "metadata": {},
   "outputs": [
    {
     "data": {
      "text/plain": [
       "[(Data(edge_index=[2, 42], x=[21, 5]), tensor([0.])),\n",
       " (Data(edge_index=[2, 16], x=[9, 5]), tensor([1.])),\n",
       " (Data(edge_index=[2, 22], x=[11, 5]), tensor([2.]))]"
      ]
     },
     "execution_count": 21,
     "metadata": {},
     "output_type": "execute_result"
    }
   ],
   "source": [
    "dataset"
   ]
  },
  {
   "cell_type": "code",
   "execution_count": 22,
   "metadata": {},
   "outputs": [],
   "source": [
    "# データローダーの設定\n",
    "loader = DataLoader(dataset, batch_size=1, shuffle=True)"
   ]
  },
  {
   "cell_type": "code",
   "execution_count": 23,
   "metadata": {},
   "outputs": [],
   "source": [
    "# モデルの初期化\n",
    "model = GCNMoleculeModel(num_node_features=5)\n",
    "optimizer = torch.optim.Adam(model.parameters(), lr=0.01)\n",
    "criterion = nn.MSELoss()"
   ]
  },
  {
   "cell_type": "code",
   "execution_count": 24,
   "metadata": {},
   "outputs": [
    {
     "name": "stdout",
     "output_type": "stream",
     "text": [
      "Epoch 1\n",
      "Loss: 5.515108585357666\n",
      "Loss: 0.07478471100330353\n",
      "Loss: 0.31003931164741516\n",
      "Epoch 2\n",
      "Loss: 0.09409603476524353\n",
      "Loss: 1.3412928581237793\n",
      "Loss: 0.8520198464393616\n",
      "Epoch 3\n",
      "Loss: 0.679561972618103\n",
      "Loss: 2.0366554260253906\n",
      "Loss: 0.013095987029373646\n",
      "Epoch 4\n",
      "Loss: 1.8889793157577515\n",
      "Loss: 0.00034540321212261915\n",
      "Loss: 0.8559615015983582\n",
      "Epoch 5\n",
      "Loss: 0.018706589937210083\n",
      "Loss: 1.1341453790664673\n",
      "Loss: 1.1077682971954346\n",
      "Epoch 6\n",
      "Loss: 1.1366193294525146\n",
      "Loss: 0.04141313582658768\n",
      "Loss: 1.0854483842849731\n",
      "Epoch 7\n",
      "Loss: 1.007396936416626\n",
      "Loss: 1.114715576171875\n",
      "Loss: 0.03131241351366043\n",
      "Epoch 8\n",
      "Loss: 1.0377110242843628\n",
      "Loss: 0.05386393889784813\n",
      "Loss: 1.1990697383880615\n",
      "Epoch 9\n",
      "Loss: 0.8502244353294373\n",
      "Loss: 0.08148965239524841\n",
      "Loss: 1.2866061925888062\n",
      "Epoch 10\n",
      "Loss: 0.7985292673110962\n",
      "Loss: 1.250282883644104\n",
      "Loss: 0.0704004317522049\n"
     ]
    },
    {
     "name": "stderr",
     "output_type": "stream",
     "text": [
      "/home/mori/miniforge3/envs/graphormer/lib/python3.9/site-packages/torch/nn/modules/loss.py:538: UserWarning: Using a target size (torch.Size([1, 1])) that is different to the input size (torch.Size([1])). This will likely lead to incorrect results due to broadcasting. Please ensure they have the same size.\n",
      "  return F.mse_loss(input, target, reduction=self.reduction)\n"
     ]
    }
   ],
   "source": [
    "# 訓練ループ\n",
    "def train():\n",
    "    model.train()\n",
    "    for data, target in loader:\n",
    "        optimizer.zero_grad()\n",
    "        output = model(data)\n",
    "        loss = criterion(output, target)\n",
    "        loss.backward()\n",
    "        optimizer.step()\n",
    "        print(f\"Loss: {loss.item()}\")\n",
    "\n",
    "\n",
    "# 訓練の実行\n",
    "for epoch in range(10):\n",
    "    print(f\"Epoch {epoch + 1}\")\n",
    "    train()"
   ]
  },
  {
   "cell_type": "code",
   "execution_count": 27,
   "metadata": {},
   "outputs": [
    {
     "name": "stdout",
     "output_type": "stream",
     "text": [
      "Predicted value CCN: tensor([0.7531])\n"
     ]
    }
   ],
   "source": [
    "def predict(smiles):\n",
    "    model.eval()\n",
    "    data = smiles_to_graph(smiles)\n",
    "    with torch.no_grad():\n",
    "        output = model(data)\n",
    "    return output\n",
    "\n",
    "\n",
    "# 予測の例\n",
    "test_smiles = \"CCN\"  # エチルアミン\n",
    "predicted_class = predict(test_smiles)\n",
    "print(f\"Predicted value {test_smiles}: {predicted_class}\")"
   ]
  },
  {
   "cell_type": "code",
   "execution_count": null,
   "metadata": {},
   "outputs": [],
   "source": []
  }
 ],
 "metadata": {
  "kernelspec": {
   "display_name": "base",
   "language": "python",
   "name": "python3"
  },
  "language_info": {
   "codemirror_mode": {
    "name": "ipython",
    "version": 3
   },
   "file_extension": ".py",
   "mimetype": "text/x-python",
   "name": "python",
   "nbconvert_exporter": "python",
   "pygments_lexer": "ipython3",
   "version": "3.9.19"
  }
 },
 "nbformat": 4,
 "nbformat_minor": 2
}
