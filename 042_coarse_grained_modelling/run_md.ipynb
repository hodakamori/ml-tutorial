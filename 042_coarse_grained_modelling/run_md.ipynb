{
 "cells": [
  {
   "cell_type": "code",
   "execution_count": 1,
   "metadata": {},
   "outputs": [],
   "source": [
    "import sys\n",
    "\n",
    "from forcefield import CGForceField\n",
    "from model_builder import CGModelBuilder\n",
    "from openmm import LangevinMiddleIntegrator, MonteCarloBarostat, unit\n",
    "from openmm.app import PDBFile, Simulation, StateDataReporter, XTCReporter\n"
   ]
  },
  {
   "cell_type": "code",
   "execution_count": 4,
   "metadata": {},
   "outputs": [],
   "source": [
    "builder = CGModelBuilder(\n",
    "    smiles_sequence=\"[EO]100\",\n",
    "    bond_length=0.36,  # nm\n",
    "    min_dist=0.41,  # nm\n",
    "    max_tries=50000,\n",
    ")\n",
    "topology, positions = builder.create_molecule()\n",
    "\n",
    "with open(\"peo100.pdb\", \"w\") as f:\n",
    "    PDBFile.writeFile(topology, positions, f)\n",
    "\n",
    "structures = [\n",
    "    {\n",
    "        \"pdb\": \"peo100.pdb\",\n",
    "        \"number\": 100,\n",
    "        \"box\": (0, 0, 0, 200, 200, 200),\n",
    "    },\n",
    "]\n",
    "topology, positions = builder.create_packed_model(\n",
    "    structures,\n",
    "    box_size=(200, 200, 200),  # nm\n",
    "    output_pdb=\"peo10_100.pdb\",\n",
    ")"
   ]
  },
  {
   "cell_type": "code",
   "execution_count": 5,
   "metadata": {},
   "outputs": [],
   "source": [
    "param_dict = {\n",
    "    \"BOND\": {\n",
    "        (\"EO\", \"EO\"): {\"r0\": 0.36, \"k\": 7000},\n",
    "    },\n",
    "    \"ANGLE\": {\n",
    "        (\"EO\", \"EO\", \"EO\"): {\"theta0\": 2.147, \"k\": 80},\n",
    "    },\n",
    "    \"TORSION\": {\n",
    "        (\"EO\", \"EO\", \"EO\", \"EO\"): [\n",
    "            {\"periodicity\": 1, \"phase\": 0.0, \"k\": 0.657},\n",
    "            {\"periodicity\": 2, \"phase\": 0.0, \"k\": 0.657},\n",
    "        ]\n",
    "    },\n",
    "    \"NONBONDED\": {\n",
    "        \"EO\": {\"sigma\": 0.41, \"epsilon\": 2.35, \"charge\": 0.0, \"mass\": 44.0},\n",
    "    },\n",
    "}\n",
    "ff = CGForceField.from_dict(param_dict)\n",
    "system = ff.create_system(topology)"
   ]
  },
  {
   "cell_type": "code",
   "execution_count": null,
   "metadata": {},
   "outputs": [
    {
     "name": "stdout",
     "output_type": "stream",
     "text": [
      "#\"Step\",\"Time (ps)\",\"Potential Energy (kJ/mole)\",\"Kinetic Energy (kJ/mole)\",\"Temperature (K)\",\"Box Volume (nm^3)\",\"Density (g/mL)\"\n",
      "1000,39.999999999999325,-35116.000100378325,37699.794081977605,302.28286792435154,6981176.765188586,0.00010465817069692196\n",
      "2000,80.00000000000131,-36746.47882407601,37047.58494568599,297.0533526708732,6045708.598271029,0.00012085220080991704\n"
     ]
    }
   ],
   "source": [
    "!rm md_traj.xtc md.log\n",
    "temperature = 300 * unit.kelvin\n",
    "friction = 10 / unit.picosecond\n",
    "timestep = 40 * unit.femtosecond\n",
    "integrator = LangevinMiddleIntegrator(temperature, friction, timestep)\n",
    "simulation = Simulation(topology, system, integrator)\n",
    "\n",
    "barostat = MonteCarloBarostat(1.0 * unit.atmospheres, temperature)\n",
    "simulation.system.addForce(barostat)\n",
    "\n",
    "simulation.context.setPositions(positions)\n",
    "\n",
    "simulation.reporters.append(XTCReporter(\"md_traj.xtc\", 1000))\n",
    "simulation.reporters.append(\n",
    "    StateDataReporter(\n",
    "        sys.stdout,\n",
    "        1000,\n",
    "        step=True,\n",
    "        time=True,\n",
    "        potentialEnergy=True,\n",
    "        kineticEnergy=True,\n",
    "        temperature=True,\n",
    "        volume=True,\n",
    "        density=True,\n",
    "    )\n",
    ")\n",
    "simulation.reporters.append(\n",
    "    StateDataReporter(\n",
    "        \"md.log\",\n",
    "        1000,\n",
    "        step=True,\n",
    "        time=True,\n",
    "        potentialEnergy=True,\n",
    "        kineticEnergy=True,\n",
    "        temperature=True,\n",
    "        volume=True,\n",
    "        density=True,\n",
    "    )\n",
    ")\n",
    "\n",
    "state = simulation.context.getState(\n",
    "    getPositions=True, getEnergy=True, enforcePeriodicBox=True\n",
    ")\n",
    "PDBFile.writeFile(\n",
    "    simulation.topology, state.getPositions(), open(\"md_traj_init.pdb\", \"w\")\n",
    ")\n",
    "simulation.context.reinitialize(preserveState=True)\n",
    "simulation.minimizeEnergy()\n",
    "simulation.context.setVelocitiesToTemperature(300 * unit.kelvin)\n",
    "simulation.step(100_000)"
   ]
  },
  {
   "cell_type": "code",
   "execution_count": 5,
   "metadata": {},
   "outputs": [
    {
     "data": {
      "application/vnd.jupyter.widget-view+json": {
       "model_id": "3c8f2794364342cb9c1f6ee03d8b6002",
       "version_major": 2,
       "version_minor": 0
      },
      "text/plain": []
     },
     "metadata": {},
     "output_type": "display_data"
    },
    {
     "name": "stderr",
     "output_type": "stream",
     "text": [
      "/home/mori/work/flowapp/.venv/lib/python3.12/site-packages/MDAnalysis/coordinates/XDR.py:240: UserWarning: Reload offsets from trajectory\n",
      " ctime or size or n_atoms did not match\n",
      "  warnings.warn(\"Reload offsets from trajectory\\n \"\n"
     ]
    },
    {
     "data": {
      "application/vnd.jupyter.widget-view+json": {
       "model_id": "6218d24697174a9e9d431290305f7589",
       "version_major": 2,
       "version_minor": 0
      },
      "text/plain": [
       "NGLWidget(max_frame=99)"
      ]
     },
     "metadata": {},
     "output_type": "display_data"
    }
   ],
   "source": [
    "import MDAnalysis as mda\n",
    "import nglview as nv\n",
    "\n",
    "bonds = list(topology.bonds())\n",
    "bonds_nglview = []\n",
    "for bond in bonds:\n",
    "    bonds_nglview.append((bond[0].index, bond[1].index))\n",
    "u = mda.Universe(\"md_traj_init.pdb\", \"md_traj.xtc\")\n",
    "u.add_TopologyAttr(\"bonds\", bonds_nglview)\n",
    "view = nv.show_mdanalysis(u)\n",
    "view.add_ball_and_stick()\n",
    "view.add_representation(\"ball+stick\", colorScheme=\"resname\")\n",
    "view.add_representation(\"unitcell\")\n",
    "view"
   ]
  },
  {
   "cell_type": "code",
   "execution_count": null,
   "metadata": {},
   "outputs": [
    {
     "ename": "",
     "evalue": "",
     "output_type": "error",
     "traceback": [
      "\u001b[1;31mnotebook controller is DISPOSED. \n",
      "\u001b[1;31mView Jupyter <a href='command:jupyter.viewOutput'>log</a> for further details."
     ]
    },
    {
     "ename": "",
     "evalue": "",
     "output_type": "error",
     "traceback": [
      "\u001b[1;31mnotebook controller is DISPOSED. \n",
      "\u001b[1;31mView Jupyter <a href='command:jupyter.viewOutput'>log</a> for further details."
     ]
    }
   ],
   "source": [
    "import pandas as pd\n",
    "\n",
    "df = pd.read_csv(\"md.log\")"
   ]
  },
  {
   "cell_type": "code",
   "execution_count": null,
   "metadata": {},
   "outputs": [
    {
     "data": {
      "text/plain": [
       "[<matplotlib.lines.Line2D at 0x7fedd0368e00>]"
      ]
     },
     "execution_count": 14,
     "metadata": {},
     "output_type": "execute_result"
    },
    {
     "data": {
      "image/png": "[encoded data removed]",
      "text/plain": [
       "<Figure size 640x480 with 1 Axes>"
      ]
     },
     "metadata": {},
     "output_type": "display_data"
    },
    {
     "ename": "",
     "evalue": "",
     "output_type": "error",
     "traceback": [
      "\u001b[1;31mnotebook controller is DISPOSED. \n",
      "\u001b[1;31mView Jupyter <a href='command:jupyter.viewOutput'>log</a> for further details."
     ]
    },
    {
     "ename": "",
     "evalue": "",
     "output_type": "error",
     "traceback": [
      "\u001b[1;31mnotebook controller is DISPOSED. \n",
      "\u001b[1;31mView Jupyter <a href='command:jupyter.viewOutput'>log</a> for further details."
     ]
    }
   ],
   "source": [
    "import matplotlib.pyplot as plt\n",
    "\n",
    "plt.plot(df[\"Density (g/mL)\"])"
   ]
  },
  {
   "cell_type": "code",
   "execution_count": null,
   "metadata": {},
   "outputs": [
    {
     "ename": "",
     "evalue": "",
     "output_type": "error",
     "traceback": [
      "\u001b[1;31mnotebook controller is DISPOSED. \n",
      "\u001b[1;31mView Jupyter <a href='command:jupyter.viewOutput'>log</a> for further details."
     ]
    },
    {
     "ename": "",
     "evalue": "",
     "output_type": "error",
     "traceback": [
      "\u001b[1;31mnotebook controller is DISPOSED. \n",
      "\u001b[1;31mView Jupyter <a href='command:jupyter.viewOutput'>log</a> for further details."
     ]
    }
   ],
   "source": []
  }
 ],
 "metadata": {
  "kernelspec": {
   "display_name": ".venv",
   "language": "python",
   "name": "python3"
  },
  "language_info": {
   "codemirror_mode": {
    "name": "ipython",
    "version": 3
   },
   "file_extension": ".py",
   "mimetype": "text/x-python",
   "name": "python",
   "nbconvert_exporter": "python",
   "pygments_lexer": "ipython3",
   "version": "3.12.7"
  }
 },
 "nbformat": 4,
 "nbformat_minor": 2
}
