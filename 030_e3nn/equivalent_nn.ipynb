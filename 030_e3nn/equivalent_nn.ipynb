{
 "cells": [
  {
   "cell_type": "code",
   "execution_count": 144,
   "metadata": {},
   "outputs": [],
   "source": [
    "import torch\n",
    "from torch_geometric.data import Data\n",
    "from e3nn import o3\n",
    "from e3nn.nn import Gate, FullyConnectedNet\n",
    "from e3nn.o3 import FullyConnectedTensorProduct\n"
   ]
  },
  {
   "cell_type": "code",
   "execution_count": 145,
   "metadata": {},
   "outputs": [],
   "source": [
    "def create_random_molecule(num_atoms=5):\n",
    "    pos = torch.randn(num_atoms, 3)\n",
    "    edge_index = torch.combinations(torch.arange(num_atoms), r=2).T\n",
    "    edge_index = torch.cat([edge_index, edge_index.flip(0)], dim=1)\n",
    "    return Data(pos=pos, edge_index=edge_index)\n"
   ]
  },
  {
   "cell_type": "code",
   "execution_count": 146,
   "metadata": {},
   "outputs": [
    {
     "data": {
      "text/plain": [
       "tensor([[0, 0, 0, 0, 1, 1, 1, 2, 2, 3, 1, 2, 3, 4, 2, 3, 4, 3, 4, 4],\n",
       "        [1, 2, 3, 4, 2, 3, 4, 3, 4, 4, 0, 0, 0, 0, 1, 1, 1, 2, 2, 3]])"
      ]
     },
     "execution_count": 146,
     "metadata": {},
     "output_type": "execute_result"
    }
   ],
   "source": [
    "data = create_random_molecule()\n",
    "x = data.pos\n",
    "edge_index = data.edge_index\n",
    "edge_index"
   ]
  },
  {
   "cell_type": "code",
   "execution_count": 147,
   "metadata": {},
   "outputs": [],
   "source": [
    "edge_src, edge_dst = edge_index\n",
    "edge_vec = x[edge_dst] - x[edge_src]\n",
    "edge_attr = o3.spherical_harmonics(l=1, x=edge_vec, normalize=True, normalization='component')\n",
    "node_attr = o3.spherical_harmonics(l=1, x=x, normalize=True, normalization='component')"
   ]
  },
  {
   "cell_type": "code",
   "execution_count": 148,
   "metadata": {},
   "outputs": [
    {
     "name": "stdout",
     "output_type": "stream",
     "text": [
      "Shape of x: torch.Size([5, 3])\n",
      "Shape of edge_vec: torch.Size([20, 3])\n",
      "Shape of edge_attr: torch.Size([20, 3])\n",
      "Shape of node_attr: torch.Size([5, 3])\n"
     ]
    }
   ],
   "source": [
    "print(\"Shape of x:\", x.shape)\n",
    "print(\"Shape of edge_vec:\", edge_vec.shape)\n",
    "print(\"Shape of edge_attr:\", edge_attr.shape)\n",
    "print(\"Shape of node_attr:\", node_attr.shape)"
   ]
  },
  {
   "cell_type": "code",
   "execution_count": 149,
   "metadata": {},
   "outputs": [
    {
     "name": "stderr",
     "output_type": "stream",
     "text": [
      "/home/hodaka/miniforge3/envs/ml/lib/python3.9/site-packages/torch/jit/_check.py:178: UserWarning: The TorchScript type system doesn't support instance-level annotations on empty non-base types in `__init__`. Instead, either 1) use a type annotation in the class body, or 2) wrap the type in `torch.jit.Attribute`.\n",
      "  warnings.warn(\n"
     ]
    },
    {
     "data": {
      "text/plain": [
       "FullyConnectedTensorProduct(1x1o x 1x1o -> 16x0e+8x1o | 16 paths | 16 weights)"
      ]
     },
     "execution_count": 149,
     "metadata": {},
     "output_type": "execute_result"
    },
    {
     "data": {
      "image/png": "[encoded data removed]",
      "text/plain": [
       "<Figure size 640x480 with 1 Axes>"
      ]
     },
     "metadata": {},
     "output_type": "display_data"
    }
   ],
   "source": [
    "tp = FullyConnectedTensorProduct(\n",
    "    irreps_in1=o3.Irreps(\"1o\"),\n",
    "    irreps_in2=o3.Irreps(\"1o\"),\n",
    "    irreps_out=o3.Irreps(\"16x0e + 8x1o\")\n",
    "    )\n",
    "tp.visualize()\n",
    "tp"
   ]
  },
  {
   "cell_type": "code",
   "execution_count": 150,
   "metadata": {},
   "outputs": [
    {
     "name": "stdout",
     "output_type": "stream",
     "text": [
      "\n",
      "Input irreps:\n",
      "irreps_in1: 1x1o\n",
      "irreps_in2: 1x1o\n",
      "\n",
      "Output irreps:\n",
      "irreps_out: 16x0e+8x1o\n",
      "\n",
      "Expected dimensions:\n",
      "Input 1 dimension: 3\n",
      "Input 2 dimension: 3\n",
      "Output dimension: 40\n"
     ]
    }
   ],
   "source": [
    "print(\"\\nInput irreps:\")\n",
    "print(\"irreps_in1:\", tp.irreps_in1)\n",
    "print(\"irreps_in2:\", tp.irreps_in2)\n",
    "\n",
    "print(\"\\nOutput irreps:\")\n",
    "print(\"irreps_out:\", tp.irreps_out)\n",
    "\n",
    "# 期待される入力と出力の次元を確認\n",
    "print(\"\\nExpected dimensions:\")\n",
    "print(\"Input 1 dimension:\", tp.irreps_in1.dim)\n",
    "print(\"Input 2 dimension:\", tp.irreps_in2.dim)\n",
    "print(\"Output dimension:\", tp.irreps_out.dim)"
   ]
  },
  {
   "cell_type": "code",
   "execution_count": 151,
   "metadata": {},
   "outputs": [],
   "source": [
    "x = tp(node_attr, node_attr)"
   ]
  },
  {
   "cell_type": "code",
   "execution_count": 154,
   "metadata": {},
   "outputs": [
    {
     "name": "stdout",
     "output_type": "stream",
     "text": [
      "16x0e+8x1o\n",
      "torch.Size([5, 40])\n"
     ]
    }
   ],
   "source": [
    "print(tp.irreps_out)\n",
    "print(x.shape)"
   ]
  },
  {
   "cell_type": "code",
   "execution_count": 155,
   "metadata": {},
   "outputs": [
    {
     "name": "stderr",
     "output_type": "stream",
     "text": [
      "/home/hodaka/miniforge3/envs/ml/lib/python3.9/site-packages/torch/jit/_check.py:178: UserWarning: The TorchScript type system doesn't support instance-level annotations on empty non-base types in `__init__`. Instead, either 1) use a type annotation in the class body, or 2) wrap the type in `torch.jit.Attribute`.\n",
      "  warnings.warn(\n"
     ]
    }
   ],
   "source": [
    "gate = Gate(\n",
    "    irreps_scalars=o3.Irreps(\"8x0e\"),\n",
    "    act_scalars=[torch.tanh],\n",
    "    irreps_gates=o3.Irreps(\"8x0e\"),  \n",
    "    act_gates=[torch.tanh],\n",
    "    irreps_gated=o3.Irreps(\"8x1o\")\n",
    ")"
   ]
  },
  {
   "cell_type": "code",
   "execution_count": 156,
   "metadata": {},
   "outputs": [
    {
     "name": "stdout",
     "output_type": "stream",
     "text": [
      "Gate input: 16x0e+8x1o\n",
      "Gate scalars: 8x0e\n",
      "Gate gates: 8x0e\n",
      "Gate gated: 8x1o\n",
      "Gate output: 8x0e+8x1o\n"
     ]
    }
   ],
   "source": [
    "print(\"Gate input:\", gate.irreps_in)\n",
    "print(\"Gate scalars:\", gate.irreps_scalars)\n",
    "print(\"Gate gates:\", gate.irreps_gates)\n",
    "print(\"Gate gated:\", gate.irreps_gated)\n",
    "print(\"Gate output:\", gate.irreps_out)"
   ]
  },
  {
   "cell_type": "code",
   "execution_count": 157,
   "metadata": {},
   "outputs": [],
   "source": [
    "x = gate(x)"
   ]
  },
  {
   "cell_type": "code",
   "execution_count": 158,
   "metadata": {},
   "outputs": [],
   "source": [
    "fc_net = FullyConnectedNet(\n",
    "    [gate.irreps_out.dim, 64, 1],  # 入力次元、中間層、出力次元\n",
    "    act=torch.relu  # 活性化関数\n",
    ")"
   ]
  },
  {
   "cell_type": "code",
   "execution_count": 160,
   "metadata": {},
   "outputs": [
    {
     "name": "stdout",
     "output_type": "stream",
     "text": [
      "[32, 64, 1]\n"
     ]
    }
   ],
   "source": [
    "print(fc_net.hs)"
   ]
  },
  {
   "cell_type": "code",
   "execution_count": 161,
   "metadata": {},
   "outputs": [],
   "source": [
    "y = fc_net(x)"
   ]
  },
  {
   "cell_type": "code",
   "execution_count": 162,
   "metadata": {},
   "outputs": [
    {
     "data": {
      "text/plain": [
       "tensor([[-0.6025],\n",
       "        [-0.6025],\n",
       "        [-0.6025],\n",
       "        [-0.6025],\n",
       "        [-0.6025]], grad_fn=<MmBackward0>)"
      ]
     },
     "execution_count": 162,
     "metadata": {},
     "output_type": "execute_result"
    }
   ],
   "source": [
    "y"
   ]
  },
  {
   "cell_type": "code",
   "execution_count": 181,
   "metadata": {},
   "outputs": [],
   "source": [
    "class EquivariantNN(torch.nn.Module):\n",
    "    def __init__(self):\n",
    "        super().__init__()\n",
    "        self.tp = FullyConnectedTensorProduct(\n",
    "            irreps_in1=o3.Irreps(\"1o\"),\n",
    "            irreps_in2=o3.Irreps(\"1o\"),\n",
    "            irreps_out=o3.Irreps(\"16x0e + 8x1o\")\n",
    "        )\n",
    "        self.gate = Gate(\n",
    "            irreps_scalars=o3.Irreps(\"8x0e\"),\n",
    "            act_scalars=[torch.tanh],\n",
    "            irreps_gates=o3.Irreps(\"8x0e\"),  \n",
    "            act_gates=[torch.tanh],\n",
    "            irreps_gated=o3.Irreps(\"8x1o\")\n",
    "        )\n",
    "        self.fc_net = FullyConnectedNet(\n",
    "            [gate.irreps_out.dim, 64, 1],  # 入力次元、中間層、出力次元\n",
    "            act=torch.relu  # 活性化関数\n",
    "        )\n",
    "\n",
    "    def forward(self, x):\n",
    "        # edge_src, edge_dst = edge_index\n",
    "        # edge_vec = x[edge_dst] - x[edge_src]\n",
    "        # edge_attr = o3.spherical_harmonics(l=1, x=edge_vec, normalize=True, normalization='component')\n",
    "        node_attr = o3.spherical_harmonics(l=1, x=x, normalize=True, normalization='component')\n",
    "        x = self.tp(node_attr, node_attr)\n",
    "        x = self.gate(x)\n",
    "        y = self.fc_net(x)\n",
    "        return y\n"
   ]
  },
  {
   "cell_type": "code",
   "execution_count": 182,
   "metadata": {},
   "outputs": [
    {
     "name": "stderr",
     "output_type": "stream",
     "text": [
      "/home/hodaka/miniforge3/envs/ml/lib/python3.9/site-packages/torch/jit/_check.py:178: UserWarning: The TorchScript type system doesn't support instance-level annotations on empty non-base types in `__init__`. Instead, either 1) use a type annotation in the class body, or 2) wrap the type in `torch.jit.Attribute`.\n",
      "  warnings.warn(\n"
     ]
    }
   ],
   "source": [
    "data = create_random_molecule()\n",
    "model = EquivariantNN()\n",
    "x = data.pos\n",
    "y = model(x)"
   ]
  },
  {
   "cell_type": "code",
   "execution_count": 183,
   "metadata": {},
   "outputs": [
    {
     "data": {
      "text/plain": [
       "torch.Size([5, 3])"
      ]
     },
     "execution_count": 183,
     "metadata": {},
     "output_type": "execute_result"
    }
   ],
   "source": [
    "x.shape"
   ]
  },
  {
   "cell_type": "code",
   "execution_count": 184,
   "metadata": {},
   "outputs": [
    {
     "data": {
      "text/plain": [
       "torch.Size([5, 1])"
      ]
     },
     "execution_count": 184,
     "metadata": {},
     "output_type": "execute_result"
    }
   ],
   "source": [
    "y.shape"
   ]
  },
  {
   "cell_type": "code",
   "execution_count": 4,
   "metadata": {},
   "outputs": [],
   "source": [
    "def test_equivariance(model, data):\n",
    "    print(f\"Input shape: {data.pos.shape}\")\n",
    "    out1 = model(data.pos, data.edge_index)\n",
    "    print(f\"Output shape: {out1.shape}\")\n",
    "    print(f\"Output type: {type(out1)}\")\n",
    "\n",
    "    # Apply random rotation\n",
    "    R = o3.rand_matrix()\n",
    "    rotated_pos = torch.einsum('ij,nj->ni', R, data.pos)\n",
    "    out2 = model(rotated_pos, data.edge_index)\n",
    "    rotated_out2 = torch.einsum('ij,nj->ni', R, out2)\n",
    "\n",
    "    diff = (out1 - rotated_out2).abs().max().item()\n",
    "    print(f\"Maximum difference after rotation: {diff:.6f}\")\n",
    "    return diff < 1e-5"
   ]
  },
  {
   "cell_type": "code",
   "execution_count": 5,
   "metadata": {},
   "outputs": [
    {
     "name": "stdout",
     "output_type": "stream",
     "text": [
      "Spherical harmonics shape: torch.Size([20, 9])\n",
      "Mean of squared spherical harmonics: 1.000000\n",
      "x shape: torch.Size([5, 3])\n",
      "sh shape: torch.Size([20, 9])\n",
      "x_extended shape: torch.Size([20, 3])\n"
     ]
    },
    {
     "name": "stderr",
     "output_type": "stream",
     "text": [
      "/home/hodaka/miniforge3/envs/ml/lib/python3.9/site-packages/torch/overrides.py:110: UserWarning: 'has_cuda' is deprecated, please use 'torch.backends.cuda.is_built()'\n",
      "  torch.has_cuda,\n",
      "/home/hodaka/miniforge3/envs/ml/lib/python3.9/site-packages/torch/overrides.py:111: UserWarning: 'has_cudnn' is deprecated, please use 'torch.backends.cudnn.is_available()'\n",
      "  torch.has_cudnn,\n",
      "/home/hodaka/miniforge3/envs/ml/lib/python3.9/site-packages/torch/overrides.py:117: UserWarning: 'has_mps' is deprecated, please use 'torch.backends.mps.is_built()'\n",
      "  torch.has_mps,\n",
      "/home/hodaka/miniforge3/envs/ml/lib/python3.9/site-packages/torch/overrides.py:118: UserWarning: 'has_mkldnn' is deprecated, please use 'torch.backends.mkldnn.is_available()'\n",
      "  torch.has_mkldnn,\n",
      "/home/hodaka/miniforge3/envs/ml/lib/python3.9/site-packages/torch/jit/_check.py:178: UserWarning: The TorchScript type system doesn't support instance-level annotations on empty non-base types in `__init__`. Instead, either 1) use a type annotation in the class body, or 2) wrap the type in `torch.jit.Attribute`.\n",
      "  warnings.warn(\n"
     ]
    },
    {
     "ename": "RuntimeError",
     "evalue": "Weights must be provided when the TensorProduct does not have `internal_weights`",
     "output_type": "error",
     "traceback": [
      "\u001b[0;31m---------------------------------------------------------------------------\u001b[0m",
      "\u001b[0;31mRuntimeError\u001b[0m                              Traceback (most recent call last)",
      "Cell \u001b[0;32mIn[5], line 39\u001b[0m\n\u001b[1;32m     35\u001b[0m \u001b[38;5;28mprint\u001b[39m(\u001b[38;5;124mf\u001b[39m\u001b[38;5;124m\"\u001b[39m\u001b[38;5;124mx_extended shape: \u001b[39m\u001b[38;5;132;01m{\u001b[39;00mx_extended\u001b[38;5;241m.\u001b[39mshape\u001b[38;5;132;01m}\u001b[39;00m\u001b[38;5;124m\"\u001b[39m)\n\u001b[1;32m     37\u001b[0m \u001b[38;5;66;03m# 問題点2: 変数名の不一致（edge_attrではなくsh）\u001b[39;00m\n\u001b[1;32m     38\u001b[0m \u001b[38;5;66;03m# 修正案2: 正しい変数名を使用\u001b[39;00m\n\u001b[0;32m---> 39\u001b[0m output \u001b[38;5;241m=\u001b[39m \u001b[43mtp\u001b[49m\u001b[43m(\u001b[49m\u001b[43mx_extended\u001b[49m\u001b[43m,\u001b[49m\u001b[43m \u001b[49m\u001b[43msh\u001b[49m\u001b[43m)\u001b[49m\n\u001b[1;32m     41\u001b[0m \u001b[38;5;66;03m# 結果の集約（必要に応じて）\u001b[39;00m\n\u001b[1;32m     42\u001b[0m output_aggregated \u001b[38;5;241m=\u001b[39m output\u001b[38;5;241m.\u001b[39mview(x\u001b[38;5;241m.\u001b[39mshape[\u001b[38;5;241m0\u001b[39m], \u001b[38;5;241m-\u001b[39m\u001b[38;5;241m1\u001b[39m, output\u001b[38;5;241m.\u001b[39mshape[\u001b[38;5;241m-\u001b[39m\u001b[38;5;241m1\u001b[39m])\u001b[38;5;241m.\u001b[39mmean(dim\u001b[38;5;241m=\u001b[39m\u001b[38;5;241m1\u001b[39m)\n",
      "File \u001b[0;32m~/miniforge3/envs/ml/lib/python3.9/site-packages/torch/nn/modules/module.py:1518\u001b[0m, in \u001b[0;36mModule._wrapped_call_impl\u001b[0;34m(self, *args, **kwargs)\u001b[0m\n\u001b[1;32m   1516\u001b[0m     \u001b[38;5;28;01mreturn\u001b[39;00m \u001b[38;5;28mself\u001b[39m\u001b[38;5;241m.\u001b[39m_compiled_call_impl(\u001b[38;5;241m*\u001b[39margs, \u001b[38;5;241m*\u001b[39m\u001b[38;5;241m*\u001b[39mkwargs)  \u001b[38;5;66;03m# type: ignore[misc]\u001b[39;00m\n\u001b[1;32m   1517\u001b[0m \u001b[38;5;28;01melse\u001b[39;00m:\n\u001b[0;32m-> 1518\u001b[0m     \u001b[38;5;28;01mreturn\u001b[39;00m \u001b[38;5;28;43mself\u001b[39;49m\u001b[38;5;241;43m.\u001b[39;49m\u001b[43m_call_impl\u001b[49m\u001b[43m(\u001b[49m\u001b[38;5;241;43m*\u001b[39;49m\u001b[43margs\u001b[49m\u001b[43m,\u001b[49m\u001b[43m \u001b[49m\u001b[38;5;241;43m*\u001b[39;49m\u001b[38;5;241;43m*\u001b[39;49m\u001b[43mkwargs\u001b[49m\u001b[43m)\u001b[49m\n",
      "File \u001b[0;32m~/miniforge3/envs/ml/lib/python3.9/site-packages/torch/nn/modules/module.py:1527\u001b[0m, in \u001b[0;36mModule._call_impl\u001b[0;34m(self, *args, **kwargs)\u001b[0m\n\u001b[1;32m   1522\u001b[0m \u001b[38;5;66;03m# If we don't have any hooks, we want to skip the rest of the logic in\u001b[39;00m\n\u001b[1;32m   1523\u001b[0m \u001b[38;5;66;03m# this function, and just call forward.\u001b[39;00m\n\u001b[1;32m   1524\u001b[0m \u001b[38;5;28;01mif\u001b[39;00m \u001b[38;5;129;01mnot\u001b[39;00m (\u001b[38;5;28mself\u001b[39m\u001b[38;5;241m.\u001b[39m_backward_hooks \u001b[38;5;129;01mor\u001b[39;00m \u001b[38;5;28mself\u001b[39m\u001b[38;5;241m.\u001b[39m_backward_pre_hooks \u001b[38;5;129;01mor\u001b[39;00m \u001b[38;5;28mself\u001b[39m\u001b[38;5;241m.\u001b[39m_forward_hooks \u001b[38;5;129;01mor\u001b[39;00m \u001b[38;5;28mself\u001b[39m\u001b[38;5;241m.\u001b[39m_forward_pre_hooks\n\u001b[1;32m   1525\u001b[0m         \u001b[38;5;129;01mor\u001b[39;00m _global_backward_pre_hooks \u001b[38;5;129;01mor\u001b[39;00m _global_backward_hooks\n\u001b[1;32m   1526\u001b[0m         \u001b[38;5;129;01mor\u001b[39;00m _global_forward_hooks \u001b[38;5;129;01mor\u001b[39;00m _global_forward_pre_hooks):\n\u001b[0;32m-> 1527\u001b[0m     \u001b[38;5;28;01mreturn\u001b[39;00m \u001b[43mforward_call\u001b[49m\u001b[43m(\u001b[49m\u001b[38;5;241;43m*\u001b[39;49m\u001b[43margs\u001b[49m\u001b[43m,\u001b[49m\u001b[43m \u001b[49m\u001b[38;5;241;43m*\u001b[39;49m\u001b[38;5;241;43m*\u001b[39;49m\u001b[43mkwargs\u001b[49m\u001b[43m)\u001b[49m\n\u001b[1;32m   1529\u001b[0m \u001b[38;5;28;01mtry\u001b[39;00m:\n\u001b[1;32m   1530\u001b[0m     result \u001b[38;5;241m=\u001b[39m \u001b[38;5;28;01mNone\u001b[39;00m\n",
      "File \u001b[0;32m~/miniforge3/envs/ml/lib/python3.9/site-packages/e3nn/o3/_tensor_product/_tensor_product.py:541\u001b[0m, in \u001b[0;36mTensorProduct.forward\u001b[0;34m(self, x, y, weight)\u001b[0m\n\u001b[1;32m    538\u001b[0m \u001b[38;5;28;01massert\u001b[39;00m y\u001b[38;5;241m.\u001b[39mshape[\u001b[38;5;241m-\u001b[39m\u001b[38;5;241m1\u001b[39m] \u001b[38;5;241m==\u001b[39m \u001b[38;5;28mself\u001b[39m\u001b[38;5;241m.\u001b[39m_in2_dim, \u001b[38;5;124m\"\u001b[39m\u001b[38;5;124mIncorrect last dimension for y\u001b[39m\u001b[38;5;124m\"\u001b[39m\n\u001b[1;32m    540\u001b[0m \u001b[38;5;66;03m# - PROFILER - with torch.autograd.profiler.record_function(self._profiling_str):\u001b[39;00m\n\u001b[0;32m--> 541\u001b[0m real_weight \u001b[38;5;241m=\u001b[39m \u001b[38;5;28;43mself\u001b[39;49m\u001b[38;5;241;43m.\u001b[39;49m\u001b[43m_get_weights\u001b[49m\u001b[43m(\u001b[49m\u001b[43mweight\u001b[49m\u001b[43m)\u001b[49m\n\u001b[1;32m    542\u001b[0m \u001b[38;5;28;01mreturn\u001b[39;00m \u001b[38;5;28mself\u001b[39m\u001b[38;5;241m.\u001b[39m_compiled_main_left_right(x, y, real_weight)\n",
      "File \u001b[0;32m~/miniforge3/envs/ml/lib/python3.9/site-packages/e3nn/o3/_tensor_product/_tensor_product.py:456\u001b[0m, in \u001b[0;36mTensorProduct._get_weights\u001b[0;34m(self, weight)\u001b[0m\n\u001b[1;32m    454\u001b[0m \u001b[38;5;28;01mif\u001b[39;00m weight \u001b[38;5;129;01mis\u001b[39;00m \u001b[38;5;28;01mNone\u001b[39;00m:\n\u001b[1;32m    455\u001b[0m     \u001b[38;5;28;01mif\u001b[39;00m \u001b[38;5;28mself\u001b[39m\u001b[38;5;241m.\u001b[39mweight_numel \u001b[38;5;241m>\u001b[39m \u001b[38;5;241m0\u001b[39m \u001b[38;5;129;01mand\u001b[39;00m \u001b[38;5;129;01mnot\u001b[39;00m \u001b[38;5;28mself\u001b[39m\u001b[38;5;241m.\u001b[39minternal_weights:\n\u001b[0;32m--> 456\u001b[0m         \u001b[38;5;28;01mraise\u001b[39;00m \u001b[38;5;167;01mRuntimeError\u001b[39;00m(\u001b[38;5;124m\"\u001b[39m\u001b[38;5;124mWeights must be provided when the TensorProduct does not have `internal_weights`\u001b[39m\u001b[38;5;124m\"\u001b[39m)\n\u001b[1;32m    457\u001b[0m     \u001b[38;5;28;01mreturn\u001b[39;00m \u001b[38;5;28mself\u001b[39m\u001b[38;5;241m.\u001b[39mweight\n\u001b[1;32m    458\u001b[0m \u001b[38;5;28;01melse\u001b[39;00m:\n",
      "\u001b[0;31mRuntimeError\u001b[0m: Weights must be provided when the TensorProduct does not have `internal_weights`"
     ]
    }
   ],
   "source": [
    "import torch\n",
    "from torch_geometric.data import Data\n",
    "from e3nn import o3\n",
    "from e3nn.o3 import FullyConnectedTensorProduct\n",
    "\n",
    "def create_random_molecule(num_atoms=5):\n",
    "    pos = torch.randn(num_atoms, 3)\n",
    "    edge_index = torch.combinations(torch.arange(num_atoms), r=2).T\n",
    "    edge_index = torch.cat([edge_index, edge_index.flip(0)], dim=1)\n",
    "    return Data(pos=pos, edge_index=edge_index)\n",
    "\n",
    "data = create_random_molecule()\n",
    "x = data.pos\n",
    "edge_index = data.edge_index\n",
    "\n",
    "edge_src, edge_dst = edge_index\n",
    "edge_vec = x[edge_dst] - x[edge_src]\n",
    "\n",
    "irreps_input = o3.Irreps(\"1x1o\")\n",
    "irreps_sh = o3.Irreps.spherical_harmonics(lmax=2)\n",
    "irreps_output = o3.Irreps(\"8x0e + 8x1o + 8x2e\")\n",
    "sh = o3.spherical_harmonics(irreps_sh, edge_vec, normalize=True, normalization='component')\n",
    "print(f\"Spherical harmonics shape: {sh.shape}\")\n",
    "print(f\"Mean of squared spherical harmonics: {sh.pow(2).mean().item():.6f}\")\n",
    "\n",
    "# FullyConnectedTensorProductの初期化\n",
    "tp = FullyConnectedTensorProduct(irreps_input, irreps_sh, irreps_output, shared_weights=False)\n",
    "\n",
    "# 問題点1: xとshの形状が一致していない\n",
    "print(f\"x shape: {x.shape}\")\n",
    "print(f\"sh shape: {sh.shape}\")\n",
    "\n",
    "# 修正案1: xをエッジに合わせて拡張\n",
    "x_extended = x[edge_src]\n",
    "print(f\"x_extended shape: {x_extended.shape}\")\n",
    "\n",
    "# 問題点2: 変数名の不一致（edge_attrではなくsh）\n",
    "# 修正案2: 正しい変数名を使用\n",
    "output = tp(x_extended, sh)\n",
    "\n",
    "# 結果の集約（必要に応じて）\n",
    "output_aggregated = output.view(x.shape[0], -1, output.shape[-1]).mean(dim=1)\n",
    "print(f\"Aggregated output shape: {output_aggregated.shape}\")"
   ]
  },
  {
   "cell_type": "code",
   "execution_count": 42,
   "metadata": {},
   "outputs": [
    {
     "data": {
      "text/plain": [
       "tensor([[ 0.1156, -1.7275, -0.0482],\n",
       "        [ 1.4097, -1.0032, -0.0793],\n",
       "        [-1.2120, -0.9584, -0.7826],\n",
       "        [ 0.9312, -0.3014, -1.4290],\n",
       "        [ 1.4627,  0.9271, -0.0323],\n",
       "        [-1.4589,  0.4153, -0.8361],\n",
       "        [ 0.4356,  1.4775, -0.7921],\n",
       "        [-1.6405, -0.1653, -0.5304],\n",
       "        [-0.9861,  0.9859, -1.0274],\n",
       "        [ 1.5498,  0.7665,  0.1025],\n",
       "        [-0.1156,  1.7275,  0.0482],\n",
       "        [-1.4097,  1.0032,  0.0793],\n",
       "        [ 1.2120,  0.9584,  0.7826],\n",
       "        [-0.9312,  0.3014,  1.4290],\n",
       "        [-1.4627, -0.9271,  0.0323],\n",
       "        [ 1.4589, -0.4153,  0.8361],\n",
       "        [-0.4356, -1.4775,  0.7921],\n",
       "        [ 1.6405,  0.1653,  0.5304],\n",
       "        [ 0.9861, -0.9859,  1.0274],\n",
       "        [-1.5498, -0.7665, -0.1025]])"
      ]
     },
     "execution_count": 42,
     "metadata": {},
     "output_type": "execute_result"
    }
   ],
   "source": [
    "edge_attr"
   ]
  },
  {
   "cell_type": "code",
   "execution_count": 40,
   "metadata": {},
   "outputs": [
    {
     "ename": "AttributeError",
     "evalue": "'Irreps' object has no attribute 'filter'",
     "output_type": "error",
     "traceback": [
      "\u001b[0;31m---------------------------------------------------------------------------\u001b[0m",
      "\u001b[0;31mAttributeError\u001b[0m                            Traceback (most recent call last)",
      "Cell \u001b[0;32mIn[40], line 6\u001b[0m\n\u001b[1;32m      3\u001b[0m irreps_hidden \u001b[38;5;241m=\u001b[39m o3\u001b[38;5;241m.\u001b[39mIrreps(\u001b[38;5;124m\"\u001b[39m\u001b[38;5;124m8x0e + 8x0e + 8x1o\u001b[39m\u001b[38;5;124m\"\u001b[39m)  \u001b[38;5;66;03m# Modified to include scalars and gates\u001b[39;00m\n\u001b[1;32m      4\u001b[0m irreps_out \u001b[38;5;241m=\u001b[39m o3\u001b[38;5;241m.\u001b[39mIrreps(\u001b[38;5;124m\"\u001b[39m\u001b[38;5;124m1x1o\u001b[39m\u001b[38;5;124m\"\u001b[39m)  \u001b[38;5;66;03m# Output 3D vector\u001b[39;00m\n\u001b[0;32m----> 6\u001b[0m model \u001b[38;5;241m=\u001b[39m \u001b[43mEquivariantGNN\u001b[49m\u001b[43m(\u001b[49m\u001b[43mirreps_in\u001b[49m\u001b[43m,\u001b[49m\u001b[43m \u001b[49m\u001b[43mirreps_hidden\u001b[49m\u001b[43m,\u001b[49m\u001b[43m \u001b[49m\u001b[43mirreps_out\u001b[49m\u001b[43m)\u001b[49m\n\u001b[1;32m      7\u001b[0m data \u001b[38;5;241m=\u001b[39m create_random_molecule()\n\u001b[1;32m      9\u001b[0m \u001b[38;5;66;03m# Test equivariance\u001b[39;00m\n",
      "Cell \u001b[0;32mIn[37], line 9\u001b[0m, in \u001b[0;36mEquivariantGNN.__init__\u001b[0;34m(self, irreps_in, irreps_hidden, irreps_out)\u001b[0m\n\u001b[1;32m      4\u001b[0m \u001b[38;5;28mself\u001b[39m\u001b[38;5;241m.\u001b[39mspherical_harmonics \u001b[38;5;241m=\u001b[39m o3\u001b[38;5;241m.\u001b[39mIrreps\u001b[38;5;241m.\u001b[39mspherical_harmonics(\u001b[38;5;241m1\u001b[39m)\n\u001b[1;32m      6\u001b[0m \u001b[38;5;28mself\u001b[39m\u001b[38;5;241m.\u001b[39mtp \u001b[38;5;241m=\u001b[39m FullyConnectedTensorProduct(irreps_in, \u001b[38;5;28mself\u001b[39m\u001b[38;5;241m.\u001b[39mspherical_harmonics, irreps_hidden)\n\u001b[1;32m      8\u001b[0m \u001b[38;5;28mself\u001b[39m\u001b[38;5;241m.\u001b[39mgate \u001b[38;5;241m=\u001b[39m Gate(\n\u001b[0;32m----> 9\u001b[0m     \u001b[43mirreps_hidden\u001b[49m\u001b[38;5;241;43m.\u001b[39;49m\u001b[43mfilter\u001b[49m(\u001b[38;5;124m\"\u001b[39m\u001b[38;5;124m0e\u001b[39m\u001b[38;5;124m\"\u001b[39m),\n\u001b[1;32m     10\u001b[0m     [torch\u001b[38;5;241m.\u001b[39mnn\u001b[38;5;241m.\u001b[39mfunctional\u001b[38;5;241m.\u001b[39msilu],\n\u001b[1;32m     11\u001b[0m     irreps_hidden\u001b[38;5;241m.\u001b[39mfilter(\u001b[38;5;124m\"\u001b[39m\u001b[38;5;124m0e\u001b[39m\u001b[38;5;124m\"\u001b[39m),\n\u001b[1;32m     12\u001b[0m     [torch\u001b[38;5;241m.\u001b[39msigmoid],\n\u001b[1;32m     13\u001b[0m     irreps_hidden\u001b[38;5;241m.\u001b[39mfilter(\u001b[38;5;124m\"\u001b[39m\u001b[38;5;124m1o\u001b[39m\u001b[38;5;124m\"\u001b[39m)\n\u001b[1;32m     14\u001b[0m )\n\u001b[1;32m     16\u001b[0m gate_irreps_out \u001b[38;5;241m=\u001b[39m \u001b[38;5;28mself\u001b[39m\u001b[38;5;241m.\u001b[39mgate\u001b[38;5;241m.\u001b[39mirreps_out\n\u001b[1;32m     17\u001b[0m \u001b[38;5;28mself\u001b[39m\u001b[38;5;241m.\u001b[39mlinear \u001b[38;5;241m=\u001b[39m Linear(gate_irreps_out, irreps_out)\n",
      "\u001b[0;31mAttributeError\u001b[0m: 'Irreps' object has no attribute 'filter'"
     ]
    }
   ],
   "source": [
    "# Set up the model and test data\n",
    "irreps_in = o3.Irreps(\"1x1o\")  # 3D coordinates\n",
    "irreps_hidden = o3.Irreps(\"8x0e + 8x0e + 8x1o\")  # Modified to include scalars and gates\n",
    "irreps_out = o3.Irreps(\"1x1o\")  # Output 3D vector\n",
    "\n",
    "model = EquivariantGNN(irreps_in, irreps_hidden, irreps_out)\n",
    "data = create_random_molecule()\n",
    "\n",
    "# Test equivariance\n",
    "is_equivariant = test_equivariance(model, data)\n",
    "print(f\"Is the model equivariant? {is_equivariant}\")"
   ]
  },
  {
   "cell_type": "code",
   "execution_count": null,
   "metadata": {},
   "outputs": [],
   "source": []
  },
  {
   "cell_type": "code",
   "execution_count": null,
   "metadata": {},
   "outputs": [],
   "source": []
  }
 ],
 "metadata": {
  "kernelspec": {
   "display_name": "base",
   "language": "python",
   "name": "python3"
  },
  "language_info": {
   "codemirror_mode": {
    "name": "ipython",
    "version": 3
   },
   "file_extension": ".py",
   "mimetype": "text/x-python",
   "name": "python",
   "nbconvert_exporter": "python",
   "pygments_lexer": "ipython3",
   "version": "3.9.19"
  }
 },
 "nbformat": 4,
 "nbformat_minor": 2
}
