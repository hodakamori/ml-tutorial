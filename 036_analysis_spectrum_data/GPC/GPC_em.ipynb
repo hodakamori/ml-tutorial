{
 "cells": [
  {
   "cell_type": "code",
   "execution_count": null,
   "metadata": {},
   "outputs": [],
   "source": [
    "!pip install EMPeaks"
   ]
  },
  {
   "cell_type": "code",
   "execution_count": null,
   "metadata": {},
   "outputs": [],
   "source": [
    "import matplotlib.pyplot as plt\n",
    "import numpy as np\n",
    "import pandas as pd"
   ]
  },
  {
   "cell_type": "code",
   "execution_count": null,
   "metadata": {},
   "outputs": [],
   "source": [
    "df = pd.read_csv(\"test_gpc.csv\", header=None)\n",
    "df.columns = [\"logM\", \"Intensity\"]"
   ]
  },
  {
   "cell_type": "code",
   "execution_count": null,
   "metadata": {},
   "outputs": [],
   "source": [
    "fig, ax = plt.subplots()\n",
    "ax.plot(df[\"logM\"], df[\"Intensity\"])\n",
    "ax.set_xlabel(\"logM\")\n",
    "ax.set_ylabel(\"Intensity\")\n",
    "ax.grid()"
   ]
  },
  {
   "cell_type": "code",
   "execution_count": null,
   "metadata": {},
   "outputs": [],
   "source": [
    "from EMPeaks import GaussianMixture\n",
    "\n",
    "x = df[\"logM\"].values\n",
    "y = df[\"Intensity\"].values\n",
    "gmm = GaussianMixture.GaussianMixtureModel(K=2)\n",
    "gmm.fit(x, y)\n",
    "gmm.sampling(x, y, trial=100)"
   ]
  },
  {
   "cell_type": "code",
   "execution_count": null,
   "metadata": {},
   "outputs": [],
   "source": [
    "fig = plt.figure()\n",
    "\n",
    "ax = fig.add_subplot(111)\n",
    "\n",
    "# plot each peak\n",
    "for k in range(gmm.K):\n",
    "    ax.plot(x, gmm.model[k].predict(x) * gmm.N[k], label=\"model_\" + str(k))\n",
    "\n",
    "# plot total\n",
    "x_tot = np.linspace(gmm.x_min, gmm.x_max)\n",
    "y_tot = gmm.predict(x_tot) * gmm.N_tot\n",
    "ax.plot(x_tot, y_tot, label=\"total\")\n",
    "\n",
    "# plot fittedd data\n",
    "ax.scatter(x, y, label=\"original\", color=\"black\", s=5)\n",
    "ax.legend()\n",
    "ax.set_xlabel(\"x\")\n",
    "ax.set_ylabel(\"y\")"
   ]
  },
  {
   "cell_type": "code",
   "execution_count": null,
   "metadata": {},
   "outputs": [],
   "source": []
  }
 ],
 "metadata": {
  "kernelspec": {
   "display_name": "openmm",
   "language": "python",
   "name": "python3"
  },
  "language_info": {
   "codemirror_mode": {
    "name": "ipython",
    "version": 3
   },
   "file_extension": ".py",
   "mimetype": "text/x-python",
   "name": "python",
   "nbconvert_exporter": "python",
   "pygments_lexer": "ipython3",
   "version": "3.12.7"
  }
 },
 "nbformat": 4,
 "nbformat_minor": 2
}
