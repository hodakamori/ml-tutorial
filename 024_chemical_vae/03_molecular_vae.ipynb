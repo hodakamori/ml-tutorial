{
  "cells": [
    {
      "cell_type": "code",
      "execution_count": 37,
      "metadata": {
        "id": "54-Bh-fakdDu"
      },
      "outputs": [],
      "source": [
        "import torch\n",
        "import torch.nn as nn\n",
        "import torch.nn.functional as F\n",
        "import torch.utils.data\n",
        "\n",
        "class MolecularVAE(nn.Module):\n",
        "    def __init__(self):\n",
        "        super(MolecularVAE, self).__init__()\n",
        "\n",
        "        self.conv_1 = nn.Conv1d(120, 9, kernel_size=9)\n",
        "        self.conv_2 = nn.Conv1d(9, 9, kernel_size=9)\n",
        "        self.conv_3 = nn.Conv1d(9, 10, kernel_size=11)\n",
        "        self.linear_0 = nn.Linear(80, 435)\n",
        "        self.linear_1 = nn.Linear(435, 292)\n",
        "        self.linear_2 = nn.Linear(435, 292)\n",
        "\n",
        "        self.linear_3 = nn.Linear(292, 292)\n",
        "        self.gru = nn.GRU(292, 501, 3, batch_first=True)\n",
        "        self.linear_4 = nn.Linear(501, 34)\n",
        "\n",
        "        self.relu = nn.ReLU()\n",
        "        self.softmax = nn.Softmax()\n",
        "\n",
        "    def encode(self, x):\n",
        "        x = self.relu(self.conv_1(x))\n",
        "        x = self.relu(self.conv_2(x))\n",
        "        x = self.relu(self.conv_3(x))\n",
        "        x = x.view(x.size(0), -1)\n",
        "        x = F.selu(self.linear_0(x))\n",
        "        return self.linear_1(x), self.linear_2(x)\n",
        "\n",
        "    def sampling(self, z_mean, z_logvar):\n",
        "        epsilon = 1e-2 * torch.randn_like(z_logvar)\n",
        "        return torch.exp(0.5 * z_logvar) * epsilon + z_mean\n",
        "\n",
        "    def decode(self, z):\n",
        "        z = F.selu(self.linear_3(z))\n",
        "        z = z.view(z.size(0), 1, z.size(-1)).repeat(1, 120, 1)\n",
        "        output, hn = self.gru(z)\n",
        "        out_reshape = output.contiguous().view(-1, output.size(-1))\n",
        "        y0 = F.softmax(self.linear_4(out_reshape), dim=1)\n",
        "        y = y0.contiguous().view(output.size(0), -1, y0.size(-1))\n",
        "        return y\n",
        "\n",
        "    def forward(self, x):\n",
        "        z_mean, z_logvar = self.encode(x)\n",
        "        z = self.sampling(z_mean, z_logvar)\n",
        "        return self.decode(z), z_mean, z_logvar"
      ]
    },
    {
      "cell_type": "code",
      "execution_count": 3,
      "metadata": {
        "id": "P2QyQExNlY3e"
      },
      "outputs": [],
      "source": [
        "import pandas as pd\n",
        "\n",
        "df = pd.read_csv('250k_rndm_zinc_drugs_clean_3.csv')\n",
        "df[\"smiles\"] = df[\"smiles\"].str.rstrip(\"\\n\")\n",
        "charset = set(\"\".join(df[\"smiles\"].values.tolist()))"
      ]
    },
    {
      "cell_type": "code",
      "execution_count": 4,
      "metadata": {
        "id": "TctU_gH4loiO"
      },
      "outputs": [],
      "source": [
        "import numpy as np\n",
        "\n",
        "def one_hot_encode_smiles(smiles, charset, max_length=120):\n",
        "    char_to_int = dict((c, i) for i, c in enumerate(charset))\n",
        "    integer_encoded = [char_to_int[char] for char in smiles]\n",
        "    if len(integer_encoded) > max_length:\n",
        "        integer_encoded = integer_encoded[:max_length]\n",
        "    else:\n",
        "        integer_encoded = integer_encoded + [0] * (max_length - len(integer_encoded))\n",
        "    onehot_encoded = np.zeros((max_length, len(charset)), dtype=np.float32)\n",
        "    for i, val in enumerate(integer_encoded):\n",
        "        onehot_encoded[i, val] = 1.0\n",
        "\n",
        "    return onehot_encoded"
      ]
    },
    {
      "cell_type": "code",
      "execution_count": 5,
      "metadata": {
        "colab": {
          "base_uri": "https://localhost:8080/"
        },
        "id": "S7Fx_gUEl9og",
        "outputId": "a61fc7e8-ade3-4e86-9ce6-4241f7a759e6"
      },
      "outputs": [
        {
          "data": {
            "text/plain": [
              "array([[0., 0., 0., ..., 0., 0., 0.],\n",
              "       [0., 0., 0., ..., 0., 0., 0.],\n",
              "       [0., 0., 0., ..., 0., 0., 0.],\n",
              "       ...,\n",
              "       [1., 0., 0., ..., 0., 0., 0.],\n",
              "       [1., 0., 0., ..., 0., 0., 0.],\n",
              "       [1., 0., 0., ..., 0., 0., 0.]], dtype=float32)"
            ]
          },
          "execution_count": 5,
          "metadata": {},
          "output_type": "execute_result"
        }
      ],
      "source": [
        "x = one_hot_encode_smiles(df[\"smiles\"][0], charset)\n",
        "x"
      ]
    },
    {
      "cell_type": "code",
      "execution_count": 6,
      "metadata": {
        "id": "LE_EogT9ktMw"
      },
      "outputs": [],
      "source": [
        "conv_1 = nn.Conv1d(120, 9, kernel_size=9)\n",
        "conv_2 = nn.Conv1d(9, 9, kernel_size=9)\n",
        "conv_3 = nn.Conv1d(9, 10, kernel_size=11)\n",
        "linear_0 = nn.Linear(80, 435)\n",
        "linear_1 = nn.Linear(435, 292)\n",
        "linear_2 = nn.Linear(435, 292)"
      ]
    },
    {
      "cell_type": "code",
      "execution_count": 7,
      "metadata": {
        "colab": {
          "base_uri": "https://localhost:8080/"
        },
        "id": "7n1R8Opyl7s1",
        "outputId": "6b13dbd9-b060-485a-9dcb-9b96db5a85e3"
      },
      "outputs": [
        {
          "name": "stdout",
          "output_type": "stream",
          "text": [
            "torch.Size([1, 120, 34])\n",
            "torch.Size([1, 9, 26])\n",
            "torch.Size([1, 9, 18])\n",
            "torch.Size([1, 10, 8])\n"
          ]
        },
        {
          "name": "stderr",
          "output_type": "stream",
          "text": [
            "<ipython-input-7-c29407ea24f2>:2: UserWarning: Creating a tensor from a list of numpy.ndarrays is extremely slow. Please consider converting the list to a single numpy.ndarray with numpy.array() before converting to a tensor. (Triggered internally at ../torch/csrc/utils/tensor_new.cpp:274.)\n",
            "  x = torch.tensor([x])\n"
          ]
        }
      ],
      "source": [
        "x = one_hot_encode_smiles(df[\"smiles\"][0], charset)\n",
        "x = torch.tensor([x])\n",
        "print(x.shape)\n",
        "x = nn.ReLU()(conv_1(x))\n",
        "print(x.shape)\n",
        "x = nn.ReLU()(conv_2(x))\n",
        "print(x.shape)\n",
        "x = nn.ReLU()(conv_3(x))\n",
        "print(x.shape)\n",
        "x = x.view(x.size(0), -1)\n",
        "x = F.selu(linear_0(x))\n",
        "z_mean = linear_1(x)\n",
        "z_logvar = linear_2(x)"
      ]
    },
    {
      "cell_type": "code",
      "execution_count": 8,
      "metadata": {
        "colab": {
          "base_uri": "https://localhost:8080/"
        },
        "id": "chMTBCxomTy1",
        "outputId": "d01d9a72-6013-43f2-9650-bb9b250c9696"
      },
      "outputs": [
        {
          "data": {
            "text/plain": [
              "(torch.Size([1, 292]), torch.Size([1, 292]))"
            ]
          },
          "execution_count": 8,
          "metadata": {},
          "output_type": "execute_result"
        }
      ],
      "source": [
        "z_mean.shape, z_logvar.shape"
      ]
    },
    {
      "cell_type": "code",
      "execution_count": 26,
      "metadata": {
        "id": "FONDJFR9ZomN"
      },
      "outputs": [],
      "source": [
        "epsilon = 1e-2 * torch.randn_like(z_logvar)\n",
        "z = torch.exp(0.5 * z_logvar) * epsilon + z_mean"
      ]
    },
    {
      "cell_type": "code",
      "execution_count": 27,
      "metadata": {
        "colab": {
          "base_uri": "https://localhost:8080/"
        },
        "id": "yxlZiFwAZydA",
        "outputId": "6d66165b-bac3-421e-e2b1-d754495af344"
      },
      "outputs": [
        {
          "data": {
            "text/plain": [
              "torch.Size([1, 292])"
            ]
          },
          "execution_count": 27,
          "metadata": {},
          "output_type": "execute_result"
        }
      ],
      "source": [
        "z.shape"
      ]
    },
    {
      "cell_type": "code",
      "execution_count": 28,
      "metadata": {
        "colab": {
          "base_uri": "https://localhost:8080/"
        },
        "id": "k7cI6REooJ1g",
        "outputId": "283c5c40-4ab7-4f7b-a10b-385fbfda137b"
      },
      "outputs": [
        {
          "name": "stdout",
          "output_type": "stream",
          "text": [
            "torch.Size([1, 292])\n",
            "tensor([[[ 0.0413,  0.0164, -0.0519,  ..., -0.0442,  0.0355,  0.0573],\n",
            "         [ 0.0413,  0.0164, -0.0519,  ..., -0.0442,  0.0355,  0.0573],\n",
            "         [ 0.0413,  0.0164, -0.0519,  ..., -0.0442,  0.0355,  0.0573],\n",
            "         ...,\n",
            "         [ 0.0413,  0.0164, -0.0519,  ..., -0.0442,  0.0355,  0.0573],\n",
            "         [ 0.0413,  0.0164, -0.0519,  ..., -0.0442,  0.0355,  0.0573],\n",
            "         [ 0.0413,  0.0164, -0.0519,  ..., -0.0442,  0.0355,  0.0573]]],\n",
            "       grad_fn=<RepeatBackward0>)\n",
            "torch.Size([1, 120, 501])\n",
            "torch.Size([120, 501])\n"
          ]
        }
      ],
      "source": [
        "linear_3 = nn.Linear(292, 292)\n",
        "gru = nn.GRU(292, 501, 3, batch_first=True)\n",
        "linear_4 = nn.Linear(501, 33)\n",
        "\n",
        "z = F.selu(linear_3(z))\n",
        "print(z.shape)\n",
        "z = z.view(z.size(0), 1, z.size(-1)).repeat(1, 120, 1)\n",
        "print(z)\n",
        "output, hn = gru(z)\n",
        "print(output.shape)\n",
        "out_reshape = output.contiguous().view(-1, output.size(-1))\n",
        "print(out_reshape.shape)\n",
        "y0 = F.softmax(linear_4(out_reshape), dim=1)\n",
        "y = y0.contiguous().view(output.size(0), -1, y0.size(-1))\n"
      ]
    },
    {
      "cell_type": "code",
      "execution_count": 14,
      "metadata": {
        "colab": {
          "base_uri": "https://localhost:8080/"
        },
        "id": "IDIXezSkZ7Dx",
        "outputId": "f0085e1f-e388-4cb0-ab72-4e12c08968d7"
      },
      "outputs": [
        {
          "data": {
            "text/plain": [
              "torch.Size([1, 120, 33])"
            ]
          },
          "execution_count": 14,
          "metadata": {},
          "output_type": "execute_result"
        }
      ],
      "source": [
        "y.shape"
      ]
    },
    {
      "cell_type": "code",
      "execution_count": 29,
      "metadata": {
        "id": "y1lkg77PZ74W"
      },
      "outputs": [],
      "source": [
        "def decode_smiles_from_one_hot(one_hot_encoded, charset):\n",
        "\n",
        "    int_to_char = {i: c for i, c in enumerate(charset)}\n",
        "    integer_decoded = np.argmax(one_hot_encoded, axis=1)\n",
        "    chars = [int_to_char[idx] for idx in integer_decoded]\n",
        "    smiles = ''.join(chars).rstrip()\n",
        "\n",
        "    return smiles"
      ]
    },
    {
      "cell_type": "code",
      "execution_count": 34,
      "metadata": {
        "colab": {
          "base_uri": "https://localhost:8080/",
          "height": 54
        },
        "id": "eiHfZi4CbbDs",
        "outputId": "728a4a08-45a1-4ac1-b95a-a0c666008377"
      },
      "outputs": [
        {
          "data": {
            "application/vnd.google.colaboratory.intrinsic+json": {
              "type": "string"
            },
            "text/plain": [
              "'PP5555555555555555555555555555555555555555555555555555555555555555555555555555555555555555555555555555555555555555555555'"
            ]
          },
          "execution_count": 34,
          "metadata": {},
          "output_type": "execute_result"
        }
      ],
      "source": [
        "smiles = decode_smiles_from_one_hot(y[0].detach().numpy(), charset)\n",
        "smiles"
      ]
    },
    {
      "cell_type": "code",
      "execution_count": 48,
      "metadata": {
        "colab": {
          "base_uri": "https://localhost:8080/"
        },
        "id": "340PKppibe-i",
        "outputId": "1c52c364-fef3-4039-9dd7-29d47196f08d"
      },
      "outputs": [
        {
          "name": "stdout",
          "output_type": "stream",
          "text": [
            "Input:CC(C)(C)c1ccc2occ(CC(=O)Nc3ccccc3F)c2c1\n",
            "Ouptput: rrrrrrrrrrrrrrrrrrrrrrrrrrrrrrrrrrrrrrrrrrrrrrrrrrrrrrrrrrrrrrrrrrrrrrrrrrrrrrrrrrrrrrrrrrrrrrrrrrrrrrrrrrrrrrrrrrrrrrrr\n"
          ]
        }
      ],
      "source": [
        "model = MolecularVAE()\n",
        "input_smiles = df[\"smiles\"][0]\n",
        "x = one_hot_encode_smiles(df[\"smiles\"][0], charset)\n",
        "x = torch.tensor([x])\n",
        "y, z_mean, z_logvar = model(x)\n",
        "output_smiles = decode_smiles_from_one_hot(y[0].detach().numpy(), charset)\n",
        "print(f\"Input:{input_smiles}\")\n",
        "print(f\"Ouptput: {output_smiles}\")"
      ]
    },
    {
      "cell_type": "code",
      "execution_count": null,
      "metadata": {
        "id": "7ZwGBuL9byBg"
      },
      "outputs": [],
      "source": []
    }
  ],
  "metadata": {
    "colab": {
      "provenance": []
    },
    "kernelspec": {
      "display_name": "Python 3",
      "name": "python3"
    },
    "language_info": {
      "name": "python"
    }
  },
  "nbformat": 4,
  "nbformat_minor": 0
}
